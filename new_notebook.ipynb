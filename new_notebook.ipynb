{
 "cells": [
  {
   "cell_type": "markdown",
   "id": "d4be6724",
   "metadata": {},
   "source": [
    "Installing packages:"
   ]
  },
  {
   "cell_type": "code",
   "execution_count": 1,
   "id": "0089c4eb",
   "metadata": {},
   "outputs": [
    {
     "name": "stdout",
     "output_type": "stream",
     "text": [
      "Looking in indexes: https://pypi.org/simple, https://pip.repos.neuron.amazonaws.com\n",
      "Requirement already satisfied: scikit-learn in /home/ec2-user/anaconda3/envs/python3/lib/python3.10/site-packages (1.2.0)\n",
      "Requirement already satisfied: threadpoolctl>=2.0.0 in /home/ec2-user/anaconda3/envs/python3/lib/python3.10/site-packages (from scikit-learn) (3.1.0)\n",
      "Requirement already satisfied: scipy>=1.3.2 in /home/ec2-user/anaconda3/envs/python3/lib/python3.10/site-packages (from scikit-learn) (1.10.0)\n",
      "Requirement already satisfied: joblib>=1.1.1 in /home/ec2-user/anaconda3/envs/python3/lib/python3.10/site-packages (from scikit-learn) (1.2.0)\n",
      "Requirement already satisfied: numpy>=1.17.3 in /home/ec2-user/anaconda3/envs/python3/lib/python3.10/site-packages (from scikit-learn) (1.22.3)\n",
      "Note: you may need to restart the kernel to use updated packages.\n"
     ]
    }
   ],
   "source": [
    "%pip install scikit-learn"
   ]
  },
  {
   "cell_type": "markdown",
   "id": "05d4a5e2",
   "metadata": {},
   "source": [
    "Verify installation:"
   ]
  },
  {
   "cell_type": "code",
   "execution_count": 3,
   "id": "93763608",
   "metadata": {},
   "outputs": [],
   "source": [
    "import sklearn"
   ]
  },
  {
   "cell_type": "code",
   "execution_count": 4,
   "id": "1532c083",
   "metadata": {},
   "outputs": [
    {
     "name": "stdout",
     "output_type": "stream",
     "text": [
      "1.2.0\n"
     ]
    }
   ],
   "source": [
    "print(sklearn.__version__)"
   ]
  },
  {
   "cell_type": "markdown",
   "id": "e47df945",
   "metadata": {},
   "source": [
    "Importing packages:"
   ]
  },
  {
   "cell_type": "code",
   "execution_count": 5,
   "id": "2a9c3c40",
   "metadata": {},
   "outputs": [],
   "source": [
    "import pandas as pd"
   ]
  },
  {
   "cell_type": "code",
   "execution_count": 6,
   "id": "ea81abaf",
   "metadata": {},
   "outputs": [],
   "source": [
    "import numpy as np"
   ]
  },
  {
   "cell_type": "code",
   "execution_count": 7,
   "id": "a3b27b20",
   "metadata": {},
   "outputs": [],
   "source": [
    "import matplotlib.pyplot as plt"
   ]
  },
  {
   "cell_type": "code",
   "execution_count": 8,
   "id": "b6239419",
   "metadata": {},
   "outputs": [],
   "source": [
    "import seaborn as sns"
   ]
  },
  {
   "cell_type": "code",
   "execution_count": 9,
   "id": "cbd4aab0",
   "metadata": {},
   "outputs": [],
   "source": [
    "import nltk"
   ]
  },
  {
   "cell_type": "code",
   "execution_count": 31,
   "id": "af088dc9",
   "metadata": {},
   "outputs": [],
   "source": [
    "from sklearn.model_selection import train_test_split"
   ]
  },
  {
   "cell_type": "code",
   "execution_count": 10,
   "id": "e4094e13",
   "metadata": {},
   "outputs": [],
   "source": [
    "from sklearn.model_selection import cross_val_score\n",
    "from sklearn.model_selection import cross_validate # allows the computation of training scores"
   ]
  },
  {
   "cell_type": "code",
   "execution_count": 34,
   "id": "e641ba69",
   "metadata": {},
   "outputs": [],
   "source": [
    "from sklearn.preprocessing import LabelEncoder"
   ]
  },
  {
   "cell_type": "code",
   "execution_count": 11,
   "id": "9b13d9bb",
   "metadata": {},
   "outputs": [],
   "source": [
    "from sklearn.feature_extraction.text import CountVectorizer"
   ]
  },
  {
   "cell_type": "code",
   "execution_count": 13,
   "id": "8e01f2ab",
   "metadata": {},
   "outputs": [],
   "source": [
    "from sklearn.ensemble import RandomForestClassifier\n",
    "from sklearn.naive_bayes import MultinomialNB\n",
    "from sklearn.svm import SVC"
   ]
  },
  {
   "cell_type": "code",
   "execution_count": null,
   "id": "cc22a755",
   "metadata": {},
   "outputs": [],
   "source": [
    "from sklearn.pipeline import Pipeline"
   ]
  },
  {
   "cell_type": "code",
   "execution_count": 78,
   "id": "a10d5223",
   "metadata": {},
   "outputs": [],
   "source": [
    "from sklearn.model_selection import RandomizedSearchCV\n",
    "from scipy.stats import uniform\n",
    "from scipy.stats import randint"
   ]
  },
  {
   "cell_type": "code",
   "execution_count": 43,
   "id": "152f0a82",
   "metadata": {},
   "outputs": [
    {
     "name": "stderr",
     "output_type": "stream",
     "text": [
      "[nltk_data] Downloading package stopwords to\n",
      "[nltk_data]     /home/ec2-user/nltk_data...\n",
      "[nltk_data]   Unzipping corpora/stopwords.zip.\n"
     ]
    }
   ],
   "source": [
    "import string\n",
    "nltk.download('stopwords')\n",
    "from nltk.corpus import stopwords\n",
    "from nltk.stem import PorterStemmer"
   ]
  },
  {
   "cell_type": "code",
   "execution_count": 16,
   "id": "39031145",
   "metadata": {},
   "outputs": [],
   "source": [
    "import sagemaker\n",
    "import boto3"
   ]
  },
  {
   "cell_type": "code",
   "execution_count": 18,
   "id": "fab85396",
   "metadata": {},
   "outputs": [
    {
     "data": {
      "text/plain": [
       "<botocore.client.S3 at 0x7f07eb8c2c50>"
      ]
     },
     "execution_count": 18,
     "metadata": {},
     "output_type": "execute_result"
    }
   ],
   "source": [
    "# is this needed?\n",
    "sess = sagemaker.Session()\n",
    "region = sess.boto_region_name\n",
    "s3_client = boto3.client(\"s3\", region_name=region)\n",
    "s3_client"
   ]
  },
  {
   "cell_type": "code",
   "execution_count": 19,
   "id": "cb2d1c9a",
   "metadata": {},
   "outputs": [
    {
     "name": "stdout",
     "output_type": "stream",
     "text": [
      "us-east-2\n"
     ]
    }
   ],
   "source": [
    "# check region\n",
    "print(region)"
   ]
  },
  {
   "cell_type": "markdown",
   "id": "cb2b8477",
   "metadata": {},
   "source": [
    "Load data:"
   ]
  },
  {
   "cell_type": "code",
   "execution_count": 22,
   "id": "30d0a237",
   "metadata": {},
   "outputs": [],
   "source": [
    "read_bucket = \"twitter-sxsw\"\n",
    "file_name = \"judge-1377884607_tweet_product_company.csv\""
   ]
  },
  {
   "cell_type": "code",
   "execution_count": 27,
   "id": "721c91c9",
   "metadata": {},
   "outputs": [
    {
     "data": {
      "text/html": [
       "<div>\n",
       "<style scoped>\n",
       "    .dataframe tbody tr th:only-of-type {\n",
       "        vertical-align: middle;\n",
       "    }\n",
       "\n",
       "    .dataframe tbody tr th {\n",
       "        vertical-align: top;\n",
       "    }\n",
       "\n",
       "    .dataframe thead th {\n",
       "        text-align: right;\n",
       "    }\n",
       "</style>\n",
       "<table border=\"1\" class=\"dataframe\">\n",
       "  <thead>\n",
       "    <tr style=\"text-align: right;\">\n",
       "      <th></th>\n",
       "      <th>tweet_text</th>\n",
       "      <th>emotion_in_tweet_is_directed_at</th>\n",
       "      <th>is_there_an_emotion_directed_at_a_brand_or_product</th>\n",
       "    </tr>\n",
       "  </thead>\n",
       "  <tbody>\n",
       "    <tr>\n",
       "      <th>0</th>\n",
       "      <td>.@wesley83 I have a 3G iPhone. After 3 hrs twe...</td>\n",
       "      <td>iPhone</td>\n",
       "      <td>Negative emotion</td>\n",
       "    </tr>\n",
       "    <tr>\n",
       "      <th>1</th>\n",
       "      <td>@jessedee Know about @fludapp ? Awesome iPad/i...</td>\n",
       "      <td>iPad or iPhone App</td>\n",
       "      <td>Positive emotion</td>\n",
       "    </tr>\n",
       "    <tr>\n",
       "      <th>2</th>\n",
       "      <td>@swonderlin Can not wait for #iPad 2 also. The...</td>\n",
       "      <td>iPad</td>\n",
       "      <td>Positive emotion</td>\n",
       "    </tr>\n",
       "    <tr>\n",
       "      <th>3</th>\n",
       "      <td>@sxsw I hope this year's festival isn't as cra...</td>\n",
       "      <td>iPad or iPhone App</td>\n",
       "      <td>Negative emotion</td>\n",
       "    </tr>\n",
       "    <tr>\n",
       "      <th>4</th>\n",
       "      <td>@sxtxstate great stuff on Fri #SXSW: Marissa M...</td>\n",
       "      <td>Google</td>\n",
       "      <td>Positive emotion</td>\n",
       "    </tr>\n",
       "  </tbody>\n",
       "</table>\n",
       "</div>"
      ],
      "text/plain": [
       "                                          tweet_text  \\\n",
       "0  .@wesley83 I have a 3G iPhone. After 3 hrs twe...   \n",
       "1  @jessedee Know about @fludapp ? Awesome iPad/i...   \n",
       "2  @swonderlin Can not wait for #iPad 2 also. The...   \n",
       "3  @sxsw I hope this year's festival isn't as cra...   \n",
       "4  @sxtxstate great stuff on Fri #SXSW: Marissa M...   \n",
       "\n",
       "  emotion_in_tweet_is_directed_at  \\\n",
       "0                          iPhone   \n",
       "1              iPad or iPhone App   \n",
       "2                            iPad   \n",
       "3              iPad or iPhone App   \n",
       "4                          Google   \n",
       "\n",
       "  is_there_an_emotion_directed_at_a_brand_or_product  \n",
       "0                                   Negative emotion  \n",
       "1                                   Positive emotion  \n",
       "2                                   Positive emotion  \n",
       "3                                   Negative emotion  \n",
       "4                                   Positive emotion  "
      ]
     },
     "execution_count": 27,
     "metadata": {},
     "output_type": "execute_result"
    }
   ],
   "source": [
    "data_uri = f\"s3://{read_bucket}/{file_name}\"\n",
    "data = pd.read_csv(data_uri, encoding='latin-1')\n",
    "data.head()"
   ]
  },
  {
   "cell_type": "markdown",
   "id": "cc9e2b21",
   "metadata": {},
   "source": [
    "Clean data:"
   ]
  },
  {
   "cell_type": "code",
   "execution_count": 28,
   "id": "e8a8d36f",
   "metadata": {},
   "outputs": [],
   "source": [
    "# rename lengthy column names\n",
    "data.rename({'emotion_in_tweet_is_directed_at': 'object_of_sentiment',\n",
    "             'is_there_an_emotion_directed_at_a_brand_or_product': 'sentiment'}, axis=1, inplace=True)"
   ]
  },
  {
   "cell_type": "code",
   "execution_count": 29,
   "id": "3294cd7e",
   "metadata": {},
   "outputs": [],
   "source": [
    "# replace \"I can't tell\" in sentiment column with null\n",
    "data.sentiment = data.sentiment.replace({\"I can't tell\": None})\n",
    "# drop records with null value for sentiment\n",
    "data.dropna(subset='sentiment', inplace=True)"
   ]
  },
  {
   "cell_type": "code",
   "execution_count": 30,
   "id": "bf305e03",
   "metadata": {},
   "outputs": [],
   "source": [
    "# drop tweet that is missing tweet_text\n",
    "data.dropna(subset='tweet_text', inplace=True)"
   ]
  },
  {
   "cell_type": "code",
   "execution_count": 32,
   "id": "78fc8f7d",
   "metadata": {},
   "outputs": [
    {
     "data": {
      "text/html": [
       "<div>\n",
       "<style scoped>\n",
       "    .dataframe tbody tr th:only-of-type {\n",
       "        vertical-align: middle;\n",
       "    }\n",
       "\n",
       "    .dataframe tbody tr th {\n",
       "        vertical-align: top;\n",
       "    }\n",
       "\n",
       "    .dataframe thead th {\n",
       "        text-align: right;\n",
       "    }\n",
       "</style>\n",
       "<table border=\"1\" class=\"dataframe\">\n",
       "  <thead>\n",
       "    <tr style=\"text-align: right;\">\n",
       "      <th></th>\n",
       "      <th>tweet_text</th>\n",
       "      <th>object_of_sentiment</th>\n",
       "      <th>sentiment</th>\n",
       "    </tr>\n",
       "  </thead>\n",
       "  <tbody>\n",
       "    <tr>\n",
       "      <th>0</th>\n",
       "      <td>.@wesley83 I have a 3G iPhone. After 3 hrs twe...</td>\n",
       "      <td>iPhone</td>\n",
       "      <td>Negative emotion</td>\n",
       "    </tr>\n",
       "    <tr>\n",
       "      <th>1</th>\n",
       "      <td>@jessedee Know about @fludapp ? Awesome iPad/i...</td>\n",
       "      <td>iPad or iPhone App</td>\n",
       "      <td>Positive emotion</td>\n",
       "    </tr>\n",
       "    <tr>\n",
       "      <th>2</th>\n",
       "      <td>@swonderlin Can not wait for #iPad 2 also. The...</td>\n",
       "      <td>iPad</td>\n",
       "      <td>Positive emotion</td>\n",
       "    </tr>\n",
       "    <tr>\n",
       "      <th>3</th>\n",
       "      <td>@sxsw I hope this year's festival isn't as cra...</td>\n",
       "      <td>iPad or iPhone App</td>\n",
       "      <td>Negative emotion</td>\n",
       "    </tr>\n",
       "    <tr>\n",
       "      <th>4</th>\n",
       "      <td>@sxtxstate great stuff on Fri #SXSW: Marissa M...</td>\n",
       "      <td>Google</td>\n",
       "      <td>Positive emotion</td>\n",
       "    </tr>\n",
       "  </tbody>\n",
       "</table>\n",
       "</div>"
      ],
      "text/plain": [
       "                                          tweet_text object_of_sentiment  \\\n",
       "0  .@wesley83 I have a 3G iPhone. After 3 hrs twe...              iPhone   \n",
       "1  @jessedee Know about @fludapp ? Awesome iPad/i...  iPad or iPhone App   \n",
       "2  @swonderlin Can not wait for #iPad 2 also. The...                iPad   \n",
       "3  @sxsw I hope this year's festival isn't as cra...  iPad or iPhone App   \n",
       "4  @sxtxstate great stuff on Fri #SXSW: Marissa M...              Google   \n",
       "\n",
       "          sentiment  \n",
       "0  Negative emotion  \n",
       "1  Positive emotion  \n",
       "2  Positive emotion  \n",
       "3  Negative emotion  \n",
       "4  Positive emotion  "
      ]
     },
     "execution_count": 32,
     "metadata": {},
     "output_type": "execute_result"
    }
   ],
   "source": [
    "data.head()"
   ]
  },
  {
   "cell_type": "markdown",
   "id": "5bc4905f",
   "metadata": {},
   "source": [
    "Train test split:"
   ]
  },
  {
   "cell_type": "code",
   "execution_count": 33,
   "id": "b38873a9",
   "metadata": {},
   "outputs": [],
   "source": [
    "seed = 23984\n",
    "\n",
    "X_train, X_test, y_train, y_test = train_test_split(data['tweet_text'].copy(),\n",
    "                                                    data['sentiment'].copy(),\n",
    "                                                    test_size=0.2,\n",
    "                                                    random_state=seed)"
   ]
  },
  {
   "cell_type": "markdown",
   "id": "f6a802a4",
   "metadata": {},
   "source": [
    "Label encode target:"
   ]
  },
  {
   "cell_type": "code",
   "execution_count": 40,
   "id": "6702b329",
   "metadata": {},
   "outputs": [
    {
     "name": "stdout",
     "output_type": "stream",
     "text": [
      "(7148,)\n",
      "(1788,)\n",
      "1    0.602966\n",
      "2    0.335478\n",
      "0    0.061556\n",
      "dtype: float64\n",
      "1    0.602908\n",
      "2    0.324385\n",
      "0    0.072707\n",
      "dtype: float64\n"
     ]
    },
    {
     "data": {
      "text/plain": [
       "{0: 'Negative emotion',\n",
       " 1: 'No emotion toward brand or product',\n",
       " 2: 'Positive emotion'}"
      ]
     },
     "execution_count": 40,
     "metadata": {},
     "output_type": "execute_result"
    }
   ],
   "source": [
    "le = LabelEncoder()\n",
    "\n",
    "y_train_encoded = le.fit_transform(y_train)\n",
    "y_test_encoded = le.transform(y_test)\n",
    "\n",
    "print(y_train_encoded.shape)\n",
    "print(y_test_encoded.shape)\n",
    "print(pd.Series(y_train_encoded).value_counts(normalize=True))\n",
    "print(pd.Series(y_test_encoded).value_counts(normalize=True))\n",
    "\n",
    "dict(zip(range(len(le.classes_)), le.classes_))"
   ]
  },
  {
   "cell_type": "markdown",
   "id": "50de9b3c",
   "metadata": {},
   "source": [
    "Preprocess features:"
   ]
  },
  {
   "cell_type": "code",
   "execution_count": 44,
   "id": "3ceb0fc3",
   "metadata": {},
   "outputs": [],
   "source": [
    "# clean up (remove punctuation & change to lower case) tweets & remove english stopwords\n",
    "twitter_stopwords = ['sxsw', 'mention', 'link', 'rt']\n",
    "\n",
    "stopwords_list = stopwords.words('english') + twitter_stopwords\n",
    "\n",
    "def clean_up(tweet):\n",
    "    return ' '.join([word.strip(string.punctuation).lower() for word in tweet.split() if\n",
    "                     word.strip(string.punctuation).lower() not in stopwords_list])"
   ]
  },
  {
   "cell_type": "code",
   "execution_count": 45,
   "id": "5e6f9939",
   "metadata": {},
   "outputs": [
    {
     "data": {
      "text/plain": [
       "\"she wasn't do a thing that i could see, except stand there lean on the balconi railing, hold the univers together.\""
      ]
     },
     "execution_count": 45,
     "metadata": {},
     "output_type": "execute_result"
    }
   ],
   "source": [
    "# stemming\n",
    "from nltk.stem import PorterStemmer\n",
    "\n",
    "def get_stems(tweet):\n",
    "    '''Takes in a string of words and outputs a string of stemmed tokens.'''\n",
    "    stemmer = PorterStemmer()\n",
    "    return ' '.join([stemmer.stem(word) for word in tweet.split()])\n",
    "\n",
    "# test\n",
    "get_stems('''She wasn't doing a thing that I could see, except standing there leaning on the balcony railing, holding\n",
    "the universe together.''')"
   ]
  },
  {
   "cell_type": "code",
   "execution_count": 49,
   "id": "fd8270ba",
   "metadata": {},
   "outputs": [
    {
     "data": {
      "text/plain": [
       "8932    z6 news good news code valid 4:00-7:59:59p 03/...\n",
       "4997    realli cool shit googl work googl web font loo...\n",
       "5673    miss google' vp search marissa mayer last week...\n",
       "8147    yet ipad pop-up store flawless appl ipad 2 lau...\n",
       "6519    calvin geek charli sheen goddess schmittast googl\n",
       "Name: tweet_text, dtype: object"
      ]
     },
     "execution_count": 49,
     "metadata": {},
     "output_type": "execute_result"
    }
   ],
   "source": [
    "# get stemmed tokens for training data & test data\n",
    "X_train_stems = X_train.apply(clean_up).apply(get_stems)\n",
    "X_test_stems = X_test.apply(clean_up).apply(get_stems)\n",
    "\n",
    "X_train_stems.head()"
   ]
  },
  {
   "cell_type": "markdown",
   "id": "de3d692f",
   "metadata": {},
   "source": [
    "Try several different parameter settings for count vectorization:"
   ]
  },
  {
   "cell_type": "code",
   "execution_count": 50,
   "id": "c3595641",
   "metadata": {},
   "outputs": [],
   "source": [
    "count_options = [\n",
    "    CountVectorizer(),\n",
    "    CountVectorizer(ngram_range=(1,2)),\n",
    "    CountVectorizer(ngram_range=(1,3)),\n",
    "    CountVectorizer(min_df=0.01, max_df=0.99),\n",
    "    CountVectorizer(ngram_range=(1, 2), min_df=0.01, max_df=0.99),\n",
    "    CountVectorizer(ngram_range=(1, 3), min_df=0.01, max_df=0.99),\n",
    "    CountVectorizer(max_features=200, max_df=0.99),\n",
    "    CountVectorizer(ngram_range=(1, 2), max_features=200, max_df=0.99),\n",
    "    CountVectorizer(ngram_range=(1,3), max_features=200, max_df=0.99),\n",
    "    CountVectorizer(max_features=800, max_df=0.99),\n",
    "    CountVectorizer(ngram_range=(1, 2), max_features=800, max_df=0.99),\n",
    "    CountVectorizer(ngram_range=(1,3), max_features=800, max_df=0.99),\n",
    "    CountVectorizer(max_features=3000, max_df=0.99),\n",
    "    CountVectorizer(ngram_range=(1, 2), max_features=3000, max_df=0.99),\n",
    "    CountVectorizer(ngram_range=(1,3), max_features=3000, max_df=0.99)\n",
    "]"
   ]
  },
  {
   "cell_type": "markdown",
   "id": "8807347a",
   "metadata": {},
   "source": [
    "Test settings for count vectorization:"
   ]
  },
  {
   "cell_type": "code",
   "execution_count": 54,
   "id": "2d6e0820",
   "metadata": {},
   "outputs": [
    {
     "name": "stdout",
     "output_type": "stream",
     "text": [
      "CPU times: user 11min 58s, sys: 658 ms, total: 11min 59s\n",
      "Wall time: 12min 1s\n"
     ]
    }
   ],
   "source": [
    "%%time\n",
    "\n",
    "rf = RandomForestClassifier(random_state=seed)\n",
    "nb = MultinomialNB()\n",
    "svc = SVC(random_state=seed)\n",
    "\n",
    "rf_scores = []\n",
    "nb_scores = []\n",
    "svc_scores = []\n",
    "\n",
    "for count in count_options:\n",
    "    # vectorize\n",
    "    final_X_train = count.fit_transform(X_train_stems)\n",
    "    \n",
    "    # get cross validation scores:\n",
    "    rf_score = np.mean(cross_val_score(rf, final_X_train, y_train_encoded, scoring='accuracy', cv=3))\n",
    "    nb_score = np.mean(cross_val_score(nb, final_X_train, y_train_encoded, scoring='accuracy', cv=3))\n",
    "    svc_score = np.mean(cross_val_score(svc, final_X_train, y_train_encoded, scoring='accuracy', cv=3))\n",
    "    \n",
    "    # store results for review:\n",
    "    rf_scores.append(rf_score)\n",
    "    nb_scores.append(nb_score)\n",
    "    svc_scores.append(svc_score)"
   ]
  },
  {
   "cell_type": "code",
   "execution_count": 55,
   "id": "9d634abb",
   "metadata": {},
   "outputs": [
    {
     "name": "stdout",
     "output_type": "stream",
     "text": [
      "rf: CountVectorizer(max_df=0.99, max_features=3000)\n",
      "nb: CountVectorizer()\n",
      "svc: CountVectorizer()\n"
     ]
    }
   ],
   "source": [
    "best_vectorizer_rf = np.argmax(rf_scores)\n",
    "best_vectorizer_nb = np.argmax(nb_scores)\n",
    "best_vectorizer_svc = np.argmax(svc_scores)\n",
    "\n",
    "count_rf = count_options[best_vectorizer_rf]\n",
    "count_nb = count_options[best_vectorizer_nb]\n",
    "count_svc = count_options[best_vectorizer_svc]\n",
    "\n",
    "print(f'rf: {count_rf}')\n",
    "print(f'nb: {count_nb}')\n",
    "print(f'svc: {count_svc}')"
   ]
  },
  {
   "cell_type": "markdown",
   "id": "fdff032c",
   "metadata": {},
   "source": [
    "Examine baseline models:"
   ]
  },
  {
   "cell_type": "code",
   "execution_count": 61,
   "id": "69da7e78",
   "metadata": {},
   "outputs": [],
   "source": [
    "rf_pipe = Pipeline(steps=[\n",
    "    ('vec', count_rf),\n",
    "    ('clf', rf)\n",
    "])\n",
    "\n",
    "baseline_rf_cv = cross_validate(rf_pipe, X_train_stems, y_train_encoded, scoring='accuracy', return_train_score=True)"
   ]
  },
  {
   "cell_type": "code",
   "execution_count": 62,
   "id": "40b99bc2",
   "metadata": {},
   "outputs": [],
   "source": [
    "nb_pipe = Pipeline(steps=[\n",
    "    ('vec', count_nb),\n",
    "    ('clf', nb)\n",
    "])\n",
    "\n",
    "baseline_nb_cv = cross_validate(nb_pipe, X_train_stems, y_train_encoded, scoring='accuracy', return_train_score=True)"
   ]
  },
  {
   "cell_type": "code",
   "execution_count": 63,
   "id": "13462c03",
   "metadata": {},
   "outputs": [],
   "source": [
    "svc_pipe = Pipeline(steps=[\n",
    "    ('vec', count_svc),\n",
    "    ('clf', svc)\n",
    "])\n",
    "\n",
    "baseline_svc_cv = cross_validate(svc_pipe, X_train_stems, y_train_encoded, scoring='accuracy', return_train_score=True)"
   ]
  },
  {
   "cell_type": "markdown",
   "id": "5b85edc5",
   "metadata": {},
   "source": [
    "Baseline Naive Bayes Results:"
   ]
  },
  {
   "cell_type": "code",
   "execution_count": 72,
   "id": "0f4d97b4",
   "metadata": {},
   "outputs": [
    {
     "data": {
      "text/plain": [
       "0.6625598614122057"
      ]
     },
     "execution_count": 72,
     "metadata": {},
     "output_type": "execute_result"
    }
   ],
   "source": [
    "np.mean(baseline_nb_cv['test_score'])"
   ]
  },
  {
   "cell_type": "code",
   "execution_count": 73,
   "id": "64d7975d",
   "metadata": {},
   "outputs": [
    {
     "data": {
      "text/plain": [
       "0.8161373075677064"
      ]
     },
     "execution_count": 73,
     "metadata": {},
     "output_type": "execute_result"
    }
   ],
   "source": [
    "np.mean(baseline_nb_cv['train_score'])"
   ]
  },
  {
   "cell_type": "markdown",
   "id": "a8bb9970",
   "metadata": {},
   "source": [
    "Naive bayes is overfit to the training data. However, there is little that can be done to tweak the naive bayes classification algorithm."
   ]
  },
  {
   "cell_type": "markdown",
   "id": "be2f8b5c",
   "metadata": {},
   "source": [
    "----"
   ]
  },
  {
   "cell_type": "markdown",
   "id": "fb6c2015",
   "metadata": {},
   "source": [
    "Hyperparameter tuning:"
   ]
  },
  {
   "cell_type": "markdown",
   "id": "32087f4a",
   "metadata": {},
   "source": [
    "**Random Forest**"
   ]
  },
  {
   "cell_type": "markdown",
   "id": "539b54f1",
   "metadata": {},
   "source": [
    "Baseline:"
   ]
  },
  {
   "cell_type": "code",
   "execution_count": 70,
   "id": "ef55b6da",
   "metadata": {},
   "outputs": [
    {
     "data": {
      "text/plain": [
       "0.6799081953735558"
      ]
     },
     "execution_count": 70,
     "metadata": {},
     "output_type": "execute_result"
    }
   ],
   "source": [
    "np.mean(baseline_rf_cv['test_score'])"
   ]
  },
  {
   "cell_type": "code",
   "execution_count": 71,
   "id": "1c647c68",
   "metadata": {
    "scrolled": true
   },
   "outputs": [
    {
     "data": {
      "text/plain": [
       "0.9634862003100677"
      ]
     },
     "execution_count": 71,
     "metadata": {},
     "output_type": "execute_result"
    }
   ],
   "source": [
    "np.mean(baseline_rf_cv['train_score'])"
   ]
  },
  {
   "cell_type": "markdown",
   "id": "b163f30a",
   "metadata": {},
   "source": [
    "A random forest with default settings is extremely overfit."
   ]
  },
  {
   "cell_type": "markdown",
   "id": "cc1c369c",
   "metadata": {},
   "source": [
    "Hyperparameter tuning approach (to reduce overfitting):"
   ]
  },
  {
   "cell_type": "markdown",
   "id": "4d3819e2",
   "metadata": {},
   "source": [
    "Preventing Individual Trees from Overfitting to the Data:\n",
    "- Increase min_samples_leaf\n",
    "- Decrease max_depth\n",
    "\n",
    "Preventing the Forest as a Whole from Overfitting to the Data:\n",
    "- Increase n_estimators\n",
    "- Decrease max_samples (each tree trains on fewer samples from the full training dataset)\n",
    "- Decrease max_features (at each split, only consider max_features)"
   ]
  },
  {
   "cell_type": "code",
   "execution_count": 83,
   "id": "8d95b4cb",
   "metadata": {},
   "outputs": [
    {
     "data": {
      "text/html": [
       "<style>#sk-container-id-3 {color: black;background-color: white;}#sk-container-id-3 pre{padding: 0;}#sk-container-id-3 div.sk-toggleable {background-color: white;}#sk-container-id-3 label.sk-toggleable__label {cursor: pointer;display: block;width: 100%;margin-bottom: 0;padding: 0.3em;box-sizing: border-box;text-align: center;}#sk-container-id-3 label.sk-toggleable__label-arrow:before {content: \"▸\";float: left;margin-right: 0.25em;color: #696969;}#sk-container-id-3 label.sk-toggleable__label-arrow:hover:before {color: black;}#sk-container-id-3 div.sk-estimator:hover label.sk-toggleable__label-arrow:before {color: black;}#sk-container-id-3 div.sk-toggleable__content {max-height: 0;max-width: 0;overflow: hidden;text-align: left;background-color: #f0f8ff;}#sk-container-id-3 div.sk-toggleable__content pre {margin: 0.2em;color: black;border-radius: 0.25em;background-color: #f0f8ff;}#sk-container-id-3 input.sk-toggleable__control:checked~div.sk-toggleable__content {max-height: 200px;max-width: 100%;overflow: auto;}#sk-container-id-3 input.sk-toggleable__control:checked~label.sk-toggleable__label-arrow:before {content: \"▾\";}#sk-container-id-3 div.sk-estimator input.sk-toggleable__control:checked~label.sk-toggleable__label {background-color: #d4ebff;}#sk-container-id-3 div.sk-label input.sk-toggleable__control:checked~label.sk-toggleable__label {background-color: #d4ebff;}#sk-container-id-3 input.sk-hidden--visually {border: 0;clip: rect(1px 1px 1px 1px);clip: rect(1px, 1px, 1px, 1px);height: 1px;margin: -1px;overflow: hidden;padding: 0;position: absolute;width: 1px;}#sk-container-id-3 div.sk-estimator {font-family: monospace;background-color: #f0f8ff;border: 1px dotted black;border-radius: 0.25em;box-sizing: border-box;margin-bottom: 0.5em;}#sk-container-id-3 div.sk-estimator:hover {background-color: #d4ebff;}#sk-container-id-3 div.sk-parallel-item::after {content: \"\";width: 100%;border-bottom: 1px solid gray;flex-grow: 1;}#sk-container-id-3 div.sk-label:hover label.sk-toggleable__label {background-color: #d4ebff;}#sk-container-id-3 div.sk-serial::before {content: \"\";position: absolute;border-left: 1px solid gray;box-sizing: border-box;top: 0;bottom: 0;left: 50%;z-index: 0;}#sk-container-id-3 div.sk-serial {display: flex;flex-direction: column;align-items: center;background-color: white;padding-right: 0.2em;padding-left: 0.2em;position: relative;}#sk-container-id-3 div.sk-item {position: relative;z-index: 1;}#sk-container-id-3 div.sk-parallel {display: flex;align-items: stretch;justify-content: center;background-color: white;position: relative;}#sk-container-id-3 div.sk-item::before, #sk-container-id-3 div.sk-parallel-item::before {content: \"\";position: absolute;border-left: 1px solid gray;box-sizing: border-box;top: 0;bottom: 0;left: 50%;z-index: -1;}#sk-container-id-3 div.sk-parallel-item {display: flex;flex-direction: column;z-index: 1;position: relative;background-color: white;}#sk-container-id-3 div.sk-parallel-item:first-child::after {align-self: flex-end;width: 50%;}#sk-container-id-3 div.sk-parallel-item:last-child::after {align-self: flex-start;width: 50%;}#sk-container-id-3 div.sk-parallel-item:only-child::after {width: 0;}#sk-container-id-3 div.sk-dashed-wrapped {border: 1px dashed gray;margin: 0 0.4em 0.5em 0.4em;box-sizing: border-box;padding-bottom: 0.4em;background-color: white;}#sk-container-id-3 div.sk-label label {font-family: monospace;font-weight: bold;display: inline-block;line-height: 1.2em;}#sk-container-id-3 div.sk-label-container {text-align: center;}#sk-container-id-3 div.sk-container {/* jupyter's `normalize.less` sets `[hidden] { display: none; }` but bootstrap.min.css set `[hidden] { display: none !important; }` so we also need the `!important` here to be able to override the default hidden behavior on the sphinx rendered scikit-learn.org. See: https://github.com/scikit-learn/scikit-learn/issues/21755 */display: inline-block !important;position: relative;}#sk-container-id-3 div.sk-text-repr-fallback {display: none;}</style><div id=\"sk-container-id-3\" class=\"sk-top-container\"><div class=\"sk-text-repr-fallback\"><pre>RandomizedSearchCV(cv=3,\n",
       "                   estimator=Pipeline(steps=[(&#x27;vec&#x27;,\n",
       "                                              CountVectorizer(max_df=0.99,\n",
       "                                                              max_features=3000)),\n",
       "                                             (&#x27;clf&#x27;,\n",
       "                                              RandomForestClassifier(random_state=23984))]),\n",
       "                   param_distributions={&#x27;clf__max_depth&#x27;: &lt;scipy.stats._distn_infrastructure.rv_discrete_frozen object at 0x7f07e6ba1a20&gt;,\n",
       "                                        &#x27;clf__max_features&#x27;: [1, 200, 500,\n",
       "                                                              3000],\n",
       "                                        &#x27;clf__max_samples&#x27;: &lt;scipy.stats._distn_infrastructure.rv_continuous_frozen object at 0x7f07e6517af0&gt;,\n",
       "                                        &#x27;clf__min_samples_leaf&#x27;: &lt;scipy.stats._distn_infrastructure.rv_discrete_frozen object at 0x7f07e63a2620&gt;,\n",
       "                                        &#x27;clf__n_estimators&#x27;: &lt;scipy.stats._distn_infrastructure.rv_discrete_frozen object at 0x7f07e63a1600&gt;,\n",
       "                                        &#x27;clf__random_state&#x27;: [23984]},\n",
       "                   random_state=23984, return_train_score=True,\n",
       "                   scoring=&#x27;accuracy&#x27;)</pre><b>In a Jupyter environment, please rerun this cell to show the HTML representation or trust the notebook. <br />On GitHub, the HTML representation is unable to render, please try loading this page with nbviewer.org.</b></div><div class=\"sk-container\" hidden><div class=\"sk-item sk-dashed-wrapped\"><div class=\"sk-label-container\"><div class=\"sk-label sk-toggleable\"><input class=\"sk-toggleable__control sk-hidden--visually\" id=\"sk-estimator-id-5\" type=\"checkbox\" ><label for=\"sk-estimator-id-5\" class=\"sk-toggleable__label sk-toggleable__label-arrow\">RandomizedSearchCV</label><div class=\"sk-toggleable__content\"><pre>RandomizedSearchCV(cv=3,\n",
       "                   estimator=Pipeline(steps=[(&#x27;vec&#x27;,\n",
       "                                              CountVectorizer(max_df=0.99,\n",
       "                                                              max_features=3000)),\n",
       "                                             (&#x27;clf&#x27;,\n",
       "                                              RandomForestClassifier(random_state=23984))]),\n",
       "                   param_distributions={&#x27;clf__max_depth&#x27;: &lt;scipy.stats._distn_infrastructure.rv_discrete_frozen object at 0x7f07e6ba1a20&gt;,\n",
       "                                        &#x27;clf__max_features&#x27;: [1, 200, 500,\n",
       "                                                              3000],\n",
       "                                        &#x27;clf__max_samples&#x27;: &lt;scipy.stats._distn_infrastructure.rv_continuous_frozen object at 0x7f07e6517af0&gt;,\n",
       "                                        &#x27;clf__min_samples_leaf&#x27;: &lt;scipy.stats._distn_infrastructure.rv_discrete_frozen object at 0x7f07e63a2620&gt;,\n",
       "                                        &#x27;clf__n_estimators&#x27;: &lt;scipy.stats._distn_infrastructure.rv_discrete_frozen object at 0x7f07e63a1600&gt;,\n",
       "                                        &#x27;clf__random_state&#x27;: [23984]},\n",
       "                   random_state=23984, return_train_score=True,\n",
       "                   scoring=&#x27;accuracy&#x27;)</pre></div></div></div><div class=\"sk-parallel\"><div class=\"sk-parallel-item\"><div class=\"sk-item\"><div class=\"sk-label-container\"><div class=\"sk-label sk-toggleable\"><input class=\"sk-toggleable__control sk-hidden--visually\" id=\"sk-estimator-id-6\" type=\"checkbox\" ><label for=\"sk-estimator-id-6\" class=\"sk-toggleable__label sk-toggleable__label-arrow\">estimator: Pipeline</label><div class=\"sk-toggleable__content\"><pre>Pipeline(steps=[(&#x27;vec&#x27;, CountVectorizer(max_df=0.99, max_features=3000)),\n",
       "                (&#x27;clf&#x27;, RandomForestClassifier(random_state=23984))])</pre></div></div></div><div class=\"sk-serial\"><div class=\"sk-item\"><div class=\"sk-serial\"><div class=\"sk-item\"><div class=\"sk-estimator sk-toggleable\"><input class=\"sk-toggleable__control sk-hidden--visually\" id=\"sk-estimator-id-7\" type=\"checkbox\" ><label for=\"sk-estimator-id-7\" class=\"sk-toggleable__label sk-toggleable__label-arrow\">CountVectorizer</label><div class=\"sk-toggleable__content\"><pre>CountVectorizer(max_df=0.99, max_features=3000)</pre></div></div></div><div class=\"sk-item\"><div class=\"sk-estimator sk-toggleable\"><input class=\"sk-toggleable__control sk-hidden--visually\" id=\"sk-estimator-id-8\" type=\"checkbox\" ><label for=\"sk-estimator-id-8\" class=\"sk-toggleable__label sk-toggleable__label-arrow\">RandomForestClassifier</label><div class=\"sk-toggleable__content\"><pre>RandomForestClassifier(random_state=23984)</pre></div></div></div></div></div></div></div></div></div></div></div></div>"
      ],
      "text/plain": [
       "RandomizedSearchCV(cv=3,\n",
       "                   estimator=Pipeline(steps=[('vec',\n",
       "                                              CountVectorizer(max_df=0.99,\n",
       "                                                              max_features=3000)),\n",
       "                                             ('clf',\n",
       "                                              RandomForestClassifier(random_state=23984))]),\n",
       "                   param_distributions={'clf__max_depth': <scipy.stats._distn_infrastructure.rv_discrete_frozen object at 0x7f07e6ba1a20>,\n",
       "                                        'clf__max_features': [1, 200, 500,\n",
       "                                                              3000],\n",
       "                                        'clf__max_samples': <scipy.stats._distn_infrastructure.rv_continuous_frozen object at 0x7f07e6517af0>,\n",
       "                                        'clf__min_samples_leaf': <scipy.stats._distn_infrastructure.rv_discrete_frozen object at 0x7f07e63a2620>,\n",
       "                                        'clf__n_estimators': <scipy.stats._distn_infrastructure.rv_discrete_frozen object at 0x7f07e63a1600>,\n",
       "                                        'clf__random_state': [23984]},\n",
       "                   random_state=23984, return_train_score=True,\n",
       "                   scoring='accuracy')"
      ]
     },
     "execution_count": 83,
     "metadata": {},
     "output_type": "execute_result"
    }
   ],
   "source": [
    "rf_params = {'clf__min_samples_leaf': randint(1, 50),\n",
    "             'clf__max_depth': randint(1, 500),\n",
    "             'clf__n_estimators': randint(5, 300),\n",
    "             'clf__max_samples': uniform(0.05, 1),\n",
    "             'clf__max_features': [1, 200, 500, 3000], # 3000 is the num of features in rf count vec\n",
    "             'clf__random_state': [seed]}\n",
    "\n",
    "rf_search = RandomizedSearchCV(rf_pipe, rf_params, n_iter=10, scoring='accuracy', cv=3, random_state=seed,\n",
    "                               return_train_score=True)\n",
    "\n",
    "rf_search.fit(X_train_stems, y_train_encoded)"
   ]
  },
  {
   "cell_type": "code",
   "execution_count": 84,
   "id": "46ee3231",
   "metadata": {},
   "outputs": [
    {
     "data": {
      "text/plain": [
       "0.6629811124817209"
      ]
     },
     "execution_count": 84,
     "metadata": {},
     "output_type": "execute_result"
    }
   ],
   "source": [
    "rf_search.best_score_"
   ]
  },
  {
   "cell_type": "code",
   "execution_count": 92,
   "id": "4f2981e4",
   "metadata": {
    "scrolled": true
   },
   "outputs": [
    {
     "data": {
      "text/html": [
       "<div>\n",
       "<style scoped>\n",
       "    .dataframe tbody tr th:only-of-type {\n",
       "        vertical-align: middle;\n",
       "    }\n",
       "\n",
       "    .dataframe tbody tr th {\n",
       "        vertical-align: top;\n",
       "    }\n",
       "\n",
       "    .dataframe thead th {\n",
       "        text-align: right;\n",
       "    }\n",
       "</style>\n",
       "<table border=\"1\" class=\"dataframe\">\n",
       "  <thead>\n",
       "    <tr style=\"text-align: right;\">\n",
       "      <th></th>\n",
       "      <th>mean_fit_time</th>\n",
       "      <th>params</th>\n",
       "      <th>mean_train_score</th>\n",
       "      <th>mean_test_score</th>\n",
       "    </tr>\n",
       "  </thead>\n",
       "  <tbody>\n",
       "    <tr>\n",
       "      <th>0</th>\n",
       "      <td>0.942099</td>\n",
       "      <td>{'clf__max_depth': 40, 'clf__max_features': 50...</td>\n",
       "      <td>0.604854</td>\n",
       "      <td>0.604505</td>\n",
       "    </tr>\n",
       "    <tr>\n",
       "      <th>1</th>\n",
       "      <td>0.402122</td>\n",
       "      <td>{'clf__max_depth': 61, 'clf__max_features': 1,...</td>\n",
       "      <td>0.602966</td>\n",
       "      <td>0.602966</td>\n",
       "    </tr>\n",
       "    <tr>\n",
       "      <th>2</th>\n",
       "      <td>7.210547</td>\n",
       "      <td>{'clf__max_depth': 435, 'clf__max_features': 3...</td>\n",
       "      <td>0.656757</td>\n",
       "      <td>0.633741</td>\n",
       "    </tr>\n",
       "    <tr>\n",
       "      <th>3</th>\n",
       "      <td>0.737124</td>\n",
       "      <td>{'clf__max_depth': 454, 'clf__max_features': 5...</td>\n",
       "      <td>0.628917</td>\n",
       "      <td>0.626188</td>\n",
       "    </tr>\n",
       "    <tr>\n",
       "      <th>4</th>\n",
       "      <td>4.895207</td>\n",
       "      <td>{'clf__max_depth': 471, 'clf__max_features': 5...</td>\n",
       "      <td>0.767487</td>\n",
       "      <td>0.662981</td>\n",
       "    </tr>\n",
       "    <tr>\n",
       "      <th>5</th>\n",
       "      <td>1.583103</td>\n",
       "      <td>{'clf__max_depth': 434, 'clf__max_features': 3...</td>\n",
       "      <td>0.638220</td>\n",
       "      <td>0.624368</td>\n",
       "    </tr>\n",
       "    <tr>\n",
       "      <th>6</th>\n",
       "      <td>2.424957</td>\n",
       "      <td>{'clf__max_depth': 225, 'clf__max_features': 5...</td>\n",
       "      <td>0.651371</td>\n",
       "      <td>0.636959</td>\n",
       "    </tr>\n",
       "    <tr>\n",
       "      <th>7</th>\n",
       "      <td>2.556461</td>\n",
       "      <td>{'clf__max_depth': 268, 'clf__max_features': 3...</td>\n",
       "      <td>0.666060</td>\n",
       "      <td>0.633881</td>\n",
       "    </tr>\n",
       "    <tr>\n",
       "      <th>8</th>\n",
       "      <td>0.350587</td>\n",
       "      <td>{'clf__max_depth': 492, 'clf__max_features': 1...</td>\n",
       "      <td>0.602966</td>\n",
       "      <td>0.602966</td>\n",
       "    </tr>\n",
       "    <tr>\n",
       "      <th>9</th>\n",
       "      <td>0.270331</td>\n",
       "      <td>{'clf__max_depth': 41, 'clf__max_features': 1,...</td>\n",
       "      <td>0.602966</td>\n",
       "      <td>0.602966</td>\n",
       "    </tr>\n",
       "  </tbody>\n",
       "</table>\n",
       "</div>"
      ],
      "text/plain": [
       "   mean_fit_time                                             params  \\\n",
       "0       0.942099  {'clf__max_depth': 40, 'clf__max_features': 50...   \n",
       "1       0.402122  {'clf__max_depth': 61, 'clf__max_features': 1,...   \n",
       "2       7.210547  {'clf__max_depth': 435, 'clf__max_features': 3...   \n",
       "3       0.737124  {'clf__max_depth': 454, 'clf__max_features': 5...   \n",
       "4       4.895207  {'clf__max_depth': 471, 'clf__max_features': 5...   \n",
       "5       1.583103  {'clf__max_depth': 434, 'clf__max_features': 3...   \n",
       "6       2.424957  {'clf__max_depth': 225, 'clf__max_features': 5...   \n",
       "7       2.556461  {'clf__max_depth': 268, 'clf__max_features': 3...   \n",
       "8       0.350587  {'clf__max_depth': 492, 'clf__max_features': 1...   \n",
       "9       0.270331  {'clf__max_depth': 41, 'clf__max_features': 1,...   \n",
       "\n",
       "   mean_train_score  mean_test_score  \n",
       "0          0.604854         0.604505  \n",
       "1          0.602966         0.602966  \n",
       "2          0.656757         0.633741  \n",
       "3          0.628917         0.626188  \n",
       "4          0.767487         0.662981  \n",
       "5          0.638220         0.624368  \n",
       "6          0.651371         0.636959  \n",
       "7          0.666060         0.633881  \n",
       "8          0.602966         0.602966  \n",
       "9          0.602966         0.602966  "
      ]
     },
     "execution_count": 92,
     "metadata": {},
     "output_type": "execute_result"
    }
   ],
   "source": [
    "pd.DataFrame(rf_search.cv_results_).loc[:, ['mean_fit_time', 'params', 'mean_train_score', 'mean_test_score'] ]"
   ]
  },
  {
   "cell_type": "markdown",
   "id": "73afb445",
   "metadata": {},
   "source": [
    "The models trained during the randomized search are no longer overfit, though they have poorer performance on the validation set than the baseline random forest.\n",
    "\n",
    "Let's increase the number of iterations run in case we can find a better fit somewhere in the search space."
   ]
  },
  {
   "cell_type": "code",
   "execution_count": 112,
   "id": "bc860d8e",
   "metadata": {},
   "outputs": [
    {
     "data": {
      "text/plain": [
       "0.6710949574130312"
      ]
     },
     "execution_count": 112,
     "metadata": {},
     "output_type": "execute_result"
    }
   ],
   "source": [
    "rf_params = {'clf__min_samples_leaf': randint(1, 50),\n",
    "             'clf__max_depth': randint(1, 500),\n",
    "             'clf__n_estimators': randint(5, 300),\n",
    "             'clf__max_samples': uniform(0.05, 1),\n",
    "             'clf__max_features': [1, 200, 500, 3000], # 3000 is the num of features in rf count vec\n",
    "             'clf__random_state': [seed]}\n",
    "\n",
    "rf_search2 = RandomizedSearchCV(rf_pipe, rf_params, n_iter=30, scoring='accuracy', cv=3, random_state=seed,\n",
    "                               return_train_score=True)\n",
    "\n",
    "rf_search2.fit(X_train_stems, y_train_encoded)\n",
    "\n",
    "rf_search2.best_score_"
   ]
  },
  {
   "cell_type": "code",
   "execution_count": 113,
   "id": "cc985737",
   "metadata": {
    "scrolled": true
   },
   "outputs": [
    {
     "data": {
      "text/html": [
       "<style>#sk-container-id-7 {color: black;background-color: white;}#sk-container-id-7 pre{padding: 0;}#sk-container-id-7 div.sk-toggleable {background-color: white;}#sk-container-id-7 label.sk-toggleable__label {cursor: pointer;display: block;width: 100%;margin-bottom: 0;padding: 0.3em;box-sizing: border-box;text-align: center;}#sk-container-id-7 label.sk-toggleable__label-arrow:before {content: \"▸\";float: left;margin-right: 0.25em;color: #696969;}#sk-container-id-7 label.sk-toggleable__label-arrow:hover:before {color: black;}#sk-container-id-7 div.sk-estimator:hover label.sk-toggleable__label-arrow:before {color: black;}#sk-container-id-7 div.sk-toggleable__content {max-height: 0;max-width: 0;overflow: hidden;text-align: left;background-color: #f0f8ff;}#sk-container-id-7 div.sk-toggleable__content pre {margin: 0.2em;color: black;border-radius: 0.25em;background-color: #f0f8ff;}#sk-container-id-7 input.sk-toggleable__control:checked~div.sk-toggleable__content {max-height: 200px;max-width: 100%;overflow: auto;}#sk-container-id-7 input.sk-toggleable__control:checked~label.sk-toggleable__label-arrow:before {content: \"▾\";}#sk-container-id-7 div.sk-estimator input.sk-toggleable__control:checked~label.sk-toggleable__label {background-color: #d4ebff;}#sk-container-id-7 div.sk-label input.sk-toggleable__control:checked~label.sk-toggleable__label {background-color: #d4ebff;}#sk-container-id-7 input.sk-hidden--visually {border: 0;clip: rect(1px 1px 1px 1px);clip: rect(1px, 1px, 1px, 1px);height: 1px;margin: -1px;overflow: hidden;padding: 0;position: absolute;width: 1px;}#sk-container-id-7 div.sk-estimator {font-family: monospace;background-color: #f0f8ff;border: 1px dotted black;border-radius: 0.25em;box-sizing: border-box;margin-bottom: 0.5em;}#sk-container-id-7 div.sk-estimator:hover {background-color: #d4ebff;}#sk-container-id-7 div.sk-parallel-item::after {content: \"\";width: 100%;border-bottom: 1px solid gray;flex-grow: 1;}#sk-container-id-7 div.sk-label:hover label.sk-toggleable__label {background-color: #d4ebff;}#sk-container-id-7 div.sk-serial::before {content: \"\";position: absolute;border-left: 1px solid gray;box-sizing: border-box;top: 0;bottom: 0;left: 50%;z-index: 0;}#sk-container-id-7 div.sk-serial {display: flex;flex-direction: column;align-items: center;background-color: white;padding-right: 0.2em;padding-left: 0.2em;position: relative;}#sk-container-id-7 div.sk-item {position: relative;z-index: 1;}#sk-container-id-7 div.sk-parallel {display: flex;align-items: stretch;justify-content: center;background-color: white;position: relative;}#sk-container-id-7 div.sk-item::before, #sk-container-id-7 div.sk-parallel-item::before {content: \"\";position: absolute;border-left: 1px solid gray;box-sizing: border-box;top: 0;bottom: 0;left: 50%;z-index: -1;}#sk-container-id-7 div.sk-parallel-item {display: flex;flex-direction: column;z-index: 1;position: relative;background-color: white;}#sk-container-id-7 div.sk-parallel-item:first-child::after {align-self: flex-end;width: 50%;}#sk-container-id-7 div.sk-parallel-item:last-child::after {align-self: flex-start;width: 50%;}#sk-container-id-7 div.sk-parallel-item:only-child::after {width: 0;}#sk-container-id-7 div.sk-dashed-wrapped {border: 1px dashed gray;margin: 0 0.4em 0.5em 0.4em;box-sizing: border-box;padding-bottom: 0.4em;background-color: white;}#sk-container-id-7 div.sk-label label {font-family: monospace;font-weight: bold;display: inline-block;line-height: 1.2em;}#sk-container-id-7 div.sk-label-container {text-align: center;}#sk-container-id-7 div.sk-container {/* jupyter's `normalize.less` sets `[hidden] { display: none; }` but bootstrap.min.css set `[hidden] { display: none !important; }` so we also need the `!important` here to be able to override the default hidden behavior on the sphinx rendered scikit-learn.org. See: https://github.com/scikit-learn/scikit-learn/issues/21755 */display: inline-block !important;position: relative;}#sk-container-id-7 div.sk-text-repr-fallback {display: none;}</style><div id=\"sk-container-id-7\" class=\"sk-top-container\"><div class=\"sk-text-repr-fallback\"><pre>Pipeline(steps=[(&#x27;vec&#x27;, CountVectorizer(max_df=0.99, max_features=3000)),\n",
       "                (&#x27;clf&#x27;,\n",
       "                 RandomForestClassifier(max_depth=140, max_features=500,\n",
       "                                        max_samples=0.9438972932554696,\n",
       "                                        min_samples_leaf=3, n_estimators=222,\n",
       "                                        random_state=23984))])</pre><b>In a Jupyter environment, please rerun this cell to show the HTML representation or trust the notebook. <br />On GitHub, the HTML representation is unable to render, please try loading this page with nbviewer.org.</b></div><div class=\"sk-container\" hidden><div class=\"sk-item sk-dashed-wrapped\"><div class=\"sk-label-container\"><div class=\"sk-label sk-toggleable\"><input class=\"sk-toggleable__control sk-hidden--visually\" id=\"sk-estimator-id-18\" type=\"checkbox\" ><label for=\"sk-estimator-id-18\" class=\"sk-toggleable__label sk-toggleable__label-arrow\">Pipeline</label><div class=\"sk-toggleable__content\"><pre>Pipeline(steps=[(&#x27;vec&#x27;, CountVectorizer(max_df=0.99, max_features=3000)),\n",
       "                (&#x27;clf&#x27;,\n",
       "                 RandomForestClassifier(max_depth=140, max_features=500,\n",
       "                                        max_samples=0.9438972932554696,\n",
       "                                        min_samples_leaf=3, n_estimators=222,\n",
       "                                        random_state=23984))])</pre></div></div></div><div class=\"sk-serial\"><div class=\"sk-item\"><div class=\"sk-estimator sk-toggleable\"><input class=\"sk-toggleable__control sk-hidden--visually\" id=\"sk-estimator-id-19\" type=\"checkbox\" ><label for=\"sk-estimator-id-19\" class=\"sk-toggleable__label sk-toggleable__label-arrow\">CountVectorizer</label><div class=\"sk-toggleable__content\"><pre>CountVectorizer(max_df=0.99, max_features=3000)</pre></div></div></div><div class=\"sk-item\"><div class=\"sk-estimator sk-toggleable\"><input class=\"sk-toggleable__control sk-hidden--visually\" id=\"sk-estimator-id-20\" type=\"checkbox\" ><label for=\"sk-estimator-id-20\" class=\"sk-toggleable__label sk-toggleable__label-arrow\">RandomForestClassifier</label><div class=\"sk-toggleable__content\"><pre>RandomForestClassifier(max_depth=140, max_features=500,\n",
       "                       max_samples=0.9438972932554696, min_samples_leaf=3,\n",
       "                       n_estimators=222, random_state=23984)</pre></div></div></div></div></div></div></div>"
      ],
      "text/plain": [
       "Pipeline(steps=[('vec', CountVectorizer(max_df=0.99, max_features=3000)),\n",
       "                ('clf',\n",
       "                 RandomForestClassifier(max_depth=140, max_features=500,\n",
       "                                        max_samples=0.9438972932554696,\n",
       "                                        min_samples_leaf=3, n_estimators=222,\n",
       "                                        random_state=23984))])"
      ]
     },
     "execution_count": 113,
     "metadata": {},
     "output_type": "execute_result"
    }
   ],
   "source": [
    "rf_search2.best_estimator_"
   ]
  },
  {
   "cell_type": "code",
   "execution_count": 115,
   "id": "1c15736a",
   "metadata": {},
   "outputs": [
    {
     "data": {
      "text/plain": [
       "0.7674869958110945"
      ]
     },
     "execution_count": 115,
     "metadata": {},
     "output_type": "execute_result"
    }
   ],
   "source": [
    "rf_search.cv_results_['mean_train_score'][rf_search.best_index_]"
   ]
  },
  {
   "cell_type": "markdown",
   "id": "b4ef2b50",
   "metadata": {},
   "source": [
    "Once again, the best performing model is overfit."
   ]
  },
  {
   "cell_type": "code",
   "execution_count": 116,
   "id": "b5b10e5a",
   "metadata": {},
   "outputs": [
    {
     "data": {
      "text/html": [
       "<div>\n",
       "<style scoped>\n",
       "    .dataframe tbody tr th:only-of-type {\n",
       "        vertical-align: middle;\n",
       "    }\n",
       "\n",
       "    .dataframe tbody tr th {\n",
       "        vertical-align: top;\n",
       "    }\n",
       "\n",
       "    .dataframe thead th {\n",
       "        text-align: right;\n",
       "    }\n",
       "</style>\n",
       "<table border=\"1\" class=\"dataframe\">\n",
       "  <thead>\n",
       "    <tr style=\"text-align: right;\">\n",
       "      <th></th>\n",
       "      <th>mean_fit_time</th>\n",
       "      <th>params</th>\n",
       "      <th>mean_train_score</th>\n",
       "      <th>mean_test_score</th>\n",
       "    </tr>\n",
       "  </thead>\n",
       "  <tbody>\n",
       "    <tr>\n",
       "      <th>0</th>\n",
       "      <td>0.773109</td>\n",
       "      <td>{'clf__max_depth': 40, 'clf__max_features': 50...</td>\n",
       "      <td>0.604854</td>\n",
       "      <td>0.604505</td>\n",
       "    </tr>\n",
       "    <tr>\n",
       "      <th>1</th>\n",
       "      <td>0.380569</td>\n",
       "      <td>{'clf__max_depth': 61, 'clf__max_features': 1,...</td>\n",
       "      <td>0.602966</td>\n",
       "      <td>0.602966</td>\n",
       "    </tr>\n",
       "    <tr>\n",
       "      <th>2</th>\n",
       "      <td>7.186812</td>\n",
       "      <td>{'clf__max_depth': 435, 'clf__max_features': 3...</td>\n",
       "      <td>0.656757</td>\n",
       "      <td>0.633741</td>\n",
       "    </tr>\n",
       "    <tr>\n",
       "      <th>3</th>\n",
       "      <td>0.735887</td>\n",
       "      <td>{'clf__max_depth': 454, 'clf__max_features': 5...</td>\n",
       "      <td>0.628917</td>\n",
       "      <td>0.626188</td>\n",
       "    </tr>\n",
       "    <tr>\n",
       "      <th>4</th>\n",
       "      <td>4.113162</td>\n",
       "      <td>{'clf__max_depth': 471, 'clf__max_features': 5...</td>\n",
       "      <td>0.767487</td>\n",
       "      <td>0.662981</td>\n",
       "    </tr>\n",
       "    <tr>\n",
       "      <th>5</th>\n",
       "      <td>1.586588</td>\n",
       "      <td>{'clf__max_depth': 434, 'clf__max_features': 3...</td>\n",
       "      <td>0.638220</td>\n",
       "      <td>0.624368</td>\n",
       "    </tr>\n",
       "    <tr>\n",
       "      <th>6</th>\n",
       "      <td>2.386804</td>\n",
       "      <td>{'clf__max_depth': 225, 'clf__max_features': 5...</td>\n",
       "      <td>0.651371</td>\n",
       "      <td>0.636959</td>\n",
       "    </tr>\n",
       "    <tr>\n",
       "      <th>7</th>\n",
       "      <td>2.551681</td>\n",
       "      <td>{'clf__max_depth': 268, 'clf__max_features': 3...</td>\n",
       "      <td>0.666060</td>\n",
       "      <td>0.633881</td>\n",
       "    </tr>\n",
       "    <tr>\n",
       "      <th>8</th>\n",
       "      <td>0.340288</td>\n",
       "      <td>{'clf__max_depth': 492, 'clf__max_features': 1...</td>\n",
       "      <td>0.602966</td>\n",
       "      <td>0.602966</td>\n",
       "    </tr>\n",
       "    <tr>\n",
       "      <th>9</th>\n",
       "      <td>0.264008</td>\n",
       "      <td>{'clf__max_depth': 41, 'clf__max_features': 1,...</td>\n",
       "      <td>0.602966</td>\n",
       "      <td>0.602966</td>\n",
       "    </tr>\n",
       "    <tr>\n",
       "      <th>10</th>\n",
       "      <td>7.797397</td>\n",
       "      <td>{'clf__max_depth': 140, 'clf__max_features': 5...</td>\n",
       "      <td>0.805190</td>\n",
       "      <td>0.671095</td>\n",
       "    </tr>\n",
       "    <tr>\n",
       "      <th>11</th>\n",
       "      <td>0.195001</td>\n",
       "      <td>{'clf__max_depth': 447, 'clf__max_features': 1...</td>\n",
       "      <td>0.602966</td>\n",
       "      <td>0.602966</td>\n",
       "    </tr>\n",
       "    <tr>\n",
       "      <th>12</th>\n",
       "      <td>0.393632</td>\n",
       "      <td>{'clf__max_depth': 497, 'clf__max_features': 1...</td>\n",
       "      <td>0.602966</td>\n",
       "      <td>0.602966</td>\n",
       "    </tr>\n",
       "    <tr>\n",
       "      <th>13</th>\n",
       "      <td>1.009399</td>\n",
       "      <td>{'clf__max_depth': 496, 'clf__max_features': 2...</td>\n",
       "      <td>0.655148</td>\n",
       "      <td>0.641157</td>\n",
       "    </tr>\n",
       "    <tr>\n",
       "      <th>14</th>\n",
       "      <td>0.571922</td>\n",
       "      <td>{'clf__max_depth': 164, 'clf__max_features': 5...</td>\n",
       "      <td>0.602966</td>\n",
       "      <td>0.602966</td>\n",
       "    </tr>\n",
       "    <tr>\n",
       "      <th>15</th>\n",
       "      <td>0.245092</td>\n",
       "      <td>{'clf__max_depth': 398, 'clf__max_features': 3...</td>\n",
       "      <td>0.616047</td>\n",
       "      <td>0.610659</td>\n",
       "    </tr>\n",
       "    <tr>\n",
       "      <th>16</th>\n",
       "      <td>0.140564</td>\n",
       "      <td>{'clf__max_depth': 332, 'clf__max_features': 1...</td>\n",
       "      <td>0.602966</td>\n",
       "      <td>0.602966</td>\n",
       "    </tr>\n",
       "    <tr>\n",
       "      <th>17</th>\n",
       "      <td>2.270108</td>\n",
       "      <td>{'clf__max_depth': 298, 'clf__max_features': 3...</td>\n",
       "      <td>0.653469</td>\n",
       "      <td>0.628984</td>\n",
       "    </tr>\n",
       "    <tr>\n",
       "      <th>18</th>\n",
       "      <td>0.110905</td>\n",
       "      <td>{'clf__max_depth': 214, 'clf__max_features': 2...</td>\n",
       "      <td>0.602966</td>\n",
       "      <td>0.602966</td>\n",
       "    </tr>\n",
       "    <tr>\n",
       "      <th>19</th>\n",
       "      <td>0.137882</td>\n",
       "      <td>{'clf__max_depth': 73, 'clf__max_features': 1,...</td>\n",
       "      <td>0.602966</td>\n",
       "      <td>0.602966</td>\n",
       "    </tr>\n",
       "    <tr>\n",
       "      <th>20</th>\n",
       "      <td>5.416121</td>\n",
       "      <td>{'clf__max_depth': 28, 'clf__max_features': 30...</td>\n",
       "      <td>0.764828</td>\n",
       "      <td>0.660183</td>\n",
       "    </tr>\n",
       "    <tr>\n",
       "      <th>21</th>\n",
       "      <td>1.098437</td>\n",
       "      <td>{'clf__max_depth': 494, 'clf__max_features': 5...</td>\n",
       "      <td>0.608142</td>\n",
       "      <td>0.607303</td>\n",
       "    </tr>\n",
       "    <tr>\n",
       "      <th>22</th>\n",
       "      <td>0.382810</td>\n",
       "      <td>{'clf__max_depth': 408, 'clf__max_features': 1...</td>\n",
       "      <td>0.602966</td>\n",
       "      <td>0.602966</td>\n",
       "    </tr>\n",
       "    <tr>\n",
       "      <th>23</th>\n",
       "      <td>0.724204</td>\n",
       "      <td>{'clf__max_depth': 15, 'clf__max_features': 50...</td>\n",
       "      <td>0.606254</td>\n",
       "      <td>0.606743</td>\n",
       "    </tr>\n",
       "    <tr>\n",
       "      <th>24</th>\n",
       "      <td>0.417049</td>\n",
       "      <td>{'clf__max_depth': 355, 'clf__max_features': 1...</td>\n",
       "      <td>0.602966</td>\n",
       "      <td>0.602966</td>\n",
       "    </tr>\n",
       "    <tr>\n",
       "      <th>25</th>\n",
       "      <td>1.668806</td>\n",
       "      <td>{'clf__max_depth': 263, 'clf__max_features': 3...</td>\n",
       "      <td>0.711178</td>\n",
       "      <td>0.643535</td>\n",
       "    </tr>\n",
       "    <tr>\n",
       "      <th>26</th>\n",
       "      <td>13.092315</td>\n",
       "      <td>{'clf__max_depth': 78, 'clf__max_features': 30...</td>\n",
       "      <td>0.685017</td>\n",
       "      <td>0.643674</td>\n",
       "    </tr>\n",
       "    <tr>\n",
       "      <th>27</th>\n",
       "      <td>0.709874</td>\n",
       "      <td>{'clf__max_depth': 219, 'clf__max_features': 2...</td>\n",
       "      <td>0.643257</td>\n",
       "      <td>0.635841</td>\n",
       "    </tr>\n",
       "    <tr>\n",
       "      <th>28</th>\n",
       "      <td>0.130110</td>\n",
       "      <td>{'clf__max_depth': 119, 'clf__max_features': 2...</td>\n",
       "      <td>0.604645</td>\n",
       "      <td>0.605064</td>\n",
       "    </tr>\n",
       "    <tr>\n",
       "      <th>29</th>\n",
       "      <td>0.834220</td>\n",
       "      <td>{'clf__max_depth': 37, 'clf__max_features': 20...</td>\n",
       "      <td>0.618425</td>\n",
       "      <td>0.616116</td>\n",
       "    </tr>\n",
       "  </tbody>\n",
       "</table>\n",
       "</div>"
      ],
      "text/plain": [
       "    mean_fit_time                                             params  \\\n",
       "0        0.773109  {'clf__max_depth': 40, 'clf__max_features': 50...   \n",
       "1        0.380569  {'clf__max_depth': 61, 'clf__max_features': 1,...   \n",
       "2        7.186812  {'clf__max_depth': 435, 'clf__max_features': 3...   \n",
       "3        0.735887  {'clf__max_depth': 454, 'clf__max_features': 5...   \n",
       "4        4.113162  {'clf__max_depth': 471, 'clf__max_features': 5...   \n",
       "5        1.586588  {'clf__max_depth': 434, 'clf__max_features': 3...   \n",
       "6        2.386804  {'clf__max_depth': 225, 'clf__max_features': 5...   \n",
       "7        2.551681  {'clf__max_depth': 268, 'clf__max_features': 3...   \n",
       "8        0.340288  {'clf__max_depth': 492, 'clf__max_features': 1...   \n",
       "9        0.264008  {'clf__max_depth': 41, 'clf__max_features': 1,...   \n",
       "10       7.797397  {'clf__max_depth': 140, 'clf__max_features': 5...   \n",
       "11       0.195001  {'clf__max_depth': 447, 'clf__max_features': 1...   \n",
       "12       0.393632  {'clf__max_depth': 497, 'clf__max_features': 1...   \n",
       "13       1.009399  {'clf__max_depth': 496, 'clf__max_features': 2...   \n",
       "14       0.571922  {'clf__max_depth': 164, 'clf__max_features': 5...   \n",
       "15       0.245092  {'clf__max_depth': 398, 'clf__max_features': 3...   \n",
       "16       0.140564  {'clf__max_depth': 332, 'clf__max_features': 1...   \n",
       "17       2.270108  {'clf__max_depth': 298, 'clf__max_features': 3...   \n",
       "18       0.110905  {'clf__max_depth': 214, 'clf__max_features': 2...   \n",
       "19       0.137882  {'clf__max_depth': 73, 'clf__max_features': 1,...   \n",
       "20       5.416121  {'clf__max_depth': 28, 'clf__max_features': 30...   \n",
       "21       1.098437  {'clf__max_depth': 494, 'clf__max_features': 5...   \n",
       "22       0.382810  {'clf__max_depth': 408, 'clf__max_features': 1...   \n",
       "23       0.724204  {'clf__max_depth': 15, 'clf__max_features': 50...   \n",
       "24       0.417049  {'clf__max_depth': 355, 'clf__max_features': 1...   \n",
       "25       1.668806  {'clf__max_depth': 263, 'clf__max_features': 3...   \n",
       "26      13.092315  {'clf__max_depth': 78, 'clf__max_features': 30...   \n",
       "27       0.709874  {'clf__max_depth': 219, 'clf__max_features': 2...   \n",
       "28       0.130110  {'clf__max_depth': 119, 'clf__max_features': 2...   \n",
       "29       0.834220  {'clf__max_depth': 37, 'clf__max_features': 20...   \n",
       "\n",
       "    mean_train_score  mean_test_score  \n",
       "0           0.604854         0.604505  \n",
       "1           0.602966         0.602966  \n",
       "2           0.656757         0.633741  \n",
       "3           0.628917         0.626188  \n",
       "4           0.767487         0.662981  \n",
       "5           0.638220         0.624368  \n",
       "6           0.651371         0.636959  \n",
       "7           0.666060         0.633881  \n",
       "8           0.602966         0.602966  \n",
       "9           0.602966         0.602966  \n",
       "10          0.805190         0.671095  \n",
       "11          0.602966         0.602966  \n",
       "12          0.602966         0.602966  \n",
       "13          0.655148         0.641157  \n",
       "14          0.602966         0.602966  \n",
       "15          0.616047         0.610659  \n",
       "16          0.602966         0.602966  \n",
       "17          0.653469         0.628984  \n",
       "18          0.602966         0.602966  \n",
       "19          0.602966         0.602966  \n",
       "20          0.764828         0.660183  \n",
       "21          0.608142         0.607303  \n",
       "22          0.602966         0.602966  \n",
       "23          0.606254         0.606743  \n",
       "24          0.602966         0.602966  \n",
       "25          0.711178         0.643535  \n",
       "26          0.685017         0.643674  \n",
       "27          0.643257         0.635841  \n",
       "28          0.604645         0.605064  \n",
       "29          0.618425         0.616116  "
      ]
     },
     "execution_count": 116,
     "metadata": {},
     "output_type": "execute_result"
    }
   ],
   "source": [
    "pd.DataFrame(rf_search2.cv_results_).loc[:, ['mean_fit_time', 'params', 'mean_train_score', 'mean_test_score'] ]"
   ]
  },
  {
   "cell_type": "markdown",
   "id": "f300d584",
   "metadata": {},
   "source": [
    "It is difficult to detect patterns in the randomized search cv results format. Ideally, I want to reduce variance in the model until it is underfit, then re-introduce variance slowly to find the optimal point between underfitting and overfitting."
   ]
  },
  {
   "cell_type": "code",
   "execution_count": 119,
   "id": "d217b9cc",
   "metadata": {},
   "outputs": [],
   "source": [
    "no_samples = [1, 3, 5, 10, 20, 30, 50]\n",
    "\n",
    "train_scores = []\n",
    "val_scores = []\n",
    "\n",
    "for num in no_samples:\n",
    "    # instantiate a random forest with that value for min samples leaf\n",
    "    tuning_rf = RandomForestClassifier(random_state=seed, min_samples_leaf=num)\n",
    "    # instantiate a pipeline\n",
    "    rf_tuning_pipe = Pipeline(steps=[\n",
    "        ('vec', count_rf),\n",
    "        ('clf', tuning_rf)\n",
    "    ])\n",
    "    # perform cross validation\n",
    "    cv_results = cross_validate(rf_tuning_pipe, X_train_stems, y_train_encoded, scoring='accuracy', cv=3,\n",
    "                                return_train_score=True)\n",
    "    # record mean performance\n",
    "    train_scores.append(np.mean(cv_results['train_score']))\n",
    "    val_scores.append(np.mean(cv_results['test_score']))"
   ]
  },
  {
   "cell_type": "code",
   "execution_count": 120,
   "id": "31f3e87c",
   "metadata": {},
   "outputs": [
    {
     "data": {
      "image/png": "[encoded data removed]",
      "text/plain": [
       "<Figure size 640x480 with 1 Axes>"
      ]
     },
     "metadata": {},
     "output_type": "display_data"
    }
   ],
   "source": [
    "fig, ax = plt.subplots()\n",
    "\n",
    "ax.set_title('Accuracy as Min Samples Leaf Increases')\n",
    "plt.plot(no_samples, train_scores, label='train', c='b')\n",
    "plt.plot(no_samples, val_scores, label='val', c='r')\n",
    "ax.set_xlabel('Minimum Number of Samples per Leaf')\n",
    "ax.set_ylabel('Accuracy');"
   ]
  },
  {
   "cell_type": "markdown",
   "id": "9df9c58e",
   "metadata": {},
   "source": [
    "Demanding that more samples are preserved per leaf results in a decrease in both training and validation accuracy. The model is no longer overfit to the training data when min_samples_leaf reaches a value of 20."
   ]
  },
  {
   "cell_type": "code",
   "execution_count": 137,
   "id": "8012e831",
   "metadata": {},
   "outputs": [],
   "source": [
    "no_max_samples = np.linspace(0.05, 1, 9)\n",
    "\n",
    "train_scores = []\n",
    "val_scores = []\n",
    "\n",
    "for num in no_max_samples:\n",
    "    # instantiate a random forest with that value for min samples leaf\n",
    "    tuning_rf = RandomForestClassifier(random_state=seed, max_samples=num)\n",
    "    # instantiate a pipeline\n",
    "    rf_tuning_pipe = Pipeline(steps=[\n",
    "        ('vec', count_rf),\n",
    "        ('clf', tuning_rf)\n",
    "    ])\n",
    "    # perform cross validation\n",
    "    cv_results = cross_validate(rf_tuning_pipe, X_train_stems, y_train_encoded, scoring='accuracy', cv=3,\n",
    "                                return_train_score=True)\n",
    "    # record mean performance\n",
    "    train_scores.append(np.mean(cv_results['train_score']))\n",
    "    val_scores.append(np.mean(cv_results['test_score']))"
   ]
  },
  {
   "cell_type": "code",
   "execution_count": 138,
   "id": "395071a6",
   "metadata": {},
   "outputs": [
    {
     "data": {
      "image/png": "[encoded data removed]",
      "text/plain": [
       "<Figure size 640x480 with 1 Axes>"
      ]
     },
     "metadata": {},
     "output_type": "display_data"
    }
   ],
   "source": [
    "fig, ax = plt.subplots()\n",
    "\n",
    "ax.set_title('Accuracy as Max Samples Increases')\n",
    "plt.plot(no_max_samples, train_scores, label='train', c='b')\n",
    "plt.plot(no_max_samples, val_scores, label='val', c='r')\n",
    "ax.set_xlabel('Percentage of Training Data Used to Train Each Tree')\n",
    "ax.set_ylabel('Accuracy');"
   ]
  },
  {
   "cell_type": "code",
   "execution_count": 139,
   "id": "cd743d1d",
   "metadata": {},
   "outputs": [
    {
     "name": "stdout",
     "output_type": "stream",
     "text": [
      "Percentage of dataset used to train each tree: 0.64375\n",
      "Validation accuracy: 0.6782308776165343\n"
     ]
    }
   ],
   "source": [
    "print(f'Percentage of dataset used to train each tree: {no_max_samples[np.argmax(val_scores)]}')\n",
    "print(f'Validation accuracy: {np.max(val_scores)}')"
   ]
  },
  {
   "cell_type": "markdown",
   "id": "41947f61",
   "metadata": {},
   "source": [
    "Allowing individual trees to overfit has resulted in the best validation accuracy so far, despite also resulting in the forest as a whole overfitting. For this reason, I am going to focus on trying to reduce variance in the forest as a whole rather than in individual trees."
   ]
  },
  {
   "cell_type": "code",
   "execution_count": 140,
   "id": "a61ed6d8",
   "metadata": {},
   "outputs": [],
   "source": [
    "no_feats = np.linspace(0.01, 0.99, 20)\n",
    "\n",
    "train_scores = []\n",
    "val_scores = []\n",
    "\n",
    "for num in no_feats:\n",
    "    # instantiate a random forest with that value for min samples leaf\n",
    "    tuning_rf = RandomForestClassifier(random_state=seed, max_samples=0.65, max_features=num)\n",
    "    # instantiate a pipeline\n",
    "    rf_tuning_pipe = Pipeline(steps=[\n",
    "        ('vec', count_rf),\n",
    "        ('clf', tuning_rf)\n",
    "    ])\n",
    "    # perform cross validation\n",
    "    cv_results = cross_validate(rf_tuning_pipe, X_train_stems, y_train_encoded, scoring='accuracy', cv=3,\n",
    "                                return_train_score=True)\n",
    "    # record mean performance\n",
    "    train_scores.append(np.mean(cv_results['train_score']))\n",
    "    val_scores.append(np.mean(cv_results['test_score']))"
   ]
  },
  {
   "cell_type": "code",
   "execution_count": 142,
   "id": "33968dbd",
   "metadata": {},
   "outputs": [
    {
     "data": {
      "image/png": "[encoded data removed]",
      "text/plain": [
       "<Figure size 640x480 with 1 Axes>"
      ]
     },
     "metadata": {},
     "output_type": "display_data"
    }
   ],
   "source": [
    "fig, ax = plt.subplots()\n",
    "\n",
    "ax.set_title('Accuracy as Max Features Increases')\n",
    "plt.plot(no_feats, train_scores, label='train', c='b')\n",
    "plt.plot(no_feats, val_scores, label='val', c='r')\n",
    "ax.set_xlabel('Percentage of Features Considered at Each Split')\n",
    "ax.set_ylabel('Accuracy');"
   ]
  },
  {
   "cell_type": "markdown",
   "id": "c39c371e",
   "metadata": {},
   "source": [
    "Varying the number of features considered at each split had little effect on the validation accuracy."
   ]
  },
  {
   "cell_type": "markdown",
   "id": "837d6c22",
   "metadata": {},
   "source": [
    "As a last experiment, increase the number of estimators."
   ]
  },
  {
   "cell_type": "code",
   "execution_count": 143,
   "id": "8342e831",
   "metadata": {},
   "outputs": [],
   "source": [
    "no_estimators = [100, 200, 300, 400, 500]\n",
    "\n",
    "train_scores = []\n",
    "val_scores = []\n",
    "\n",
    "for num in no_estimators:\n",
    "    # instantiate a random forest with that value for min samples leaf\n",
    "    tuning_rf = RandomForestClassifier(random_state=seed, max_samples=0.65, n_estimators=num)\n",
    "    # instantiate a pipeline\n",
    "    rf_tuning_pipe = Pipeline(steps=[\n",
    "        ('vec', count_rf),\n",
    "        ('clf', tuning_rf)\n",
    "    ])\n",
    "    # perform cross validation\n",
    "    cv_results = cross_validate(rf_tuning_pipe, X_train_stems, y_train_encoded, scoring='accuracy', cv=3,\n",
    "                                return_train_score=True)\n",
    "    # record mean performance\n",
    "    train_scores.append(np.mean(cv_results['train_score']))\n",
    "    val_scores.append(np.mean(cv_results['test_score']))"
   ]
  },
  {
   "cell_type": "code",
   "execution_count": 149,
   "id": "ecacf8d8",
   "metadata": {
    "scrolled": true
   },
   "outputs": [
    {
     "data": {
      "image/png": "[encoded data removed]",
      "text/plain": [
       "<Figure size 500x300 with 1 Axes>"
      ]
     },
     "metadata": {},
     "output_type": "display_data"
    }
   ],
   "source": [
    "fig, ax = plt.subplots(figsize=(5, 3))\n",
    "\n",
    "ax.set_title('Accuracy as the Number of Estimators Increases')\n",
    "plt.plot(no_estimators, train_scores, label='train', c='b')\n",
    "plt.plot(no_estimators, val_scores, label='val', c='r')\n",
    "ax.set_xlabel('Number of Estimators')\n",
    "ax.set_ylabel('Accuracy');"
   ]
  },
  {
   "cell_type": "code",
   "execution_count": 150,
   "id": "47a05ef8",
   "metadata": {},
   "outputs": [],
   "source": [
    "no_estimators = [10, 20, 50, 80, 100]\n",
    "\n",
    "train_scores = []\n",
    "val_scores = []\n",
    "\n",
    "for num in no_estimators:\n",
    "    # instantiate a random forest with that value for min samples leaf\n",
    "    tuning_rf = RandomForestClassifier(random_state=seed, max_samples=0.65, n_estimators=num)\n",
    "    # instantiate a pipeline\n",
    "    rf_tuning_pipe = Pipeline(steps=[\n",
    "        ('vec', count_rf),\n",
    "        ('clf', tuning_rf)\n",
    "    ])\n",
    "    # perform cross validation\n",
    "    cv_results = cross_validate(rf_tuning_pipe, X_train_stems, y_train_encoded, scoring='accuracy', cv=3,\n",
    "                                return_train_score=True)\n",
    "    # record mean performance\n",
    "    train_scores.append(np.mean(cv_results['train_score']))\n",
    "    val_scores.append(np.mean(cv_results['test_score']))"
   ]
  },
  {
   "cell_type": "code",
   "execution_count": 151,
   "id": "df732568",
   "metadata": {},
   "outputs": [
    {
     "data": {
      "image/png": "[encoded data removed]",
      "text/plain": [
       "<Figure size 500x300 with 1 Axes>"
      ]
     },
     "metadata": {},
     "output_type": "display_data"
    }
   ],
   "source": [
    "fig, ax = plt.subplots(figsize=(5, 3))\n",
    "\n",
    "ax.set_title('Accuracy as the Number of Estimators Increases')\n",
    "plt.plot(no_estimators, train_scores, label='train', c='b')\n",
    "plt.plot(no_estimators, val_scores, label='val', c='r')\n",
    "ax.set_xlabel('Number of Estimators')\n",
    "ax.set_ylabel('Accuracy');"
   ]
  },
  {
   "cell_type": "markdown",
   "id": "38c0c9c9",
   "metadata": {},
   "source": [
    "The default number of estimators performs best."
   ]
  },
  {
   "cell_type": "markdown",
   "id": "289574c5",
   "metadata": {},
   "source": [
    "Best Random Forest Classifier so Far:"
   ]
  },
  {
   "cell_type": "code",
   "execution_count": 155,
   "id": "a906a78d",
   "metadata": {},
   "outputs": [
    {
     "data": {
      "text/plain": [
       "0.6786498120432549"
      ]
     },
     "execution_count": 155,
     "metadata": {},
     "output_type": "execute_result"
    }
   ],
   "source": [
    "best_rf = RandomForestClassifier(random_state=seed, max_samples=0.65)\n",
    "\n",
    "best_rf_pipe = Pipeline(steps=[\n",
    "    ('vec', count_rf),\n",
    "    ('clf', best_rf)\n",
    "])\n",
    "\n",
    "np.mean(cross_val_score(best_rf_pipe, X_train_stems, y_train_encoded, scoring='accuracy', cv=3))"
   ]
  },
  {
   "cell_type": "markdown",
   "id": "e61638fb",
   "metadata": {},
   "source": [
    "---"
   ]
  },
  {
   "cell_type": "markdown",
   "id": "dda5b362",
   "metadata": {},
   "source": [
    "Hyperparameter tuning:"
   ]
  },
  {
   "cell_type": "markdown",
   "id": "190a1be8",
   "metadata": {},
   "source": [
    "**Support Vector Machine**"
   ]
  },
  {
   "cell_type": "markdown",
   "id": "f7a0ccae",
   "metadata": {},
   "source": [
    "Baseline:"
   ]
  },
  {
   "cell_type": "code",
   "execution_count": 75,
   "id": "b601428f",
   "metadata": {},
   "outputs": [
    {
     "data": {
      "text/plain": [
       "0.6843847964491772"
      ]
     },
     "execution_count": 75,
     "metadata": {},
     "output_type": "execute_result"
    }
   ],
   "source": [
    "np.mean(baseline_svc_cv['test_score'])"
   ]
  },
  {
   "cell_type": "code",
   "execution_count": 76,
   "id": "ff8f99a4",
   "metadata": {},
   "outputs": [
    {
     "data": {
      "text/plain": [
       "0.8732161977211753"
      ]
     },
     "execution_count": 76,
     "metadata": {},
     "output_type": "execute_result"
    }
   ],
   "source": [
    "np.mean(baseline_svc_cv['train_score'])"
   ]
  },
  {
   "cell_type": "markdown",
   "id": "08b3797e",
   "metadata": {},
   "source": [
    "A support vector machine with default settings is overfit."
   ]
  },
  {
   "cell_type": "markdown",
   "id": "d2a723db",
   "metadata": {},
   "source": [
    "Hyperparameter tuning approach (to reduce overfitting):"
   ]
  },
  {
   "cell_type": "markdown",
   "id": "dfd7f4ce",
   "metadata": {},
   "source": [
    "Decreasing Overfitting:\n",
    "- Decrease gamma (more widespread influence of each training example produces a smoother model)\n",
    "- Decrease C (inverse regularization parameter; smaller values of C result in a larger margin for hyperplane at the cost of possibly mis-classifying some training examples)\n",
    "\n",
    "Other Parameters:\n",
    "- It is possible to change the kernel from the default rbf. I don't expect a linear kernel to perform well, but it is worth trying a poly kernel with varying degrees."
   ]
  },
  {
   "cell_type": "markdown",
   "id": "114ac5c9",
   "metadata": {},
   "source": [
    "In order to decrease gamma, I need to know it's default value. The documentation states that gamma scales automatically to 1 / (n_features\\*X.var()) as the default setting for a support vector classifier."
   ]
  },
  {
   "cell_type": "code",
   "execution_count": 106,
   "id": "95a3ffbd",
   "metadata": {},
   "outputs": [
    {
     "data": {
      "text/plain": [
       "0.09348563491113145"
      ]
     },
     "execution_count": 106,
     "metadata": {},
     "output_type": "execute_result"
    }
   ],
   "source": [
    "# figure out default value of gamma\n",
    "\n",
    "svc_train = count_svc.fit_transform(X_train_stems).todense() # use all training data; close enough\n",
    "\n",
    "1 / (svc_train.shape[1] * np.var(svc_train))"
   ]
  },
  {
   "cell_type": "code",
   "execution_count": 107,
   "id": "d0f5929c",
   "metadata": {},
   "outputs": [
    {
     "data": {
      "text/html": [
       "<style>#sk-container-id-6 {color: black;background-color: white;}#sk-container-id-6 pre{padding: 0;}#sk-container-id-6 div.sk-toggleable {background-color: white;}#sk-container-id-6 label.sk-toggleable__label {cursor: pointer;display: block;width: 100%;margin-bottom: 0;padding: 0.3em;box-sizing: border-box;text-align: center;}#sk-container-id-6 label.sk-toggleable__label-arrow:before {content: \"▸\";float: left;margin-right: 0.25em;color: #696969;}#sk-container-id-6 label.sk-toggleable__label-arrow:hover:before {color: black;}#sk-container-id-6 div.sk-estimator:hover label.sk-toggleable__label-arrow:before {color: black;}#sk-container-id-6 div.sk-toggleable__content {max-height: 0;max-width: 0;overflow: hidden;text-align: left;background-color: #f0f8ff;}#sk-container-id-6 div.sk-toggleable__content pre {margin: 0.2em;color: black;border-radius: 0.25em;background-color: #f0f8ff;}#sk-container-id-6 input.sk-toggleable__control:checked~div.sk-toggleable__content {max-height: 200px;max-width: 100%;overflow: auto;}#sk-container-id-6 input.sk-toggleable__control:checked~label.sk-toggleable__label-arrow:before {content: \"▾\";}#sk-container-id-6 div.sk-estimator input.sk-toggleable__control:checked~label.sk-toggleable__label {background-color: #d4ebff;}#sk-container-id-6 div.sk-label input.sk-toggleable__control:checked~label.sk-toggleable__label {background-color: #d4ebff;}#sk-container-id-6 input.sk-hidden--visually {border: 0;clip: rect(1px 1px 1px 1px);clip: rect(1px, 1px, 1px, 1px);height: 1px;margin: -1px;overflow: hidden;padding: 0;position: absolute;width: 1px;}#sk-container-id-6 div.sk-estimator {font-family: monospace;background-color: #f0f8ff;border: 1px dotted black;border-radius: 0.25em;box-sizing: border-box;margin-bottom: 0.5em;}#sk-container-id-6 div.sk-estimator:hover {background-color: #d4ebff;}#sk-container-id-6 div.sk-parallel-item::after {content: \"\";width: 100%;border-bottom: 1px solid gray;flex-grow: 1;}#sk-container-id-6 div.sk-label:hover label.sk-toggleable__label {background-color: #d4ebff;}#sk-container-id-6 div.sk-serial::before {content: \"\";position: absolute;border-left: 1px solid gray;box-sizing: border-box;top: 0;bottom: 0;left: 50%;z-index: 0;}#sk-container-id-6 div.sk-serial {display: flex;flex-direction: column;align-items: center;background-color: white;padding-right: 0.2em;padding-left: 0.2em;position: relative;}#sk-container-id-6 div.sk-item {position: relative;z-index: 1;}#sk-container-id-6 div.sk-parallel {display: flex;align-items: stretch;justify-content: center;background-color: white;position: relative;}#sk-container-id-6 div.sk-item::before, #sk-container-id-6 div.sk-parallel-item::before {content: \"\";position: absolute;border-left: 1px solid gray;box-sizing: border-box;top: 0;bottom: 0;left: 50%;z-index: -1;}#sk-container-id-6 div.sk-parallel-item {display: flex;flex-direction: column;z-index: 1;position: relative;background-color: white;}#sk-container-id-6 div.sk-parallel-item:first-child::after {align-self: flex-end;width: 50%;}#sk-container-id-6 div.sk-parallel-item:last-child::after {align-self: flex-start;width: 50%;}#sk-container-id-6 div.sk-parallel-item:only-child::after {width: 0;}#sk-container-id-6 div.sk-dashed-wrapped {border: 1px dashed gray;margin: 0 0.4em 0.5em 0.4em;box-sizing: border-box;padding-bottom: 0.4em;background-color: white;}#sk-container-id-6 div.sk-label label {font-family: monospace;font-weight: bold;display: inline-block;line-height: 1.2em;}#sk-container-id-6 div.sk-label-container {text-align: center;}#sk-container-id-6 div.sk-container {/* jupyter's `normalize.less` sets `[hidden] { display: none; }` but bootstrap.min.css set `[hidden] { display: none !important; }` so we also need the `!important` here to be able to override the default hidden behavior on the sphinx rendered scikit-learn.org. See: https://github.com/scikit-learn/scikit-learn/issues/21755 */display: inline-block !important;position: relative;}#sk-container-id-6 div.sk-text-repr-fallback {display: none;}</style><div id=\"sk-container-id-6\" class=\"sk-top-container\"><div class=\"sk-text-repr-fallback\"><pre>RandomizedSearchCV(cv=3,\n",
       "                   estimator=Pipeline(steps=[(&#x27;vec&#x27;, CountVectorizer()),\n",
       "                                             (&#x27;clf&#x27;, SVC(random_state=23984))]),\n",
       "                   param_distributions={&#x27;clf__C&#x27;: &lt;scipy.stats._distn_infrastructure.rv_continuous_frozen object at 0x7f07e4cbaf80&gt;,\n",
       "                                        &#x27;clf__gamma&#x27;: &lt;scipy.stats._distn_infrastructure.rv_continuous_frozen object at 0x7f07e4cbb850&gt;},\n",
       "                   random_state=23984, return_train_score=True,\n",
       "                   scoring=&#x27;accuracy&#x27;)</pre><b>In a Jupyter environment, please rerun this cell to show the HTML representation or trust the notebook. <br />On GitHub, the HTML representation is unable to render, please try loading this page with nbviewer.org.</b></div><div class=\"sk-container\" hidden><div class=\"sk-item sk-dashed-wrapped\"><div class=\"sk-label-container\"><div class=\"sk-label sk-toggleable\"><input class=\"sk-toggleable__control sk-hidden--visually\" id=\"sk-estimator-id-14\" type=\"checkbox\" ><label for=\"sk-estimator-id-14\" class=\"sk-toggleable__label sk-toggleable__label-arrow\">RandomizedSearchCV</label><div class=\"sk-toggleable__content\"><pre>RandomizedSearchCV(cv=3,\n",
       "                   estimator=Pipeline(steps=[(&#x27;vec&#x27;, CountVectorizer()),\n",
       "                                             (&#x27;clf&#x27;, SVC(random_state=23984))]),\n",
       "                   param_distributions={&#x27;clf__C&#x27;: &lt;scipy.stats._distn_infrastructure.rv_continuous_frozen object at 0x7f07e4cbaf80&gt;,\n",
       "                                        &#x27;clf__gamma&#x27;: &lt;scipy.stats._distn_infrastructure.rv_continuous_frozen object at 0x7f07e4cbb850&gt;},\n",
       "                   random_state=23984, return_train_score=True,\n",
       "                   scoring=&#x27;accuracy&#x27;)</pre></div></div></div><div class=\"sk-parallel\"><div class=\"sk-parallel-item\"><div class=\"sk-item\"><div class=\"sk-label-container\"><div class=\"sk-label sk-toggleable\"><input class=\"sk-toggleable__control sk-hidden--visually\" id=\"sk-estimator-id-15\" type=\"checkbox\" ><label for=\"sk-estimator-id-15\" class=\"sk-toggleable__label sk-toggleable__label-arrow\">estimator: Pipeline</label><div class=\"sk-toggleable__content\"><pre>Pipeline(steps=[(&#x27;vec&#x27;, CountVectorizer()), (&#x27;clf&#x27;, SVC(random_state=23984))])</pre></div></div></div><div class=\"sk-serial\"><div class=\"sk-item\"><div class=\"sk-serial\"><div class=\"sk-item\"><div class=\"sk-estimator sk-toggleable\"><input class=\"sk-toggleable__control sk-hidden--visually\" id=\"sk-estimator-id-16\" type=\"checkbox\" ><label for=\"sk-estimator-id-16\" class=\"sk-toggleable__label sk-toggleable__label-arrow\">CountVectorizer</label><div class=\"sk-toggleable__content\"><pre>CountVectorizer()</pre></div></div></div><div class=\"sk-item\"><div class=\"sk-estimator sk-toggleable\"><input class=\"sk-toggleable__control sk-hidden--visually\" id=\"sk-estimator-id-17\" type=\"checkbox\" ><label for=\"sk-estimator-id-17\" class=\"sk-toggleable__label sk-toggleable__label-arrow\">SVC</label><div class=\"sk-toggleable__content\"><pre>SVC(random_state=23984)</pre></div></div></div></div></div></div></div></div></div></div></div></div>"
      ],
      "text/plain": [
       "RandomizedSearchCV(cv=3,\n",
       "                   estimator=Pipeline(steps=[('vec', CountVectorizer()),\n",
       "                                             ('clf', SVC(random_state=23984))]),\n",
       "                   param_distributions={'clf__C': <scipy.stats._distn_infrastructure.rv_continuous_frozen object at 0x7f07e4cbaf80>,\n",
       "                                        'clf__gamma': <scipy.stats._distn_infrastructure.rv_continuous_frozen object at 0x7f07e4cbb850>},\n",
       "                   random_state=23984, return_train_score=True,\n",
       "                   scoring='accuracy')"
      ]
     },
     "execution_count": 107,
     "metadata": {},
     "output_type": "execute_result"
    }
   ],
   "source": [
    "svc_params = {'clf__gamma': uniform(10**(-9), 1),\n",
    "              'clf__C': uniform(0.001, 0.09)}\n",
    "\n",
    "svc_search = RandomizedSearchCV(svc_pipe, svc_params, n_iter=10, scoring='accuracy', cv=3, random_state=seed,\n",
    "                               return_train_score=True)\n",
    "\n",
    "svc_search.fit(X_train_stems, y_train_encoded)"
   ]
  },
  {
   "cell_type": "code",
   "execution_count": 108,
   "id": "040772c6",
   "metadata": {},
   "outputs": [
    {
     "data": {
      "text/plain": [
       "0.6033854881443436"
      ]
     },
     "execution_count": 108,
     "metadata": {},
     "output_type": "execute_result"
    }
   ],
   "source": [
    "svc_search.best_score_"
   ]
  },
  {
   "cell_type": "code",
   "execution_count": 109,
   "id": "03be6bb3",
   "metadata": {},
   "outputs": [
    {
     "data": {
      "text/html": [
       "<div>\n",
       "<style scoped>\n",
       "    .dataframe tbody tr th:only-of-type {\n",
       "        vertical-align: middle;\n",
       "    }\n",
       "\n",
       "    .dataframe tbody tr th {\n",
       "        vertical-align: top;\n",
       "    }\n",
       "\n",
       "    .dataframe thead th {\n",
       "        text-align: right;\n",
       "    }\n",
       "</style>\n",
       "<table border=\"1\" class=\"dataframe\">\n",
       "  <thead>\n",
       "    <tr style=\"text-align: right;\">\n",
       "      <th></th>\n",
       "      <th>mean_fit_time</th>\n",
       "      <th>params</th>\n",
       "      <th>mean_train_score</th>\n",
       "      <th>mean_test_score</th>\n",
       "    </tr>\n",
       "  </thead>\n",
       "  <tbody>\n",
       "    <tr>\n",
       "      <th>0</th>\n",
       "      <td>4.058472</td>\n",
       "      <td>{'clf__C': 0.08596791929384898, 'clf__gamma': ...</td>\n",
       "      <td>0.603595</td>\n",
       "      <td>0.603385</td>\n",
       "    </tr>\n",
       "    <tr>\n",
       "      <th>1</th>\n",
       "      <td>3.109041</td>\n",
       "      <td>{'clf__C': 0.07702712680333602, 'clf__gamma': ...</td>\n",
       "      <td>0.602966</td>\n",
       "      <td>0.602966</td>\n",
       "    </tr>\n",
       "    <tr>\n",
       "      <th>2</th>\n",
       "      <td>3.968256</td>\n",
       "      <td>{'clf__C': 0.09084978885614454, 'clf__gamma': ...</td>\n",
       "      <td>0.603595</td>\n",
       "      <td>0.603385</td>\n",
       "    </tr>\n",
       "    <tr>\n",
       "      <th>3</th>\n",
       "      <td>3.890370</td>\n",
       "      <td>{'clf__C': 0.03942784025333891, 'clf__gamma': ...</td>\n",
       "      <td>0.602966</td>\n",
       "      <td>0.602966</td>\n",
       "    </tr>\n",
       "    <tr>\n",
       "      <th>4</th>\n",
       "      <td>3.886014</td>\n",
       "      <td>{'clf__C': 0.04826374781705454, 'clf__gamma': ...</td>\n",
       "      <td>0.602966</td>\n",
       "      <td>0.602966</td>\n",
       "    </tr>\n",
       "    <tr>\n",
       "      <th>5</th>\n",
       "      <td>3.884237</td>\n",
       "      <td>{'clf__C': 0.02662083116622858, 'clf__gamma': ...</td>\n",
       "      <td>0.602966</td>\n",
       "      <td>0.602966</td>\n",
       "    </tr>\n",
       "    <tr>\n",
       "      <th>6</th>\n",
       "      <td>3.798048</td>\n",
       "      <td>{'clf__C': 0.013445677287554265, 'clf__gamma':...</td>\n",
       "      <td>0.602966</td>\n",
       "      <td>0.602966</td>\n",
       "    </tr>\n",
       "    <tr>\n",
       "      <th>7</th>\n",
       "      <td>4.170705</td>\n",
       "      <td>{'clf__C': 0.07760262508270892, 'clf__gamma': ...</td>\n",
       "      <td>0.602966</td>\n",
       "      <td>0.602966</td>\n",
       "    </tr>\n",
       "    <tr>\n",
       "      <th>8</th>\n",
       "      <td>3.855991</td>\n",
       "      <td>{'clf__C': 0.03060115753549196, 'clf__gamma': ...</td>\n",
       "      <td>0.602966</td>\n",
       "      <td>0.602966</td>\n",
       "    </tr>\n",
       "    <tr>\n",
       "      <th>9</th>\n",
       "      <td>3.880646</td>\n",
       "      <td>{'clf__C': 0.07382564431040683, 'clf__gamma': ...</td>\n",
       "      <td>0.603735</td>\n",
       "      <td>0.603385</td>\n",
       "    </tr>\n",
       "  </tbody>\n",
       "</table>\n",
       "</div>"
      ],
      "text/plain": [
       "   mean_fit_time                                             params  \\\n",
       "0       4.058472  {'clf__C': 0.08596791929384898, 'clf__gamma': ...   \n",
       "1       3.109041  {'clf__C': 0.07702712680333602, 'clf__gamma': ...   \n",
       "2       3.968256  {'clf__C': 0.09084978885614454, 'clf__gamma': ...   \n",
       "3       3.890370  {'clf__C': 0.03942784025333891, 'clf__gamma': ...   \n",
       "4       3.886014  {'clf__C': 0.04826374781705454, 'clf__gamma': ...   \n",
       "5       3.884237  {'clf__C': 0.02662083116622858, 'clf__gamma': ...   \n",
       "6       3.798048  {'clf__C': 0.013445677287554265, 'clf__gamma':...   \n",
       "7       4.170705  {'clf__C': 0.07760262508270892, 'clf__gamma': ...   \n",
       "8       3.855991  {'clf__C': 0.03060115753549196, 'clf__gamma': ...   \n",
       "9       3.880646  {'clf__C': 0.07382564431040683, 'clf__gamma': ...   \n",
       "\n",
       "   mean_train_score  mean_test_score  \n",
       "0          0.603595         0.603385  \n",
       "1          0.602966         0.602966  \n",
       "2          0.603595         0.603385  \n",
       "3          0.602966         0.602966  \n",
       "4          0.602966         0.602966  \n",
       "5          0.602966         0.602966  \n",
       "6          0.602966         0.602966  \n",
       "7          0.602966         0.602966  \n",
       "8          0.602966         0.602966  \n",
       "9          0.603735         0.603385  "
      ]
     },
     "execution_count": 109,
     "metadata": {},
     "output_type": "execute_result"
    }
   ],
   "source": [
    "pd.DataFrame(svc_search.cv_results_).loc[:, ['mean_fit_time', 'params', 'mean_train_score', 'mean_test_score'] ]"
   ]
  },
  {
   "cell_type": "markdown",
   "id": "e9dcb71e",
   "metadata": {},
   "source": [
    "As with the first search for the optimal hyperparameters for the random forest algorithm, the performance of the models tested on the validation data is sub-optimal compared to the baseline, but these models are not overfit, whereas the baseline model is overfit."
   ]
  },
  {
   "cell_type": "markdown",
   "id": "dc4c369d",
   "metadata": {},
   "source": [
    "Try increasing the number of iterations of the random search."
   ]
  },
  {
   "cell_type": "code",
   "execution_count": 158,
   "id": "0f8f80cc",
   "metadata": {},
   "outputs": [
    {
     "data": {
      "text/plain": [
       "0.6715148314179444"
      ]
     },
     "execution_count": 158,
     "metadata": {},
     "output_type": "execute_result"
    }
   ],
   "source": [
    "svc_params = {'clf__C': uniform(10**(-9), 1),\n",
    "              'clf__gamma': uniform(0.001, 0.09)}\n",
    "\n",
    "svc_search2 = RandomizedSearchCV(svc_pipe, svc_params, n_iter=30, scoring='accuracy', cv=3, random_state=seed,\n",
    "                               return_train_score=True)\n",
    "\n",
    "svc_search2.fit(X_train_stems, y_train_encoded)\n",
    "\n",
    "svc_search2.best_score_"
   ]
  },
  {
   "cell_type": "markdown",
   "id": "7cd86722",
   "metadata": {},
   "source": [
    "The best model obtained so far from random search is still slightly inferior to the baseline model."
   ]
  },
  {
   "cell_type": "markdown",
   "id": "39654905",
   "metadata": {},
   "source": [
    "Let's experiment with a polynomial kernel for the SVM."
   ]
  },
  {
   "cell_type": "code",
   "execution_count": 163,
   "id": "8a0d2c27",
   "metadata": {},
   "outputs": [
    {
     "data": {
      "text/plain": [
       "0.6740320788437645"
      ]
     },
     "execution_count": 163,
     "metadata": {},
     "output_type": "execute_result"
    }
   ],
   "source": [
    "svc_params = {'clf__kernel': ['poly'],\n",
    "              'clf__degree': randint(1, 5)}\n",
    "\n",
    "svc_search3 = RandomizedSearchCV(svc_pipe, svc_params, n_iter=30, scoring='accuracy', cv=3, random_state=seed,\n",
    "                               return_train_score=True)\n",
    "\n",
    "svc_search3.fit(X_train_stems, y_train_encoded)\n",
    "\n",
    "svc_search3.best_score_"
   ]
  },
  {
   "cell_type": "code",
   "execution_count": 164,
   "id": "f9605b3b",
   "metadata": {},
   "outputs": [
    {
     "data": {
      "text/html": [
       "<style>#sk-container-id-10 {color: black;background-color: white;}#sk-container-id-10 pre{padding: 0;}#sk-container-id-10 div.sk-toggleable {background-color: white;}#sk-container-id-10 label.sk-toggleable__label {cursor: pointer;display: block;width: 100%;margin-bottom: 0;padding: 0.3em;box-sizing: border-box;text-align: center;}#sk-container-id-10 label.sk-toggleable__label-arrow:before {content: \"▸\";float: left;margin-right: 0.25em;color: #696969;}#sk-container-id-10 label.sk-toggleable__label-arrow:hover:before {color: black;}#sk-container-id-10 div.sk-estimator:hover label.sk-toggleable__label-arrow:before {color: black;}#sk-container-id-10 div.sk-toggleable__content {max-height: 0;max-width: 0;overflow: hidden;text-align: left;background-color: #f0f8ff;}#sk-container-id-10 div.sk-toggleable__content pre {margin: 0.2em;color: black;border-radius: 0.25em;background-color: #f0f8ff;}#sk-container-id-10 input.sk-toggleable__control:checked~div.sk-toggleable__content {max-height: 200px;max-width: 100%;overflow: auto;}#sk-container-id-10 input.sk-toggleable__control:checked~label.sk-toggleable__label-arrow:before {content: \"▾\";}#sk-container-id-10 div.sk-estimator input.sk-toggleable__control:checked~label.sk-toggleable__label {background-color: #d4ebff;}#sk-container-id-10 div.sk-label input.sk-toggleable__control:checked~label.sk-toggleable__label {background-color: #d4ebff;}#sk-container-id-10 input.sk-hidden--visually {border: 0;clip: rect(1px 1px 1px 1px);clip: rect(1px, 1px, 1px, 1px);height: 1px;margin: -1px;overflow: hidden;padding: 0;position: absolute;width: 1px;}#sk-container-id-10 div.sk-estimator {font-family: monospace;background-color: #f0f8ff;border: 1px dotted black;border-radius: 0.25em;box-sizing: border-box;margin-bottom: 0.5em;}#sk-container-id-10 div.sk-estimator:hover {background-color: #d4ebff;}#sk-container-id-10 div.sk-parallel-item::after {content: \"\";width: 100%;border-bottom: 1px solid gray;flex-grow: 1;}#sk-container-id-10 div.sk-label:hover label.sk-toggleable__label {background-color: #d4ebff;}#sk-container-id-10 div.sk-serial::before {content: \"\";position: absolute;border-left: 1px solid gray;box-sizing: border-box;top: 0;bottom: 0;left: 50%;z-index: 0;}#sk-container-id-10 div.sk-serial {display: flex;flex-direction: column;align-items: center;background-color: white;padding-right: 0.2em;padding-left: 0.2em;position: relative;}#sk-container-id-10 div.sk-item {position: relative;z-index: 1;}#sk-container-id-10 div.sk-parallel {display: flex;align-items: stretch;justify-content: center;background-color: white;position: relative;}#sk-container-id-10 div.sk-item::before, #sk-container-id-10 div.sk-parallel-item::before {content: \"\";position: absolute;border-left: 1px solid gray;box-sizing: border-box;top: 0;bottom: 0;left: 50%;z-index: -1;}#sk-container-id-10 div.sk-parallel-item {display: flex;flex-direction: column;z-index: 1;position: relative;background-color: white;}#sk-container-id-10 div.sk-parallel-item:first-child::after {align-self: flex-end;width: 50%;}#sk-container-id-10 div.sk-parallel-item:last-child::after {align-self: flex-start;width: 50%;}#sk-container-id-10 div.sk-parallel-item:only-child::after {width: 0;}#sk-container-id-10 div.sk-dashed-wrapped {border: 1px dashed gray;margin: 0 0.4em 0.5em 0.4em;box-sizing: border-box;padding-bottom: 0.4em;background-color: white;}#sk-container-id-10 div.sk-label label {font-family: monospace;font-weight: bold;display: inline-block;line-height: 1.2em;}#sk-container-id-10 div.sk-label-container {text-align: center;}#sk-container-id-10 div.sk-container {/* jupyter's `normalize.less` sets `[hidden] { display: none; }` but bootstrap.min.css set `[hidden] { display: none !important; }` so we also need the `!important` here to be able to override the default hidden behavior on the sphinx rendered scikit-learn.org. See: https://github.com/scikit-learn/scikit-learn/issues/21755 */display: inline-block !important;position: relative;}#sk-container-id-10 div.sk-text-repr-fallback {display: none;}</style><div id=\"sk-container-id-10\" class=\"sk-top-container\"><div class=\"sk-text-repr-fallback\"><pre>Pipeline(steps=[(&#x27;vec&#x27;, CountVectorizer()),\n",
       "                (&#x27;clf&#x27;, SVC(degree=1, kernel=&#x27;poly&#x27;, random_state=23984))])</pre><b>In a Jupyter environment, please rerun this cell to show the HTML representation or trust the notebook. <br />On GitHub, the HTML representation is unable to render, please try loading this page with nbviewer.org.</b></div><div class=\"sk-container\" hidden><div class=\"sk-item sk-dashed-wrapped\"><div class=\"sk-label-container\"><div class=\"sk-label sk-toggleable\"><input class=\"sk-toggleable__control sk-hidden--visually\" id=\"sk-estimator-id-25\" type=\"checkbox\" ><label for=\"sk-estimator-id-25\" class=\"sk-toggleable__label sk-toggleable__label-arrow\">Pipeline</label><div class=\"sk-toggleable__content\"><pre>Pipeline(steps=[(&#x27;vec&#x27;, CountVectorizer()),\n",
       "                (&#x27;clf&#x27;, SVC(degree=1, kernel=&#x27;poly&#x27;, random_state=23984))])</pre></div></div></div><div class=\"sk-serial\"><div class=\"sk-item\"><div class=\"sk-estimator sk-toggleable\"><input class=\"sk-toggleable__control sk-hidden--visually\" id=\"sk-estimator-id-26\" type=\"checkbox\" ><label for=\"sk-estimator-id-26\" class=\"sk-toggleable__label sk-toggleable__label-arrow\">CountVectorizer</label><div class=\"sk-toggleable__content\"><pre>CountVectorizer()</pre></div></div></div><div class=\"sk-item\"><div class=\"sk-estimator sk-toggleable\"><input class=\"sk-toggleable__control sk-hidden--visually\" id=\"sk-estimator-id-27\" type=\"checkbox\" ><label for=\"sk-estimator-id-27\" class=\"sk-toggleable__label sk-toggleable__label-arrow\">SVC</label><div class=\"sk-toggleable__content\"><pre>SVC(degree=1, kernel=&#x27;poly&#x27;, random_state=23984)</pre></div></div></div></div></div></div></div>"
      ],
      "text/plain": [
       "Pipeline(steps=[('vec', CountVectorizer()),\n",
       "                ('clf', SVC(degree=1, kernel='poly', random_state=23984))])"
      ]
     },
     "execution_count": 164,
     "metadata": {},
     "output_type": "execute_result"
    }
   ],
   "source": [
    "svc_search.best_estimator_"
   ]
  },
  {
   "cell_type": "markdown",
   "id": "c0f5ac9c",
   "metadata": {},
   "source": [
    "This score is getting close to that of the baseline model. I will try adjusting gamma and C with the settings of the best polynomial kernel estimator."
   ]
  },
  {
   "cell_type": "code",
   "execution_count": 165,
   "id": "4c7c60aa",
   "metadata": {},
   "outputs": [
    {
     "data": {
      "text/plain": [
       "0.6653580104149894"
      ]
     },
     "execution_count": 165,
     "metadata": {},
     "output_type": "execute_result"
    }
   ],
   "source": [
    "svc_params = {'clf__C': uniform(10**(-9), 1),\n",
    "              'clf__gamma': uniform(0.001, 0.09),\n",
    "              'clf__kernel': ['poly'],\n",
    "              'clf__degree': [1]}\n",
    "\n",
    "svc_search4 = RandomizedSearchCV(svc_pipe, svc_params, n_iter=30, scoring='accuracy', cv=3, random_state=seed,\n",
    "                               return_train_score=True)\n",
    "\n",
    "svc_search4.fit(X_train_stems, y_train_encoded)\n",
    "\n",
    "svc_search4.best_score_"
   ]
  },
  {
   "cell_type": "markdown",
   "id": "71daa3ef",
   "metadata": {},
   "source": [
    "----"
   ]
  },
  {
   "cell_type": "markdown",
   "id": "255014f4",
   "metadata": {},
   "source": [
    "Hyperparameter tuning:\n",
    "\n",
    "**XGBoost**\n",
    "\n",
    "The best performing model so far is a support vector classifier with default settings.\n",
    "\n",
    "One last option we can try is the popular and high-performing algorithm XG Boost."
   ]
  },
  {
   "cell_type": "code",
   "execution_count": 169,
   "id": "a4999ad1",
   "metadata": {},
   "outputs": [
    {
     "name": "stdout",
     "output_type": "stream",
     "text": [
      "Looking in indexes: https://pypi.org/simple, https://pip.repos.neuron.amazonaws.com\n",
      "Collecting xgboost\n",
      "  Downloading xgboost-1.7.5-py3-none-manylinux2014_x86_64.whl (200.3 MB)\n",
      "\u001b[2K     \u001b[90m━━━━━━━━━━━━━━━━━━━━━━━━━━━━━━━━━━━━━━━\u001b[0m \u001b[32m200.3/200.3 MB\u001b[0m \u001b[31m1.4 MB/s\u001b[0m eta \u001b[36m0:00:00\u001b[0m00:01\u001b[0m00:01\u001b[0m\n",
      "\u001b[?25hRequirement already satisfied: numpy in /home/ec2-user/anaconda3/envs/python3/lib/python3.10/site-packages (from xgboost) (1.22.3)\n",
      "Requirement already satisfied: scipy in /home/ec2-user/anaconda3/envs/python3/lib/python3.10/site-packages (from xgboost) (1.10.0)\n",
      "Installing collected packages: xgboost\n",
      "Successfully installed xgboost-1.7.5\n",
      "Note: you may need to restart the kernel to use updated packages.\n"
     ]
    }
   ],
   "source": [
    "%pip install xgboost"
   ]
  },
  {
   "cell_type": "code",
   "execution_count": 170,
   "id": "b95a4777",
   "metadata": {},
   "outputs": [],
   "source": [
    "from xgboost import XGBClassifier"
   ]
  },
  {
   "cell_type": "markdown",
   "id": "60eac965",
   "metadata": {},
   "source": [
    "Because XGBoost is based on the concept of a random forest, I will use the count vectorization that worked best with the baseline random forest model."
   ]
  },
  {
   "cell_type": "code",
   "execution_count": 172,
   "id": "8580764d",
   "metadata": {},
   "outputs": [],
   "source": [
    "xgb = XGBClassifier(random_state=seed)\n",
    "\n",
    "xgb_pipe = Pipeline(steps=[\n",
    "    ('vec', count_rf),\n",
    "    ('clf', xgb)\n",
    "])\n",
    "\n",
    "cv_results = cross_validate(xgb_pipe, X_train_stems, y_train_encoded, scoring='accuracy', cv=3,\n",
    "                            return_train_score=True)"
   ]
  },
  {
   "cell_type": "code",
   "execution_count": 173,
   "id": "afddb34c",
   "metadata": {},
   "outputs": [
    {
     "data": {
      "text/plain": [
       "0.811485679503455"
      ]
     },
     "execution_count": 173,
     "metadata": {},
     "output_type": "execute_result"
    }
   ],
   "source": [
    "np.mean(cv_results['train_score'])"
   ]
  },
  {
   "cell_type": "code",
   "execution_count": 174,
   "id": "e1879659",
   "metadata": {},
   "outputs": [
    {
     "data": {
      "text/plain": [
       "0.6815875207103588"
      ]
     },
     "execution_count": 174,
     "metadata": {},
     "output_type": "execute_result"
    }
   ],
   "source": [
    "np.mean(cv_results['test_score'])"
   ]
  },
  {
   "cell_type": "markdown",
   "id": "ce292ca0",
   "metadata": {},
   "source": [
    "The baseline accuracy score for an XGBoost classifier with default hyperparameters is ~68.2%."
   ]
  },
  {
   "cell_type": "code",
   "execution_count": 190,
   "id": "c2c5c1e6",
   "metadata": {},
   "outputs": [
    {
     "data": {
      "text/plain": [
       "0.6845250532065513"
      ]
     },
     "execution_count": 190,
     "metadata": {},
     "output_type": "execute_result"
    }
   ],
   "source": [
    "xgb_params = {'clf__n_estimators': randint(20, 120),\n",
    "              'clf__eta': uniform(0.1, 0.5),\n",
    "              'clf__gamma': uniform(0, 10),\n",
    "              'clf__max_depth': randint(4, 10),\n",
    "              'clf__reg_lambda': uniform(0, 1),\n",
    "              'clf__max_leaves': [0, 500, 1000]}\n",
    "\n",
    "xgb_search = RandomizedSearchCV(xgb_pipe, xgb_params, n_iter=50, scoring='accuracy', cv=3, random_state=seed,\n",
    "                                return_train_score=True)\n",
    "\n",
    "xgb_search.fit(X_train_stems, y_train_encoded)\n",
    "\n",
    "xgb_search.best_score_"
   ]
  },
  {
   "cell_type": "code",
   "execution_count": 191,
   "id": "c7c767b8",
   "metadata": {
    "scrolled": false
   },
   "outputs": [
    {
     "data": {
      "text/html": [
       "<style>#sk-container-id-15 {color: black;background-color: white;}#sk-container-id-15 pre{padding: 0;}#sk-container-id-15 div.sk-toggleable {background-color: white;}#sk-container-id-15 label.sk-toggleable__label {cursor: pointer;display: block;width: 100%;margin-bottom: 0;padding: 0.3em;box-sizing: border-box;text-align: center;}#sk-container-id-15 label.sk-toggleable__label-arrow:before {content: \"▸\";float: left;margin-right: 0.25em;color: #696969;}#sk-container-id-15 label.sk-toggleable__label-arrow:hover:before {color: black;}#sk-container-id-15 div.sk-estimator:hover label.sk-toggleable__label-arrow:before {color: black;}#sk-container-id-15 div.sk-toggleable__content {max-height: 0;max-width: 0;overflow: hidden;text-align: left;background-color: #f0f8ff;}#sk-container-id-15 div.sk-toggleable__content pre {margin: 0.2em;color: black;border-radius: 0.25em;background-color: #f0f8ff;}#sk-container-id-15 input.sk-toggleable__control:checked~div.sk-toggleable__content {max-height: 200px;max-width: 100%;overflow: auto;}#sk-container-id-15 input.sk-toggleable__control:checked~label.sk-toggleable__label-arrow:before {content: \"▾\";}#sk-container-id-15 div.sk-estimator input.sk-toggleable__control:checked~label.sk-toggleable__label {background-color: #d4ebff;}#sk-container-id-15 div.sk-label input.sk-toggleable__control:checked~label.sk-toggleable__label {background-color: #d4ebff;}#sk-container-id-15 input.sk-hidden--visually {border: 0;clip: rect(1px 1px 1px 1px);clip: rect(1px, 1px, 1px, 1px);height: 1px;margin: -1px;overflow: hidden;padding: 0;position: absolute;width: 1px;}#sk-container-id-15 div.sk-estimator {font-family: monospace;background-color: #f0f8ff;border: 1px dotted black;border-radius: 0.25em;box-sizing: border-box;margin-bottom: 0.5em;}#sk-container-id-15 div.sk-estimator:hover {background-color: #d4ebff;}#sk-container-id-15 div.sk-parallel-item::after {content: \"\";width: 100%;border-bottom: 1px solid gray;flex-grow: 1;}#sk-container-id-15 div.sk-label:hover label.sk-toggleable__label {background-color: #d4ebff;}#sk-container-id-15 div.sk-serial::before {content: \"\";position: absolute;border-left: 1px solid gray;box-sizing: border-box;top: 0;bottom: 0;left: 50%;z-index: 0;}#sk-container-id-15 div.sk-serial {display: flex;flex-direction: column;align-items: center;background-color: white;padding-right: 0.2em;padding-left: 0.2em;position: relative;}#sk-container-id-15 div.sk-item {position: relative;z-index: 1;}#sk-container-id-15 div.sk-parallel {display: flex;align-items: stretch;justify-content: center;background-color: white;position: relative;}#sk-container-id-15 div.sk-item::before, #sk-container-id-15 div.sk-parallel-item::before {content: \"\";position: absolute;border-left: 1px solid gray;box-sizing: border-box;top: 0;bottom: 0;left: 50%;z-index: -1;}#sk-container-id-15 div.sk-parallel-item {display: flex;flex-direction: column;z-index: 1;position: relative;background-color: white;}#sk-container-id-15 div.sk-parallel-item:first-child::after {align-self: flex-end;width: 50%;}#sk-container-id-15 div.sk-parallel-item:last-child::after {align-self: flex-start;width: 50%;}#sk-container-id-15 div.sk-parallel-item:only-child::after {width: 0;}#sk-container-id-15 div.sk-dashed-wrapped {border: 1px dashed gray;margin: 0 0.4em 0.5em 0.4em;box-sizing: border-box;padding-bottom: 0.4em;background-color: white;}#sk-container-id-15 div.sk-label label {font-family: monospace;font-weight: bold;display: inline-block;line-height: 1.2em;}#sk-container-id-15 div.sk-label-container {text-align: center;}#sk-container-id-15 div.sk-container {/* jupyter's `normalize.less` sets `[hidden] { display: none; }` but bootstrap.min.css set `[hidden] { display: none !important; }` so we also need the `!important` here to be able to override the default hidden behavior on the sphinx rendered scikit-learn.org. See: https://github.com/scikit-learn/scikit-learn/issues/21755 */display: inline-block !important;position: relative;}#sk-container-id-15 div.sk-text-repr-fallback {display: none;}</style><div id=\"sk-container-id-15\" class=\"sk-top-container\"><div class=\"sk-text-repr-fallback\"><pre>Pipeline(steps=[(&#x27;vec&#x27;, CountVectorizer(max_df=0.99, max_features=3000)),\n",
       "                (&#x27;clf&#x27;,\n",
       "                 XGBClassifier(base_score=None, booster=None, callbacks=None,\n",
       "                               colsample_bylevel=None, colsample_bynode=None,\n",
       "                               colsample_bytree=None,\n",
       "                               early_stopping_rounds=None,\n",
       "                               enable_categorical=False, eta=0.586848074852997,\n",
       "                               eval_metric=None, feature_types=None,\n",
       "                               gamma=0.8639733186829135, gpu_id=None,\n",
       "                               grow_policy=None, importance_type=None,\n",
       "                               interaction_constraints=None, learning_rate=None,\n",
       "                               max_bin=None, max_cat_threshold=None,\n",
       "                               max_cat_to_onehot=None, max_delta_step=None,\n",
       "                               max_depth=4, max_leaves=0, min_child_weight=None,\n",
       "                               missing=nan, monotone_constraints=None,\n",
       "                               n_estimators=97, n_jobs=None,\n",
       "                               num_parallel_tree=None,\n",
       "                               objective=&#x27;multi:softprob&#x27;, ...))])</pre><b>In a Jupyter environment, please rerun this cell to show the HTML representation or trust the notebook. <br />On GitHub, the HTML representation is unable to render, please try loading this page with nbviewer.org.</b></div><div class=\"sk-container\" hidden><div class=\"sk-item sk-dashed-wrapped\"><div class=\"sk-label-container\"><div class=\"sk-label sk-toggleable\"><input class=\"sk-toggleable__control sk-hidden--visually\" id=\"sk-estimator-id-38\" type=\"checkbox\" ><label for=\"sk-estimator-id-38\" class=\"sk-toggleable__label sk-toggleable__label-arrow\">Pipeline</label><div class=\"sk-toggleable__content\"><pre>Pipeline(steps=[(&#x27;vec&#x27;, CountVectorizer(max_df=0.99, max_features=3000)),\n",
       "                (&#x27;clf&#x27;,\n",
       "                 XGBClassifier(base_score=None, booster=None, callbacks=None,\n",
       "                               colsample_bylevel=None, colsample_bynode=None,\n",
       "                               colsample_bytree=None,\n",
       "                               early_stopping_rounds=None,\n",
       "                               enable_categorical=False, eta=0.586848074852997,\n",
       "                               eval_metric=None, feature_types=None,\n",
       "                               gamma=0.8639733186829135, gpu_id=None,\n",
       "                               grow_policy=None, importance_type=None,\n",
       "                               interaction_constraints=None, learning_rate=None,\n",
       "                               max_bin=None, max_cat_threshold=None,\n",
       "                               max_cat_to_onehot=None, max_delta_step=None,\n",
       "                               max_depth=4, max_leaves=0, min_child_weight=None,\n",
       "                               missing=nan, monotone_constraints=None,\n",
       "                               n_estimators=97, n_jobs=None,\n",
       "                               num_parallel_tree=None,\n",
       "                               objective=&#x27;multi:softprob&#x27;, ...))])</pre></div></div></div><div class=\"sk-serial\"><div class=\"sk-item\"><div class=\"sk-estimator sk-toggleable\"><input class=\"sk-toggleable__control sk-hidden--visually\" id=\"sk-estimator-id-39\" type=\"checkbox\" ><label for=\"sk-estimator-id-39\" class=\"sk-toggleable__label sk-toggleable__label-arrow\">CountVectorizer</label><div class=\"sk-toggleable__content\"><pre>CountVectorizer(max_df=0.99, max_features=3000)</pre></div></div></div><div class=\"sk-item\"><div class=\"sk-estimator sk-toggleable\"><input class=\"sk-toggleable__control sk-hidden--visually\" id=\"sk-estimator-id-40\" type=\"checkbox\" ><label for=\"sk-estimator-id-40\" class=\"sk-toggleable__label sk-toggleable__label-arrow\">XGBClassifier</label><div class=\"sk-toggleable__content\"><pre>XGBClassifier(base_score=None, booster=None, callbacks=None,\n",
       "              colsample_bylevel=None, colsample_bynode=None,\n",
       "              colsample_bytree=None, early_stopping_rounds=None,\n",
       "              enable_categorical=False, eta=0.586848074852997, eval_metric=None,\n",
       "              feature_types=None, gamma=0.8639733186829135, gpu_id=None,\n",
       "              grow_policy=None, importance_type=None,\n",
       "              interaction_constraints=None, learning_rate=None, max_bin=None,\n",
       "              max_cat_threshold=None, max_cat_to_onehot=None,\n",
       "              max_delta_step=None, max_depth=4, max_leaves=0,\n",
       "              min_child_weight=None, missing=nan, monotone_constraints=None,\n",
       "              n_estimators=97, n_jobs=None, num_parallel_tree=None,\n",
       "              objective=&#x27;multi:softprob&#x27;, ...)</pre></div></div></div></div></div></div></div>"
      ],
      "text/plain": [
       "Pipeline(steps=[('vec', CountVectorizer(max_df=0.99, max_features=3000)),\n",
       "                ('clf',\n",
       "                 XGBClassifier(base_score=None, booster=None, callbacks=None,\n",
       "                               colsample_bylevel=None, colsample_bynode=None,\n",
       "                               colsample_bytree=None,\n",
       "                               early_stopping_rounds=None,\n",
       "                               enable_categorical=False, eta=0.586848074852997,\n",
       "                               eval_metric=None, feature_types=None,\n",
       "                               gamma=0.8639733186829135, gpu_id=None,\n",
       "                               grow_policy=None, importance_type=None,\n",
       "                               interaction_constraints=None, learning_rate=None,\n",
       "                               max_bin=None, max_cat_threshold=None,\n",
       "                               max_cat_to_onehot=None, max_delta_step=None,\n",
       "                               max_depth=4, max_leaves=0, min_child_weight=None,\n",
       "                               missing=nan, monotone_constraints=None,\n",
       "                               n_estimators=97, n_jobs=None,\n",
       "                               num_parallel_tree=None,\n",
       "                               objective='multi:softprob', ...))])"
      ]
     },
     "execution_count": 191,
     "metadata": {},
     "output_type": "execute_result"
    }
   ],
   "source": [
    "xgb_search.best_estimator_"
   ]
  },
  {
   "cell_type": "code",
   "execution_count": 193,
   "id": "63c6e513",
   "metadata": {},
   "outputs": [
    {
     "data": {
      "text/plain": [
       "{'clf__eta': 0.586848074852997,\n",
       " 'clf__gamma': 0.8639733186829135,\n",
       " 'clf__max_depth': 4,\n",
       " 'clf__max_leaves': 0,\n",
       " 'clf__n_estimators': 97,\n",
       " 'clf__reg_lambda': 0.028973738988273823}"
      ]
     },
     "execution_count": 193,
     "metadata": {},
     "output_type": "execute_result"
    }
   ],
   "source": [
    "xgb_search.best_params_"
   ]
  },
  {
   "cell_type": "markdown",
   "id": "252c0515",
   "metadata": {},
   "source": [
    "97 boosting rounds is expensive. But it did improve validation accuracy by 0.3%."
   ]
  },
  {
   "cell_type": "code",
   "execution_count": 194,
   "id": "73cdbc61",
   "metadata": {},
   "outputs": [
    {
     "data": {
      "text/plain": [
       "0.6836864209458287"
      ]
     },
     "execution_count": 194,
     "metadata": {},
     "output_type": "execute_result"
    }
   ],
   "source": [
    "xgb_params = {'clf__n_estimators': randint(80, 100),\n",
    "              'clf__eta': uniform(0.5, 0.7),\n",
    "              'clf__gamma': uniform(0.75, 0.97),\n",
    "              'clf__max_depth': randint(2, 6),\n",
    "              'clf__reg_lambda': uniform(0.01, 0.05)}\n",
    "\n",
    "xgb_search2 = RandomizedSearchCV(xgb_pipe, xgb_params, n_iter=50, scoring='accuracy', cv=3, random_state=seed,\n",
    "                                return_train_score=True)\n",
    "\n",
    "xgb_search2.fit(X_train_stems, y_train_encoded)\n",
    "\n",
    "xgb_search2.best_score_"
   ]
  },
  {
   "cell_type": "code",
   "execution_count": 195,
   "id": "4dbb2c5c",
   "metadata": {},
   "outputs": [
    {
     "data": {
      "text/plain": [
       "{'clf__eta': 0.797611698096264,\n",
       " 'clf__gamma': 0.8580053225064586,\n",
       " 'clf__max_depth': 4,\n",
       " 'clf__n_estimators': 81,\n",
       " 'clf__reg_lambda': 0.021308051442514978}"
      ]
     },
     "execution_count": 195,
     "metadata": {},
     "output_type": "execute_result"
    }
   ],
   "source": [
    "xgb_search2.best_params_"
   ]
  },
  {
   "cell_type": "markdown",
   "id": "c526147b",
   "metadata": {},
   "source": [
    "The configuration of the XGBoost classifier from the first randomized search is the best model so far."
   ]
  },
  {
   "cell_type": "markdown",
   "id": "1ba2cc4a",
   "metadata": {},
   "source": [
    "----"
   ]
  },
  {
   "cell_type": "markdown",
   "id": "c6cac391",
   "metadata": {},
   "source": [
    "Evaluate on the hold-out test set:"
   ]
  },
  {
   "cell_type": "code",
   "execution_count": null,
   "id": "a51924cb",
   "metadata": {},
   "outputs": [],
   "source": []
  }
 ],
 "metadata": {
  "kernelspec": {
   "display_name": "conda_python3",
   "language": "python",
   "name": "conda_python3"
  },
  "language_info": {
   "codemirror_mode": {
    "name": "ipython",
    "version": 3
   },
   "file_extension": ".py",
   "mimetype": "text/x-python",
   "name": "python",
   "nbconvert_exporter": "python",
   "pygments_lexer": "ipython3",
   "version": "3.10.8"
  }
 },
 "nbformat": 4,
 "nbformat_minor": 5
}
