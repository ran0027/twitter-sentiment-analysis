{
 "cells": [
  {
   "cell_type": "markdown",
   "id": "034367fd",
   "metadata": {},
   "source": [
    "# Tweet Sentiment Analysis Practice"
   ]
  },
  {
   "cell_type": "markdown",
   "id": "515ca00a",
   "metadata": {},
   "source": [
    "[Data Source](https://data.world/crowdflower/brands-and-product-emotions)"
   ]
  },
  {
   "cell_type": "markdown",
   "id": "2044db6e",
   "metadata": {},
   "source": [
    "## Business Understanding\n",
    "\n",
    "Our goal is to build a proof-of-concept classifier which would allow Apple to monitor sentiment toward its products (and the products of its top competitors) on Twitter.\n",
    "\n",
    "In particular, Apple needs to be able to monitor *negative sentiment* towards its products and that of its competitors to respond quickly to customer dissatisfaction to resolve the issue (or, in the case of its competitors, to proactively avoid their pain points.)\n",
    "\n",
    "## Data Understanding\n",
    "\n",
    "We have a collection of ~9,000 tweets concerning Apple, Android and Google products with the sentiment labeled (\"positive\", \"negative\", \"neutral\", or \"I can't tell\") and the object of the sentiment in the tweet."
   ]
  },
  {
   "cell_type": "markdown",
   "id": "f42710d4",
   "metadata": {},
   "source": [
    "## Imports"
   ]
  },
  {
   "cell_type": "code",
   "execution_count": 68,
   "id": "6e4f2127",
   "metadata": {},
   "outputs": [],
   "source": [
    "# set a random seed for reproducibility\n",
    "seed = 3490\n",
    "\n",
    "import pandas as pd\n",
    "import numpy as np\n",
    "import matplotlib.pyplot as plt\n",
    "import matplotlib as mpl\n",
    "\n",
    "from sklearn.model_selection import train_te"
   ]
  },
  {
   "cell_type": "markdown",
   "id": "972be2a9",
   "metadata": {},
   "source": [
    "## Load Data"
   ]
  },
  {
   "cell_type": "code",
   "execution_count": 2,
   "id": "f63d4ba9",
   "metadata": {},
   "outputs": [
    {
     "data": {
      "text/html": [
       "<div>\n",
       "<style scoped>\n",
       "    .dataframe tbody tr th:only-of-type {\n",
       "        vertical-align: middle;\n",
       "    }\n",
       "\n",
       "    .dataframe tbody tr th {\n",
       "        vertical-align: top;\n",
       "    }\n",
       "\n",
       "    .dataframe thead th {\n",
       "        text-align: right;\n",
       "    }\n",
       "</style>\n",
       "<table border=\"1\" class=\"dataframe\">\n",
       "  <thead>\n",
       "    <tr style=\"text-align: right;\">\n",
       "      <th></th>\n",
       "      <th>tweet_text</th>\n",
       "      <th>emotion_in_tweet_is_directed_at</th>\n",
       "      <th>is_there_an_emotion_directed_at_a_brand_or_product</th>\n",
       "    </tr>\n",
       "  </thead>\n",
       "  <tbody>\n",
       "    <tr>\n",
       "      <th>0</th>\n",
       "      <td>.@wesley83 I have a 3G iPhone. After 3 hrs twe...</td>\n",
       "      <td>iPhone</td>\n",
       "      <td>Negative emotion</td>\n",
       "    </tr>\n",
       "    <tr>\n",
       "      <th>1</th>\n",
       "      <td>@jessedee Know about @fludapp ? Awesome iPad/i...</td>\n",
       "      <td>iPad or iPhone App</td>\n",
       "      <td>Positive emotion</td>\n",
       "    </tr>\n",
       "    <tr>\n",
       "      <th>2</th>\n",
       "      <td>@swonderlin Can not wait for #iPad 2 also. The...</td>\n",
       "      <td>iPad</td>\n",
       "      <td>Positive emotion</td>\n",
       "    </tr>\n",
       "    <tr>\n",
       "      <th>3</th>\n",
       "      <td>@sxsw I hope this year's festival isn't as cra...</td>\n",
       "      <td>iPad or iPhone App</td>\n",
       "      <td>Negative emotion</td>\n",
       "    </tr>\n",
       "    <tr>\n",
       "      <th>4</th>\n",
       "      <td>@sxtxstate great stuff on Fri #SXSW: Marissa M...</td>\n",
       "      <td>Google</td>\n",
       "      <td>Positive emotion</td>\n",
       "    </tr>\n",
       "  </tbody>\n",
       "</table>\n",
       "</div>"
      ],
      "text/plain": [
       "                                          tweet_text   \n",
       "0  .@wesley83 I have a 3G iPhone. After 3 hrs twe...  \\\n",
       "1  @jessedee Know about @fludapp ? Awesome iPad/i...   \n",
       "2  @swonderlin Can not wait for #iPad 2 also. The...   \n",
       "3  @sxsw I hope this year's festival isn't as cra...   \n",
       "4  @sxtxstate great stuff on Fri #SXSW: Marissa M...   \n",
       "\n",
       "  emotion_in_tweet_is_directed_at   \n",
       "0                          iPhone  \\\n",
       "1              iPad or iPhone App   \n",
       "2                            iPad   \n",
       "3              iPad or iPhone App   \n",
       "4                          Google   \n",
       "\n",
       "  is_there_an_emotion_directed_at_a_brand_or_product  \n",
       "0                                   Negative emotion  \n",
       "1                                   Positive emotion  \n",
       "2                                   Positive emotion  \n",
       "3                                   Negative emotion  \n",
       "4                                   Positive emotion  "
      ]
     },
     "execution_count": 2,
     "metadata": {},
     "output_type": "execute_result"
    }
   ],
   "source": [
    "# load data from file; encoding is \"latin1\"\n",
    "data = pd.read_csv('data/judge-1377884607_tweet_product_company.csv', encoding='latin1')\n",
    "\n",
    "# inspect first few rows\n",
    "data.head()"
   ]
  },
  {
   "cell_type": "markdown",
   "id": "24582b16",
   "metadata": {},
   "source": [
    "## Explore Data"
   ]
  },
  {
   "cell_type": "markdown",
   "id": "ac0de4e0",
   "metadata": {},
   "source": [
    "The column names are a mouthful (\"is_there_an_emotion_directed_at_a_brand_or_product\"), so let's rename them for ease."
   ]
  },
  {
   "cell_type": "code",
   "execution_count": 5,
   "id": "f8180b6a",
   "metadata": {},
   "outputs": [
    {
     "data": {
      "text/html": [
       "<div>\n",
       "<style scoped>\n",
       "    .dataframe tbody tr th:only-of-type {\n",
       "        vertical-align: middle;\n",
       "    }\n",
       "\n",
       "    .dataframe tbody tr th {\n",
       "        vertical-align: top;\n",
       "    }\n",
       "\n",
       "    .dataframe thead th {\n",
       "        text-align: right;\n",
       "    }\n",
       "</style>\n",
       "<table border=\"1\" class=\"dataframe\">\n",
       "  <thead>\n",
       "    <tr style=\"text-align: right;\">\n",
       "      <th></th>\n",
       "      <th>tweet_text</th>\n",
       "      <th>object_of_sentiment</th>\n",
       "      <th>sentiment</th>\n",
       "    </tr>\n",
       "  </thead>\n",
       "  <tbody>\n",
       "    <tr>\n",
       "      <th>0</th>\n",
       "      <td>.@wesley83 I have a 3G iPhone. After 3 hrs twe...</td>\n",
       "      <td>iPhone</td>\n",
       "      <td>Negative emotion</td>\n",
       "    </tr>\n",
       "    <tr>\n",
       "      <th>1</th>\n",
       "      <td>@jessedee Know about @fludapp ? Awesome iPad/i...</td>\n",
       "      <td>iPad or iPhone App</td>\n",
       "      <td>Positive emotion</td>\n",
       "    </tr>\n",
       "    <tr>\n",
       "      <th>2</th>\n",
       "      <td>@swonderlin Can not wait for #iPad 2 also. The...</td>\n",
       "      <td>iPad</td>\n",
       "      <td>Positive emotion</td>\n",
       "    </tr>\n",
       "    <tr>\n",
       "      <th>3</th>\n",
       "      <td>@sxsw I hope this year's festival isn't as cra...</td>\n",
       "      <td>iPad or iPhone App</td>\n",
       "      <td>Negative emotion</td>\n",
       "    </tr>\n",
       "    <tr>\n",
       "      <th>4</th>\n",
       "      <td>@sxtxstate great stuff on Fri #SXSW: Marissa M...</td>\n",
       "      <td>Google</td>\n",
       "      <td>Positive emotion</td>\n",
       "    </tr>\n",
       "  </tbody>\n",
       "</table>\n",
       "</div>"
      ],
      "text/plain": [
       "                                          tweet_text object_of_sentiment   \n",
       "0  .@wesley83 I have a 3G iPhone. After 3 hrs twe...              iPhone  \\\n",
       "1  @jessedee Know about @fludapp ? Awesome iPad/i...  iPad or iPhone App   \n",
       "2  @swonderlin Can not wait for #iPad 2 also. The...                iPad   \n",
       "3  @sxsw I hope this year's festival isn't as cra...  iPad or iPhone App   \n",
       "4  @sxtxstate great stuff on Fri #SXSW: Marissa M...              Google   \n",
       "\n",
       "          sentiment  \n",
       "0  Negative emotion  \n",
       "1  Positive emotion  \n",
       "2  Positive emotion  \n",
       "3  Negative emotion  \n",
       "4  Positive emotion  "
      ]
     },
     "execution_count": 5,
     "metadata": {},
     "output_type": "execute_result"
    }
   ],
   "source": [
    "# rename last two columns, in place\n",
    "data.rename({'emotion_in_tweet_is_directed_at': 'object_of_sentiment',\n",
    "             'is_there_an_emotion_directed_at_a_brand_or_product': 'sentiment'}, axis=1, inplace=True)\n",
    "# inspect first few rows\n",
    "data.head()"
   ]
  },
  {
   "cell_type": "markdown",
   "id": "f65df63e",
   "metadata": {},
   "source": [
    "Now let's explore the distribution of the data."
   ]
  },
  {
   "cell_type": "code",
   "execution_count": 33,
   "id": "0efce112",
   "metadata": {},
   "outputs": [
    {
     "data": {
      "text/plain": [
       "sentiment\n",
       "No emotion toward brand or product    5389\n",
       "Positive emotion                      2978\n",
       "Negative emotion                       570\n",
       "I can't tell                           156\n",
       "Name: count, dtype: int64"
      ]
     },
     "execution_count": 33,
     "metadata": {},
     "output_type": "execute_result"
    }
   ],
   "source": [
    "data.sentiment.value_counts()"
   ]
  },
  {
   "cell_type": "markdown",
   "id": "98ec636d",
   "metadata": {},
   "source": [
    "Sample a few tweets which have unlabeled sentiment."
   ]
  },
  {
   "cell_type": "code",
   "execution_count": 55,
   "id": "9c8aaa60",
   "metadata": {},
   "outputs": [
    {
     "name": "stdout",
     "output_type": "stream",
     "text": [
      "Google Maps car just drove by. Might leave a distorted view of Austin. #sxsw\n",
      "I feel like my iPhone: Always on, always doing something, running out of battery fast. #sxsw\n",
      "Wow folks, make sure that iPhone ringer is turned ALL the way up when u have to be up pre-sunrise for a flight. #internalalarmclockFTW #sxsw\n",
      "Checking out Mistakes I Made Building Netflix for the iPhone at #SXSW.\n",
      "{link} #netflixiphone\n",
      "RT never use mine on the go RT @mention &quot;You're probably using your iPad on the go.&quot; #disagree #SXSW #uxdes\n"
     ]
    }
   ],
   "source": [
    "for i in data.loc[data.sentiment==\"I can't tell\"].sample(5).index:\n",
    "    print(data.loc[i, 'tweet_text'])"
   ]
  },
  {
   "cell_type": "markdown",
   "id": "015296e2",
   "metadata": {},
   "source": [
    "Only one of these is clearly negative. However, forcing the classifier to treat them as positive, negative or neutral would probably yield some valuable insights for the brand (example: why don't you use your iPad on the go? Can the iPhone alarm clock be improved?)\n",
    "\n",
    "With that being said, the records with unlabeled sentiment represent only a small portion of the dataset, and introducing semi-supervised labels here may have an unexpected effect given that the original labellers already classified these tweets as ambiguous. I will drop these records."
   ]
  },
  {
   "cell_type": "code",
   "execution_count": 57,
   "id": "d097f29d",
   "metadata": {},
   "outputs": [],
   "source": [
    "# replace \"I can't tell\" in sentiment column with null\n",
    "data.sentiment = data.sentiment.replace({\"I can't tell\": None})"
   ]
  },
  {
   "cell_type": "code",
   "execution_count": 59,
   "id": "fd9b3389",
   "metadata": {},
   "outputs": [],
   "source": [
    "# drop records with null value for sentiment\n",
    "data.dropna(subset='sentiment', inplace=True)"
   ]
  },
  {
   "cell_type": "markdown",
   "id": "ef5142be",
   "metadata": {},
   "source": [
    "Now let's explore the distribution of products discussed in these tweets."
   ]
  },
  {
   "cell_type": "code",
   "execution_count": 13,
   "id": "82473539",
   "metadata": {},
   "outputs": [
    {
     "data": {
      "image/png": "[encoded data removed]",
      "text/plain": [
       "<Figure size 432x288 with 1 Axes>"
      ]
     },
     "metadata": {
      "needs_background": "light"
     },
     "output_type": "display_data"
    }
   ],
   "source": [
    "fig, ax = plt.subplots()\n",
    "\n",
    "ax.set_title('Objects of Sentiment in Tweets')\n",
    "\n",
    "data.object_of_sentiment.value_counts().plot(kind='barh');"
   ]
  },
  {
   "cell_type": "markdown",
   "id": "d70c0a74",
   "metadata": {},
   "source": [
    "We have the most data on Apple products, and a little sprinkling of data on Google and Android products."
   ]
  },
  {
   "cell_type": "markdown",
   "id": "e8fa5d4a",
   "metadata": {},
   "source": [
    "What is the sentiment breakdown by object?"
   ]
  },
  {
   "cell_type": "markdown",
   "id": "9f6285d8",
   "metadata": {},
   "source": [
    "Before we answer this question, first note that more than half of records do not have an object of sentiment."
   ]
  },
  {
   "cell_type": "code",
   "execution_count": 60,
   "id": "8492192b",
   "metadata": {},
   "outputs": [
    {
     "data": {
      "text/plain": [
       "5655"
      ]
     },
     "execution_count": 60,
     "metadata": {},
     "output_type": "execute_result"
    }
   ],
   "source": [
    "data.object_of_sentiment.isna().sum()"
   ]
  },
  {
   "cell_type": "markdown",
   "id": "8d128ceb",
   "metadata": {},
   "source": [
    "Check how many of these null sentiment records correspond to tweets which are neutral or unlabeled."
   ]
  },
  {
   "cell_type": "code",
   "execution_count": 61,
   "id": "6582c511",
   "metadata": {},
   "outputs": [
    {
     "data": {
      "text/plain": [
       "5298"
      ]
     },
     "execution_count": 61,
     "metadata": {},
     "output_type": "execute_result"
    }
   ],
   "source": [
    "data.loc[(data.sentiment=='No emotion toward brand or product') | (data.sentiment==\"I can't tell\"),\n",
    "         'object_of_sentiment'].isna().sum()"
   ]
  },
  {
   "cell_type": "markdown",
   "id": "91a5cca4",
   "metadata": {},
   "source": [
    "There are 5298 records for which sentiment is unknown or neutral, and the \"object_of_sentiment\" value is null. But this means that there are a few records for which no object is given, despite a positive or negative sentiment being recorded.\n",
    "\n",
    "Let's view an example of such a tweet."
   ]
  },
  {
   "cell_type": "code",
   "execution_count": 66,
   "id": "c8274131",
   "metadata": {},
   "outputs": [
    {
     "name": "stdout",
     "output_type": "stream",
     "text": [
      "I got so many cool things from #sxsw.. headsets, usb drives, iphone chargers galore, earphones... must have 1k in products! #rad\n",
      "Thx for RT @mention RT @mention Is it bad that I just want to go home and read my Google Reader feed? #geek #sxsw\n",
      "Guy next to me in the bathroom props his iPad above the urinal and keeps using it while going. These people are serious. #SXSW\n"
     ]
    }
   ],
   "source": [
    "for i in data.loc[((data.sentiment=='Positive emotion') | (data.sentiment=='Negative emotion')) &\n",
    "                  (data.object_of_sentiment.isna())].sample(3).index:\n",
    "    print(data.loc[i, 'tweet_text'])"
   ]
  },
  {
   "cell_type": "markdown",
   "id": "7f8ed178",
   "metadata": {},
   "source": [
    "One approach to deal with these null objects is to classify them using the labeled data as training data (semi-supervised learning.)\n",
    "\n",
    "We may mis-classify some tweets -- for example, tweet 64 is not directed at a specific Apple product at all -- but hopefully we can capture the fact that some of these *are* clearly directed at specific products."
   ]
  },
  {
   "cell_type": "markdown",
   "id": "93b42a3a",
   "metadata": {},
   "source": [
    "Before we complete the above semi-supervised learning task for the \"object_of_sentiment\" category, let's look at the current distribution of positive, negative and neutral tweets by product."
   ]
  },
  {
   "cell_type": "code",
   "execution_count": 139,
   "id": "c04ac08d",
   "metadata": {},
   "outputs": [
    {
     "data": {
      "image/png": "[encoded data removed]",
      "text/plain": [
       "<Figure size 1080x720 with 9 Axes>"
      ]
     },
     "metadata": {
      "needs_background": "light"
     },
     "output_type": "display_data"
    }
   ],
   "source": [
    "fig, ax = plt.subplots(nrows=3, ncols=3, figsize=(15, 10))\n",
    "\n",
    "# set up color map for negative, positive and neutral tweets\n",
    "viridis = mpl.colormaps['viridis'].resampled(3)\n",
    "\n",
    "for n, product in enumerate(np.unique(data.object_of_sentiment.to_list())[:-1]):\n",
    "    # get sentiment counts for this product\n",
    "    df = data.loc[data.object_of_sentiment==product].sentiment.value_counts().to_frame().reset_index()\n",
    "    \n",
    "    # plot bar chart\n",
    "    df.plot(kind='barh', ax=ax[n//3][n%3])\n",
    "    \n",
    "    # set colors for each bar according to whether it is the count of positive, negative or neutral tweets\n",
    "    bars = [i for i in ax[n//3][n%3].containers if isinstance(i, BarContainer)]\n",
    "    colors = df.sentiment.replace({'Positive emotion': 2,\n",
    "                                   'Negative emotion': 0,\n",
    "                                   'No emotion toward brand or product': 1})\n",
    "    for i in range(3):\n",
    "        bars[0][i].set_color(viridis(colors[i]/2))\n",
    "    \n",
    "    # fix labels, remove legend\n",
    "    ax[n//3][n%3].set_yticklabels(df['sentiment'])\n",
    "    ax[n//3][n%3].get_legend().remove()\n",
    "    \n",
    "    # set title\n",
    "    ax[n//3][n%3].set_title(f'{product}')\n",
    "    \n",
    "fig.tight_layout();"
   ]
  },
  {
   "cell_type": "markdown",
   "id": "f09663ce",
   "metadata": {},
   "source": [
    "The iPhone has the highest ratio of negative to positive emotion tweets."
   ]
  },
  {
   "cell_type": "markdown",
   "id": "69477444",
   "metadata": {},
   "source": [
    "## Semi-supervised Learning\n",
    "\n",
    "Apply semi-supervised learning to classify the object_of_sentiment for tweets with positive or negative sentiment."
   ]
  },
  {
   "cell_type": "code",
   "execution_count": 140,
   "id": "e4fe3d8b",
   "metadata": {},
   "outputs": [
    {
     "data": {
      "text/html": [
       "<div>\n",
       "<style scoped>\n",
       "    .dataframe tbody tr th:only-of-type {\n",
       "        vertical-align: middle;\n",
       "    }\n",
       "\n",
       "    .dataframe tbody tr th {\n",
       "        vertical-align: top;\n",
       "    }\n",
       "\n",
       "    .dataframe thead th {\n",
       "        text-align: right;\n",
       "    }\n",
       "</style>\n",
       "<table border=\"1\" class=\"dataframe\">\n",
       "  <thead>\n",
       "    <tr style=\"text-align: right;\">\n",
       "      <th></th>\n",
       "      <th>tweet_text</th>\n",
       "      <th>object_of_sentiment</th>\n",
       "      <th>sentiment</th>\n",
       "    </tr>\n",
       "  </thead>\n",
       "  <tbody>\n",
       "    <tr>\n",
       "      <th>0</th>\n",
       "      <td>.@wesley83 I have a 3G iPhone. After 3 hrs twe...</td>\n",
       "      <td>iPhone</td>\n",
       "      <td>Negative emotion</td>\n",
       "    </tr>\n",
       "    <tr>\n",
       "      <th>1</th>\n",
       "      <td>@jessedee Know about @fludapp ? Awesome iPad/i...</td>\n",
       "      <td>iPad or iPhone App</td>\n",
       "      <td>Positive emotion</td>\n",
       "    </tr>\n",
       "    <tr>\n",
       "      <th>2</th>\n",
       "      <td>@swonderlin Can not wait for #iPad 2 also. The...</td>\n",
       "      <td>iPad</td>\n",
       "      <td>Positive emotion</td>\n",
       "    </tr>\n",
       "    <tr>\n",
       "      <th>3</th>\n",
       "      <td>@sxsw I hope this year's festival isn't as cra...</td>\n",
       "      <td>iPad or iPhone App</td>\n",
       "      <td>Negative emotion</td>\n",
       "    </tr>\n",
       "    <tr>\n",
       "      <th>4</th>\n",
       "      <td>@sxtxstate great stuff on Fri #SXSW: Marissa M...</td>\n",
       "      <td>Google</td>\n",
       "      <td>Positive emotion</td>\n",
       "    </tr>\n",
       "  </tbody>\n",
       "</table>\n",
       "</div>"
      ],
      "text/plain": [
       "                                          tweet_text object_of_sentiment   \n",
       "0  .@wesley83 I have a 3G iPhone. After 3 hrs twe...              iPhone  \\\n",
       "1  @jessedee Know about @fludapp ? Awesome iPad/i...  iPad or iPhone App   \n",
       "2  @swonderlin Can not wait for #iPad 2 also. The...                iPad   \n",
       "3  @sxsw I hope this year's festival isn't as cra...  iPad or iPhone App   \n",
       "4  @sxtxstate great stuff on Fri #SXSW: Marissa M...              Google   \n",
       "\n",
       "          sentiment  \n",
       "0  Negative emotion  \n",
       "1  Positive emotion  \n",
       "2  Positive emotion  \n",
       "3  Negative emotion  \n",
       "4  Positive emotion  "
      ]
     },
     "execution_count": 140,
     "metadata": {},
     "output_type": "execute_result"
    }
   ],
   "source": [
    "# get all tweets with positive or negative sentiment\n",
    "emotive_tweets = data.loc[(data.sentiment=='Positive emotion') | (data.sentiment=='Negative emotion')]\n",
    "emotive_tweets.head()"
   ]
  },
  {
   "cell_type": "code",
   "execution_count": 143,
   "id": "06080b26",
   "metadata": {},
   "outputs": [],
   "source": [
    "# separate into \"train\" and \"predict\"\n",
    "train = emotive_tweets.loc[emotive_tweets.object_of_sentiment.isna()==False]\n",
    "predict = emotive_tweets.loc[emotive_tweets.object_of_sentiment.isna()]"
   ]
  },
  {
   "cell_type": "code",
   "execution_count": 146,
   "id": "564e3ef4",
   "metadata": {},
   "outputs": [
    {
     "data": {
      "text/plain": [
       "True"
      ]
     },
     "execution_count": 146,
     "metadata": {},
     "output_type": "execute_result"
    }
   ],
   "source": [
    "# check shapes\n",
    "train.shape[0] + predict.shape[0] == emotive_tweets.shape[0]"
   ]
  },
  {
   "cell_type": "markdown",
   "id": "b5eb8251",
   "metadata": {},
   "source": [
    "Now, we want to build a classifier to classify the object_of_sentiment for the \"predict\" set based on the labels in the \"train\" set."
   ]
  },
  {
   "cell_type": "code",
   "execution_count": 149,
   "id": "e8a47452",
   "metadata": {},
   "outputs": [],
   "source": [
    "train_target = train['object_of_sentiment']\n",
    "train_features = train['tweet_text']"
   ]
  },
  {
   "cell_type": "markdown",
   "id": "371f96ad",
   "metadata": {},
   "source": [
    "We need to label encode the target, then vectorize the tweet text.\n",
    "\n",
    "We now run into the problem we are going to have when building the sentiment classifier; there are many different ways that we could preprocess the tweet text prior to modeling, and when you combine this with all of the classification algorithms we could use and their hyperparameters to be tuned, we have a truly large search space for the \"best\" model to do the job.\n",
    "\n",
    "For this reason, I plan to drop this data for now and return to this piece of the project after building out a classifier below. I will use whatever preprocessing techniques resulted in the best performance for identifying the object of the sentiment, and I will apply that preprocessing technique to the \"training data\" for labeling the unlabeled object_of_sentiment values, then build a classifier to label these missing values.\n",
    "\n",
    "When I add the newly labeled data to the rest of the training data and refit the best-performing classifier as determined below, if the performance improves or stays the same, I will keep it. Otherwise, this data will be permanently dropped."
   ]
  },
  {
   "cell_type": "markdown",
   "id": "378e3b5b",
   "metadata": {},
   "source": [
    "## Modeling"
   ]
  },
  {
   "cell_type": "markdown",
   "id": "9c39b313",
   "metadata": {},
   "source": [
    "Our goal is to build a classifier which identifies the i.) sentiment and ii.) object of sentiment of a tweet.\n",
    "\n",
    "We are going to build the classifier in steps:\n",
    "\n",
    "1.) Classifier to classify a tweet as negative or not negative (positive or neutral, with no distinction between the two.)\n",
    "\n",
    "2.) Classifier to identify the object of the sentiment in a tweet.\n",
    "\n",
    "3.) Combine 1 and 2.\n",
    "\n",
    "4.) Classifier to classify a tweet as positive, negative or neutral and identify the object of the sentiment (if applicable.)\n",
    "\n",
    "It is not critically important that our classifier be able to distinguish between positive and neutral tweets (hence, it is the last step in our process.)"
   ]
  },
  {
   "cell_type": "code",
   "execution_count": 153,
   "id": "fceaa689",
   "metadata": {},
   "outputs": [
    {
     "data": {
      "text/plain": [
       "tweet_text                1\n",
       "object_of_sentiment    5655\n",
       "sentiment                 0\n",
       "dtype: int64"
      ]
     },
     "execution_count": 153,
     "metadata": {},
     "output_type": "execute_result"
    }
   ],
   "source": [
    "data.isna().sum()"
   ]
  },
  {
   "cell_type": "code",
   "execution_count": 156,
   "id": "1d4f878c",
   "metadata": {},
   "outputs": [
    {
     "name": "stdout",
     "output_type": "stream",
     "text": [
      "We now have 8936 records.\n"
     ]
    }
   ],
   "source": [
    "# drop tweet that is missing tweet_text\n",
    "data.dropna(subset='tweet_text', inplace=True)\n",
    "print(f'We now have {data.shape[0]} records.')"
   ]
  },
  {
   "cell_type": "code",
   "execution_count": 158,
   "id": "b1975bfc",
   "metadata": {},
   "outputs": [
    {
     "data": {
      "text/plain": [
       "0    .@wesley83 I have a 3G iPhone. After 3 hrs twe...\n",
       "1    @jessedee Know about @fludapp ? Awesome iPad/i...\n",
       "2    @swonderlin Can not wait for #iPad 2 also. The...\n",
       "3    @sxsw I hope this year's festival isn't as cra...\n",
       "4    @sxtxstate great stuff on Fri #SXSW: Marissa M...\n",
       "Name: tweet_text, dtype: object"
      ]
     },
     "execution_count": 158,
     "metadata": {},
     "output_type": "execute_result"
    }
   ],
   "source": [
    "# separate features and target\n",
    "X = data['tweet_text']\n",
    "# structure problem to place emphasis on identifying negative tweets\n",
    "y = data['sentiment'].replace({'Negative emotion': 1,\n",
    "                               'Positive emotion': 0,\n",
    "                               'No emotion towards brand or product': 0})\n",
    "\n",
    "# train test split"
   ]
  }
 ],
 "metadata": {
  "kernelspec": {
   "display_name": "twitter-env",
   "language": "python",
   "name": "twitter-env"
  },
  "language_info": {
   "codemirror_mode": {
    "name": "ipython",
    "version": 3
   },
   "file_extension": ".py",
   "mimetype": "text/x-python",
   "name": "python",
   "nbconvert_exporter": "python",
   "pygments_lexer": "ipython3",
   "version": "3.11.3"
  }
 },
 "nbformat": 4,
 "nbformat_minor": 5
}
