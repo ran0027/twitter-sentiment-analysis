{
 "cells": [
  {
   "cell_type": "markdown",
   "id": "a4e375fa",
   "metadata": {},
   "source": [
    "# Reflections on SXSW"
   ]
  },
  {
   "cell_type": "markdown",
   "id": "a53ec5ea",
   "metadata": {},
   "source": [
    "A review of Apple's marketing and branding strategies at this year's South by Southwest Conference, to help the Apple marketing team plan next year's South by Southwest campaign."
   ]
  },
  {
   "cell_type": "markdown",
   "id": "99f79ac4",
   "metadata": {},
   "source": [
    "## 0. Goals of the Analysis\n",
    "\n",
    "To provide an overview of the brand's perception at this year's conference: what did people like, dislike and discuss the most? How was Apple perceived relative to its competitors?\n",
    "\n",
    "- Build a classifier to \"score\" tweets as most negative, most positive and most neutral\n",
    "- Determine the most negative and most positive SXSW tweets concerning Apple and its products\n",
    "- Summarize the topics discussed in negative, neutral and positive tweets regarding Apple & its products\n",
    "\n",
    "\n",
    "Ultimately, we hope to provide concrete recommendations for next year's SXSW brand & marketing strategy based on what was successful this year."
   ]
  },
  {
   "cell_type": "markdown",
   "id": "a1ff08ec",
   "metadata": {},
   "source": [
    "## Environment Set Up"
   ]
  },
  {
   "cell_type": "markdown",
   "id": "ba367ac9",
   "metadata": {},
   "source": [
    "Make a list of package versions used in this environment."
   ]
  },
  {
   "cell_type": "code",
   "execution_count": 20,
   "id": "e2bb98fe",
   "metadata": {
    "scrolled": true
   },
   "outputs": [
    {
     "name": "stdout",
     "output_type": "stream",
     "text": [
      "sklearn==1.2.2\n",
      "nltk==3.8.1\n",
      "pandas==2.0.1\n",
      "numpy==1.22.3\n",
      "seaborn==0.12.2\n",
      "xgboost==1.7.5\n",
      "gensim==4.3.1\n",
      "xgboost==1.7.5\n",
      "gensim==4.3.1\n"
     ]
    }
   ],
   "source": [
    "import sklearn\n",
    "import nltk\n",
    "import pandas as pd\n",
    "import numpy as np\n",
    "import matplotlib.pyplot as plt\n",
    "import seaborn as sns\n",
    "print('\\n'.join(f'{m.__name__}=={m.__version__}' for m in globals().values() if getattr(m, '__version__', None)))\n",
    "\n",
    "%pip install xgboost\n",
    "import xgboost\n",
    "print(f'xgboost=={xgboost.__version__}')\n",
    "\n",
    "%pip install gensim\n",
    "import gensim\n",
    "print(f'gensim=={gensim.__version__}')"
   ]
  },
  {
   "cell_type": "markdown",
   "id": "1e5abba4",
   "metadata": {},
   "source": [
    "## 1. Data Understanding\n",
    "### 1.1 Part 1\n",
    "\n",
    "[Data Source](https://data.world/crowdflower/brands-and-product-emotions)"
   ]
  },
  {
   "cell_type": "markdown",
   "id": "33ceba04",
   "metadata": {},
   "source": [
    "The data was downloaded from the above link on April 21, 2023 and has been stored in .csv format in the below referenced S3 bucket."
   ]
  },
  {
   "cell_type": "code",
   "execution_count": 21,
   "id": "5fe6b894",
   "metadata": {
    "scrolled": true
   },
   "outputs": [
    {
     "data": {
      "text/html": [
       "<div>\n",
       "<style scoped>\n",
       "    .dataframe tbody tr th:only-of-type {\n",
       "        vertical-align: middle;\n",
       "    }\n",
       "\n",
       "    .dataframe tbody tr th {\n",
       "        vertical-align: top;\n",
       "    }\n",
       "\n",
       "    .dataframe thead th {\n",
       "        text-align: right;\n",
       "    }\n",
       "</style>\n",
       "<table border=\"1\" class=\"dataframe\">\n",
       "  <thead>\n",
       "    <tr style=\"text-align: right;\">\n",
       "      <th></th>\n",
       "      <th>tweet_text</th>\n",
       "      <th>emotion_in_tweet_is_directed_at</th>\n",
       "      <th>is_there_an_emotion_directed_at_a_brand_or_product</th>\n",
       "    </tr>\n",
       "  </thead>\n",
       "  <tbody>\n",
       "    <tr>\n",
       "      <th>0</th>\n",
       "      <td>.@wesley83 I have a 3G iPhone. After 3 hrs twe...</td>\n",
       "      <td>iPhone</td>\n",
       "      <td>Negative emotion</td>\n",
       "    </tr>\n",
       "    <tr>\n",
       "      <th>1</th>\n",
       "      <td>@jessedee Know about @fludapp ? Awesome iPad/i...</td>\n",
       "      <td>iPad or iPhone App</td>\n",
       "      <td>Positive emotion</td>\n",
       "    </tr>\n",
       "    <tr>\n",
       "      <th>2</th>\n",
       "      <td>@swonderlin Can not wait for #iPad 2 also. The...</td>\n",
       "      <td>iPad</td>\n",
       "      <td>Positive emotion</td>\n",
       "    </tr>\n",
       "    <tr>\n",
       "      <th>3</th>\n",
       "      <td>@sxsw I hope this year's festival isn't as cra...</td>\n",
       "      <td>iPad or iPhone App</td>\n",
       "      <td>Negative emotion</td>\n",
       "    </tr>\n",
       "    <tr>\n",
       "      <th>4</th>\n",
       "      <td>@sxtxstate great stuff on Fri #SXSW: Marissa M...</td>\n",
       "      <td>Google</td>\n",
       "      <td>Positive emotion</td>\n",
       "    </tr>\n",
       "  </tbody>\n",
       "</table>\n",
       "</div>"
      ],
      "text/plain": [
       "                                          tweet_text  ... is_there_an_emotion_directed_at_a_brand_or_product\n",
       "0  .@wesley83 I have a 3G iPhone. After 3 hrs twe...  ...                                   Negative emotion\n",
       "1  @jessedee Know about @fludapp ? Awesome iPad/i...  ...                                   Positive emotion\n",
       "2  @swonderlin Can not wait for #iPad 2 also. The...  ...                                   Positive emotion\n",
       "3  @sxsw I hope this year's festival isn't as cra...  ...                                   Negative emotion\n",
       "4  @sxtxstate great stuff on Fri #SXSW: Marissa M...  ...                                   Positive emotion\n",
       "\n",
       "[5 rows x 3 columns]"
      ]
     },
     "execution_count": 21,
     "metadata": {},
     "output_type": "execute_result"
    }
   ],
   "source": [
    "# load data\n",
    "\n",
    "read_bucket = \"twitter-sxsw\"\n",
    "file_name = \"judge-1377884607_tweet_product_company.csv\"\n",
    "\n",
    "data_uri = f\"s3://{read_bucket}/{file_name}\"\n",
    "data = pd.read_csv(data_uri, encoding='latin-1')\n",
    "data.head()"
   ]
  },
  {
   "cell_type": "markdown",
   "id": "b6407a77",
   "metadata": {},
   "source": [
    "The \"emotion_in_tweet_is_directed_at\" category indicates the specific product at which the sentiment in the tweet is directed, if possible. For ease of analysis, we will add a column titled \"brand\" which simply indicates whether the object of the sentiment is \"Apple\", \"Google\", \"Android\" (or None), so that we can explore the distribution of tweet sentiment by brand.\n",
    "\n",
    "We'll also rename the columns so that actions require less typing."
   ]
  },
  {
   "cell_type": "code",
   "execution_count": 27,
   "id": "ae73eaf1",
   "metadata": {},
   "outputs": [
    {
     "data": {
      "text/html": [
       "<div>\n",
       "<style scoped>\n",
       "    .dataframe tbody tr th:only-of-type {\n",
       "        vertical-align: middle;\n",
       "    }\n",
       "\n",
       "    .dataframe tbody tr th {\n",
       "        vertical-align: top;\n",
       "    }\n",
       "\n",
       "    .dataframe thead th {\n",
       "        text-align: right;\n",
       "    }\n",
       "</style>\n",
       "<table border=\"1\" class=\"dataframe\">\n",
       "  <thead>\n",
       "    <tr style=\"text-align: right;\">\n",
       "      <th></th>\n",
       "      <th>tweet_text</th>\n",
       "      <th>object</th>\n",
       "      <th>sentiment</th>\n",
       "      <th>brand</th>\n",
       "    </tr>\n",
       "  </thead>\n",
       "  <tbody>\n",
       "    <tr>\n",
       "      <th>0</th>\n",
       "      <td>.@wesley83 I have a 3G iPhone. After 3 hrs twe...</td>\n",
       "      <td>iPhone</td>\n",
       "      <td>Negative emotion</td>\n",
       "      <td>Apple</td>\n",
       "    </tr>\n",
       "    <tr>\n",
       "      <th>1</th>\n",
       "      <td>@jessedee Know about @fludapp ? Awesome iPad/i...</td>\n",
       "      <td>iPad or iPhone App</td>\n",
       "      <td>Positive emotion</td>\n",
       "      <td>Apple</td>\n",
       "    </tr>\n",
       "    <tr>\n",
       "      <th>2</th>\n",
       "      <td>@swonderlin Can not wait for #iPad 2 also. The...</td>\n",
       "      <td>iPad</td>\n",
       "      <td>Positive emotion</td>\n",
       "      <td>Apple</td>\n",
       "    </tr>\n",
       "    <tr>\n",
       "      <th>3</th>\n",
       "      <td>@sxsw I hope this year's festival isn't as cra...</td>\n",
       "      <td>iPad or iPhone App</td>\n",
       "      <td>Negative emotion</td>\n",
       "      <td>Apple</td>\n",
       "    </tr>\n",
       "    <tr>\n",
       "      <th>4</th>\n",
       "      <td>@sxtxstate great stuff on Fri #SXSW: Marissa M...</td>\n",
       "      <td>Google</td>\n",
       "      <td>Positive emotion</td>\n",
       "      <td>Google</td>\n",
       "    </tr>\n",
       "  </tbody>\n",
       "</table>\n",
       "</div>"
      ],
      "text/plain": [
       "                                          tweet_text  ...   brand\n",
       "0  .@wesley83 I have a 3G iPhone. After 3 hrs twe...  ...   Apple\n",
       "1  @jessedee Know about @fludapp ? Awesome iPad/i...  ...   Apple\n",
       "2  @swonderlin Can not wait for #iPad 2 also. The...  ...   Apple\n",
       "3  @sxsw I hope this year's festival isn't as cra...  ...   Apple\n",
       "4  @sxtxstate great stuff on Fri #SXSW: Marissa M...  ...  Google\n",
       "\n",
       "[5 rows x 4 columns]"
      ]
     },
     "execution_count": 27,
     "metadata": {},
     "output_type": "execute_result"
    }
   ],
   "source": [
    "# change column names for ease of use\n",
    "data.rename({'emotion_in_tweet_is_directed_at': 'object',\n",
    "             'is_there_an_emotion_directed_at_a_brand_or_product': 'sentiment'}, axis=1, inplace=True)\n",
    "\n",
    "# add column (brand)\n",
    "apple_categories = ['iPad', 'Apple', 'iPad or iPhone App', 'iPhone',\n",
    "                    'Other Apple product or service']\n",
    "\n",
    "android_categories = ['Android App', 'Android']\n",
    "\n",
    "google_categories = ['Google', 'Other Google product or service']\n",
    "\n",
    "brand_names = dict(zip(apple_categories, ['Apple']*len(apple_categories)))\n",
    "brand_names.update(dict(zip(android_categories, ['Android']*len(android_categories))))\n",
    "brand_names.update(dict(zip(google_categories, ['Google']*len(google_categories))))\n",
    "\n",
    "data['brand'] = data.object.replace(brand_names)\n",
    "\n",
    "data.head()"
   ]
  },
  {
   "cell_type": "markdown",
   "id": "4156b2a1",
   "metadata": {},
   "source": [
    "#### Summary\n",
    "\n",
    "- How many tweets are in the dataset overall?\n",
    "\n",
    "&nbsp;\n",
    "\n",
    "<center><b>9093 tweets</b></center>\n",
    "\n",
    "- What is the distribution of the sentiment category?\n",
    "\n",
    "| Sentiment | % of Data |\n",
    "| --- | --- |\n",
    "| Neutral | 59% |\n",
    "| Positive | 33% |\n",
    "| Negative | 6% |\n",
    "| Null | 2% |\n",
    "\n",
    "- How many null values are we dealing with for the object of the sentiment?\n",
    "\n",
    "<center><b>357 tweets</b> are labeled as having a positive or negative emotion, but do not indicate the object of the sentiment in the tweet.</center>\n",
    "\n",
    "&nbsp;\n",
    "\n",
    "- Out of tweets for which the object of the sentiment is labeled, how many have sentiment directed toward ...\n",
    "\n",
    "    - Apple? &nbsp;&nbsp; **2337 positive and negative tweets**\n",
    "    - Google? &nbsp;&nbsp; **697 positive and negative tweets**\n",
    "    - Android? &nbsp;&nbsp; **157 positive and negative tweets**\n",
    "    \n",
    "&nbsp;\n",
    "\n",
    "- What is the distribution of sentiment for each brand?\n",
    "\n",
    "<center><u>Apple and Google</u></center>\n",
    "<center>~17% negative and ~83% positive</center>\n",
    "\n",
    "&nbsp;\n",
    "\n",
    "<center><u>Android</u></center>\n",
    "<center>~10% negative and ~90% positive</center>\n",
    "\n",
    "- What is the average length of a tweet in this dataset (in words)?\n",
    "\n",
    "<center>The mean length of a tweet in this dataset is <b>18 words</b>. The shortest tweet contains only 2 words; the longest tweet contains 33 words.</center>"
   ]
  },
  {
   "cell_type": "markdown",
   "id": "aa40f6b6",
   "metadata": {},
   "source": [
    "**Visualizations**\n",
    "\n",
    "Below, graphs are generated to show the count of positive and negative tweets directed toward each brand.\n",
    "\n",
    "Tweets with \"no emotion\" or ambiguous emotion (\"I can't tell\") are not included as most neutral tweets do not specify a brand."
   ]
  },
  {
   "cell_type": "code",
   "execution_count": 47,
   "id": "42c56145",
   "metadata": {},
   "outputs": [],
   "source": [
    "sentiment_counts_by_brand = data.loc[~data.object.isna()].groupby(['brand', 'sentiment'])['tweet_text'].count()"
   ]
  },
  {
   "cell_type": "markdown",
   "id": "2a1df0e0",
   "metadata": {},
   "source": [
    "Set style of plots to use throughout notebook.\n",
    "\n",
    "*Note: The style is meant to emulate the color palette of the first graphic on the home page of the Apple website, as of June 7, 2023, which is introducing the Apple Vision Pro.*"
   ]
  },
  {
   "cell_type": "code",
   "execution_count": 120,
   "id": "b12550b0",
   "metadata": {},
   "outputs": [],
   "source": [
    "plt.style.use(\"dark_background\")\n",
    "sns.set_palette('hsv')"
   ]
  },
  {
   "cell_type": "code",
   "execution_count": 164,
   "id": "1088119c",
   "metadata": {
    "scrolled": true
   },
   "outputs": [
    {
     "data": {
      "image/png": "[encoded data removed]",
      "text/plain": [
       "<Figure size 600x900 with 3 Axes>"
      ]
     },
     "metadata": {},
     "output_type": "display_data"
    }
   ],
   "source": [
    "fig, ax = plt.subplots(nrows=3, figsize=(6, 9))\n",
    "\n",
    "# Android plot\n",
    "sentiment_counts_by_brand.loc[('Android',)].drop(\n",
    "    ['No emotion toward brand or product'], axis=0\n",
    ").plot(kind='barh', ax=ax[0])\n",
    "ax[0].set_title('Android-Related Tweets')\n",
    "\n",
    "# Google plot\n",
    "sentiment_counts_by_brand.loc[('Google',)].drop(\n",
    "    ['No emotion toward brand or product', \"I can't tell\"], axis=0\n",
    ").plot(kind='barh', ax=ax[1])\n",
    "ax[1].set_title('Google-Related Tweets')\n",
    "\n",
    "# Apple plot\n",
    "sentiment_counts_by_brand.loc[('Apple',)].drop(\n",
    "    ['No emotion toward brand or product', \"I can't tell\"], axis=0\n",
    ").plot(kind='barh', ax=ax[2])\n",
    "ax[2].set_title('Apple-Related Tweets')\n",
    "\n",
    "# don't label y-axis\n",
    "for axis in ax:\n",
    "    axis.set_ylabel('')\n",
    "    \n",
    "# avoid overlap of subplots\n",
    "fig.suptitle('Distribution of Sentiment for...', y=1)\n",
    "fig.tight_layout();"
   ]
  },
  {
   "cell_type": "code",
   "execution_count": 165,
   "id": "c3f46c92",
   "metadata": {},
   "outputs": [
    {
     "name": "stderr",
     "output_type": "stream",
     "text": [
      "UsageError: Line magic function `%git` not found.\n"
     ]
    }
   ],
   "source": [
    "%git status"
   ]
  },
  {
   "cell_type": "markdown",
   "id": "5a903067",
   "metadata": {},
   "source": [
    "## 2. Data Preparation\n",
    "### 2.1 Part 1"
   ]
  },
  {
   "cell_type": "markdown",
   "id": "d4f2aab6",
   "metadata": {},
   "source": [
    "Deal with null values."
   ]
  },
  {
   "cell_type": "code",
   "execution_count": null,
   "id": "b1ee97f3",
   "metadata": {},
   "outputs": [],
   "source": [
    "# deal with null values"
   ]
  },
  {
   "cell_type": "markdown",
   "id": "9c3e019a",
   "metadata": {},
   "source": [
    "Label encode the target."
   ]
  },
  {
   "cell_type": "code",
   "execution_count": null,
   "id": "ca972cc8",
   "metadata": {},
   "outputs": [],
   "source": [
    "# label encoding"
   ]
  },
  {
   "cell_type": "markdown",
   "id": "9f494c7e",
   "metadata": {},
   "source": [
    "Remove stop words, strip punctuation, and stem or lemmatize tokens"
   ]
  },
  {
   "cell_type": "code",
   "execution_count": null,
   "id": "93604d92",
   "metadata": {},
   "outputs": [],
   "source": [
    "# remove stop words, strip punctuation, and stem or lemmatize tokens"
   ]
  },
  {
   "cell_type": "markdown",
   "id": "73bf8ea8",
   "metadata": {},
   "source": [
    "## 1. Data Understanding\n",
    "### 1.2 Part 2"
   ]
  },
  {
   "cell_type": "markdown",
   "id": "a72484cd",
   "metadata": {},
   "source": [
    "Now that we have tokenized each tweet, we can build a frequency distribution for each sentiment category, for each brand. (It's possible that doing so will reveal additional stop words that ought to be removed, or some other pattern that can be captured in the data.)"
   ]
  },
  {
   "cell_type": "code",
   "execution_count": 1,
   "id": "7fc1227f",
   "metadata": {},
   "outputs": [],
   "source": [
    "# build a frequency distribution for each brand / sentiment category"
   ]
  },
  {
   "cell_type": "markdown",
   "id": "24171be6",
   "metadata": {},
   "source": [
    "Build a frequency distribution that includes bigrams (and possible trigrams.)"
   ]
  },
  {
   "cell_type": "code",
   "execution_count": 2,
   "id": "d1ec963f",
   "metadata": {},
   "outputs": [],
   "source": [
    "# build a frequency distribution that includes bigrams and possibly trigrams"
   ]
  },
  {
   "cell_type": "markdown",
   "id": "b02152a5",
   "metadata": {},
   "source": [
    "## 2. Data Preparation\n",
    "### 2.2 Part 2"
   ]
  },
  {
   "cell_type": "markdown",
   "id": "0485bd5e",
   "metadata": {},
   "source": [
    "Adjust stop words removed and lemmatization if needed."
   ]
  },
  {
   "cell_type": "code",
   "execution_count": null,
   "id": "c0c272b5",
   "metadata": {},
   "outputs": [],
   "source": []
  },
  {
   "cell_type": "markdown",
   "id": "216486aa",
   "metadata": {},
   "source": [
    "## 3. Modeling\n",
    "### 3.1 Selecting a Vectorizer and Optimizing Hyperparameters for Each Classification Algorithm"
   ]
  },
  {
   "cell_type": "markdown",
   "id": "7a7f91e9",
   "metadata": {},
   "source": [
    "Use pipelines to test different vectorization techniques with different classification algorithms.\n",
    "\n",
    "<u>Vectorizers</u>\n",
    "- Count vectorization: ngram range, min / max df, max vocab\n",
    "- \"One hot\" vectorization\n",
    "- Tfidf vectorization: same as count vectorizer settings\n",
    "- Mean word embeddings (using gensim's pretrained word2vec model)\n",
    "\n",
    "<u>Classifiers</u>\n",
    "- Decision Tree\n",
    "- Nearest Neighbors\n",
    "- Support Vector Classifier\n",
    "- Naive Bayes\n",
    "- Random Forest\n",
    "- XGBoost (other library)\n",
    "\n",
    "Use grid search and cross validation to find the optimal vectorization and hyperparameter settings for each classification algorithm."
   ]
  },
  {
   "cell_type": "markdown",
   "id": "4eebd413",
   "metadata": {},
   "source": [
    "## 4. Evaluation\n",
    "### 4.1 Analyze Model Performance on Validation Set\n",
    "\n",
    "In this section, the best model(s) so far are evaluated on the validation set after being trained on the training set. Insights from the model's performance on the validation set may be used to adjust preprocessing techniques and model hyperparameters."
   ]
  },
  {
   "cell_type": "markdown",
   "id": "792ffeff",
   "metadata": {},
   "source": [
    "Train the best model(s) on the training set, and analyze the performance of each model on the validation set using:\n",
    "\n",
    "- overall accuracy (visualize: raw numbers confusion matrix)\n",
    "\n",
    "- recall for each class (visualize: confusion matrix with normalize='true')\n",
    "\n",
    "- both of the above for Apple-related tweets specifically (and perhaps each brand)\n",
    "\n",
    "- grade_model_confidence function (displays bar chart with mean model accuracy as a function of model confidence in predicted class)\n",
    "\n",
    "- use LIME to investigate most negative & positive tweets, or \"most confident\" mistakes (incorrect predictions for which the model was most confident)\n",
    "\n",
    "- examine feature importances for the model"
   ]
  },
  {
   "cell_type": "markdown",
   "id": "65315fd4",
   "metadata": {},
   "source": [
    "## 3. Modeling\n",
    "### 3.2 Adjust Preprocessing Techniques and Model Hyperparameters"
   ]
  },
  {
   "cell_type": "markdown",
   "id": "c417536e",
   "metadata": {},
   "source": [
    "Based on evaluation of candidate models on the validation set, consider tweaking preprocessing techniques (esp. vectorization) and model hyperparameters."
   ]
  },
  {
   "cell_type": "markdown",
   "id": "a2630f11",
   "metadata": {},
   "source": [
    "## 4. Evaluation\n",
    "### 4.2 Final Model Evaluation on Hold-out Test Set\n",
    "\n",
    "In this section, the single best model is evaluated on the hold-out test set to approximate model performance on unseen data. Model analytics are used to determine whether the model is worthy for deployment."
   ]
  },
  {
   "cell_type": "markdown",
   "id": "8663c348",
   "metadata": {},
   "source": [
    "Evaluate the best model's performance on the hold-out test set.\n",
    "\n",
    "Analyze model mistakes, grade model confidence & find most positive and negative tweets about Apple specifically."
   ]
  },
  {
   "cell_type": "markdown",
   "id": "32c0224e",
   "metadata": {},
   "source": [
    "## 5. Modeling\n",
    "### 5.1 Topic Modeling for Each Brand and Sentiment Category (using LDA)\n",
    "\n",
    "If time permits, latent dirichlet allocation is used to perform topic modeling for each brand / sentiment category combination in the dataset.\n",
    "\n",
    "The goal is to generate a visualization to allow the Apple marketing team to quickly understand which \"topics\" related to Apple and its competitors were viewed positively or negatively (or received the most attention) during South by Southwest this year."
   ]
  },
  {
   "cell_type": "markdown",
   "id": "3d2e616e",
   "metadata": {},
   "source": [
    "Determine the optimal number of topics for each sentiment category for Apple:"
   ]
  },
  {
   "cell_type": "code",
   "execution_count": null,
   "id": "99bc3527",
   "metadata": {},
   "outputs": [],
   "source": []
  },
  {
   "cell_type": "markdown",
   "id": "2cb1f8ba",
   "metadata": {},
   "source": [
    "Determine the topics and their weights via clustering:"
   ]
  },
  {
   "cell_type": "code",
   "execution_count": null,
   "id": "23a2a90a",
   "metadata": {},
   "outputs": [],
   "source": []
  },
  {
   "cell_type": "markdown",
   "id": "fc4ccb1a",
   "metadata": {},
   "source": [
    "Visualize the topics:"
   ]
  },
  {
   "cell_type": "code",
   "execution_count": null,
   "id": "da1cf90f",
   "metadata": {},
   "outputs": [],
   "source": []
  },
  {
   "cell_type": "markdown",
   "id": "91df8a17",
   "metadata": {},
   "source": [
    "## 6. Evaluation\n",
    "### 6.1 Evaluate Topic Models"
   ]
  },
  {
   "cell_type": "markdown",
   "id": "a3b3ecb2",
   "metadata": {},
   "source": [
    "Compute the perplexity and coherence score for the best model."
   ]
  },
  {
   "cell_type": "code",
   "execution_count": null,
   "id": "cdd286db",
   "metadata": {},
   "outputs": [],
   "source": []
  },
  {
   "cell_type": "markdown",
   "id": "a4a3f45f",
   "metadata": {},
   "source": [
    "## 7. Recommendations\n",
    "### 7.1 Recommendations for Apple's Next SXSW Campaign"
   ]
  },
  {
   "cell_type": "markdown",
   "id": "78de6211",
   "metadata": {},
   "source": [
    "Based on confidence scores generated by classifier:"
   ]
  },
  {
   "cell_type": "code",
   "execution_count": null,
   "id": "d80accdf",
   "metadata": {},
   "outputs": [],
   "source": []
  },
  {
   "cell_type": "markdown",
   "id": "b685be3d",
   "metadata": {},
   "source": [
    "Based on topic modeling for each brand / sentiment combination:"
   ]
  },
  {
   "cell_type": "code",
   "execution_count": null,
   "id": "2fc93553",
   "metadata": {},
   "outputs": [],
   "source": []
  },
  {
   "cell_type": "markdown",
   "id": "2732448a",
   "metadata": {},
   "source": [
    "## 8. Conclusion"
   ]
  },
  {
   "cell_type": "markdown",
   "id": "2244495c",
   "metadata": {},
   "source": [
    "<u>Possible Next Steps</u>\n",
    "\n",
    "-\n",
    "-\n",
    "\n",
    "<u>Further Reading</u>\n",
    "\n",
    "A summary of the results from this analysis can be found in [this presentation]().\n",
    "\n",
    "Learn more about South by Southwest [here](https://www.sxsw.com/)."
   ]
  }
 ],
 "metadata": {
  "kernelspec": {
   "display_name": "conda_python3",
   "language": "python",
   "name": "conda_python3"
  },
  "language_info": {
   "codemirror_mode": {
    "name": "ipython",
    "version": 3
   },
   "file_extension": ".py",
   "mimetype": "text/x-python",
   "name": "python",
   "nbconvert_exporter": "python",
   "pygments_lexer": "ipython3",
   "version": "3.10.10"
  }
 },
 "nbformat": 4,
 "nbformat_minor": 5
}
