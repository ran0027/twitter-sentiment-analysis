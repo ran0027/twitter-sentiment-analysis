{
 "cells": [
  {
   "cell_type": "markdown",
   "id": "2c8968f6",
   "metadata": {},
   "source": [
    "# Reflections on SXSW"
   ]
  },
  {
   "cell_type": "markdown",
   "id": "5d252a38",
   "metadata": {},
   "source": [
    "A review of Apple's marketing and branding strategies at this year's South by Southwest Conference, to help the Apple marketing team plan next year's South by Southwest campaign."
   ]
  },
  {
   "cell_type": "markdown",
   "id": "2fcbe8d5",
   "metadata": {},
   "source": [
    "## 0. Goals of the Analysis\n",
    "\n",
    "To provide an overview of the brand's perception at this year's conference: what did people like, dislike and discuss the most? How was Apple perceived relative to its competitors?\n",
    "\n",
    "- Build a classifier to \"score\" tweets as most negative, most positive and most neutral\n",
    "- Determine the most negative and most positive SXSW tweets concerning Apple and its products\n",
    "- Summarize the topics discussed in negative, neutral and positive tweets regarding Apple & its products\n",
    "\n",
    "\n",
    "Ultimately, we hope to provide concrete recommendations for next year's SXSW brand & marketing strategy based on what was successful this year."
   ]
  },
  {
   "cell_type": "markdown",
   "id": "4492c6a9",
   "metadata": {},
   "source": [
    "## Environment Set Up"
   ]
  },
  {
   "cell_type": "markdown",
   "id": "d76a264d",
   "metadata": {},
   "source": [
    "Install xgboost and gensim, and download stopwords from nltk."
   ]
  },
  {
   "cell_type": "code",
   "execution_count": 29,
   "id": "e89a47e0",
   "metadata": {},
   "outputs": [
    {
     "name": "stdout",
     "output_type": "stream",
     "text": [
      "Looking in indexes: https://pypi.org/simple, https://pip.repos.neuron.amazonaws.com\n",
      "Requirement already satisfied: xgboost in /home/ec2-user/anaconda3/envs/python3/lib/python3.10/site-packages (1.7.5)\n",
      "Requirement already satisfied: numpy in /home/ec2-user/anaconda3/envs/python3/lib/python3.10/site-packages (from xgboost) (1.22.3)\n",
      "Requirement already satisfied: scipy in /home/ec2-user/anaconda3/envs/python3/lib/python3.10/site-packages (from xgboost) (1.10.1)\n",
      "Note: you may need to restart the kernel to use updated packages.\n",
      "Looking in indexes: https://pypi.org/simple, https://pip.repos.neuron.amazonaws.com\n",
      "Requirement already satisfied: gensim in /home/ec2-user/anaconda3/envs/python3/lib/python3.10/site-packages (4.3.1)\n",
      "Requirement already satisfied: numpy>=1.18.5 in /home/ec2-user/anaconda3/envs/python3/lib/python3.10/site-packages (from gensim) (1.22.3)\n",
      "Requirement already satisfied: scipy>=1.7.0 in /home/ec2-user/anaconda3/envs/python3/lib/python3.10/site-packages (from gensim) (1.10.1)\n",
      "Requirement already satisfied: smart-open>=1.8.1 in /home/ec2-user/anaconda3/envs/python3/lib/python3.10/site-packages (from gensim) (6.3.0)\n",
      "Note: you may need to restart the kernel to use updated packages.\n"
     ]
    },
    {
     "name": "stderr",
     "output_type": "stream",
     "text": [
      "[nltk_data] Downloading package stopwords to\n",
      "[nltk_data]     /home/ec2-user/nltk_data...\n",
      "[nltk_data]   Unzipping corpora/stopwords.zip.\n"
     ]
    },
    {
     "data": {
      "text/plain": [
       "True"
      ]
     },
     "execution_count": 29,
     "metadata": {},
     "output_type": "execute_result"
    }
   ],
   "source": [
    "%pip install xgboost\n",
    "\n",
    "%pip install gensim\n",
    "\n",
    "import nltk\n",
    "nltk.download('stopwords')"
   ]
  },
  {
   "cell_type": "markdown",
   "id": "762fcf57",
   "metadata": {},
   "source": [
    "Make a list of package versions used in this environment."
   ]
  },
  {
   "cell_type": "code",
   "execution_count": 33,
   "id": "6b63774b",
   "metadata": {
    "scrolled": true
   },
   "outputs": [
    {
     "name": "stdout",
     "output_type": "stream",
     "text": [
      "sklearn==1.2.2\n",
      "nltk==3.8.1\n",
      "pandas==2.0.1\n",
      "numpy==1.22.3\n",
      "seaborn==0.12.2\n",
      "xgboost==1.7.5\n",
      "gensim==4.3.1\n",
      "xgboost==1.7.5\n",
      "gensim==4.3.1\n"
     ]
    }
   ],
   "source": [
    "import sklearn\n",
    "import pandas as pd\n",
    "import numpy as np\n",
    "import matplotlib.pyplot as plt\n",
    "import seaborn as sns\n",
    "import string\n",
    "print('\\n'.join(f'{m.__name__}=={m.__version__}' for m in globals().values() if getattr(m, '__version__', None)))\n",
    "\n",
    "import xgboost\n",
    "print(f'xgboost=={xgboost.__version__}')\n",
    "\n",
    "import gensim\n",
    "print(f'gensim=={gensim.__version__}')"
   ]
  },
  {
   "cell_type": "markdown",
   "id": "45da2668",
   "metadata": {},
   "source": [
    "Set a seed for random state."
   ]
  },
  {
   "cell_type": "code",
   "execution_count": 17,
   "id": "fc027da3",
   "metadata": {},
   "outputs": [],
   "source": [
    "seed = 8945593"
   ]
  },
  {
   "cell_type": "markdown",
   "id": "ac1cd41c",
   "metadata": {},
   "source": [
    "Import specific packages needed from various libraries."
   ]
  },
  {
   "cell_type": "code",
   "execution_count": 49,
   "id": "8db12b84",
   "metadata": {},
   "outputs": [],
   "source": [
    "# general preprocessing\n",
    "from sklearn.model_selection import train_test_split\n",
    "from sklearn.preprocessing import LabelEncoder\n",
    "\n",
    "# text-specific preprocessing\n",
    "from nltk.corpus import stopwords\n",
    "from nltk.stem import PorterStemmer\n",
    "\n",
    "# analysis\n",
    "from nltk.probability import FreqDist"
   ]
  },
  {
   "cell_type": "markdown",
   "id": "9cda0b43",
   "metadata": {},
   "source": [
    "## 1. Data Understanding\n",
    "### 1.1 Part 1\n",
    "\n",
    "[Data Source](https://data.world/crowdflower/brands-and-product-emotions)"
   ]
  },
  {
   "cell_type": "markdown",
   "id": "539998bd",
   "metadata": {},
   "source": [
    "The data was downloaded from the above link on April 21, 2023 and has been stored in .csv format in the below referenced S3 bucket."
   ]
  },
  {
   "cell_type": "code",
   "execution_count": 6,
   "id": "97e35fba",
   "metadata": {
    "scrolled": true
   },
   "outputs": [
    {
     "data": {
      "text/html": [
       "<div>\n",
       "<style scoped>\n",
       "    .dataframe tbody tr th:only-of-type {\n",
       "        vertical-align: middle;\n",
       "    }\n",
       "\n",
       "    .dataframe tbody tr th {\n",
       "        vertical-align: top;\n",
       "    }\n",
       "\n",
       "    .dataframe thead th {\n",
       "        text-align: right;\n",
       "    }\n",
       "</style>\n",
       "<table border=\"1\" class=\"dataframe\">\n",
       "  <thead>\n",
       "    <tr style=\"text-align: right;\">\n",
       "      <th></th>\n",
       "      <th>tweet_text</th>\n",
       "      <th>emotion_in_tweet_is_directed_at</th>\n",
       "      <th>is_there_an_emotion_directed_at_a_brand_or_product</th>\n",
       "    </tr>\n",
       "  </thead>\n",
       "  <tbody>\n",
       "    <tr>\n",
       "      <th>0</th>\n",
       "      <td>.@wesley83 I have a 3G iPhone. After 3 hrs twe...</td>\n",
       "      <td>iPhone</td>\n",
       "      <td>Negative emotion</td>\n",
       "    </tr>\n",
       "    <tr>\n",
       "      <th>1</th>\n",
       "      <td>@jessedee Know about @fludapp ? Awesome iPad/i...</td>\n",
       "      <td>iPad or iPhone App</td>\n",
       "      <td>Positive emotion</td>\n",
       "    </tr>\n",
       "    <tr>\n",
       "      <th>2</th>\n",
       "      <td>@swonderlin Can not wait for #iPad 2 also. The...</td>\n",
       "      <td>iPad</td>\n",
       "      <td>Positive emotion</td>\n",
       "    </tr>\n",
       "    <tr>\n",
       "      <th>3</th>\n",
       "      <td>@sxsw I hope this year's festival isn't as cra...</td>\n",
       "      <td>iPad or iPhone App</td>\n",
       "      <td>Negative emotion</td>\n",
       "    </tr>\n",
       "    <tr>\n",
       "      <th>4</th>\n",
       "      <td>@sxtxstate great stuff on Fri #SXSW: Marissa M...</td>\n",
       "      <td>Google</td>\n",
       "      <td>Positive emotion</td>\n",
       "    </tr>\n",
       "  </tbody>\n",
       "</table>\n",
       "</div>"
      ],
      "text/plain": [
       "                                          tweet_text   \n",
       "0  .@wesley83 I have a 3G iPhone. After 3 hrs twe...  \\\n",
       "1  @jessedee Know about @fludapp ? Awesome iPad/i...   \n",
       "2  @swonderlin Can not wait for #iPad 2 also. The...   \n",
       "3  @sxsw I hope this year's festival isn't as cra...   \n",
       "4  @sxtxstate great stuff on Fri #SXSW: Marissa M...   \n",
       "\n",
       "  emotion_in_tweet_is_directed_at   \n",
       "0                          iPhone  \\\n",
       "1              iPad or iPhone App   \n",
       "2                            iPad   \n",
       "3              iPad or iPhone App   \n",
       "4                          Google   \n",
       "\n",
       "  is_there_an_emotion_directed_at_a_brand_or_product  \n",
       "0                                   Negative emotion  \n",
       "1                                   Positive emotion  \n",
       "2                                   Positive emotion  \n",
       "3                                   Negative emotion  \n",
       "4                                   Positive emotion  "
      ]
     },
     "execution_count": 6,
     "metadata": {},
     "output_type": "execute_result"
    }
   ],
   "source": [
    "# load data\n",
    "\n",
    "read_bucket = \"twitter-sxsw\"\n",
    "file_name = \"judge-1377884607_tweet_product_company.csv\"\n",
    "\n",
    "data_uri = f\"s3://{read_bucket}/{file_name}\"\n",
    "data = pd.read_csv(data_uri, encoding='latin-1')\n",
    "data.head()"
   ]
  },
  {
   "cell_type": "markdown",
   "id": "321198af",
   "metadata": {},
   "source": [
    "The \"emotion_in_tweet_is_directed_at\" category indicates the specific product at which the sentiment in the tweet is directed, if possible. For ease of analysis, we will add a column titled \"brand\" which simply indicates whether the object of the sentiment is \"Apple\", \"Google\", \"Android\" (or None), so that we can explore the distribution of tweet sentiment by brand.\n",
    "\n",
    "We'll also rename the columns so that actions require less typing."
   ]
  },
  {
   "cell_type": "code",
   "execution_count": 7,
   "id": "95ba4c20",
   "metadata": {},
   "outputs": [
    {
     "data": {
      "text/html": [
       "<div>\n",
       "<style scoped>\n",
       "    .dataframe tbody tr th:only-of-type {\n",
       "        vertical-align: middle;\n",
       "    }\n",
       "\n",
       "    .dataframe tbody tr th {\n",
       "        vertical-align: top;\n",
       "    }\n",
       "\n",
       "    .dataframe thead th {\n",
       "        text-align: right;\n",
       "    }\n",
       "</style>\n",
       "<table border=\"1\" class=\"dataframe\">\n",
       "  <thead>\n",
       "    <tr style=\"text-align: right;\">\n",
       "      <th></th>\n",
       "      <th>tweet_text</th>\n",
       "      <th>object</th>\n",
       "      <th>sentiment</th>\n",
       "      <th>brand</th>\n",
       "    </tr>\n",
       "  </thead>\n",
       "  <tbody>\n",
       "    <tr>\n",
       "      <th>0</th>\n",
       "      <td>.@wesley83 I have a 3G iPhone. After 3 hrs twe...</td>\n",
       "      <td>iPhone</td>\n",
       "      <td>Negative emotion</td>\n",
       "      <td>Apple</td>\n",
       "    </tr>\n",
       "    <tr>\n",
       "      <th>1</th>\n",
       "      <td>@jessedee Know about @fludapp ? Awesome iPad/i...</td>\n",
       "      <td>iPad or iPhone App</td>\n",
       "      <td>Positive emotion</td>\n",
       "      <td>Apple</td>\n",
       "    </tr>\n",
       "    <tr>\n",
       "      <th>2</th>\n",
       "      <td>@swonderlin Can not wait for #iPad 2 also. The...</td>\n",
       "      <td>iPad</td>\n",
       "      <td>Positive emotion</td>\n",
       "      <td>Apple</td>\n",
       "    </tr>\n",
       "    <tr>\n",
       "      <th>3</th>\n",
       "      <td>@sxsw I hope this year's festival isn't as cra...</td>\n",
       "      <td>iPad or iPhone App</td>\n",
       "      <td>Negative emotion</td>\n",
       "      <td>Apple</td>\n",
       "    </tr>\n",
       "    <tr>\n",
       "      <th>4</th>\n",
       "      <td>@sxtxstate great stuff on Fri #SXSW: Marissa M...</td>\n",
       "      <td>Google</td>\n",
       "      <td>Positive emotion</td>\n",
       "      <td>Google</td>\n",
       "    </tr>\n",
       "  </tbody>\n",
       "</table>\n",
       "</div>"
      ],
      "text/plain": [
       "                                          tweet_text              object   \n",
       "0  .@wesley83 I have a 3G iPhone. After 3 hrs twe...              iPhone  \\\n",
       "1  @jessedee Know about @fludapp ? Awesome iPad/i...  iPad or iPhone App   \n",
       "2  @swonderlin Can not wait for #iPad 2 also. The...                iPad   \n",
       "3  @sxsw I hope this year's festival isn't as cra...  iPad or iPhone App   \n",
       "4  @sxtxstate great stuff on Fri #SXSW: Marissa M...              Google   \n",
       "\n",
       "          sentiment   brand  \n",
       "0  Negative emotion   Apple  \n",
       "1  Positive emotion   Apple  \n",
       "2  Positive emotion   Apple  \n",
       "3  Negative emotion   Apple  \n",
       "4  Positive emotion  Google  "
      ]
     },
     "execution_count": 7,
     "metadata": {},
     "output_type": "execute_result"
    }
   ],
   "source": [
    "# change column names for ease of use\n",
    "data.rename({'emotion_in_tweet_is_directed_at': 'object',\n",
    "             'is_there_an_emotion_directed_at_a_brand_or_product': 'sentiment'}, axis=1, inplace=True)\n",
    "\n",
    "# add column (brand)\n",
    "apple_categories = ['iPad', 'Apple', 'iPad or iPhone App', 'iPhone',\n",
    "                    'Other Apple product or service']\n",
    "\n",
    "android_categories = ['Android App', 'Android']\n",
    "\n",
    "google_categories = ['Google', 'Other Google product or service']\n",
    "\n",
    "brand_names = dict(zip(apple_categories, ['Apple']*len(apple_categories)))\n",
    "brand_names.update(dict(zip(android_categories, ['Android']*len(android_categories))))\n",
    "brand_names.update(dict(zip(google_categories, ['Google']*len(google_categories))))\n",
    "\n",
    "data['brand'] = data.object.replace(brand_names)\n",
    "\n",
    "data.head()"
   ]
  },
  {
   "cell_type": "markdown",
   "id": "338738b6",
   "metadata": {},
   "source": [
    "#### Summary\n",
    "\n",
    "- How many tweets are in the dataset overall?\n",
    "\n",
    "&nbsp;\n",
    "\n",
    "<center><b>9093 tweets</b></center>\n",
    "\n",
    "- What is the distribution of the sentiment category?\n",
    "\n",
    "| Sentiment | % of Data |\n",
    "| --- | --- |\n",
    "| Neutral | 59% |\n",
    "| Positive | 33% |\n",
    "| Negative | 6% |\n",
    "| Null | 2% |\n",
    "\n",
    "- How many null values are we dealing with for the object of the sentiment?\n",
    "\n",
    "<center><b>357 tweets</b> are labeled as having a positive or negative emotion, but do not indicate the object of the sentiment in the tweet.</center>\n",
    "\n",
    "&nbsp;\n",
    "\n",
    "- Out of tweets for which the object of the sentiment is labeled, how many have sentiment directed toward ...\n",
    "\n",
    "    - Apple? &nbsp;&nbsp; **2337 positive and negative tweets**\n",
    "    - Google? &nbsp;&nbsp; **697 positive and negative tweets**\n",
    "    - Android? &nbsp;&nbsp; **157 positive and negative tweets**\n",
    "    \n",
    "&nbsp;\n",
    "\n",
    "- What is the distribution of sentiment for each brand?\n",
    "\n",
    "<center><u>Apple and Google</u></center>\n",
    "<center>~17% negative and ~83% positive</center>\n",
    "\n",
    "&nbsp;\n",
    "\n",
    "<center><u>Android</u></center>\n",
    "<center>~10% negative and ~90% positive</center>\n",
    "\n",
    "- What is the average length of a tweet in this dataset (in words)?\n",
    "\n",
    "<center>The mean length of a tweet in this dataset is <b>18 words</b>. The shortest tweet contains only 2 words; the longest tweet contains 33 words.</center>"
   ]
  },
  {
   "cell_type": "markdown",
   "id": "0b98e0b3",
   "metadata": {},
   "source": [
    "**Visualizations**\n",
    "\n",
    "Below, graphs are generated to show the count of positive and negative tweets directed toward each brand.\n",
    "\n",
    "Tweets with \"no emotion\" or ambiguous emotion (\"I can't tell\") are not included as most neutral tweets do not specify a brand."
   ]
  },
  {
   "cell_type": "code",
   "execution_count": 47,
   "id": "dd8766c5",
   "metadata": {},
   "outputs": [],
   "source": [
    "sentiment_counts_by_brand = data.loc[~data.object.isna()].groupby(['brand', 'sentiment'])['tweet_text'].count()"
   ]
  },
  {
   "cell_type": "markdown",
   "id": "4b0157f4",
   "metadata": {},
   "source": [
    "Set style of plots to use throughout notebook.\n",
    "\n",
    "*Note: The style is meant to emulate the color palette of the first graphic on the home page of the Apple website, as of June 7, 2023, which is introducing the Apple Vision Pro.*"
   ]
  },
  {
   "cell_type": "code",
   "execution_count": 8,
   "id": "b38509d0",
   "metadata": {},
   "outputs": [],
   "source": [
    "plt.style.use(\"dark_background\")\n",
    "sns.set_palette('hsv')"
   ]
  },
  {
   "cell_type": "code",
   "execution_count": 164,
   "id": "4c470d22",
   "metadata": {
    "scrolled": true
   },
   "outputs": [
    {
     "data": {
      "image/png": "[encoded data removed]",
      "text/plain": [
       "<Figure size 600x900 with 3 Axes>"
      ]
     },
     "metadata": {},
     "output_type": "display_data"
    }
   ],
   "source": [
    "fig, ax = plt.subplots(nrows=3, figsize=(6, 9))\n",
    "\n",
    "# Android plot\n",
    "sentiment_counts_by_brand.loc[('Android',)].drop(\n",
    "    ['No emotion toward brand or product'], axis=0\n",
    ").plot(kind='barh', ax=ax[0])\n",
    "ax[0].set_title('Android-Related Tweets')\n",
    "\n",
    "# Google plot\n",
    "sentiment_counts_by_brand.loc[('Google',)].drop(\n",
    "    ['No emotion toward brand or product', \"I can't tell\"], axis=0\n",
    ").plot(kind='barh', ax=ax[1])\n",
    "ax[1].set_title('Google-Related Tweets')\n",
    "\n",
    "# Apple plot\n",
    "sentiment_counts_by_brand.loc[('Apple',)].drop(\n",
    "    ['No emotion toward brand or product', \"I can't tell\"], axis=0\n",
    ").plot(kind='barh', ax=ax[2])\n",
    "ax[2].set_title('Apple-Related Tweets')\n",
    "\n",
    "# don't label y-axis\n",
    "for axis in ax:\n",
    "    axis.set_ylabel('')\n",
    "    \n",
    "# avoid overlap of subplots\n",
    "fig.suptitle('Distribution of Sentiment for...', y=1)\n",
    "fig.tight_layout();"
   ]
  },
  {
   "cell_type": "code",
   "execution_count": 172,
   "id": "a87efab6",
   "metadata": {},
   "outputs": [
    {
     "name": "stdout",
     "output_type": "stream",
     "text": [
      "On branch main\r\n",
      "Your branch is up to date with 'origin/main'.\r\n",
      "\r\n",
      "nothing to commit, working tree clean\r\n"
     ]
    }
   ],
   "source": [
    "!git status"
   ]
  },
  {
   "cell_type": "code",
   "execution_count": 173,
   "id": "77f0d37e",
   "metadata": {},
   "outputs": [
    {
     "name": "stdout",
     "output_type": "stream",
     "text": [
      "\u001b[33m6642ec2\u001b[m\u001b[33m (\u001b[m\u001b[1;36mHEAD -> \u001b[m\u001b[1;32mmain\u001b[m\u001b[33m, \u001b[m\u001b[1;31morigin/main\u001b[m\u001b[33m, \u001b[m\u001b[1;31morigin/HEAD\u001b[m\u001b[33m)\u001b[m set up notebook environment and summarize data\r\n",
      "\u001b[33m687bb47\u001b[m Broaden hyperparameter search with Amazon SageMaker notebook\r\n",
      "\u001b[33mad863bc\u001b[m Refactor preprocessing code\r\n",
      "\u001b[33m900c8c7\u001b[m Tune several model candidates\r\n",
      "\u001b[33m943cccf\u001b[m Reorganize preprocessing steps\r\n",
      "\u001b[33m9ff1241\u001b[m More EDA\r\n",
      "\u001b[33mab23639\u001b[m Add eda step / brand breakdown\r\n",
      "\u001b[33m68b4479\u001b[m Build a neural network; test different architectures\r\n",
      "\u001b[33me76e83f\u001b[m Track negative recall score\r\n",
      "\u001b[33m87dbcf6\u001b[m Make negative recall scorer\r\n",
      "\u001b[33me00e38f\u001b[m Build stacked embedding\r\n",
      "\u001b[33m7ce8a6e\u001b[m Build custom word2vec model; try bag of words\r\n",
      "\u001b[33mf641e82\u001b[m Plot confusion matrix; tune logistic regression; try random forest\r\n",
      "\u001b[33m4041f75\u001b[m Test padding mean word vector\r\n",
      "\u001b[33m62aefa0\u001b[m Preprocess data & set up for model tuning\r\n",
      "\u001b[33m0dc62d4\u001b[m Ignore data\r\n",
      "\u001b[33m6e356bf\u001b[m Initial commit\r\n"
     ]
    }
   ],
   "source": [
    "!git log --oneline"
   ]
  },
  {
   "cell_type": "markdown",
   "id": "66a32e4c",
   "metadata": {},
   "source": [
    "## 2. Data Preparation\n",
    "### 2.1 Part 1"
   ]
  },
  {
   "cell_type": "markdown",
   "id": "759c18b1",
   "metadata": {},
   "source": [
    "Deal with null values."
   ]
  },
  {
   "cell_type": "code",
   "execution_count": 10,
   "id": "7966cbd7",
   "metadata": {},
   "outputs": [
    {
     "data": {
      "text/html": [
       "<div>\n",
       "<style scoped>\n",
       "    .dataframe tbody tr th:only-of-type {\n",
       "        vertical-align: middle;\n",
       "    }\n",
       "\n",
       "    .dataframe tbody tr th {\n",
       "        vertical-align: top;\n",
       "    }\n",
       "\n",
       "    .dataframe thead th {\n",
       "        text-align: right;\n",
       "    }\n",
       "</style>\n",
       "<table border=\"1\" class=\"dataframe\">\n",
       "  <thead>\n",
       "    <tr style=\"text-align: right;\">\n",
       "      <th></th>\n",
       "      <th>tweet_text</th>\n",
       "      <th>object</th>\n",
       "      <th>sentiment</th>\n",
       "      <th>brand</th>\n",
       "    </tr>\n",
       "  </thead>\n",
       "  <tbody>\n",
       "  </tbody>\n",
       "</table>\n",
       "</div>"
      ],
      "text/plain": [
       "Empty DataFrame\n",
       "Columns: [tweet_text, object, sentiment, brand]\n",
       "Index: []"
      ]
     },
     "execution_count": 10,
     "metadata": {},
     "output_type": "execute_result"
    }
   ],
   "source": [
    "# deal with null values\n",
    "data.loc[data.tweet_text==None]"
   ]
  },
  {
   "cell_type": "code",
   "execution_count": 13,
   "id": "5dbd0b65",
   "metadata": {},
   "outputs": [],
   "source": [
    "data.dropna(subset=['tweet_text'], axis=0, inplace=True)"
   ]
  },
  {
   "cell_type": "markdown",
   "id": "b1c083ca",
   "metadata": {},
   "source": [
    "Split the data into train, validation and test sets."
   ]
  },
  {
   "cell_type": "code",
   "execution_count": 23,
   "id": "74e4520b",
   "metadata": {},
   "outputs": [
    {
     "name": "stdout",
     "output_type": "stream",
     "text": [
      "(5454,)\n",
      "(1819,)\n",
      "(1819,)\n"
     ]
    }
   ],
   "source": [
    "X = data['tweet_text'].copy()\n",
    "y = data['sentiment'].copy()\n",
    "\n",
    "X_train, X_test, y_train, y_test = train_test_split(X, y, random_state=seed, test_size=0.2)\n",
    "X_train, X_val, y_train, y_val = train_test_split(X_train, y_train, random_state=seed, test_size=0.25)\n",
    "\n",
    "print(X_train.shape)\n",
    "print(X_val.shape)\n",
    "print(X_test.shape)"
   ]
  },
  {
   "cell_type": "markdown",
   "id": "a32e4361",
   "metadata": {},
   "source": [
    "Label encode the target."
   ]
  },
  {
   "cell_type": "code",
   "execution_count": 26,
   "id": "2f93e908",
   "metadata": {},
   "outputs": [],
   "source": [
    "# label encoding\n",
    "le = LabelEncoder()\n",
    "\n",
    "y_train_encoded = pd.Series(le.fit_transform(y_train), index=y_train.index)\n",
    "\n",
    "y_val_encoded = pd.Series(le.transform(y_val), index=y_val.index)\n",
    "y_test_encoded = pd.Series(le.transform(y_test), index=y_test.index)"
   ]
  },
  {
   "cell_type": "markdown",
   "id": "20b9d7e7",
   "metadata": {},
   "source": [
    "Remove stop words, strip punctuation, and stem or lemmatize tokens."
   ]
  },
  {
   "cell_type": "code",
   "execution_count": 45,
   "id": "d9e23574",
   "metadata": {},
   "outputs": [
    {
     "data": {
      "text/plain": [
       "5711    [fals, alarm, googl, circl, come, probabl, eve...\n",
       "8483    [notic, dst, come, weekend, mani, iphon, user,...\n",
       "7760    [said, abl, get, ipad, 2, appl, open, pop-up, ...\n",
       "6315     [might, need, go, appl, today, think, key, worn]\n",
       "3258           [get, readi, listen, parti, podcast, link]\n",
       "Name: tweet_text, dtype: object"
      ]
     },
     "execution_count": 45,
     "metadata": {},
     "output_type": "execute_result"
    }
   ],
   "source": [
    "# remove stop words, strip punctuation, and stem or lemmatize tokens\n",
    "stopwords_list = stopwords.words('english')\n",
    "stopwords_list.extend(['rt', 'sxsw', 'mention', 'quot;s&quot', 'quot;x&quot', 'quot;w&quot'])\n",
    "\n",
    "porter = PorterStemmer()\n",
    "\n",
    "X_train_stemmed = X_train.map(lambda x: [porter.stem(w.lower().strip(string.punctuation)) for w in x.split() if\\\n",
    "                                         w.lower().strip(string.punctuation) not in stopwords_list])\n",
    "X_train_stemmed.head()"
   ]
  },
  {
   "cell_type": "code",
   "execution_count": 47,
   "id": "b7dcea57",
   "metadata": {},
   "outputs": [],
   "source": [
    "X_val_stemmed = X_val.map(lambda x: [porter.stem(w.lower().strip(string.punctuation)) for w in x.split() if\\\n",
    "                                     w.lower().strip(string.punctuation) not in stopwords_list])\n",
    "X_test_stemmed = X_test.map(lambda x: [porter.stem(w.lower().strip(string.punctuation)) for w in x.split() if\\\n",
    "                                       w.lower().strip(string.punctuation) not in stopwords_list])"
   ]
  },
  {
   "cell_type": "markdown",
   "id": "aab90df8",
   "metadata": {},
   "source": [
    "## 1. Data Understanding\n",
    "### 1.2 Part 2"
   ]
  },
  {
   "cell_type": "markdown",
   "id": "56ea584f",
   "metadata": {},
   "source": [
    "Now that we have tokenized each tweet, we can build a frequency distribution for each sentiment category, for each brand. (It's possible that doing so will reveal additional stop words that ought to be removed, or some other pattern that can be captured in the data.)\n",
    "\n",
    "To analyze the word distribution for each value of the target, we need a set of all training data with the labels included."
   ]
  },
  {
   "cell_type": "code",
   "execution_count": 89,
   "id": "8faede63",
   "metadata": {},
   "outputs": [
    {
     "data": {
      "text/html": [
       "<div>\n",
       "<style scoped>\n",
       "    .dataframe tbody tr th:only-of-type {\n",
       "        vertical-align: middle;\n",
       "    }\n",
       "\n",
       "    .dataframe tbody tr th {\n",
       "        vertical-align: top;\n",
       "    }\n",
       "\n",
       "    .dataframe thead th {\n",
       "        text-align: right;\n",
       "    }\n",
       "</style>\n",
       "<table border=\"1\" class=\"dataframe\">\n",
       "  <thead>\n",
       "    <tr style=\"text-align: right;\">\n",
       "      <th></th>\n",
       "      <th>tweet_text</th>\n",
       "      <th>sentiment</th>\n",
       "    </tr>\n",
       "  </thead>\n",
       "  <tbody>\n",
       "    <tr>\n",
       "      <th>5711</th>\n",
       "      <td>fals alarm googl circl come probabl ever link ...</td>\n",
       "      <td>Negative emotion</td>\n",
       "    </tr>\n",
       "    <tr>\n",
       "      <th>8483</th>\n",
       "      <td>notic dst come weekend mani iphon user hour la...</td>\n",
       "      <td>Negative emotion</td>\n",
       "    </tr>\n",
       "    <tr>\n",
       "      <th>7760</th>\n",
       "      <td>said abl get ipad 2 appl open pop-up store aus...</td>\n",
       "      <td>No emotion toward brand or product</td>\n",
       "    </tr>\n",
       "    <tr>\n",
       "      <th>6315</th>\n",
       "      <td>might need go appl today think key worn</td>\n",
       "      <td>No emotion toward brand or product</td>\n",
       "    </tr>\n",
       "    <tr>\n",
       "      <th>3258</th>\n",
       "      <td>get readi listen parti podcast link</td>\n",
       "      <td>No emotion toward brand or product</td>\n",
       "    </tr>\n",
       "  </tbody>\n",
       "</table>\n",
       "</div>"
      ],
      "text/plain": [
       "                                             tweet_text   \n",
       "5711  fals alarm googl circl come probabl ever link ...  \\\n",
       "8483  notic dst come weekend mani iphon user hour la...   \n",
       "7760  said abl get ipad 2 appl open pop-up store aus...   \n",
       "6315            might need go appl today think key worn   \n",
       "3258                get readi listen parti podcast link   \n",
       "\n",
       "                               sentiment  \n",
       "5711                    Negative emotion  \n",
       "8483                    Negative emotion  \n",
       "7760  No emotion toward brand or product  \n",
       "6315  No emotion toward brand or product  \n",
       "3258  No emotion toward brand or product  "
      ]
     },
     "execution_count": 89,
     "metadata": {},
     "output_type": "execute_result"
    }
   ],
   "source": [
    "all_train = pd.concat([X_train_stemmed.map(lambda x: ' '.join(x)), y_train], axis=1)\n",
    "all_train.head()"
   ]
  },
  {
   "cell_type": "markdown",
   "id": "3f322331",
   "metadata": {},
   "source": [
    "Write a function to build a frequency distribution of the most common *n* words and display the results as a bar graph."
   ]
  },
  {
   "cell_type": "code",
   "execution_count": 105,
   "id": "d3f779a8",
   "metadata": {},
   "outputs": [],
   "source": [
    "def display_fdist(data, n, normalize=False):\n",
    "    '''Displays a bar graph representing the top n words in the data.'''\n",
    "    fdist = FreqDist(' '.join(data.tolist()).split())\n",
    "    top_n = {x[0]: x[1] for x in fdist.most_common(n)}\n",
    "    raw = pd.Series(top_n)\n",
    "    normalized = pd.Series(dict(zip(top_n.keys(), [x/fdist.N() for x in top_n.values()])))\n",
    "    \n",
    "    if normalize:\n",
    "        graph_data = normalized\n",
    "    else:\n",
    "        graph_data = raw\n",
    "    \n",
    "    fig, ax = plt.subplots(figsize=(4, 4))\n",
    "    \n",
    "    sns.barplot(x=graph_data.values, y=graph_data.index);"
   ]
  },
  {
   "cell_type": "markdown",
   "id": "22e7beb4",
   "metadata": {},
   "source": [
    "Examine the most frequently occurring stems across the entire training data."
   ]
  },
  {
   "cell_type": "code",
   "execution_count": 106,
   "id": "d92547f1",
   "metadata": {
    "scrolled": true
   },
   "outputs": [
    {
     "data": {
      "image/png": "[encoded data removed]",
      "text/plain": [
       "<Figure size 400x400 with 1 Axes>"
      ]
     },
     "metadata": {},
     "output_type": "display_data"
    }
   ],
   "source": [
    "display_fdist(all_train.tweet_text, 10)"
   ]
  },
  {
   "cell_type": "markdown",
   "id": "0fef4549",
   "metadata": {},
   "source": [
    "Normalizing the frequency distribution above suggests that, for modeling purposes, excluding words which occur more than 1% of the time would eliminate the top 10 words, and excluding words which occur more than 5% of the time would not eliminate any of the vocabulary."
   ]
  },
  {
   "cell_type": "code",
   "execution_count": 107,
   "id": "09d7859e",
   "metadata": {
    "scrolled": true
   },
   "outputs": [
    {
     "data": {
      "image/png": "[encoded data removed]",
      "text/plain": [
       "<Figure size 400x400 with 1 Axes>"
      ]
     },
     "metadata": {},
     "output_type": "display_data"
    }
   ],
   "source": [
    "display_fdist(all_train.tweet_text, 10, normalize=True)"
   ]
  },
  {
   "cell_type": "markdown",
   "id": "34e23ce6",
   "metadata": {},
   "source": [
    "Examine the top 20 words in the frequency distribution for negative tweets."
   ]
  },
  {
   "cell_type": "code",
   "execution_count": 112,
   "id": "bb6f78c2",
   "metadata": {},
   "outputs": [
    {
     "data": {
      "image/png": "[encoded data removed]",
      "text/plain": [
       "<Figure size 400x400 with 1 Axes>"
      ]
     },
     "metadata": {},
     "output_type": "display_data"
    }
   ],
   "source": [
    "display_fdist(all_train.loc[all_train.sentiment=='Negative emotion', 'tweet_text'], 20)"
   ]
  },
  {
   "cell_type": "markdown",
   "id": "7f9c44c2",
   "metadata": {},
   "source": [
    "Examine the top 20 words in the frequency distribution for positive tweets."
   ]
  },
  {
   "cell_type": "code",
   "execution_count": 113,
   "id": "ed62e64f",
   "metadata": {},
   "outputs": [
    {
     "data": {
      "image/png": "[encoded data removed]",
      "text/plain": [
       "<Figure size 400x400 with 1 Axes>"
      ]
     },
     "metadata": {},
     "output_type": "display_data"
    }
   ],
   "source": [
    "display_fdist(all_train.loc[all_train.sentiment=='Positive emotion', 'tweet_text'], 20)"
   ]
  },
  {
   "cell_type": "markdown",
   "id": "5bec96b7",
   "metadata": {},
   "source": [
    "Build a frequency distribution that includes bigrams (and possible trigrams.)"
   ]
  },
  {
   "cell_type": "code",
   "execution_count": 121,
   "id": "8f765e0f",
   "metadata": {},
   "outputs": [
    {
     "data": {
      "image/png": "[encoded data removed]",
      "text/plain": [
       "<Figure size 400x400 with 1 Axes>"
      ]
     },
     "metadata": {},
     "output_type": "display_data"
    }
   ],
   "source": [
    "# build a frequency distribution that includes bigrams and possibly trigrams\n",
    "top10 = FreqDist(nltk.bigrams(' '.join(all_train.tweet_text.tolist()).split())).most_common(10)\n",
    "bigram_fdist = pd.Series({x[0][0] + ' ' + x[0][1]:x[1] for x in top10})\n",
    "\n",
    "fig, ax = plt.subplots(figsize=(4, 4))\n",
    "\n",
    "sns.barplot(x=bigram_fdist.values, y=bigram_fdist.index);"
   ]
  },
  {
   "cell_type": "code",
   "execution_count": 123,
   "id": "93d2a8fe",
   "metadata": {},
   "outputs": [
    {
     "data": {
      "image/png": "[encoded data removed]",
      "text/plain": [
       "<Figure size 400x400 with 1 Axes>"
      ]
     },
     "metadata": {},
     "output_type": "display_data"
    }
   ],
   "source": [
    "# build a frequency distribution for bigrams in POSITIVE tweets\n",
    "top10 = FreqDist(nltk.bigrams(' '.join(\n",
    "    all_train.loc[all_train.sentiment=='Positive emotion', 'tweet_text'].tolist()\n",
    ").split())).most_common(10)\n",
    "bigram_fdist = pd.Series({x[0][0] + ' ' + x[0][1]:x[1] for x in top10})\n",
    "\n",
    "fig, ax = plt.subplots(figsize=(4, 4))\n",
    "\n",
    "sns.barplot(x=bigram_fdist.values, y=bigram_fdist.index);"
   ]
  },
  {
   "cell_type": "code",
   "execution_count": 124,
   "id": "48bbac73",
   "metadata": {},
   "outputs": [
    {
     "data": {
      "image/png": "[encoded data removed]",
      "text/plain": [
       "<Figure size 400x400 with 1 Axes>"
      ]
     },
     "metadata": {},
     "output_type": "display_data"
    }
   ],
   "source": [
    "# build a frequency distribution for bigrams in NEGATIVE tweets\n",
    "top10 = FreqDist(nltk.bigrams(' '.join(\n",
    "    all_train.loc[all_train.sentiment=='Negative emotion', 'tweet_text'].tolist()\n",
    ").split())).most_common(10)\n",
    "bigram_fdist = pd.Series({x[0][0] + ' ' + x[0][1]:x[1] for x in top10})\n",
    "\n",
    "fig, ax = plt.subplots(figsize=(4, 4))\n",
    "\n",
    "sns.barplot(x=bigram_fdist.values, y=bigram_fdist.index);"
   ]
  },
  {
   "cell_type": "markdown",
   "id": "a7999b32",
   "metadata": {},
   "source": [
    "## 2. Data Preparation\n",
    "### 2.2 Part 2"
   ]
  },
  {
   "cell_type": "markdown",
   "id": "6f03c5d5",
   "metadata": {},
   "source": [
    "Adjust stop words removed and lemmatization if needed."
   ]
  },
  {
   "cell_type": "code",
   "execution_count": null,
   "id": "80bb7afe",
   "metadata": {},
   "outputs": [],
   "source": []
  },
  {
   "cell_type": "markdown",
   "id": "a14dad19",
   "metadata": {},
   "source": [
    "## 3. Modeling\n",
    "### 3.1 Selecting a Vectorizer and Optimizing Hyperparameters for Each Classification Algorithm"
   ]
  },
  {
   "cell_type": "markdown",
   "id": "d6908ccd",
   "metadata": {},
   "source": [
    "Use pipelines to test different vectorization techniques with different classification algorithms.\n",
    "\n",
    "<u>Vectorizers</u>\n",
    "- Count vectorization: ngram range, min / max df, max vocab\n",
    "- \"One hot\" vectorization\n",
    "- Tfidf vectorization: same as count vectorizer settings\n",
    "- Mean word embeddings (using gensim's pretrained word2vec model)\n",
    "\n",
    "<u>Classifiers</u>\n",
    "- Decision Tree\n",
    "- Nearest Neighbors\n",
    "- Support Vector Classifier\n",
    "- Naive Bayes\n",
    "- Random Forest\n",
    "- XGBoost (other library)\n",
    "\n",
    "Use grid search and cross validation to find the optimal vectorization and hyperparameter settings for each classification algorithm."
   ]
  },
  {
   "cell_type": "markdown",
   "id": "a2f0b8ae",
   "metadata": {},
   "source": [
    "## 4. Evaluation\n",
    "### 4.1 Analyze Model Performance on Validation Set\n",
    "\n",
    "In this section, the best model(s) so far are evaluated on the validation set after being trained on the training set. Insights from the model's performance on the validation set may be used to adjust preprocessing techniques and model hyperparameters."
   ]
  },
  {
   "cell_type": "markdown",
   "id": "b7fc9ac4",
   "metadata": {},
   "source": [
    "Train the best model(s) on the training set, and analyze the performance of each model on the validation set using:\n",
    "\n",
    "- overall accuracy (visualize: raw numbers confusion matrix)\n",
    "\n",
    "- recall for each class (visualize: confusion matrix with normalize='true')\n",
    "\n",
    "- both of the above for Apple-related tweets specifically (and perhaps each brand)\n",
    "\n",
    "- grade_model_confidence function (displays bar chart with mean model accuracy as a function of model confidence in predicted class)\n",
    "\n",
    "- use LIME to investigate most negative & positive tweets, or \"most confident\" mistakes (incorrect predictions for which the model was most confident)\n",
    "\n",
    "- examine feature importances for the model"
   ]
  },
  {
   "cell_type": "markdown",
   "id": "5b27a4ca",
   "metadata": {},
   "source": [
    "## 3. Modeling\n",
    "### 3.2 Adjust Preprocessing Techniques and Model Hyperparameters"
   ]
  },
  {
   "cell_type": "markdown",
   "id": "b2411d98",
   "metadata": {},
   "source": [
    "Based on evaluation of candidate models on the validation set, consider tweaking preprocessing techniques (esp. vectorization) and model hyperparameters."
   ]
  },
  {
   "cell_type": "markdown",
   "id": "9ca6d9be",
   "metadata": {},
   "source": [
    "## 4. Evaluation\n",
    "### 4.2 Final Model Evaluation on Hold-out Test Set\n",
    "\n",
    "In this section, the single best model is evaluated on the hold-out test set to approximate model performance on unseen data. Model analytics are used to determine whether the model is worthy for deployment."
   ]
  },
  {
   "cell_type": "markdown",
   "id": "b05e75e3",
   "metadata": {},
   "source": [
    "Evaluate the best model's performance on the hold-out test set.\n",
    "\n",
    "Analyze model mistakes, grade model confidence & find most positive and negative tweets about Apple specifically."
   ]
  },
  {
   "cell_type": "markdown",
   "id": "0222af66",
   "metadata": {},
   "source": [
    "## 5. Modeling\n",
    "### 5.1 Topic Modeling for Each Brand and Sentiment Category (using LDA)\n",
    "\n",
    "If time permits, latent dirichlet allocation is used to perform topic modeling for each brand / sentiment category combination in the dataset.\n",
    "\n",
    "The goal is to generate a visualization to allow the Apple marketing team to quickly understand which \"topics\" related to Apple and its competitors were viewed positively or negatively (or received the most attention) during South by Southwest this year."
   ]
  },
  {
   "cell_type": "markdown",
   "id": "1ea4ad5f",
   "metadata": {},
   "source": [
    "Determine the optimal number of topics for each sentiment category for Apple:"
   ]
  },
  {
   "cell_type": "code",
   "execution_count": null,
   "id": "d5b86ba8",
   "metadata": {},
   "outputs": [],
   "source": []
  },
  {
   "cell_type": "markdown",
   "id": "af612a39",
   "metadata": {},
   "source": [
    "Determine the topics and their weights via clustering:"
   ]
  },
  {
   "cell_type": "code",
   "execution_count": null,
   "id": "92bffd90",
   "metadata": {},
   "outputs": [],
   "source": []
  },
  {
   "cell_type": "markdown",
   "id": "571515f0",
   "metadata": {},
   "source": [
    "Visualize the topics:"
   ]
  },
  {
   "cell_type": "code",
   "execution_count": null,
   "id": "d3fdf279",
   "metadata": {},
   "outputs": [],
   "source": []
  },
  {
   "cell_type": "markdown",
   "id": "233718ad",
   "metadata": {},
   "source": [
    "## 6. Evaluation\n",
    "### 6.1 Evaluate Topic Models"
   ]
  },
  {
   "cell_type": "markdown",
   "id": "6b0a549c",
   "metadata": {},
   "source": [
    "Compute the perplexity and coherence score for the best model."
   ]
  },
  {
   "cell_type": "code",
   "execution_count": null,
   "id": "7c87af67",
   "metadata": {},
   "outputs": [],
   "source": []
  },
  {
   "cell_type": "markdown",
   "id": "b09be031",
   "metadata": {},
   "source": [
    "## 7. Recommendations\n",
    "### 7.1 Recommendations for Apple's Next SXSW Campaign"
   ]
  },
  {
   "cell_type": "markdown",
   "id": "17e532fd",
   "metadata": {},
   "source": [
    "Based on confidence scores generated by classifier:"
   ]
  },
  {
   "cell_type": "code",
   "execution_count": null,
   "id": "bae643e8",
   "metadata": {},
   "outputs": [],
   "source": []
  },
  {
   "cell_type": "markdown",
   "id": "650c093b",
   "metadata": {},
   "source": [
    "Based on topic modeling for each brand / sentiment combination:"
   ]
  },
  {
   "cell_type": "code",
   "execution_count": null,
   "id": "ff12114a",
   "metadata": {},
   "outputs": [],
   "source": []
  },
  {
   "cell_type": "markdown",
   "id": "99b6f09e",
   "metadata": {},
   "source": [
    "## 8. Conclusion"
   ]
  },
  {
   "cell_type": "markdown",
   "id": "c71d5c70",
   "metadata": {},
   "source": [
    "<u>Possible Next Steps</u>\n",
    "\n",
    "-\n",
    "-\n",
    "\n",
    "<u>Further Reading</u>\n",
    "\n",
    "A summary of the results from this analysis can be found in [this presentation]().\n",
    "\n",
    "Learn more about South by Southwest [here](https://www.sxsw.com/)."
   ]
  }
 ],
 "metadata": {
  "kernelspec": {
   "display_name": "conda_python3",
   "language": "python",
   "name": "conda_python3"
  },
  "language_info": {
   "codemirror_mode": {
    "name": "ipython",
    "version": 3
   },
   "file_extension": ".py",
   "mimetype": "text/x-python",
   "name": "python",
   "nbconvert_exporter": "python",
   "pygments_lexer": "ipython3",
   "version": "3.10.10"
  }
 },
 "nbformat": 4,
 "nbformat_minor": 5
}
