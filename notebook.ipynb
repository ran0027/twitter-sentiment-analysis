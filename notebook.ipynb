{
 "cells": [
  {
   "cell_type": "markdown",
   "metadata": {},
   "source": [
    "# Tweet Sentiment Analysis"
   ]
  },
  {
   "cell_type": "markdown",
   "metadata": {},
   "source": [
    "[Data Source](https://data.world/crowdflower/brands-and-product-emotions)"
   ]
  },
  {
   "cell_type": "markdown",
   "metadata": {},
   "source": [
    "## Imports"
   ]
  },
  {
   "cell_type": "code",
   "execution_count": 1,
   "metadata": {},
   "outputs": [],
   "source": [
    "import pandas as pd\n",
    "import numpy as np\n",
    "\n",
    "import matplotlib.pyplot as plt\n",
    "\n",
    "# set a random seed for reproducibility\n",
    "seed = 3490"
   ]
  },
  {
   "cell_type": "markdown",
   "metadata": {},
   "source": [
    "## Load Data"
   ]
  },
  {
   "cell_type": "code",
   "execution_count": 2,
   "metadata": {
    "scrolled": true
   },
   "outputs": [
    {
     "name": "stdout",
     "output_type": "stream",
     "text": [
      "latin1\n"
     ]
    },
    {
     "data": {
      "text/html": [
       "<div>\n",
       "<style scoped>\n",
       "    .dataframe tbody tr th:only-of-type {\n",
       "        vertical-align: middle;\n",
       "    }\n",
       "\n",
       "    .dataframe tbody tr th {\n",
       "        vertical-align: top;\n",
       "    }\n",
       "\n",
       "    .dataframe thead th {\n",
       "        text-align: right;\n",
       "    }\n",
       "</style>\n",
       "<table border=\"1\" class=\"dataframe\">\n",
       "  <thead>\n",
       "    <tr style=\"text-align: right;\">\n",
       "      <th></th>\n",
       "      <th>tweet_text</th>\n",
       "      <th>emotion_in_tweet_is_directed_at</th>\n",
       "      <th>is_there_an_emotion_directed_at_a_brand_or_product</th>\n",
       "    </tr>\n",
       "  </thead>\n",
       "  <tbody>\n",
       "    <tr>\n",
       "      <th>0</th>\n",
       "      <td>.@wesley83 I have a 3G iPhone. After 3 hrs twe...</td>\n",
       "      <td>iPhone</td>\n",
       "      <td>Negative emotion</td>\n",
       "    </tr>\n",
       "    <tr>\n",
       "      <th>1</th>\n",
       "      <td>@jessedee Know about @fludapp ? Awesome iPad/i...</td>\n",
       "      <td>iPad or iPhone App</td>\n",
       "      <td>Positive emotion</td>\n",
       "    </tr>\n",
       "    <tr>\n",
       "      <th>2</th>\n",
       "      <td>@swonderlin Can not wait for #iPad 2 also. The...</td>\n",
       "      <td>iPad</td>\n",
       "      <td>Positive emotion</td>\n",
       "    </tr>\n",
       "    <tr>\n",
       "      <th>3</th>\n",
       "      <td>@sxsw I hope this year's festival isn't as cra...</td>\n",
       "      <td>iPad or iPhone App</td>\n",
       "      <td>Negative emotion</td>\n",
       "    </tr>\n",
       "    <tr>\n",
       "      <th>4</th>\n",
       "      <td>@sxtxstate great stuff on Fri #SXSW: Marissa M...</td>\n",
       "      <td>Google</td>\n",
       "      <td>Positive emotion</td>\n",
       "    </tr>\n",
       "  </tbody>\n",
       "</table>\n",
       "</div>"
      ],
      "text/plain": [
       "                                          tweet_text  \\\n",
       "0  .@wesley83 I have a 3G iPhone. After 3 hrs twe...   \n",
       "1  @jessedee Know about @fludapp ? Awesome iPad/i...   \n",
       "2  @swonderlin Can not wait for #iPad 2 also. The...   \n",
       "3  @sxsw I hope this year's festival isn't as cra...   \n",
       "4  @sxtxstate great stuff on Fri #SXSW: Marissa M...   \n",
       "\n",
       "  emotion_in_tweet_is_directed_at  \\\n",
       "0                          iPhone   \n",
       "1              iPad or iPhone App   \n",
       "2                            iPad   \n",
       "3              iPad or iPhone App   \n",
       "4                          Google   \n",
       "\n",
       "  is_there_an_emotion_directed_at_a_brand_or_product  \n",
       "0                                   Negative emotion  \n",
       "1                                   Positive emotion  \n",
       "2                                   Positive emotion  \n",
       "3                                   Negative emotion  \n",
       "4                                   Positive emotion  "
      ]
     },
     "execution_count": 2,
     "metadata": {},
     "output_type": "execute_result"
    }
   ],
   "source": [
    "encodings = [\"utf-8-sig\", \"cp1252\", \"iso-8859-1\", \"latin1\"]\n",
    "for encoding in encodings:\n",
    "    try:\n",
    "        data = pd.read_csv('data/judge-1377884607_tweet_product_company.csv', encoding=encoding)\n",
    "    except:\n",
    "        continue\n",
    "print(encoding)\n",
    "data.head()"
   ]
  },
  {
   "cell_type": "markdown",
   "metadata": {},
   "source": [
    "## Explore Data"
   ]
  },
  {
   "cell_type": "code",
   "execution_count": 3,
   "metadata": {},
   "outputs": [
    {
     "name": "stdout",
     "output_type": "stream",
     "text": [
      "How much data do we have?\n",
      "9093 records.\n",
      "\n",
      "\n",
      "Example of a tweet in the dataset:\n",
      "\".@wesley83 I have a 3G iPhone. After 3 hrs tweeting at #RISE_Austin, it was dead!  I need to upgrade. Plugin stations at #SXSW.\"\n",
      "\n",
      "\n",
      "Which products are the tweets concerning?\n",
      "['iPad', 'Apple', 'iPad or iPhone App', 'Google', 'iPhone', 'Other Google product or service', 'Android App', 'Android', 'Other Apple product or service']\n",
      "\n",
      "\n",
      "Is this an imbalanced classification problem?\n",
      "No emotion toward brand or product    0.592654\n",
      "Positive emotion                      0.327505\n",
      "Negative emotion                      0.062686\n",
      "I can't tell                          0.017156\n",
      "Name: is_there_an_emotion_directed_at_a_brand_or_product, dtype: float64\n"
     ]
    }
   ],
   "source": [
    "print(f'How much data do we have?\\n{data.shape[0]} records.')\n",
    "print('\\n')\n",
    "print(f'Example of a tweet in the dataset:\\n\"{data.tweet_text[0]}\"')\n",
    "print('\\n')\n",
    "print(f'Which products are the tweets concerning?\\n{list(data.emotion_in_tweet_is_directed_at.value_counts().index)}')\n",
    "print('\\n')\n",
    "class_distribution = data.is_there_an_emotion_directed_at_a_brand_or_product.value_counts(normalize=True)\n",
    "print(f'Is this an imbalanced classification problem?\\n{class_distribution}')"
   ]
  },
  {
   "cell_type": "markdown",
   "metadata": {},
   "source": [
    "This is definitely an imbalanced classification problem (in terms of sentiment.)\n",
    "\n",
    "How much is each brand represented in the dataset?"
   ]
  },
  {
   "cell_type": "code",
   "execution_count": 4,
   "metadata": {},
   "outputs": [],
   "source": [
    "apple_categories = ['iPad', 'Apple', 'iPad or iPhone App', 'iPhone',\n",
    "                    'Other Apple product or service']\n",
    "\n",
    "android_categories = ['Android App', 'Android']\n",
    "\n",
    "google_categories = ['Google', 'Other Google product or service']"
   ]
  },
  {
   "cell_type": "code",
   "execution_count": 19,
   "metadata": {},
   "outputs": [
    {
     "data": {
      "image/png": "[encoded data removed]",
      "text/plain": [
       "<Figure size 1200x800 with 3 Axes>"
      ]
     },
     "metadata": {},
     "output_type": "display_data"
    }
   ],
   "source": [
    "brands = [apple_categories, android_categories, google_categories]\n",
    "\n",
    "fig, ax = plt.subplots(nrows=3, figsize=(12, 8), sharex=True)\n",
    "\n",
    "for i, brand in enumerate(brands):\n",
    "    plt.sca(ax[i])\n",
    "    data.loc[data.emotion_in_tweet_is_directed_at.isin(brand),\n",
    "         'is_there_an_emotion_directed_at_a_brand_or_product'].value_counts().plot(\n",
    "    kind='barh')\n",
    "    ax[i].set_title(f'{brand}')\n",
    "    \n",
    "fig.tight_layout();"
   ]
  },
  {
   "cell_type": "markdown",
   "metadata": {},
   "source": [
    "## Prepare Data for Modeling"
   ]
  },
  {
   "cell_type": "markdown",
   "metadata": {},
   "source": [
    "**Handle Missing Data**"
   ]
  },
  {
   "cell_type": "markdown",
   "metadata": {},
   "source": [
    "Check for missing data."
   ]
  },
  {
   "cell_type": "code",
   "execution_count": 12,
   "metadata": {},
   "outputs": [
    {
     "data": {
      "text/plain": [
       "tweet_text                                               1\n",
       "emotion_in_tweet_is_directed_at                       5802\n",
       "is_there_an_emotion_directed_at_a_brand_or_product       0\n",
       "dtype: int64"
      ]
     },
     "execution_count": 12,
     "metadata": {},
     "output_type": "execute_result"
    }
   ],
   "source": [
    "data.isna().sum()"
   ]
  },
  {
   "cell_type": "markdown",
   "metadata": {},
   "source": [
    "For now, we will ignore towards which product the sentiment in the tweet is directed, which allows us to ignore the missing data in the \"emotion_in_tweet_is_directed_at\" column."
   ]
  },
  {
   "cell_type": "markdown",
   "metadata": {},
   "source": [
    "View the record which is missing \"tweet_text\" data."
   ]
  },
  {
   "cell_type": "code",
   "execution_count": 15,
   "metadata": {},
   "outputs": [
    {
     "data": {
      "text/html": [
       "<div>\n",
       "<style scoped>\n",
       "    .dataframe tbody tr th:only-of-type {\n",
       "        vertical-align: middle;\n",
       "    }\n",
       "\n",
       "    .dataframe tbody tr th {\n",
       "        vertical-align: top;\n",
       "    }\n",
       "\n",
       "    .dataframe thead th {\n",
       "        text-align: right;\n",
       "    }\n",
       "</style>\n",
       "<table border=\"1\" class=\"dataframe\">\n",
       "  <thead>\n",
       "    <tr style=\"text-align: right;\">\n",
       "      <th></th>\n",
       "      <th>tweet_text</th>\n",
       "      <th>emotion_in_tweet_is_directed_at</th>\n",
       "      <th>is_there_an_emotion_directed_at_a_brand_or_product</th>\n",
       "    </tr>\n",
       "  </thead>\n",
       "  <tbody>\n",
       "  </tbody>\n",
       "</table>\n",
       "</div>"
      ],
      "text/plain": [
       "Empty DataFrame\n",
       "Columns: [tweet_text, emotion_in_tweet_is_directed_at, is_there_an_emotion_directed_at_a_brand_or_product]\n",
       "Index: []"
      ]
     },
     "execution_count": 15,
     "metadata": {},
     "output_type": "execute_result"
    }
   ],
   "source": [
    "data.loc[data.tweet_text == None]"
   ]
  },
  {
   "cell_type": "markdown",
   "metadata": {},
   "source": [
    "We can safely drop this record."
   ]
  },
  {
   "cell_type": "code",
   "execution_count": 3,
   "metadata": {},
   "outputs": [],
   "source": [
    "clean_data = data.dropna(subset=['tweet_text'])"
   ]
  },
  {
   "cell_type": "markdown",
   "metadata": {},
   "source": [
    "**Drop Data for Which Sentiment Category is \"I can't tell\"**"
   ]
  },
  {
   "cell_type": "code",
   "execution_count": 4,
   "metadata": {},
   "outputs": [],
   "source": [
    "clean_data = clean_data.loc[clean_data.is_there_an_emotion_directed_at_a_brand_or_product != \"I can't tell\"]"
   ]
  },
  {
   "cell_type": "markdown",
   "metadata": {},
   "source": [
    "**Drop Column Specifying At Which Product the Sentiment is Directed**"
   ]
  },
  {
   "cell_type": "code",
   "execution_count": 5,
   "metadata": {},
   "outputs": [],
   "source": [
    "clean_data = clean_data.drop(columns='emotion_in_tweet_is_directed_at')"
   ]
  },
  {
   "cell_type": "markdown",
   "metadata": {},
   "source": [
    "**Rename Sentiment Column**"
   ]
  },
  {
   "cell_type": "code",
   "execution_count": 6,
   "metadata": {},
   "outputs": [],
   "source": [
    "clean_data = clean_data.rename({'is_there_an_emotion_directed_at_a_brand_or_product': 'sentiment'}, axis=1)"
   ]
  },
  {
   "cell_type": "markdown",
   "metadata": {},
   "source": [
    "**Inspect First Few Rows of Cleaned Data:**"
   ]
  },
  {
   "cell_type": "code",
   "execution_count": 7,
   "metadata": {},
   "outputs": [
    {
     "data": {
      "text/html": [
       "<div>\n",
       "<style scoped>\n",
       "    .dataframe tbody tr th:only-of-type {\n",
       "        vertical-align: middle;\n",
       "    }\n",
       "\n",
       "    .dataframe tbody tr th {\n",
       "        vertical-align: top;\n",
       "    }\n",
       "\n",
       "    .dataframe thead th {\n",
       "        text-align: right;\n",
       "    }\n",
       "</style>\n",
       "<table border=\"1\" class=\"dataframe\">\n",
       "  <thead>\n",
       "    <tr style=\"text-align: right;\">\n",
       "      <th></th>\n",
       "      <th>tweet_text</th>\n",
       "      <th>sentiment</th>\n",
       "    </tr>\n",
       "  </thead>\n",
       "  <tbody>\n",
       "    <tr>\n",
       "      <th>0</th>\n",
       "      <td>.@wesley83 I have a 3G iPhone. After 3 hrs twe...</td>\n",
       "      <td>Negative emotion</td>\n",
       "    </tr>\n",
       "    <tr>\n",
       "      <th>1</th>\n",
       "      <td>@jessedee Know about @fludapp ? Awesome iPad/i...</td>\n",
       "      <td>Positive emotion</td>\n",
       "    </tr>\n",
       "    <tr>\n",
       "      <th>2</th>\n",
       "      <td>@swonderlin Can not wait for #iPad 2 also. The...</td>\n",
       "      <td>Positive emotion</td>\n",
       "    </tr>\n",
       "    <tr>\n",
       "      <th>3</th>\n",
       "      <td>@sxsw I hope this year's festival isn't as cra...</td>\n",
       "      <td>Negative emotion</td>\n",
       "    </tr>\n",
       "    <tr>\n",
       "      <th>4</th>\n",
       "      <td>@sxtxstate great stuff on Fri #SXSW: Marissa M...</td>\n",
       "      <td>Positive emotion</td>\n",
       "    </tr>\n",
       "  </tbody>\n",
       "</table>\n",
       "</div>"
      ],
      "text/plain": [
       "                                          tweet_text         sentiment\n",
       "0  .@wesley83 I have a 3G iPhone. After 3 hrs twe...  Negative emotion\n",
       "1  @jessedee Know about @fludapp ? Awesome iPad/i...  Positive emotion\n",
       "2  @swonderlin Can not wait for #iPad 2 also. The...  Positive emotion\n",
       "3  @sxsw I hope this year's festival isn't as cra...  Negative emotion\n",
       "4  @sxtxstate great stuff on Fri #SXSW: Marissa M...  Positive emotion"
      ]
     },
     "execution_count": 7,
     "metadata": {},
     "output_type": "execute_result"
    }
   ],
   "source": [
    "clean_data.head()"
   ]
  },
  {
   "cell_type": "code",
   "execution_count": 8,
   "metadata": {},
   "outputs": [
    {
     "data": {
      "text/plain": [
       "(8936, 2)"
      ]
     },
     "execution_count": 8,
     "metadata": {},
     "output_type": "execute_result"
    }
   ],
   "source": [
    "clean_data.shape"
   ]
  },
  {
   "cell_type": "markdown",
   "metadata": {},
   "source": [
    "## Load Pre-trained GloVe Vectors"
   ]
  },
  {
   "cell_type": "markdown",
   "metadata": {},
   "source": [
    "Load pre-trained word vectors (to give more context to our 9000 or so tweets.)"
   ]
  },
  {
   "cell_type": "code",
   "execution_count": 10,
   "metadata": {},
   "outputs": [],
   "source": [
    "with open('data/glove.twitter.27B.50d.txt') as f:\n",
    "    lines = f.readlines()"
   ]
  },
  {
   "cell_type": "code",
   "execution_count": 11,
   "metadata": {},
   "outputs": [],
   "source": [
    "glove = dict()\n",
    "\n",
    "for line in lines:\n",
    "    items = line.split()\n",
    "    word = items[0]\n",
    "    vector = items[1:]\n",
    "    glove[word] = [float(component) for component in vector]"
   ]
  },
  {
   "cell_type": "markdown",
   "metadata": {},
   "source": [
    "Save to file, so we don't have to run the above code every time we restart the kernel."
   ]
  },
  {
   "cell_type": "code",
   "execution_count": 13,
   "metadata": {},
   "outputs": [],
   "source": [
    "import json\n",
    "with open(\"data/glove.txt\", \"w\") as filepath:\n",
    "    json.dump(glove, filepath) "
   ]
  },
  {
   "cell_type": "markdown",
   "metadata": {},
   "source": [
    "**Load preprocessed glove dictionary here:**"
   ]
  },
  {
   "cell_type": "code",
   "execution_count": 9,
   "metadata": {},
   "outputs": [],
   "source": [
    "import json\n",
    "with open(\"data/glove.txt\", \"r\") as file:\n",
    "    glove = json.load(file)"
   ]
  },
  {
   "cell_type": "code",
   "execution_count": 10,
   "metadata": {},
   "outputs": [
    {
     "data": {
      "text/plain": [
       "1193514"
      ]
     },
     "execution_count": 10,
     "metadata": {},
     "output_type": "execute_result"
    }
   ],
   "source": [
    "len(glove.keys())"
   ]
  },
  {
   "cell_type": "markdown",
   "metadata": {},
   "source": [
    "We have 1,193,514 words and characters which have been vectorized for us (in the context of Twitter.)"
   ]
  },
  {
   "cell_type": "markdown",
   "metadata": {},
   "source": [
    "## Train Test Split"
   ]
  },
  {
   "cell_type": "markdown",
   "metadata": {},
   "source": [
    "The next step is to split our data into training and testing sets, and then preprocess the tweet text for our classifier using our glove vectors."
   ]
  },
  {
   "cell_type": "code",
   "execution_count": 11,
   "metadata": {},
   "outputs": [
    {
     "data": {
      "text/plain": [
       "8841    Next #SXSW we're heading to is about designing...\n",
       "1099    Talked to some great developers at the Android...\n",
       "Name: tweet_text, dtype: object"
      ]
     },
     "execution_count": 11,
     "metadata": {},
     "output_type": "execute_result"
    }
   ],
   "source": [
    "from sklearn.model_selection import train_test_split\n",
    "\n",
    "X_train, X_test, y_train, y_test = train_test_split(clean_data['tweet_text'],\n",
    "                                                    clean_data['sentiment'],\n",
    "                                                    test_size=0.2,\n",
    "                                                    random_state=seed)\n",
    "\n",
    "X_train.head(2)"
   ]
  },
  {
   "cell_type": "markdown",
   "metadata": {},
   "source": [
    "## Vectorize Tweets for Modeling"
   ]
  },
  {
   "cell_type": "markdown",
   "metadata": {},
   "source": [
    "Define a function to go through the text of each tweet and get the (GloVe) vector representation for each word, then mind the mean word vector for the entire tweet."
   ]
  },
  {
   "cell_type": "code",
   "execution_count": 12,
   "metadata": {},
   "outputs": [],
   "source": [
    "import string\n",
    "\n",
    "def get_mean_word_vector(tweet):\n",
    "    tokens = tweet.split()\n",
    "    tweet_vectors = []\n",
    "    for token in tokens:\n",
    "        try:\n",
    "            tweet_vectors.append(glove[token.lower().strip(string.punctuation)])\n",
    "        except:\n",
    "#             print(token)     we're losing quite a few tokens, but will ignore for now\n",
    "            continue\n",
    "    return np.mean(np.array(tweet_vectors), axis=0)"
   ]
  },
  {
   "cell_type": "markdown",
   "metadata": {},
   "source": [
    "Note that this function does not pad each tweet. I am curious to see the effect of padding versus not padding on the classifier."
   ]
  },
  {
   "cell_type": "code",
   "execution_count": 13,
   "metadata": {},
   "outputs": [],
   "source": [
    "X_train_preprocessed = X_train.apply(get_mean_word_vector)"
   ]
  },
  {
   "cell_type": "code",
   "execution_count": 14,
   "metadata": {},
   "outputs": [],
   "source": [
    "X_test_preprocessed = X_test.apply(get_mean_word_vector)"
   ]
  },
  {
   "cell_type": "markdown",
   "metadata": {},
   "source": [
    "The series above are not in the correct format for a scikit learn classifier. To convert to a matrix of features, use the below loop:"
   ]
  },
  {
   "cell_type": "code",
   "execution_count": 15,
   "metadata": {},
   "outputs": [],
   "source": [
    "preprocessed_values = dict()\n",
    "\n",
    "for i in range(50):\n",
    "    label = f'feature_{i}'\n",
    "    values = [vector[i] for vector in X_train_preprocessed.values]\n",
    "    preprocessed_values[label] = values\n",
    "\n",
    "final_X_train = pd.DataFrame(preprocessed_values, index=X_train.index)"
   ]
  },
  {
   "cell_type": "code",
   "execution_count": 16,
   "metadata": {},
   "outputs": [],
   "source": [
    "preprocessed_values = dict()\n",
    "\n",
    "for i in range(50):\n",
    "    label = f'feature_{i}'\n",
    "    values = [vector[i] for vector in X_test_preprocessed.values]\n",
    "    preprocessed_values[label] = values\n",
    "\n",
    "final_X_test = pd.DataFrame(preprocessed_values, index=X_test.index)"
   ]
  },
  {
   "cell_type": "markdown",
   "metadata": {},
   "source": [
    "## Label Encode Target"
   ]
  },
  {
   "cell_type": "markdown",
   "metadata": {},
   "source": [
    "Label encode the target."
   ]
  },
  {
   "cell_type": "code",
   "execution_count": 15,
   "metadata": {},
   "outputs": [
    {
     "name": "stdout",
     "output_type": "stream",
     "text": [
      "['Negative emotion' 'No emotion toward brand or product'\n",
      " 'Positive emotion']\n"
     ]
    }
   ],
   "source": [
    "from sklearn.preprocessing import LabelEncoder\n",
    "\n",
    "le = LabelEncoder()\n",
    "\n",
    "y_train_preprocessed = le.fit_transform(y_train)\n",
    "y_test_preprocessed = le.transform(y_test)\n",
    "\n",
    "print(le.classes_)"
   ]
  },
  {
   "cell_type": "markdown",
   "metadata": {},
   "source": [
    "## Store Modeling Results"
   ]
  },
  {
   "cell_type": "markdown",
   "metadata": {},
   "source": [
    "To keep up with the performance of different models, build a dictionary for scores."
   ]
  },
  {
   "cell_type": "code",
   "execution_count": 18,
   "metadata": {},
   "outputs": [],
   "source": [
    "model_eval = {'name': [], 'model': [], 'accuracy': []}\n",
    "\n",
    "from sklearn.base import clone # to store models"
   ]
  },
  {
   "cell_type": "markdown",
   "metadata": {},
   "source": [
    "## Build Baseline Classifier"
   ]
  },
  {
   "cell_type": "markdown",
   "metadata": {},
   "source": [
    "Options for classifier:\n",
    "\n",
    "- logistic regression\n",
    "- decision tree\n",
    "- k nearest neighbors\n",
    "- random forest\n",
    "- boosted random forest"
   ]
  },
  {
   "cell_type": "markdown",
   "metadata": {},
   "source": [
    "Our baseline classifier will be a logistic regression."
   ]
  },
  {
   "cell_type": "code",
   "execution_count": 19,
   "metadata": {},
   "outputs": [],
   "source": [
    "from sklearn.linear_model import LogisticRegression"
   ]
  },
  {
   "cell_type": "markdown",
   "metadata": {},
   "source": [
    "For logistic regression, the data needs to be scaled."
   ]
  },
  {
   "cell_type": "code",
   "execution_count": 20,
   "metadata": {},
   "outputs": [],
   "source": [
    "from sklearn.preprocessing import StandardScaler\n",
    "\n",
    "ss = StandardScaler()\n",
    "\n",
    "scaled_X_train = ss.fit_transform(final_X_train)\n",
    "scaled_X_test = ss.transform(final_X_test)"
   ]
  },
  {
   "cell_type": "markdown",
   "metadata": {},
   "source": [
    "Perform cross validation on the scaled training data."
   ]
  },
  {
   "cell_type": "code",
   "execution_count": 21,
   "metadata": {},
   "outputs": [],
   "source": [
    "from sklearn.model_selection import cross_val_score"
   ]
  },
  {
   "cell_type": "code",
   "execution_count": 22,
   "metadata": {},
   "outputs": [
    {
     "data": {
      "text/plain": [
       "array([0.64615385, 0.63706294, 0.63916084, 0.6550035 , 0.64660602])"
      ]
     },
     "execution_count": 22,
     "metadata": {},
     "output_type": "execute_result"
    }
   ],
   "source": [
    "baseline = LogisticRegression(random_state=seed)\n",
    "\n",
    "cross_val_score(baseline, scaled_X_train, y_train_preprocessed)"
   ]
  },
  {
   "cell_type": "code",
   "execution_count": 23,
   "metadata": {},
   "outputs": [
    {
     "data": {
      "text/plain": [
       "array([0.04597701, 0.17241379, 0.08045977, 0.05813953, 0.12643678])"
      ]
     },
     "execution_count": 23,
     "metadata": {},
     "output_type": "execute_result"
    }
   ],
   "source": [
    "from sklearn.metrics import make_scorer\n",
    "\n",
    "def neg_recall_score(y_true, y_preds):\n",
    "    tn = 0\n",
    "    fp = 0\n",
    "    for true_label, predicted_label in zip(y_true, y_preds):\n",
    "        if true_label == 0:\n",
    "            if predicted_label == true_label:\n",
    "                tn += 1\n",
    "            else:\n",
    "                fp += 1\n",
    "    return tn / (tn + fp)\n",
    "\n",
    "negative_recall_score = make_scorer(neg_recall_score)\n",
    "\n",
    "cross_val_score(baseline, scaled_X_train, y_train_preprocessed, scoring=negative_recall_score)"
   ]
  },
  {
   "cell_type": "markdown",
   "metadata": {},
   "source": [
    "Store the results."
   ]
  },
  {
   "cell_type": "code",
   "execution_count": 24,
   "metadata": {},
   "outputs": [
    {
     "data": {
      "text/html": [
       "<div>\n",
       "<style scoped>\n",
       "    .dataframe tbody tr th:only-of-type {\n",
       "        vertical-align: middle;\n",
       "    }\n",
       "\n",
       "    .dataframe tbody tr th {\n",
       "        vertical-align: top;\n",
       "    }\n",
       "\n",
       "    .dataframe thead th {\n",
       "        text-align: right;\n",
       "    }\n",
       "</style>\n",
       "<table border=\"1\" class=\"dataframe\">\n",
       "  <thead>\n",
       "    <tr style=\"text-align: right;\">\n",
       "      <th></th>\n",
       "      <th>name</th>\n",
       "      <th>model</th>\n",
       "      <th>accuracy</th>\n",
       "    </tr>\n",
       "  </thead>\n",
       "  <tbody>\n",
       "    <tr>\n",
       "      <th>0</th>\n",
       "      <td>baseline</td>\n",
       "      <td>LogisticRegression(random_state=3490)</td>\n",
       "      <td>0.644797</td>\n",
       "    </tr>\n",
       "  </tbody>\n",
       "</table>\n",
       "</div>"
      ],
      "text/plain": [
       "       name                                  model  accuracy\n",
       "0  baseline  LogisticRegression(random_state=3490)  0.644797"
      ]
     },
     "execution_count": 24,
     "metadata": {},
     "output_type": "execute_result"
    }
   ],
   "source": [
    "model_eval['name'].append('baseline')\n",
    "model_eval['model'].append(clone(baseline))\n",
    "model_eval['accuracy'].append(np.mean(cross_val_score(baseline, scaled_X_train, y_train_preprocessed)))\n",
    "pd.DataFrame(model_eval)"
   ]
  },
  {
   "cell_type": "code",
   "execution_count": 25,
   "metadata": {},
   "outputs": [],
   "source": [
    "neg_recall_eval = {'name': [], 'model': [], 'recall_of_negative_tweets': []}"
   ]
  },
  {
   "cell_type": "code",
   "execution_count": 26,
   "metadata": {},
   "outputs": [
    {
     "data": {
      "text/html": [
       "<div>\n",
       "<style scoped>\n",
       "    .dataframe tbody tr th:only-of-type {\n",
       "        vertical-align: middle;\n",
       "    }\n",
       "\n",
       "    .dataframe tbody tr th {\n",
       "        vertical-align: top;\n",
       "    }\n",
       "\n",
       "    .dataframe thead th {\n",
       "        text-align: right;\n",
       "    }\n",
       "</style>\n",
       "<table border=\"1\" class=\"dataframe\">\n",
       "  <thead>\n",
       "    <tr style=\"text-align: right;\">\n",
       "      <th></th>\n",
       "      <th>name</th>\n",
       "      <th>model</th>\n",
       "      <th>recall_of_negative_tweets</th>\n",
       "    </tr>\n",
       "  </thead>\n",
       "  <tbody>\n",
       "    <tr>\n",
       "      <th>0</th>\n",
       "      <td>baseline</td>\n",
       "      <td>LogisticRegression(random_state=3490)</td>\n",
       "      <td>0.096685</td>\n",
       "    </tr>\n",
       "  </tbody>\n",
       "</table>\n",
       "</div>"
      ],
      "text/plain": [
       "       name                                  model  recall_of_negative_tweets\n",
       "0  baseline  LogisticRegression(random_state=3490)                   0.096685"
      ]
     },
     "execution_count": 26,
     "metadata": {},
     "output_type": "execute_result"
    }
   ],
   "source": [
    "neg_recall_eval['name'].append('baseline')\n",
    "neg_recall_eval['model'].append(clone(baseline))\n",
    "neg_recall_eval['recall_of_negative_tweets'].append(\n",
    "np.mean(cross_val_score(baseline, scaled_X_train, y_train_preprocessed, scoring=negative_recall_score)))\n",
    "pd.DataFrame(neg_recall_eval)"
   ]
  },
  {
   "cell_type": "markdown",
   "metadata": {},
   "source": [
    "Explore the results a little more. Examine where the model is making correct predictions and where it is making incorrect predictions."
   ]
  },
  {
   "cell_type": "code",
   "execution_count": 27,
   "metadata": {},
   "outputs": [
    {
     "data": {
      "image/png": "[encoded data removed]",
      "text/plain": [
       "<Figure size 432x288 with 2 Axes>"
      ]
     },
     "metadata": {
      "needs_background": "light"
     },
     "output_type": "display_data"
    }
   ],
   "source": [
    "from sklearn.metrics import confusion_matrix, ConfusionMatrixDisplay\n",
    "from sklearn.model_selection import KFold\n",
    "\n",
    "kfolds = KFold(n_splits=2, shuffle=True, random_state=seed)\n",
    "\n",
    "for train, test in kfolds.split(scaled_X_train, y_train_preprocessed):\n",
    "    train_split = train\n",
    "    test_split = test\n",
    "    break\n",
    "    \n",
    "baseline.fit(scaled_X_train[train_split], y_train_preprocessed[train_split])\n",
    "ConfusionMatrixDisplay(confusion_matrix(y_train_preprocessed[test_split],\n",
    "                                        baseline.predict(scaled_X_train[test_split])\n",
    "                                       )).plot();"
   ]
  },
  {
   "cell_type": "code",
   "execution_count": 28,
   "metadata": {},
   "outputs": [
    {
     "name": "stdout",
     "output_type": "stream",
     "text": [
      "The model is predicting the majority class \"No emotion toward brand or product\" quite well.\n",
      "The model is classifying a large proportion of the other two classes as the majority class.\n"
     ]
    }
   ],
   "source": [
    "print(f'The model is predicting the majority class \"{le.classes_[1]}\" quite well.')\n",
    "print(f'The model is classifying a large proportion of the other two classes as the majority class.')"
   ]
  },
  {
   "cell_type": "markdown",
   "metadata": {},
   "source": [
    "Here is the percentage of each true class which is correctly labeled. The model's recall for each class is on the diagonal."
   ]
  },
  {
   "cell_type": "code",
   "execution_count": 29,
   "metadata": {},
   "outputs": [
    {
     "data": {
      "image/png": "[encoded data removed]",
      "text/plain": [
       "<Figure size 432x288 with 2 Axes>"
      ]
     },
     "metadata": {
      "needs_background": "light"
     },
     "output_type": "display_data"
    }
   ],
   "source": [
    "ConfusionMatrixDisplay(confusion_matrix(y_train_preprocessed[test_split],\n",
    "                                        baseline.predict(scaled_X_train[test_split]),\n",
    "                                        normalize='true'\n",
    "                                       )).plot();"
   ]
  },
  {
   "cell_type": "markdown",
   "metadata": {},
   "source": [
    "Here is the percentage of the model's predictions for each class which are correct. The model's precision for each class is on the diagonal."
   ]
  },
  {
   "cell_type": "code",
   "execution_count": 30,
   "metadata": {},
   "outputs": [
    {
     "data": {
      "image/png": "[encoded data removed]",
      "text/plain": [
       "<Figure size 432x288 with 2 Axes>"
      ]
     },
     "metadata": {
      "needs_background": "light"
     },
     "output_type": "display_data"
    }
   ],
   "source": [
    "ConfusionMatrixDisplay(confusion_matrix(y_train_preprocessed[test_split],\n",
    "                                        baseline.predict(scaled_X_train[test_split]),\n",
    "                                        normalize='pred'\n",
    "                                       )).plot();"
   ]
  },
  {
   "cell_type": "code",
   "execution_count": 31,
   "metadata": {},
   "outputs": [
    {
     "data": {
      "text/plain": [
       "'Negative emotion'"
      ]
     },
     "execution_count": 31,
     "metadata": {},
     "output_type": "execute_result"
    }
   ],
   "source": [
    "le.classes_[0]"
   ]
  },
  {
   "cell_type": "code",
   "execution_count": 32,
   "metadata": {},
   "outputs": [
    {
     "name": "stdout",
     "output_type": "stream",
     "text": [
      "Recall of Negative Emotion Tweets:\n",
      "0.07075471698113207\n"
     ]
    }
   ],
   "source": [
    "cf = confusion_matrix(y_train_preprocessed[test_split], baseline.predict(scaled_X_train[test_split]))\n",
    "\n",
    "print('Recall of Negative Emotion Tweets:')\n",
    "print(cf[0][0] / np.sum([cf[0][i] for i in range(3)]))"
   ]
  },
  {
   "cell_type": "markdown",
   "metadata": {},
   "source": [
    "## Evaluation Metrics"
   ]
  },
  {
   "cell_type": "markdown",
   "metadata": {},
   "source": [
    "Looking at the accuracy for each class is a reasonable measure of the model's performance.\n",
    "\n",
    "It is also important to look at the **recall for negative tweets** in particular because we want to respond quickly to negative feedback to improve customer satisfaction and brand perception.\n",
    "\n",
    "Right now, our model has a recall for negative tweets specifically of only 7%."
   ]
  },
  {
   "cell_type": "markdown",
   "metadata": {},
   "source": [
    "## Increase Recall of Negative Tweets"
   ]
  },
  {
   "cell_type": "markdown",
   "metadata": {},
   "source": [
    "One strategy for increasing the model's recall of negative tweets is to change the threshold for predicting that a tweet is negative.\n",
    "\n",
    "Currently, our model selects the category with the highest probability.\n",
    "\n",
    "For example, if the predicted probabilities for negative, neutral and positive are $.33$, $.36$ and $.31$, then the model will predict that the tweet is neutral. But if the model has even a 30% confidence that the tweet is negative, we may want to classify that tweet as negative.\n",
    "\n",
    "We can set some custom thresholds as follows:\n",
    "\n",
    "- If the model is 30% confident (or more) that a tweet is negative, and less than 50% confident that the tweet is neutral or positive, then classify the tweet as negative.\n",
    "\n",
    "- Otherwise, classify the tweet according to highest confidence level."
   ]
  },
  {
   "cell_type": "code",
   "execution_count": 33,
   "metadata": {},
   "outputs": [],
   "source": [
    "import random\n",
    "\n",
    "thresholded_preds = []\n",
    "\n",
    "for probs in baseline.predict_proba(scaled_X_train[test_split]):\n",
    "    if probs[0] >= 0.3:\n",
    "        if (probs[1] <= 0.5) and (probs[2] <= 0.5):\n",
    "            thresholded_preds.append(0)\n",
    "        elif probs[1] > 0.5:\n",
    "            thresholded_preds.append(1)\n",
    "        else:\n",
    "            thresholded_preds.append(2)\n",
    "    else:\n",
    "        if probs[1] > probs[2]:\n",
    "            thresholded_preds.append(1)\n",
    "        elif probs[1] < probs[2]:\n",
    "            thresholded_preds.append(2)\n",
    "        else:\n",
    "            thresholded_preds.append(random.randint(1,2))"
   ]
  },
  {
   "cell_type": "markdown",
   "metadata": {},
   "source": [
    "Check recall of thresholded predictions."
   ]
  },
  {
   "cell_type": "code",
   "execution_count": 34,
   "metadata": {},
   "outputs": [
    {
     "data": {
      "image/png": "[encoded data removed]",
      "text/plain": [
       "<Figure size 432x288 with 2 Axes>"
      ]
     },
     "metadata": {
      "needs_background": "light"
     },
     "output_type": "display_data"
    }
   ],
   "source": [
    "ConfusionMatrixDisplay(confusion_matrix(y_train_preprocessed[test_split],\n",
    "                                        thresholded_preds,\n",
    "                                        normalize='true'\n",
    "                                       )).plot();"
   ]
  },
  {
   "cell_type": "markdown",
   "metadata": {},
   "source": [
    "Applying some custom thresholding increased the recall of negative tweets from 7% to 14%."
   ]
  },
  {
   "cell_type": "markdown",
   "metadata": {},
   "source": [
    "Make the above thresholding code into a function to apply repeatedly in search of the best thresholding schema."
   ]
  },
  {
   "cell_type": "code",
   "execution_count": 35,
   "metadata": {},
   "outputs": [],
   "source": [
    "import random\n",
    "\n",
    "def custom_threshold_predict(model, X, neg_threshold, pos_threshold, neut_threshold):\n",
    "    \n",
    "    thresholded_preds = []\n",
    "\n",
    "    for probs in model.predict_proba(X):\n",
    "        # negative tweet confidence above threshold\n",
    "        if probs[0] >= neg_threshold:\n",
    "            # positive and neutral confidence below thresholds\n",
    "            if (probs[1] <= neut_threshold) and (probs[2] <= pos_threshold):\n",
    "                thresholded_preds.append(0)\n",
    "            # positive and neutral confidence both above thresholds\n",
    "            elif (probs[1] > neut_threshold) and (probs[2] > pos_threshold):\n",
    "                # select class with highest probability, or choose randomly if equal\n",
    "                if probs[1] > probs[2]:\n",
    "                    thresholded_preds.append(1)\n",
    "                elif probs[1] < probs[2]:\n",
    "                    thresholded_preds.append(2)\n",
    "                else:\n",
    "                    thresholded_preds.append(random.randint(1,2))\n",
    "            # positive or netural confidence is above, the other is below, their thresholds \n",
    "            elif (probs[1] > neut_threshold) and (probs[2] < pos_threshold):\n",
    "                thresholded_preds.append(1)\n",
    "            elif (probs[1] < neut_threshold) and (probs[2] > pos_threshold):\n",
    "                thresholded_preds.append(2)\n",
    "            # if all three classes are outside of their thresholds, pick class with highest probability\n",
    "            else:\n",
    "                thresholded_preds.append(np.argmax(probs))\n",
    "        # if negative tweet confidence is NOT above threshold, pick highest probability\n",
    "        else:\n",
    "            thresholded_preds.append(np.argmax(probs))\n",
    "            \n",
    "    return thresholded_preds"
   ]
  },
  {
   "cell_type": "markdown",
   "metadata": {},
   "source": [
    "Store results."
   ]
  },
  {
   "cell_type": "code",
   "execution_count": 36,
   "metadata": {},
   "outputs": [
    {
     "data": {
      "text/html": [
       "<div>\n",
       "<style scoped>\n",
       "    .dataframe tbody tr th:only-of-type {\n",
       "        vertical-align: middle;\n",
       "    }\n",
       "\n",
       "    .dataframe tbody tr th {\n",
       "        vertical-align: top;\n",
       "    }\n",
       "\n",
       "    .dataframe thead th {\n",
       "        text-align: right;\n",
       "    }\n",
       "</style>\n",
       "<table border=\"1\" class=\"dataframe\">\n",
       "  <thead>\n",
       "    <tr style=\"text-align: right;\">\n",
       "      <th></th>\n",
       "      <th>name</th>\n",
       "      <th>model</th>\n",
       "      <th>accuracy</th>\n",
       "    </tr>\n",
       "  </thead>\n",
       "  <tbody>\n",
       "    <tr>\n",
       "      <th>0</th>\n",
       "      <td>baseline</td>\n",
       "      <td>LogisticRegression(random_state=3490)</td>\n",
       "      <td>0.644797</td>\n",
       "    </tr>\n",
       "    <tr>\n",
       "      <th>1</th>\n",
       "      <td>thresholded_baseline</td>\n",
       "      <td>LogisticRegression(random_state=3490)</td>\n",
       "      <td>0.641578</td>\n",
       "    </tr>\n",
       "  </tbody>\n",
       "</table>\n",
       "</div>"
      ],
      "text/plain": [
       "                   name                                  model  accuracy\n",
       "0              baseline  LogisticRegression(random_state=3490)  0.644797\n",
       "1  thresholded_baseline  LogisticRegression(random_state=3490)  0.641578"
      ]
     },
     "execution_count": 36,
     "metadata": {},
     "output_type": "execute_result"
    }
   ],
   "source": [
    "from sklearn.metrics import accuracy_score\n",
    "\n",
    "model_eval['name'].append('thresholded_baseline')\n",
    "model_eval['model'].append(clone(baseline))\n",
    "model_eval['accuracy'].append(accuracy_score(y_train_preprocessed[test_split], thresholded_preds))\n",
    "pd.DataFrame(model_eval)"
   ]
  },
  {
   "cell_type": "code",
   "execution_count": 37,
   "metadata": {},
   "outputs": [
    {
     "data": {
      "text/html": [
       "<div>\n",
       "<style scoped>\n",
       "    .dataframe tbody tr th:only-of-type {\n",
       "        vertical-align: middle;\n",
       "    }\n",
       "\n",
       "    .dataframe tbody tr th {\n",
       "        vertical-align: top;\n",
       "    }\n",
       "\n",
       "    .dataframe thead th {\n",
       "        text-align: right;\n",
       "    }\n",
       "</style>\n",
       "<table border=\"1\" class=\"dataframe\">\n",
       "  <thead>\n",
       "    <tr style=\"text-align: right;\">\n",
       "      <th></th>\n",
       "      <th>name</th>\n",
       "      <th>model</th>\n",
       "      <th>recall_of_negative_tweets</th>\n",
       "    </tr>\n",
       "  </thead>\n",
       "  <tbody>\n",
       "    <tr>\n",
       "      <th>0</th>\n",
       "      <td>baseline</td>\n",
       "      <td>LogisticRegression(random_state=3490)</td>\n",
       "      <td>0.096685</td>\n",
       "    </tr>\n",
       "    <tr>\n",
       "      <th>1</th>\n",
       "      <td>thresholded_baseline</td>\n",
       "      <td>LogisticRegression(random_state=3490)</td>\n",
       "      <td>0.136792</td>\n",
       "    </tr>\n",
       "  </tbody>\n",
       "</table>\n",
       "</div>"
      ],
      "text/plain": [
       "                   name                                  model  \\\n",
       "0              baseline  LogisticRegression(random_state=3490)   \n",
       "1  thresholded_baseline  LogisticRegression(random_state=3490)   \n",
       "\n",
       "   recall_of_negative_tweets  \n",
       "0                   0.096685  \n",
       "1                   0.136792  "
      ]
     },
     "execution_count": 37,
     "metadata": {},
     "output_type": "execute_result"
    }
   ],
   "source": [
    "neg_recall_eval['name'].append('thresholded_baseline')\n",
    "neg_recall_eval['model'].append(clone(baseline))\n",
    "neg_recall_eval['recall_of_negative_tweets'].append(\n",
    "neg_recall_score(y_train_preprocessed[test_split], thresholded_preds))\n",
    "pd.DataFrame(neg_recall_eval)"
   ]
  },
  {
   "cell_type": "markdown",
   "metadata": {},
   "source": [
    "Now, let's tune the classification algorithm itself, then threshold the best classifier found."
   ]
  },
  {
   "cell_type": "markdown",
   "metadata": {},
   "source": [
    "## Test Padding Mean Word Vector for Different Length Tweets"
   ]
  },
  {
   "cell_type": "code",
   "execution_count": 38,
   "metadata": {},
   "outputs": [
    {
     "data": {
      "text/plain": [
       "count    7148.000000\n",
       "mean       17.758254\n",
       "std         4.954223\n",
       "min         2.000000\n",
       "25%        14.000000\n",
       "50%        18.000000\n",
       "75%        21.000000\n",
       "max        32.000000\n",
       "Name: tweet_text, dtype: float64"
      ]
     },
     "execution_count": 38,
     "metadata": {},
     "output_type": "execute_result"
    }
   ],
   "source": [
    "X_train.map(lambda x: len(x.split())).describe()"
   ]
  },
  {
   "cell_type": "markdown",
   "metadata": {},
   "source": [
    "Based on the above descriptive statistics for the length (in words) of each tweet, 21 would be a good \"length\" for the mean tweet vector.\n",
    "\n",
    "\\*Note: the mean tweet vector has a dimensionality of 50, but I am going to try considering a list of word vectors of length 21, regardless of whether a tweet has fewer or greater than 21 words in it."
   ]
  },
  {
   "cell_type": "code",
   "execution_count": 39,
   "metadata": {},
   "outputs": [
    {
     "data": {
      "text/plain": [
       "array([[1, 2, 5],\n",
       "       [3, 4, 7],\n",
       "       [0, 0, 0]])"
      ]
     },
     "execution_count": 39,
     "metadata": {},
     "output_type": "execute_result"
    }
   ],
   "source": [
    "test_array = [[1, 2, 5], [3, 4, 7]]\n",
    "test_array.append([0]*3)\n",
    "np.array(test_array)"
   ]
  },
  {
   "cell_type": "code",
   "execution_count": 40,
   "metadata": {},
   "outputs": [],
   "source": [
    "import string\n",
    "\n",
    "def get_mean_word_vector2(tweet):\n",
    "    tokens = tweet.split()\n",
    "    tweet_vectors = []\n",
    "    for token in tokens:\n",
    "        try:\n",
    "            tweet_vectors.append(glove[token.lower().strip(string.punctuation)])\n",
    "        except:\n",
    "#             print(token)     we're losing quite a few tokens, but will ignore for now\n",
    "            continue\n",
    "    # pad with 0 vectors if less than 21 words in length\n",
    "    while len(tweet_vectors) < 21:\n",
    "        tweet_vectors.append([0]*50)\n",
    "    # save first 21 word vectors as an array\n",
    "    padded_tweet_vector = np.array(tweet_vectors[:21])\n",
    "    # return the mean of these 21 word vectors\n",
    "    return np.mean(padded_tweet_vector, axis=0)"
   ]
  },
  {
   "cell_type": "code",
   "execution_count": 41,
   "metadata": {},
   "outputs": [],
   "source": [
    "X_train_preprocessed2 = X_train.apply(get_mean_word_vector2)\n",
    "\n",
    "X_test_preprocessed2 = X_test.apply(get_mean_word_vector2)"
   ]
  },
  {
   "cell_type": "code",
   "execution_count": 42,
   "metadata": {},
   "outputs": [],
   "source": [
    "preprocessed_values = dict()\n",
    "\n",
    "for i in range(50):\n",
    "    label = f'feature_{i}'\n",
    "    values = [vector[i] for vector in X_train_preprocessed.values]\n",
    "    preprocessed_values[label] = values\n",
    "\n",
    "final_X_train2 = pd.DataFrame(preprocessed_values, index=X_train.index)\n",
    "\n",
    "preprocessed_values = dict()\n",
    "\n",
    "for i in range(50):\n",
    "    label = f'feature_{i}'\n",
    "    values = [vector[i] for vector in X_test_preprocessed.values]\n",
    "    preprocessed_values[label] = values\n",
    "\n",
    "final_X_test2 = pd.DataFrame(preprocessed_values, index=X_test.index)"
   ]
  },
  {
   "cell_type": "code",
   "execution_count": 43,
   "metadata": {},
   "outputs": [],
   "source": [
    "from sklearn.preprocessing import StandardScaler\n",
    "\n",
    "ss = StandardScaler()\n",
    "\n",
    "scaled_X_train2 = ss.fit_transform(final_X_train2)\n",
    "scaled_X_test2 = ss.transform(final_X_test2)"
   ]
  },
  {
   "cell_type": "code",
   "execution_count": 44,
   "metadata": {},
   "outputs": [
    {
     "data": {
      "text/plain": [
       "array([0.64615385, 0.63706294, 0.63916084, 0.6550035 , 0.64660602])"
      ]
     },
     "execution_count": 44,
     "metadata": {},
     "output_type": "execute_result"
    }
   ],
   "source": [
    "cross_val_score(baseline, scaled_X_train2, y_train_preprocessed)"
   ]
  },
  {
   "cell_type": "code",
   "execution_count": 45,
   "metadata": {
    "scrolled": true
   },
   "outputs": [
    {
     "data": {
      "text/html": [
       "<div>\n",
       "<style scoped>\n",
       "    .dataframe tbody tr th:only-of-type {\n",
       "        vertical-align: middle;\n",
       "    }\n",
       "\n",
       "    .dataframe tbody tr th {\n",
       "        vertical-align: top;\n",
       "    }\n",
       "\n",
       "    .dataframe thead th {\n",
       "        text-align: right;\n",
       "    }\n",
       "</style>\n",
       "<table border=\"1\" class=\"dataframe\">\n",
       "  <thead>\n",
       "    <tr style=\"text-align: right;\">\n",
       "      <th></th>\n",
       "      <th>name</th>\n",
       "      <th>model</th>\n",
       "      <th>accuracy</th>\n",
       "    </tr>\n",
       "  </thead>\n",
       "  <tbody>\n",
       "    <tr>\n",
       "      <th>0</th>\n",
       "      <td>baseline</td>\n",
       "      <td>LogisticRegression(random_state=3490)</td>\n",
       "      <td>0.644797</td>\n",
       "    </tr>\n",
       "    <tr>\n",
       "      <th>1</th>\n",
       "      <td>thresholded_baseline</td>\n",
       "      <td>LogisticRegression(random_state=3490)</td>\n",
       "      <td>0.641578</td>\n",
       "    </tr>\n",
       "    <tr>\n",
       "      <th>2</th>\n",
       "      <td>baseline_w_padded_mean_word_vector</td>\n",
       "      <td>LogisticRegression(random_state=3490)</td>\n",
       "      <td>0.644797</td>\n",
       "    </tr>\n",
       "  </tbody>\n",
       "</table>\n",
       "</div>"
      ],
      "text/plain": [
       "                                 name                                  model  \\\n",
       "0                            baseline  LogisticRegression(random_state=3490)   \n",
       "1                thresholded_baseline  LogisticRegression(random_state=3490)   \n",
       "2  baseline_w_padded_mean_word_vector  LogisticRegression(random_state=3490)   \n",
       "\n",
       "   accuracy  \n",
       "0  0.644797  \n",
       "1  0.641578  \n",
       "2  0.644797  "
      ]
     },
     "execution_count": 45,
     "metadata": {},
     "output_type": "execute_result"
    }
   ],
   "source": [
    "model_eval['name'].append('baseline_w_padded_mean_word_vector')\n",
    "model_eval['model'].append(clone(baseline))\n",
    "model_eval['accuracy'].append(np.mean(cross_val_score(baseline, scaled_X_train2, y_train_preprocessed)))\n",
    "pd.DataFrame(model_eval)"
   ]
  },
  {
   "cell_type": "code",
   "execution_count": 46,
   "metadata": {},
   "outputs": [
    {
     "data": {
      "text/html": [
       "<div>\n",
       "<style scoped>\n",
       "    .dataframe tbody tr th:only-of-type {\n",
       "        vertical-align: middle;\n",
       "    }\n",
       "\n",
       "    .dataframe tbody tr th {\n",
       "        vertical-align: top;\n",
       "    }\n",
       "\n",
       "    .dataframe thead th {\n",
       "        text-align: right;\n",
       "    }\n",
       "</style>\n",
       "<table border=\"1\" class=\"dataframe\">\n",
       "  <thead>\n",
       "    <tr style=\"text-align: right;\">\n",
       "      <th></th>\n",
       "      <th>name</th>\n",
       "      <th>model</th>\n",
       "      <th>recall_of_negative_tweets</th>\n",
       "    </tr>\n",
       "  </thead>\n",
       "  <tbody>\n",
       "    <tr>\n",
       "      <th>0</th>\n",
       "      <td>baseline</td>\n",
       "      <td>LogisticRegression(random_state=3490)</td>\n",
       "      <td>0.096685</td>\n",
       "    </tr>\n",
       "    <tr>\n",
       "      <th>1</th>\n",
       "      <td>thresholded_baseline</td>\n",
       "      <td>LogisticRegression(random_state=3490)</td>\n",
       "      <td>0.136792</td>\n",
       "    </tr>\n",
       "    <tr>\n",
       "      <th>2</th>\n",
       "      <td>baseline_w_padded_mean_word_vector</td>\n",
       "      <td>LogisticRegression(random_state=3490)</td>\n",
       "      <td>0.096685</td>\n",
       "    </tr>\n",
       "  </tbody>\n",
       "</table>\n",
       "</div>"
      ],
      "text/plain": [
       "                                 name                                  model  \\\n",
       "0                            baseline  LogisticRegression(random_state=3490)   \n",
       "1                thresholded_baseline  LogisticRegression(random_state=3490)   \n",
       "2  baseline_w_padded_mean_word_vector  LogisticRegression(random_state=3490)   \n",
       "\n",
       "   recall_of_negative_tweets  \n",
       "0                   0.096685  \n",
       "1                   0.136792  \n",
       "2                   0.096685  "
      ]
     },
     "execution_count": 46,
     "metadata": {},
     "output_type": "execute_result"
    }
   ],
   "source": [
    "neg_recall_eval['name'].append('baseline_w_padded_mean_word_vector')\n",
    "neg_recall_eval['model'].append(clone(baseline))\n",
    "neg_recall_eval['recall_of_negative_tweets'].append(\n",
    "np.mean(cross_val_score(baseline, scaled_X_train2, y_train_preprocessed, scoring=negative_recall_score)))\n",
    "pd.DataFrame(neg_recall_eval)"
   ]
  },
  {
   "cell_type": "markdown",
   "metadata": {},
   "source": [
    "There is practically no difference, so I will continue without padding."
   ]
  },
  {
   "cell_type": "markdown",
   "metadata": {},
   "source": [
    "## Tuning Logistic Regression"
   ]
  },
  {
   "cell_type": "code",
   "execution_count": 47,
   "metadata": {
    "scrolled": true
   },
   "outputs": [
    {
     "ename": "KeyboardInterrupt",
     "evalue": "",
     "output_type": "error",
     "traceback": [
      "\u001b[0;31m---------------------------------------------------------------------------\u001b[0m",
      "\u001b[0;31mKeyboardInterrupt\u001b[0m                         Traceback (most recent call last)",
      "\u001b[0;32m<ipython-input-47-52f9e4f4ab7d>\u001b[0m in \u001b[0;36m<module>\u001b[0;34m\u001b[0m\n\u001b[1;32m     22\u001b[0m \u001b[0mgrid_search\u001b[0m \u001b[0;34m=\u001b[0m \u001b[0mGridSearchCV\u001b[0m\u001b[0;34m(\u001b[0m\u001b[0mlogreg\u001b[0m\u001b[0;34m,\u001b[0m \u001b[0mparam_grid\u001b[0m\u001b[0;34m,\u001b[0m \u001b[0mscoring\u001b[0m\u001b[0;34m=\u001b[0m\u001b[0;34m'accuracy'\u001b[0m\u001b[0;34m)\u001b[0m\u001b[0;34m\u001b[0m\u001b[0;34m\u001b[0m\u001b[0m\n\u001b[1;32m     23\u001b[0m \u001b[0;34m\u001b[0m\u001b[0m\n\u001b[0;32m---> 24\u001b[0;31m \u001b[0mgrid_search\u001b[0m\u001b[0;34m.\u001b[0m\u001b[0mfit\u001b[0m\u001b[0;34m(\u001b[0m\u001b[0mscaled_X_train\u001b[0m\u001b[0;34m,\u001b[0m \u001b[0my_train_preprocessed\u001b[0m\u001b[0;34m)\u001b[0m\u001b[0;34m\u001b[0m\u001b[0;34m\u001b[0m\u001b[0m\n\u001b[0m\u001b[1;32m     25\u001b[0m \u001b[0;34m\u001b[0m\u001b[0m\n\u001b[1;32m     26\u001b[0m \u001b[0mprint\u001b[0m\u001b[0;34m(\u001b[0m\u001b[0mgrid_search\u001b[0m\u001b[0;34m.\u001b[0m\u001b[0mbest_score_\u001b[0m\u001b[0;34m)\u001b[0m\u001b[0;34m\u001b[0m\u001b[0;34m\u001b[0m\u001b[0m\n",
      "\u001b[0;32m~/opt/anaconda3/envs/learn-env/lib/python3.8/site-packages/sklearn/utils/validation.py\u001b[0m in \u001b[0;36minner_f\u001b[0;34m(*args, **kwargs)\u001b[0m\n\u001b[1;32m     70\u001b[0m                           FutureWarning)\n\u001b[1;32m     71\u001b[0m         \u001b[0mkwargs\u001b[0m\u001b[0;34m.\u001b[0m\u001b[0mupdate\u001b[0m\u001b[0;34m(\u001b[0m\u001b[0;34m{\u001b[0m\u001b[0mk\u001b[0m\u001b[0;34m:\u001b[0m \u001b[0marg\u001b[0m \u001b[0;32mfor\u001b[0m \u001b[0mk\u001b[0m\u001b[0;34m,\u001b[0m \u001b[0marg\u001b[0m \u001b[0;32min\u001b[0m \u001b[0mzip\u001b[0m\u001b[0;34m(\u001b[0m\u001b[0msig\u001b[0m\u001b[0;34m.\u001b[0m\u001b[0mparameters\u001b[0m\u001b[0;34m,\u001b[0m \u001b[0margs\u001b[0m\u001b[0;34m)\u001b[0m\u001b[0;34m}\u001b[0m\u001b[0;34m)\u001b[0m\u001b[0;34m\u001b[0m\u001b[0;34m\u001b[0m\u001b[0m\n\u001b[0;32m---> 72\u001b[0;31m         \u001b[0;32mreturn\u001b[0m \u001b[0mf\u001b[0m\u001b[0;34m(\u001b[0m\u001b[0;34m**\u001b[0m\u001b[0mkwargs\u001b[0m\u001b[0;34m)\u001b[0m\u001b[0;34m\u001b[0m\u001b[0;34m\u001b[0m\u001b[0m\n\u001b[0m\u001b[1;32m     73\u001b[0m     \u001b[0;32mreturn\u001b[0m \u001b[0minner_f\u001b[0m\u001b[0;34m\u001b[0m\u001b[0;34m\u001b[0m\u001b[0m\n\u001b[1;32m     74\u001b[0m \u001b[0;34m\u001b[0m\u001b[0m\n",
      "\u001b[0;32m~/opt/anaconda3/envs/learn-env/lib/python3.8/site-packages/sklearn/model_selection/_search.py\u001b[0m in \u001b[0;36mfit\u001b[0;34m(self, X, y, groups, **fit_params)\u001b[0m\n\u001b[1;32m    734\u001b[0m                 \u001b[0;32mreturn\u001b[0m \u001b[0mresults\u001b[0m\u001b[0;34m\u001b[0m\u001b[0;34m\u001b[0m\u001b[0m\n\u001b[1;32m    735\u001b[0m \u001b[0;34m\u001b[0m\u001b[0m\n\u001b[0;32m--> 736\u001b[0;31m             \u001b[0mself\u001b[0m\u001b[0;34m.\u001b[0m\u001b[0m_run_search\u001b[0m\u001b[0;34m(\u001b[0m\u001b[0mevaluate_candidates\u001b[0m\u001b[0;34m)\u001b[0m\u001b[0;34m\u001b[0m\u001b[0;34m\u001b[0m\u001b[0m\n\u001b[0m\u001b[1;32m    737\u001b[0m \u001b[0;34m\u001b[0m\u001b[0m\n\u001b[1;32m    738\u001b[0m         \u001b[0;31m# For multi-metric evaluation, store the best_index_, best_params_ and\u001b[0m\u001b[0;34m\u001b[0m\u001b[0;34m\u001b[0m\u001b[0;34m\u001b[0m\u001b[0m\n",
      "\u001b[0;32m~/opt/anaconda3/envs/learn-env/lib/python3.8/site-packages/sklearn/model_selection/_search.py\u001b[0m in \u001b[0;36m_run_search\u001b[0;34m(self, evaluate_candidates)\u001b[0m\n\u001b[1;32m   1186\u001b[0m     \u001b[0;32mdef\u001b[0m \u001b[0m_run_search\u001b[0m\u001b[0;34m(\u001b[0m\u001b[0mself\u001b[0m\u001b[0;34m,\u001b[0m \u001b[0mevaluate_candidates\u001b[0m\u001b[0;34m)\u001b[0m\u001b[0;34m:\u001b[0m\u001b[0;34m\u001b[0m\u001b[0;34m\u001b[0m\u001b[0m\n\u001b[1;32m   1187\u001b[0m         \u001b[0;34m\"\"\"Search all candidates in param_grid\"\"\"\u001b[0m\u001b[0;34m\u001b[0m\u001b[0;34m\u001b[0m\u001b[0m\n\u001b[0;32m-> 1188\u001b[0;31m         \u001b[0mevaluate_candidates\u001b[0m\u001b[0;34m(\u001b[0m\u001b[0mParameterGrid\u001b[0m\u001b[0;34m(\u001b[0m\u001b[0mself\u001b[0m\u001b[0;34m.\u001b[0m\u001b[0mparam_grid\u001b[0m\u001b[0;34m)\u001b[0m\u001b[0;34m)\u001b[0m\u001b[0;34m\u001b[0m\u001b[0;34m\u001b[0m\u001b[0m\n\u001b[0m\u001b[1;32m   1189\u001b[0m \u001b[0;34m\u001b[0m\u001b[0m\n\u001b[1;32m   1190\u001b[0m \u001b[0;34m\u001b[0m\u001b[0m\n",
      "\u001b[0;32m~/opt/anaconda3/envs/learn-env/lib/python3.8/site-packages/sklearn/model_selection/_search.py\u001b[0m in \u001b[0;36mevaluate_candidates\u001b[0;34m(candidate_params)\u001b[0m\n\u001b[1;32m    706\u001b[0m                               n_splits, n_candidates, n_candidates * n_splits))\n\u001b[1;32m    707\u001b[0m \u001b[0;34m\u001b[0m\u001b[0m\n\u001b[0;32m--> 708\u001b[0;31m                 out = parallel(delayed(_fit_and_score)(clone(base_estimator),\n\u001b[0m\u001b[1;32m    709\u001b[0m                                                        \u001b[0mX\u001b[0m\u001b[0;34m,\u001b[0m \u001b[0my\u001b[0m\u001b[0;34m,\u001b[0m\u001b[0;34m\u001b[0m\u001b[0;34m\u001b[0m\u001b[0m\n\u001b[1;32m    710\u001b[0m                                                        \u001b[0mtrain\u001b[0m\u001b[0;34m=\u001b[0m\u001b[0mtrain\u001b[0m\u001b[0;34m,\u001b[0m \u001b[0mtest\u001b[0m\u001b[0;34m=\u001b[0m\u001b[0mtest\u001b[0m\u001b[0;34m,\u001b[0m\u001b[0;34m\u001b[0m\u001b[0;34m\u001b[0m\u001b[0m\n",
      "\u001b[0;32m~/opt/anaconda3/envs/learn-env/lib/python3.8/site-packages/joblib/parallel.py\u001b[0m in \u001b[0;36m__call__\u001b[0;34m(self, iterable)\u001b[0m\n\u001b[1;32m   1049\u001b[0m                 \u001b[0mself\u001b[0m\u001b[0;34m.\u001b[0m\u001b[0m_iterating\u001b[0m \u001b[0;34m=\u001b[0m \u001b[0mself\u001b[0m\u001b[0;34m.\u001b[0m\u001b[0m_original_iterator\u001b[0m \u001b[0;32mis\u001b[0m \u001b[0;32mnot\u001b[0m \u001b[0;32mNone\u001b[0m\u001b[0;34m\u001b[0m\u001b[0;34m\u001b[0m\u001b[0m\n\u001b[1;32m   1050\u001b[0m \u001b[0;34m\u001b[0m\u001b[0m\n\u001b[0;32m-> 1051\u001b[0;31m             \u001b[0;32mwhile\u001b[0m \u001b[0mself\u001b[0m\u001b[0;34m.\u001b[0m\u001b[0mdispatch_one_batch\u001b[0m\u001b[0;34m(\u001b[0m\u001b[0miterator\u001b[0m\u001b[0;34m)\u001b[0m\u001b[0;34m:\u001b[0m\u001b[0;34m\u001b[0m\u001b[0;34m\u001b[0m\u001b[0m\n\u001b[0m\u001b[1;32m   1052\u001b[0m                 \u001b[0;32mpass\u001b[0m\u001b[0;34m\u001b[0m\u001b[0;34m\u001b[0m\u001b[0m\n\u001b[1;32m   1053\u001b[0m \u001b[0;34m\u001b[0m\u001b[0m\n",
      "\u001b[0;32m~/opt/anaconda3/envs/learn-env/lib/python3.8/site-packages/joblib/parallel.py\u001b[0m in \u001b[0;36mdispatch_one_batch\u001b[0;34m(self, iterator)\u001b[0m\n\u001b[1;32m    864\u001b[0m                 \u001b[0;32mreturn\u001b[0m \u001b[0;32mFalse\u001b[0m\u001b[0;34m\u001b[0m\u001b[0;34m\u001b[0m\u001b[0m\n\u001b[1;32m    865\u001b[0m             \u001b[0;32melse\u001b[0m\u001b[0;34m:\u001b[0m\u001b[0;34m\u001b[0m\u001b[0;34m\u001b[0m\u001b[0m\n\u001b[0;32m--> 866\u001b[0;31m                 \u001b[0mself\u001b[0m\u001b[0;34m.\u001b[0m\u001b[0m_dispatch\u001b[0m\u001b[0;34m(\u001b[0m\u001b[0mtasks\u001b[0m\u001b[0;34m)\u001b[0m\u001b[0;34m\u001b[0m\u001b[0;34m\u001b[0m\u001b[0m\n\u001b[0m\u001b[1;32m    867\u001b[0m                 \u001b[0;32mreturn\u001b[0m \u001b[0;32mTrue\u001b[0m\u001b[0;34m\u001b[0m\u001b[0;34m\u001b[0m\u001b[0m\n\u001b[1;32m    868\u001b[0m \u001b[0;34m\u001b[0m\u001b[0m\n",
      "\u001b[0;32m~/opt/anaconda3/envs/learn-env/lib/python3.8/site-packages/joblib/parallel.py\u001b[0m in \u001b[0;36m_dispatch\u001b[0;34m(self, batch)\u001b[0m\n\u001b[1;32m    782\u001b[0m         \u001b[0;32mwith\u001b[0m \u001b[0mself\u001b[0m\u001b[0;34m.\u001b[0m\u001b[0m_lock\u001b[0m\u001b[0;34m:\u001b[0m\u001b[0;34m\u001b[0m\u001b[0;34m\u001b[0m\u001b[0m\n\u001b[1;32m    783\u001b[0m             \u001b[0mjob_idx\u001b[0m \u001b[0;34m=\u001b[0m \u001b[0mlen\u001b[0m\u001b[0;34m(\u001b[0m\u001b[0mself\u001b[0m\u001b[0;34m.\u001b[0m\u001b[0m_jobs\u001b[0m\u001b[0;34m)\u001b[0m\u001b[0;34m\u001b[0m\u001b[0;34m\u001b[0m\u001b[0m\n\u001b[0;32m--> 784\u001b[0;31m             \u001b[0mjob\u001b[0m \u001b[0;34m=\u001b[0m \u001b[0mself\u001b[0m\u001b[0;34m.\u001b[0m\u001b[0m_backend\u001b[0m\u001b[0;34m.\u001b[0m\u001b[0mapply_async\u001b[0m\u001b[0;34m(\u001b[0m\u001b[0mbatch\u001b[0m\u001b[0;34m,\u001b[0m \u001b[0mcallback\u001b[0m\u001b[0;34m=\u001b[0m\u001b[0mcb\u001b[0m\u001b[0;34m)\u001b[0m\u001b[0;34m\u001b[0m\u001b[0;34m\u001b[0m\u001b[0m\n\u001b[0m\u001b[1;32m    785\u001b[0m             \u001b[0;31m# A job can complete so quickly than its callback is\u001b[0m\u001b[0;34m\u001b[0m\u001b[0;34m\u001b[0m\u001b[0;34m\u001b[0m\u001b[0m\n\u001b[1;32m    786\u001b[0m             \u001b[0;31m# called before we get here, causing self._jobs to\u001b[0m\u001b[0;34m\u001b[0m\u001b[0;34m\u001b[0m\u001b[0;34m\u001b[0m\u001b[0m\n",
      "\u001b[0;32m~/opt/anaconda3/envs/learn-env/lib/python3.8/site-packages/joblib/_parallel_backends.py\u001b[0m in \u001b[0;36mapply_async\u001b[0;34m(self, func, callback)\u001b[0m\n\u001b[1;32m    206\u001b[0m     \u001b[0;32mdef\u001b[0m \u001b[0mapply_async\u001b[0m\u001b[0;34m(\u001b[0m\u001b[0mself\u001b[0m\u001b[0;34m,\u001b[0m \u001b[0mfunc\u001b[0m\u001b[0;34m,\u001b[0m \u001b[0mcallback\u001b[0m\u001b[0;34m=\u001b[0m\u001b[0;32mNone\u001b[0m\u001b[0;34m)\u001b[0m\u001b[0;34m:\u001b[0m\u001b[0;34m\u001b[0m\u001b[0;34m\u001b[0m\u001b[0m\n\u001b[1;32m    207\u001b[0m         \u001b[0;34m\"\"\"Schedule a func to be run\"\"\"\u001b[0m\u001b[0;34m\u001b[0m\u001b[0;34m\u001b[0m\u001b[0m\n\u001b[0;32m--> 208\u001b[0;31m         \u001b[0mresult\u001b[0m \u001b[0;34m=\u001b[0m \u001b[0mImmediateResult\u001b[0m\u001b[0;34m(\u001b[0m\u001b[0mfunc\u001b[0m\u001b[0;34m)\u001b[0m\u001b[0;34m\u001b[0m\u001b[0;34m\u001b[0m\u001b[0m\n\u001b[0m\u001b[1;32m    209\u001b[0m         \u001b[0;32mif\u001b[0m \u001b[0mcallback\u001b[0m\u001b[0;34m:\u001b[0m\u001b[0;34m\u001b[0m\u001b[0;34m\u001b[0m\u001b[0m\n\u001b[1;32m    210\u001b[0m             \u001b[0mcallback\u001b[0m\u001b[0;34m(\u001b[0m\u001b[0mresult\u001b[0m\u001b[0;34m)\u001b[0m\u001b[0;34m\u001b[0m\u001b[0;34m\u001b[0m\u001b[0m\n",
      "\u001b[0;32m~/opt/anaconda3/envs/learn-env/lib/python3.8/site-packages/joblib/_parallel_backends.py\u001b[0m in \u001b[0;36m__init__\u001b[0;34m(self, batch)\u001b[0m\n\u001b[1;32m    570\u001b[0m         \u001b[0;31m# Don't delay the application, to avoid keeping the input\u001b[0m\u001b[0;34m\u001b[0m\u001b[0;34m\u001b[0m\u001b[0;34m\u001b[0m\u001b[0m\n\u001b[1;32m    571\u001b[0m         \u001b[0;31m# arguments in memory\u001b[0m\u001b[0;34m\u001b[0m\u001b[0;34m\u001b[0m\u001b[0;34m\u001b[0m\u001b[0m\n\u001b[0;32m--> 572\u001b[0;31m         \u001b[0mself\u001b[0m\u001b[0;34m.\u001b[0m\u001b[0mresults\u001b[0m \u001b[0;34m=\u001b[0m \u001b[0mbatch\u001b[0m\u001b[0;34m(\u001b[0m\u001b[0;34m)\u001b[0m\u001b[0;34m\u001b[0m\u001b[0;34m\u001b[0m\u001b[0m\n\u001b[0m\u001b[1;32m    573\u001b[0m \u001b[0;34m\u001b[0m\u001b[0m\n\u001b[1;32m    574\u001b[0m     \u001b[0;32mdef\u001b[0m \u001b[0mget\u001b[0m\u001b[0;34m(\u001b[0m\u001b[0mself\u001b[0m\u001b[0;34m)\u001b[0m\u001b[0;34m:\u001b[0m\u001b[0;34m\u001b[0m\u001b[0;34m\u001b[0m\u001b[0m\n",
      "\u001b[0;32m~/opt/anaconda3/envs/learn-env/lib/python3.8/site-packages/joblib/parallel.py\u001b[0m in \u001b[0;36m__call__\u001b[0;34m(self)\u001b[0m\n\u001b[1;32m    260\u001b[0m         \u001b[0;31m# change the default number of processes to -1\u001b[0m\u001b[0;34m\u001b[0m\u001b[0;34m\u001b[0m\u001b[0;34m\u001b[0m\u001b[0m\n\u001b[1;32m    261\u001b[0m         \u001b[0;32mwith\u001b[0m \u001b[0mparallel_backend\u001b[0m\u001b[0;34m(\u001b[0m\u001b[0mself\u001b[0m\u001b[0;34m.\u001b[0m\u001b[0m_backend\u001b[0m\u001b[0;34m,\u001b[0m \u001b[0mn_jobs\u001b[0m\u001b[0;34m=\u001b[0m\u001b[0mself\u001b[0m\u001b[0;34m.\u001b[0m\u001b[0m_n_jobs\u001b[0m\u001b[0;34m)\u001b[0m\u001b[0;34m:\u001b[0m\u001b[0;34m\u001b[0m\u001b[0;34m\u001b[0m\u001b[0m\n\u001b[0;32m--> 262\u001b[0;31m             return [func(*args, **kwargs)\n\u001b[0m\u001b[1;32m    263\u001b[0m                     for func, args, kwargs in self.items]\n\u001b[1;32m    264\u001b[0m \u001b[0;34m\u001b[0m\u001b[0m\n",
      "\u001b[0;32m~/opt/anaconda3/envs/learn-env/lib/python3.8/site-packages/joblib/parallel.py\u001b[0m in \u001b[0;36m<listcomp>\u001b[0;34m(.0)\u001b[0m\n\u001b[1;32m    260\u001b[0m         \u001b[0;31m# change the default number of processes to -1\u001b[0m\u001b[0;34m\u001b[0m\u001b[0;34m\u001b[0m\u001b[0;34m\u001b[0m\u001b[0m\n\u001b[1;32m    261\u001b[0m         \u001b[0;32mwith\u001b[0m \u001b[0mparallel_backend\u001b[0m\u001b[0;34m(\u001b[0m\u001b[0mself\u001b[0m\u001b[0;34m.\u001b[0m\u001b[0m_backend\u001b[0m\u001b[0;34m,\u001b[0m \u001b[0mn_jobs\u001b[0m\u001b[0;34m=\u001b[0m\u001b[0mself\u001b[0m\u001b[0;34m.\u001b[0m\u001b[0m_n_jobs\u001b[0m\u001b[0;34m)\u001b[0m\u001b[0;34m:\u001b[0m\u001b[0;34m\u001b[0m\u001b[0;34m\u001b[0m\u001b[0m\n\u001b[0;32m--> 262\u001b[0;31m             return [func(*args, **kwargs)\n\u001b[0m\u001b[1;32m    263\u001b[0m                     for func, args, kwargs in self.items]\n\u001b[1;32m    264\u001b[0m \u001b[0;34m\u001b[0m\u001b[0m\n",
      "\u001b[0;32m~/opt/anaconda3/envs/learn-env/lib/python3.8/site-packages/sklearn/model_selection/_validation.py\u001b[0m in \u001b[0;36m_fit_and_score\u001b[0;34m(estimator, X, y, scorer, train, test, verbose, parameters, fit_params, return_train_score, return_parameters, return_n_test_samples, return_times, return_estimator, error_score)\u001b[0m\n\u001b[1;32m    529\u001b[0m             \u001b[0mestimator\u001b[0m\u001b[0;34m.\u001b[0m\u001b[0mfit\u001b[0m\u001b[0;34m(\u001b[0m\u001b[0mX_train\u001b[0m\u001b[0;34m,\u001b[0m \u001b[0;34m**\u001b[0m\u001b[0mfit_params\u001b[0m\u001b[0;34m)\u001b[0m\u001b[0;34m\u001b[0m\u001b[0;34m\u001b[0m\u001b[0m\n\u001b[1;32m    530\u001b[0m         \u001b[0;32melse\u001b[0m\u001b[0;34m:\u001b[0m\u001b[0;34m\u001b[0m\u001b[0;34m\u001b[0m\u001b[0m\n\u001b[0;32m--> 531\u001b[0;31m             \u001b[0mestimator\u001b[0m\u001b[0;34m.\u001b[0m\u001b[0mfit\u001b[0m\u001b[0;34m(\u001b[0m\u001b[0mX_train\u001b[0m\u001b[0;34m,\u001b[0m \u001b[0my_train\u001b[0m\u001b[0;34m,\u001b[0m \u001b[0;34m**\u001b[0m\u001b[0mfit_params\u001b[0m\u001b[0;34m)\u001b[0m\u001b[0;34m\u001b[0m\u001b[0;34m\u001b[0m\u001b[0m\n\u001b[0m\u001b[1;32m    532\u001b[0m \u001b[0;34m\u001b[0m\u001b[0m\n\u001b[1;32m    533\u001b[0m     \u001b[0;32mexcept\u001b[0m \u001b[0mException\u001b[0m \u001b[0;32mas\u001b[0m \u001b[0me\u001b[0m\u001b[0;34m:\u001b[0m\u001b[0;34m\u001b[0m\u001b[0;34m\u001b[0m\u001b[0m\n",
      "\u001b[0;32m~/opt/anaconda3/envs/learn-env/lib/python3.8/site-packages/sklearn/linear_model/_logistic.py\u001b[0m in \u001b[0;36mfit\u001b[0;34m(self, X, y, sample_weight)\u001b[0m\n\u001b[1;32m   1405\u001b[0m         \u001b[0;32melse\u001b[0m\u001b[0;34m:\u001b[0m\u001b[0;34m\u001b[0m\u001b[0;34m\u001b[0m\u001b[0m\n\u001b[1;32m   1406\u001b[0m             \u001b[0mprefer\u001b[0m \u001b[0;34m=\u001b[0m \u001b[0;34m'processes'\u001b[0m\u001b[0;34m\u001b[0m\u001b[0;34m\u001b[0m\u001b[0m\n\u001b[0;32m-> 1407\u001b[0;31m         fold_coefs_ = Parallel(n_jobs=self.n_jobs, verbose=self.verbose,\n\u001b[0m\u001b[1;32m   1408\u001b[0m                                \u001b[0;34m**\u001b[0m\u001b[0m_joblib_parallel_args\u001b[0m\u001b[0;34m(\u001b[0m\u001b[0mprefer\u001b[0m\u001b[0;34m=\u001b[0m\u001b[0mprefer\u001b[0m\u001b[0;34m)\u001b[0m\u001b[0;34m)\u001b[0m\u001b[0;34m(\u001b[0m\u001b[0;34m\u001b[0m\u001b[0;34m\u001b[0m\u001b[0m\n\u001b[1;32m   1409\u001b[0m             path_func(X, y, pos_class=class_, Cs=[C_],\n",
      "\u001b[0;32m~/opt/anaconda3/envs/learn-env/lib/python3.8/site-packages/joblib/parallel.py\u001b[0m in \u001b[0;36m__call__\u001b[0;34m(self, iterable)\u001b[0m\n\u001b[1;32m   1046\u001b[0m             \u001b[0;31m# remaining jobs.\u001b[0m\u001b[0;34m\u001b[0m\u001b[0;34m\u001b[0m\u001b[0;34m\u001b[0m\u001b[0m\n\u001b[1;32m   1047\u001b[0m             \u001b[0mself\u001b[0m\u001b[0;34m.\u001b[0m\u001b[0m_iterating\u001b[0m \u001b[0;34m=\u001b[0m \u001b[0;32mFalse\u001b[0m\u001b[0;34m\u001b[0m\u001b[0;34m\u001b[0m\u001b[0m\n\u001b[0;32m-> 1048\u001b[0;31m             \u001b[0;32mif\u001b[0m \u001b[0mself\u001b[0m\u001b[0;34m.\u001b[0m\u001b[0mdispatch_one_batch\u001b[0m\u001b[0;34m(\u001b[0m\u001b[0miterator\u001b[0m\u001b[0;34m)\u001b[0m\u001b[0;34m:\u001b[0m\u001b[0;34m\u001b[0m\u001b[0;34m\u001b[0m\u001b[0m\n\u001b[0m\u001b[1;32m   1049\u001b[0m                 \u001b[0mself\u001b[0m\u001b[0;34m.\u001b[0m\u001b[0m_iterating\u001b[0m \u001b[0;34m=\u001b[0m \u001b[0mself\u001b[0m\u001b[0;34m.\u001b[0m\u001b[0m_original_iterator\u001b[0m \u001b[0;32mis\u001b[0m \u001b[0;32mnot\u001b[0m \u001b[0;32mNone\u001b[0m\u001b[0;34m\u001b[0m\u001b[0;34m\u001b[0m\u001b[0m\n\u001b[1;32m   1050\u001b[0m \u001b[0;34m\u001b[0m\u001b[0m\n",
      "\u001b[0;32m~/opt/anaconda3/envs/learn-env/lib/python3.8/site-packages/joblib/parallel.py\u001b[0m in \u001b[0;36mdispatch_one_batch\u001b[0;34m(self, iterator)\u001b[0m\n\u001b[1;32m    864\u001b[0m                 \u001b[0;32mreturn\u001b[0m \u001b[0;32mFalse\u001b[0m\u001b[0;34m\u001b[0m\u001b[0;34m\u001b[0m\u001b[0m\n\u001b[1;32m    865\u001b[0m             \u001b[0;32melse\u001b[0m\u001b[0;34m:\u001b[0m\u001b[0;34m\u001b[0m\u001b[0;34m\u001b[0m\u001b[0m\n\u001b[0;32m--> 866\u001b[0;31m                 \u001b[0mself\u001b[0m\u001b[0;34m.\u001b[0m\u001b[0m_dispatch\u001b[0m\u001b[0;34m(\u001b[0m\u001b[0mtasks\u001b[0m\u001b[0;34m)\u001b[0m\u001b[0;34m\u001b[0m\u001b[0;34m\u001b[0m\u001b[0m\n\u001b[0m\u001b[1;32m    867\u001b[0m                 \u001b[0;32mreturn\u001b[0m \u001b[0;32mTrue\u001b[0m\u001b[0;34m\u001b[0m\u001b[0;34m\u001b[0m\u001b[0m\n\u001b[1;32m    868\u001b[0m \u001b[0;34m\u001b[0m\u001b[0m\n",
      "\u001b[0;32m~/opt/anaconda3/envs/learn-env/lib/python3.8/site-packages/joblib/parallel.py\u001b[0m in \u001b[0;36m_dispatch\u001b[0;34m(self, batch)\u001b[0m\n\u001b[1;32m    782\u001b[0m         \u001b[0;32mwith\u001b[0m \u001b[0mself\u001b[0m\u001b[0;34m.\u001b[0m\u001b[0m_lock\u001b[0m\u001b[0;34m:\u001b[0m\u001b[0;34m\u001b[0m\u001b[0;34m\u001b[0m\u001b[0m\n\u001b[1;32m    783\u001b[0m             \u001b[0mjob_idx\u001b[0m \u001b[0;34m=\u001b[0m \u001b[0mlen\u001b[0m\u001b[0;34m(\u001b[0m\u001b[0mself\u001b[0m\u001b[0;34m.\u001b[0m\u001b[0m_jobs\u001b[0m\u001b[0;34m)\u001b[0m\u001b[0;34m\u001b[0m\u001b[0;34m\u001b[0m\u001b[0m\n\u001b[0;32m--> 784\u001b[0;31m             \u001b[0mjob\u001b[0m \u001b[0;34m=\u001b[0m \u001b[0mself\u001b[0m\u001b[0;34m.\u001b[0m\u001b[0m_backend\u001b[0m\u001b[0;34m.\u001b[0m\u001b[0mapply_async\u001b[0m\u001b[0;34m(\u001b[0m\u001b[0mbatch\u001b[0m\u001b[0;34m,\u001b[0m \u001b[0mcallback\u001b[0m\u001b[0;34m=\u001b[0m\u001b[0mcb\u001b[0m\u001b[0;34m)\u001b[0m\u001b[0;34m\u001b[0m\u001b[0;34m\u001b[0m\u001b[0m\n\u001b[0m\u001b[1;32m    785\u001b[0m             \u001b[0;31m# A job can complete so quickly than its callback is\u001b[0m\u001b[0;34m\u001b[0m\u001b[0;34m\u001b[0m\u001b[0;34m\u001b[0m\u001b[0m\n\u001b[1;32m    786\u001b[0m             \u001b[0;31m# called before we get here, causing self._jobs to\u001b[0m\u001b[0;34m\u001b[0m\u001b[0;34m\u001b[0m\u001b[0;34m\u001b[0m\u001b[0m\n",
      "\u001b[0;32m~/opt/anaconda3/envs/learn-env/lib/python3.8/site-packages/joblib/_parallel_backends.py\u001b[0m in \u001b[0;36mapply_async\u001b[0;34m(self, func, callback)\u001b[0m\n\u001b[1;32m    206\u001b[0m     \u001b[0;32mdef\u001b[0m \u001b[0mapply_async\u001b[0m\u001b[0;34m(\u001b[0m\u001b[0mself\u001b[0m\u001b[0;34m,\u001b[0m \u001b[0mfunc\u001b[0m\u001b[0;34m,\u001b[0m \u001b[0mcallback\u001b[0m\u001b[0;34m=\u001b[0m\u001b[0;32mNone\u001b[0m\u001b[0;34m)\u001b[0m\u001b[0;34m:\u001b[0m\u001b[0;34m\u001b[0m\u001b[0;34m\u001b[0m\u001b[0m\n\u001b[1;32m    207\u001b[0m         \u001b[0;34m\"\"\"Schedule a func to be run\"\"\"\u001b[0m\u001b[0;34m\u001b[0m\u001b[0;34m\u001b[0m\u001b[0m\n\u001b[0;32m--> 208\u001b[0;31m         \u001b[0mresult\u001b[0m \u001b[0;34m=\u001b[0m \u001b[0mImmediateResult\u001b[0m\u001b[0;34m(\u001b[0m\u001b[0mfunc\u001b[0m\u001b[0;34m)\u001b[0m\u001b[0;34m\u001b[0m\u001b[0;34m\u001b[0m\u001b[0m\n\u001b[0m\u001b[1;32m    209\u001b[0m         \u001b[0;32mif\u001b[0m \u001b[0mcallback\u001b[0m\u001b[0;34m:\u001b[0m\u001b[0;34m\u001b[0m\u001b[0;34m\u001b[0m\u001b[0m\n\u001b[1;32m    210\u001b[0m             \u001b[0mcallback\u001b[0m\u001b[0;34m(\u001b[0m\u001b[0mresult\u001b[0m\u001b[0;34m)\u001b[0m\u001b[0;34m\u001b[0m\u001b[0;34m\u001b[0m\u001b[0m\n",
      "\u001b[0;32m~/opt/anaconda3/envs/learn-env/lib/python3.8/site-packages/joblib/_parallel_backends.py\u001b[0m in \u001b[0;36m__init__\u001b[0;34m(self, batch)\u001b[0m\n\u001b[1;32m    570\u001b[0m         \u001b[0;31m# Don't delay the application, to avoid keeping the input\u001b[0m\u001b[0;34m\u001b[0m\u001b[0;34m\u001b[0m\u001b[0;34m\u001b[0m\u001b[0m\n\u001b[1;32m    571\u001b[0m         \u001b[0;31m# arguments in memory\u001b[0m\u001b[0;34m\u001b[0m\u001b[0;34m\u001b[0m\u001b[0;34m\u001b[0m\u001b[0m\n\u001b[0;32m--> 572\u001b[0;31m         \u001b[0mself\u001b[0m\u001b[0;34m.\u001b[0m\u001b[0mresults\u001b[0m \u001b[0;34m=\u001b[0m \u001b[0mbatch\u001b[0m\u001b[0;34m(\u001b[0m\u001b[0;34m)\u001b[0m\u001b[0;34m\u001b[0m\u001b[0;34m\u001b[0m\u001b[0m\n\u001b[0m\u001b[1;32m    573\u001b[0m \u001b[0;34m\u001b[0m\u001b[0m\n\u001b[1;32m    574\u001b[0m     \u001b[0;32mdef\u001b[0m \u001b[0mget\u001b[0m\u001b[0;34m(\u001b[0m\u001b[0mself\u001b[0m\u001b[0;34m)\u001b[0m\u001b[0;34m:\u001b[0m\u001b[0;34m\u001b[0m\u001b[0;34m\u001b[0m\u001b[0m\n",
      "\u001b[0;32m~/opt/anaconda3/envs/learn-env/lib/python3.8/site-packages/joblib/parallel.py\u001b[0m in \u001b[0;36m__call__\u001b[0;34m(self)\u001b[0m\n\u001b[1;32m    260\u001b[0m         \u001b[0;31m# change the default number of processes to -1\u001b[0m\u001b[0;34m\u001b[0m\u001b[0;34m\u001b[0m\u001b[0;34m\u001b[0m\u001b[0m\n\u001b[1;32m    261\u001b[0m         \u001b[0;32mwith\u001b[0m \u001b[0mparallel_backend\u001b[0m\u001b[0;34m(\u001b[0m\u001b[0mself\u001b[0m\u001b[0;34m.\u001b[0m\u001b[0m_backend\u001b[0m\u001b[0;34m,\u001b[0m \u001b[0mn_jobs\u001b[0m\u001b[0;34m=\u001b[0m\u001b[0mself\u001b[0m\u001b[0;34m.\u001b[0m\u001b[0m_n_jobs\u001b[0m\u001b[0;34m)\u001b[0m\u001b[0;34m:\u001b[0m\u001b[0;34m\u001b[0m\u001b[0;34m\u001b[0m\u001b[0m\n\u001b[0;32m--> 262\u001b[0;31m             return [func(*args, **kwargs)\n\u001b[0m\u001b[1;32m    263\u001b[0m                     for func, args, kwargs in self.items]\n\u001b[1;32m    264\u001b[0m \u001b[0;34m\u001b[0m\u001b[0m\n",
      "\u001b[0;32m~/opt/anaconda3/envs/learn-env/lib/python3.8/site-packages/joblib/parallel.py\u001b[0m in \u001b[0;36m<listcomp>\u001b[0;34m(.0)\u001b[0m\n\u001b[1;32m    260\u001b[0m         \u001b[0;31m# change the default number of processes to -1\u001b[0m\u001b[0;34m\u001b[0m\u001b[0;34m\u001b[0m\u001b[0;34m\u001b[0m\u001b[0m\n\u001b[1;32m    261\u001b[0m         \u001b[0;32mwith\u001b[0m \u001b[0mparallel_backend\u001b[0m\u001b[0;34m(\u001b[0m\u001b[0mself\u001b[0m\u001b[0;34m.\u001b[0m\u001b[0m_backend\u001b[0m\u001b[0;34m,\u001b[0m \u001b[0mn_jobs\u001b[0m\u001b[0;34m=\u001b[0m\u001b[0mself\u001b[0m\u001b[0;34m.\u001b[0m\u001b[0m_n_jobs\u001b[0m\u001b[0;34m)\u001b[0m\u001b[0;34m:\u001b[0m\u001b[0;34m\u001b[0m\u001b[0;34m\u001b[0m\u001b[0m\n\u001b[0;32m--> 262\u001b[0;31m             return [func(*args, **kwargs)\n\u001b[0m\u001b[1;32m    263\u001b[0m                     for func, args, kwargs in self.items]\n\u001b[1;32m    264\u001b[0m \u001b[0;34m\u001b[0m\u001b[0m\n",
      "\u001b[0;32m~/opt/anaconda3/envs/learn-env/lib/python3.8/site-packages/sklearn/linear_model/_logistic.py\u001b[0m in \u001b[0;36m_logistic_regression_path\u001b[0;34m(X, y, pos_class, Cs, fit_intercept, max_iter, tol, verbose, solver, coef, class_weight, dual, penalty, intercept_scaling, multi_class, random_state, check_input, max_squared_sum, sample_weight, l1_ratio)\u001b[0m\n\u001b[1;32m    795\u001b[0m                 \u001b[0mbeta\u001b[0m \u001b[0;34m=\u001b[0m \u001b[0;34m(\u001b[0m\u001b[0;36m1.\u001b[0m \u001b[0;34m/\u001b[0m \u001b[0mC\u001b[0m\u001b[0;34m)\u001b[0m \u001b[0;34m*\u001b[0m \u001b[0ml1_ratio\u001b[0m\u001b[0;34m\u001b[0m\u001b[0;34m\u001b[0m\u001b[0m\n\u001b[1;32m    796\u001b[0m \u001b[0;34m\u001b[0m\u001b[0m\n\u001b[0;32m--> 797\u001b[0;31m             w0, n_iter_i, warm_start_sag = sag_solver(\n\u001b[0m\u001b[1;32m    798\u001b[0m                 \u001b[0mX\u001b[0m\u001b[0;34m,\u001b[0m \u001b[0mtarget\u001b[0m\u001b[0;34m,\u001b[0m \u001b[0msample_weight\u001b[0m\u001b[0;34m,\u001b[0m \u001b[0mloss\u001b[0m\u001b[0;34m,\u001b[0m \u001b[0malpha\u001b[0m\u001b[0;34m,\u001b[0m\u001b[0;34m\u001b[0m\u001b[0;34m\u001b[0m\u001b[0m\n\u001b[1;32m    799\u001b[0m                 \u001b[0mbeta\u001b[0m\u001b[0;34m,\u001b[0m \u001b[0mmax_iter\u001b[0m\u001b[0;34m,\u001b[0m \u001b[0mtol\u001b[0m\u001b[0;34m,\u001b[0m\u001b[0;34m\u001b[0m\u001b[0;34m\u001b[0m\u001b[0m\n",
      "\u001b[0;32m~/opt/anaconda3/envs/learn-env/lib/python3.8/site-packages/sklearn/utils/validation.py\u001b[0m in \u001b[0;36minner_f\u001b[0;34m(*args, **kwargs)\u001b[0m\n\u001b[1;32m     70\u001b[0m                           FutureWarning)\n\u001b[1;32m     71\u001b[0m         \u001b[0mkwargs\u001b[0m\u001b[0;34m.\u001b[0m\u001b[0mupdate\u001b[0m\u001b[0;34m(\u001b[0m\u001b[0;34m{\u001b[0m\u001b[0mk\u001b[0m\u001b[0;34m:\u001b[0m \u001b[0marg\u001b[0m \u001b[0;32mfor\u001b[0m \u001b[0mk\u001b[0m\u001b[0;34m,\u001b[0m \u001b[0marg\u001b[0m \u001b[0;32min\u001b[0m \u001b[0mzip\u001b[0m\u001b[0;34m(\u001b[0m\u001b[0msig\u001b[0m\u001b[0;34m.\u001b[0m\u001b[0mparameters\u001b[0m\u001b[0;34m,\u001b[0m \u001b[0margs\u001b[0m\u001b[0;34m)\u001b[0m\u001b[0;34m}\u001b[0m\u001b[0;34m)\u001b[0m\u001b[0;34m\u001b[0m\u001b[0;34m\u001b[0m\u001b[0m\n\u001b[0;32m---> 72\u001b[0;31m         \u001b[0;32mreturn\u001b[0m \u001b[0mf\u001b[0m\u001b[0;34m(\u001b[0m\u001b[0;34m**\u001b[0m\u001b[0mkwargs\u001b[0m\u001b[0;34m)\u001b[0m\u001b[0;34m\u001b[0m\u001b[0;34m\u001b[0m\u001b[0m\n\u001b[0m\u001b[1;32m     73\u001b[0m     \u001b[0;32mreturn\u001b[0m \u001b[0minner_f\u001b[0m\u001b[0;34m\u001b[0m\u001b[0;34m\u001b[0m\u001b[0m\n\u001b[1;32m     74\u001b[0m \u001b[0;34m\u001b[0m\u001b[0m\n",
      "\u001b[0;32m~/opt/anaconda3/envs/learn-env/lib/python3.8/site-packages/sklearn/linear_model/_sag.py\u001b[0m in \u001b[0;36msag_solver\u001b[0;34m(X, y, sample_weight, loss, alpha, beta, max_iter, tol, verbose, random_state, check_input, max_squared_sum, warm_start_mem, is_saga)\u001b[0m\n\u001b[1;32m    309\u001b[0m \u001b[0;34m\u001b[0m\u001b[0m\n\u001b[1;32m    310\u001b[0m     \u001b[0msag\u001b[0m \u001b[0;34m=\u001b[0m \u001b[0msag64\u001b[0m \u001b[0;32mif\u001b[0m \u001b[0mX\u001b[0m\u001b[0;34m.\u001b[0m\u001b[0mdtype\u001b[0m \u001b[0;34m==\u001b[0m \u001b[0mnp\u001b[0m\u001b[0;34m.\u001b[0m\u001b[0mfloat64\u001b[0m \u001b[0;32melse\u001b[0m \u001b[0msag32\u001b[0m\u001b[0;34m\u001b[0m\u001b[0;34m\u001b[0m\u001b[0m\n\u001b[0;32m--> 311\u001b[0;31m     num_seen, n_iter_ = sag(dataset, coef_init,\n\u001b[0m\u001b[1;32m    312\u001b[0m                             \u001b[0mintercept_init\u001b[0m\u001b[0;34m,\u001b[0m \u001b[0mn_samples\u001b[0m\u001b[0;34m,\u001b[0m\u001b[0;34m\u001b[0m\u001b[0;34m\u001b[0m\u001b[0m\n\u001b[1;32m    313\u001b[0m                             \u001b[0mn_features\u001b[0m\u001b[0;34m,\u001b[0m \u001b[0mn_classes\u001b[0m\u001b[0;34m,\u001b[0m \u001b[0mtol\u001b[0m\u001b[0;34m,\u001b[0m\u001b[0;34m\u001b[0m\u001b[0;34m\u001b[0m\u001b[0m\n",
      "\u001b[0;31mKeyboardInterrupt\u001b[0m: "
     ]
    }
   ],
   "source": [
    "from sklearn.model_selection import GridSearchCV\n",
    "\n",
    "param_grid = [\n",
    "    {'C': [0.001, 0.1, 1, 1000],\n",
    "     'class_weight': [None, 'balanced'],\n",
    "     'random_state': [seed],\n",
    "     'max_iter': [1000]},\n",
    "    {'penalty': ['elasticnet'],\n",
    "     'solver': ['saga'],\n",
    "     'l1_ratio': [0.25, 0.5, 0.75],\n",
    "     'C': [0.001, 0.1, 1, 1000],\n",
    "     'max_iter': [1000]},\n",
    "    {'penalty': ['l1'],\n",
    "     'solver': ['saga'],\n",
    "     'C': [0.001, 0.1, 1, 1000],\n",
    "     'random_state': [seed],\n",
    "     'max_iter': [1000]}\n",
    "]\n",
    "\n",
    "logreg = LogisticRegression()\n",
    "\n",
    "grid_search = GridSearchCV(logreg, param_grid, scoring='accuracy')\n",
    "\n",
    "grid_search.fit(scaled_X_train, y_train_preprocessed)\n",
    "\n",
    "print(grid_search.best_score_)"
   ]
  },
  {
   "cell_type": "code",
   "execution_count": null,
   "metadata": {
    "scrolled": true
   },
   "outputs": [],
   "source": [
    "# store accuracy for logreg tuned for accuracy\n",
    "\n",
    "model_eval['name'].append('tuned_logreg')\n",
    "model_eval['model'].append(clone(grid_search.best_estimator_))\n",
    "model_eval['accuracy'].append(grid_search.best_score_)\n",
    "pd.DataFrame(model_eval)"
   ]
  },
  {
   "cell_type": "code",
   "execution_count": null,
   "metadata": {},
   "outputs": [],
   "source": [
    "# store recall for logreg tuned for accuracy\n",
    "\n",
    "neg_recall_eval['name'].append('tuned_logreg')\n",
    "neg_recall_eval['model'].append(clone(grid_search.best_estimator_))\n",
    "neg_recall_eval['recall_of_negative_tweets'].append(\n",
    "np.mean(cross_val_score(grid_search.best_estimator_, scaled_X_train, y_train_preprocessed, scoring=negative_recall_score)))\n",
    "pd.DataFrame(neg_recall_eval)"
   ]
  },
  {
   "cell_type": "code",
   "execution_count": null,
   "metadata": {
    "scrolled": true
   },
   "outputs": [],
   "source": [
    "# optimize for negative recall instead\n",
    "\n",
    "grid_search = GridSearchCV(logreg, param_grid, scoring=negative_recall_score)\n",
    "\n",
    "grid_search.fit(scaled_X_train, y_train_preprocessed)\n",
    "\n",
    "print(grid_search.best_score_)"
   ]
  },
  {
   "cell_type": "code",
   "execution_count": null,
   "metadata": {},
   "outputs": [],
   "source": [
    "grid_search.best_estimator_"
   ]
  },
  {
   "cell_type": "code",
   "execution_count": null,
   "metadata": {},
   "outputs": [],
   "source": [
    "# store results\n",
    "model_eval['name'].append('logreg_tuned_for_neg_recall')\n",
    "model_eval['model'].append(clone(grid_search.best_estimator_))\n",
    "model_eval['accuracy'].append(\n",
    "np.mean(cross_val_score(grid_search.best_estimator_, scaled_X_train, y_train_preprocessed)))\n",
    "pd.DataFrame(model_eval)"
   ]
  },
  {
   "cell_type": "code",
   "execution_count": null,
   "metadata": {},
   "outputs": [],
   "source": [
    "# store neg recall results\n",
    "\n",
    "neg_recall_eval['name'].append('logreg_tuned_for_neg_recall')\n",
    "neg_recall_eval['model'].append(clone(grid_search.best_estimator_))\n",
    "neg_recall_eval['recall_of_negative_tweets'].append(grid_search.best_score_)\n",
    "pd.DataFrame(neg_recall_eval)"
   ]
  },
  {
   "cell_type": "markdown",
   "metadata": {},
   "source": [
    "## Random Forest"
   ]
  },
  {
   "cell_type": "code",
   "execution_count": null,
   "metadata": {},
   "outputs": [],
   "source": [
    "from sklearn.ensemble import RandomForestClassifier\n",
    "\n",
    "rf = RandomForestClassifier(random_state=seed)\n",
    "\n",
    "np.mean(cross_val_score(rf, scaled_X_train, y_train_preprocessed))"
   ]
  },
  {
   "cell_type": "code",
   "execution_count": null,
   "metadata": {},
   "outputs": [],
   "source": [
    "model_eval['name'].append('baseline_random_forest')\n",
    "model_eval['model'].append(clone(rf))\n",
    "model_eval['accuracy'].append(np.mean(cross_val_score(rf, scaled_X_train, y_train_preprocessed)))\n",
    "pd.DataFrame(model_eval)"
   ]
  },
  {
   "cell_type": "code",
   "execution_count": null,
   "metadata": {},
   "outputs": [],
   "source": [
    "neg_recall_eval['name'].append('baseline_random_forest')\n",
    "neg_recall_eval['model'].append(clone(rf))\n",
    "neg_recall_eval['recall_of_negative_tweets'].append(\n",
    "np.mean(cross_val_score(rf, scaled_X_train, y_train_preprocessed, scoring=negative_recall_score)))\n",
    "pd.DataFrame(neg_recall_eval)"
   ]
  },
  {
   "cell_type": "markdown",
   "metadata": {},
   "source": [
    "**Make a function to record model results:**"
   ]
  },
  {
   "cell_type": "code",
   "execution_count": null,
   "metadata": {},
   "outputs": [],
   "source": [
    "def log_model_results(name, model, x_data=scaled_X_train, y_data=y_train_preprocessed):\n",
    "    '''Pass in a name and a model; store model's name, a clone of model & accuracy.'''\n",
    "    global model_eval\n",
    "    global neg_recall_eval\n",
    "\n",
    "    model_eval['name'].append(name)\n",
    "    model_eval['model'].append(clone(model))\n",
    "    model_score = np.mean(cross_val_score(model, x_data, y_data))\n",
    "    model_eval['accuracy'].append(model_score)\n",
    "    \n",
    "    neg_recall_eval['name'].append(name)\n",
    "    neg_recall_eval['model'].append(clone(model))\n",
    "    nr_score = np.mean(cross_val_score(model, x_data, y_data, scoring=negative_recall_score))\n",
    "    neg_recall_eval['recall_of_negative_tweets'].append(nr_score)\n",
    "    \n",
    "    return pd.concat([pd.DataFrame(model_eval), pd.DataFrame(neg_recall_eval)], axis=1)"
   ]
  },
  {
   "cell_type": "code",
   "execution_count": null,
   "metadata": {},
   "outputs": [],
   "source": [
    "pd.DataFrame(neg_recall_eval)"
   ]
  },
  {
   "cell_type": "markdown",
   "metadata": {},
   "source": [
    "## Build Custom word2Vec Embeddings 2"
   ]
  },
  {
   "cell_type": "code",
   "execution_count": null,
   "metadata": {},
   "outputs": [],
   "source": [
    "import gensim"
   ]
  },
  {
   "cell_type": "code",
   "execution_count": null,
   "metadata": {},
   "outputs": [],
   "source": [
    "corpus = []\n",
    "for tweet in X_train.values:\n",
    "    corpus.append(gensim.utils.simple_preprocess(tweet))"
   ]
  },
  {
   "cell_type": "code",
   "execution_count": null,
   "metadata": {},
   "outputs": [],
   "source": [
    "custom_embeddings = gensim.models.Word2Vec(corpus,\n",
    "                                           size=50,\n",
    "                                           window=5,\n",
    "                                           iter=10)"
   ]
  },
  {
   "cell_type": "code",
   "execution_count": null,
   "metadata": {},
   "outputs": [],
   "source": [
    "import string\n",
    "\n",
    "def get_custom_mean_word_vector(tweet):\n",
    "    tokens = tweet.split()\n",
    "    tweet_vectors = []\n",
    "    for token in tokens:\n",
    "        try:\n",
    "            tweet_vectors.append(custom_embeddings.wv[token.lower().strip(string.punctuation)])\n",
    "        except:\n",
    "            continue\n",
    "    return np.mean(np.array(tweet_vectors), axis=0)"
   ]
  },
  {
   "cell_type": "code",
   "execution_count": null,
   "metadata": {
    "scrolled": false
   },
   "outputs": [],
   "source": [
    "X_train_preprocessed3 = X_train.apply(get_custom_mean_word_vector)"
   ]
  },
  {
   "cell_type": "code",
   "execution_count": null,
   "metadata": {},
   "outputs": [],
   "source": [
    "preprocessed_values = dict()\n",
    "\n",
    "for i in range(50):\n",
    "    label = f'feature_{i}'\n",
    "    values = [vector[i] for vector in X_train_preprocessed3.values]\n",
    "    preprocessed_values[label] = values\n",
    "\n",
    "final_X_train3 = pd.DataFrame(preprocessed_values, index=X_train.index)"
   ]
  },
  {
   "cell_type": "code",
   "execution_count": null,
   "metadata": {},
   "outputs": [],
   "source": [
    "from sklearn.preprocessing import StandardScaler\n",
    "\n",
    "ss = StandardScaler()\n",
    "\n",
    "scaled_X_train3 = ss.fit_transform(final_X_train3)"
   ]
  },
  {
   "cell_type": "code",
   "execution_count": null,
   "metadata": {},
   "outputs": [],
   "source": [
    "from sklearn.model_selection import cross_val_score\n",
    "from sklearn.linear_model import LogisticRegression\n",
    "\n",
    "baseline = LogisticRegression(random_state=seed, max_iter=10000)\n",
    "\n",
    "np.mean(cross_val_score(baseline, scaled_X_train3, y_train_preprocessed))"
   ]
  },
  {
   "cell_type": "code",
   "execution_count": null,
   "metadata": {},
   "outputs": [],
   "source": [
    "log_model_results('custom_embeddings', baseline, scaled_X_train3, y_train_preprocessed)"
   ]
  },
  {
   "cell_type": "markdown",
   "metadata": {},
   "source": [
    "## Tuning Random Forest"
   ]
  },
  {
   "cell_type": "code",
   "execution_count": null,
   "metadata": {},
   "outputs": [],
   "source": [
    "balanced_rf = RandomForestClassifier(random_state=seed, class_weight='balanced')"
   ]
  },
  {
   "cell_type": "code",
   "execution_count": null,
   "metadata": {
    "scrolled": true
   },
   "outputs": [],
   "source": [
    "log_model_results('balanced_rf', balanced_rf)"
   ]
  },
  {
   "cell_type": "code",
   "execution_count": null,
   "metadata": {
    "scrolled": true
   },
   "outputs": [],
   "source": [
    "balanced_rf.fit(scaled_X_train, y_train_preprocessed)"
   ]
  },
  {
   "cell_type": "code",
   "execution_count": null,
   "metadata": {},
   "outputs": [],
   "source": [
    "estimator_depths = [estimator.get_depth() for estimator in balanced_rf.estimators_]\n",
    "print(f'Mean depth: {np.mean(estimator_depths)}')\n",
    "print(f'Standard deviation: {np.std(estimator_depths)}')"
   ]
  },
  {
   "cell_type": "code",
   "execution_count": null,
   "metadata": {},
   "outputs": [],
   "source": [
    "param_grid = [\n",
    "    {'random_state': [seed],\n",
    "     'max_depth': [5, 10, 20, 30],\n",
    "     'class_weight': [None, 'balanced']}\n",
    "]\n",
    "\n",
    "grid_search = GridSearchCV(rf, param_grid, scoring=negative_recall_score)\n",
    "\n",
    "grid_search.fit(scaled_X_train, y_train_preprocessed)"
   ]
  },
  {
   "cell_type": "code",
   "execution_count": null,
   "metadata": {},
   "outputs": [],
   "source": [
    "grid_search.best_score_"
   ]
  },
  {
   "cell_type": "code",
   "execution_count": null,
   "metadata": {},
   "outputs": [],
   "source": [
    "log_model_results('tuned_rf', grid_search.best_estimator_)"
   ]
  },
  {
   "cell_type": "markdown",
   "metadata": {},
   "source": [
    "## Binary Classifier"
   ]
  },
  {
   "cell_type": "code",
   "execution_count": null,
   "metadata": {},
   "outputs": [],
   "source": [
    "clean_data.head()"
   ]
  },
  {
   "cell_type": "code",
   "execution_count": null,
   "metadata": {},
   "outputs": [],
   "source": [
    "clean_data.sentiment.value_counts(normalize=True)"
   ]
  },
  {
   "cell_type": "code",
   "execution_count": null,
   "metadata": {},
   "outputs": [],
   "source": [
    "binary_data = clean_data.loc[clean_data.sentiment != 'No emotion toward brand or product']"
   ]
  },
  {
   "cell_type": "code",
   "execution_count": null,
   "metadata": {},
   "outputs": [],
   "source": [
    "binary_data.sentiment.value_counts(normalize=True)"
   ]
  },
  {
   "cell_type": "code",
   "execution_count": null,
   "metadata": {},
   "outputs": [],
   "source": [
    "binary_model_eval = {'name': [], 'model': [], 'accuracy': []}\n",
    "\n",
    "from sklearn.base import clone # to store models"
   ]
  },
  {
   "cell_type": "code",
   "execution_count": null,
   "metadata": {},
   "outputs": [],
   "source": [
    "def log_binary_model_results(name, model, x_data, y_data):\n",
    "    '''Pass in a name and a model; store model's name, a clone of model & accuracy.'''\n",
    "    global binary_model_eval\n",
    "\n",
    "    binary_model_eval['name'].append(name)\n",
    "    binary_model_eval['model'].append(clone(model))\n",
    "    model_score = np.mean(cross_val_score(model, x_data, y_data))\n",
    "    binary_model_eval['accuracy'].append(model_score)\n",
    "    \n",
    "    return pd.DataFrame(binary_model_eval)"
   ]
  },
  {
   "cell_type": "code",
   "execution_count": null,
   "metadata": {},
   "outputs": [],
   "source": [
    "from sklearn.model_selection import train_test_split\n",
    "\n",
    "X_train, X_test, y_train, y_test = train_test_split(binary_data['tweet_text'],\n",
    "                                                    binary_data['sentiment'],\n",
    "                                                    test_size=0.2,\n",
    "                                                    random_state=seed)"
   ]
  },
  {
   "cell_type": "code",
   "execution_count": null,
   "metadata": {},
   "outputs": [],
   "source": [
    "y_train.value_counts(normalize=True)"
   ]
  },
  {
   "cell_type": "code",
   "execution_count": null,
   "metadata": {
    "scrolled": true
   },
   "outputs": [],
   "source": [
    "y_test.value_counts(normalize=True)"
   ]
  },
  {
   "cell_type": "markdown",
   "metadata": {},
   "source": [
    "### Preprocessing with GloVe"
   ]
  },
  {
   "cell_type": "code",
   "execution_count": null,
   "metadata": {},
   "outputs": [],
   "source": [
    "# GloVe word2vec vectorization\n",
    "preprocessed_train_values = dict()\n",
    "preprocessed_test_values = dict()\n",
    "\n",
    "for i in range(50):\n",
    "    label = f'feature_{i}'\n",
    "    # get i^th component of each mean tweet vector\n",
    "    train_values = [vector[i] for vector in X_train.apply(get_mean_word_vector)]\n",
    "    test_values = [vector[i] for vector in X_test.apply(get_mean_word_vector)]\n",
    "    # store\n",
    "    preprocessed_train_values[label] = train_values\n",
    "    preprocessed_test_values[label] = test_values\n",
    "\n",
    "final_X_train = pd.DataFrame(preprocessed_train_values, index=X_train.index)\n",
    "final_X_test = pd.DataFrame(preprocessed_test_values, index=X_test.index)"
   ]
  },
  {
   "cell_type": "code",
   "execution_count": null,
   "metadata": {},
   "outputs": [],
   "source": [
    "# scale\n",
    "scaled_X_train = ss.fit_transform(final_X_train)\n",
    "scaled_X_test = ss.transform(final_X_test)"
   ]
  },
  {
   "cell_type": "code",
   "execution_count": null,
   "metadata": {},
   "outputs": [],
   "source": [
    "# label encode target\n",
    "from sklearn.preprocessing import LabelEncoder\n",
    "\n",
    "le = LabelEncoder()\n",
    "\n",
    "y_train_preprocessed = le.fit_transform(y_train)\n",
    "y_test_preprocessed = le.transform(y_test)\n",
    "\n",
    "print(le.classes_)"
   ]
  },
  {
   "cell_type": "code",
   "execution_count": null,
   "metadata": {},
   "outputs": [],
   "source": [
    "# score baseline\n",
    "baseline = LogisticRegression(random_state=seed)\n",
    "\n",
    "np.mean(cross_val_score(baseline, scaled_X_train, y_train_preprocessed))"
   ]
  },
  {
   "cell_type": "code",
   "execution_count": null,
   "metadata": {},
   "outputs": [],
   "source": [
    "log_binary_model_results('GloVe', baseline, scaled_X_train, y_train_preprocessed)"
   ]
  },
  {
   "cell_type": "code",
   "execution_count": null,
   "metadata": {},
   "outputs": [],
   "source": [
    "# examine positive / negative breakdown\n",
    "from sklearn.metrics import confusion_matrix, ConfusionMatrixDisplay\n",
    "from sklearn.model_selection import KFold\n",
    "\n",
    "kfolds = KFold(n_splits=2, shuffle=True, random_state=seed)\n",
    "\n",
    "for train, test in kfolds.split(scaled_X_train, y_train_preprocessed):\n",
    "    train_split = train\n",
    "    test_split = test\n",
    "    break\n",
    "    \n",
    "baseline.fit(scaled_X_train[train_split], y_train_preprocessed[train_split])\n",
    "ConfusionMatrixDisplay(confusion_matrix(y_train_preprocessed[test_split],\n",
    "                                        baseline.predict(scaled_X_train[test_split])\n",
    "                                       )).plot();"
   ]
  },
  {
   "cell_type": "code",
   "execution_count": null,
   "metadata": {},
   "outputs": [],
   "source": [
    "# Check recall of negative tweets\n",
    "ConfusionMatrixDisplay(confusion_matrix(y_train_preprocessed[test_split],\n",
    "                                        baseline.predict(scaled_X_train[test_split]),\n",
    "                                        normalize='true'\n",
    "                                       )).plot();"
   ]
  },
  {
   "cell_type": "markdown",
   "metadata": {},
   "source": [
    "18% of negative tweets are being captured."
   ]
  },
  {
   "cell_type": "code",
   "execution_count": null,
   "metadata": {},
   "outputs": [],
   "source": [
    "# undersample\n",
    "from imblearn.under_sampling import RandomUnderSampler\n",
    "\n",
    "rus = RandomUnderSampler(random_state=seed)\n",
    "\n",
    "X_train_undersampled, y_train_undersampled = rus.fit_resample(scaled_X_train,\n",
    "                                                              y_train_preprocessed)"
   ]
  },
  {
   "cell_type": "code",
   "execution_count": null,
   "metadata": {},
   "outputs": [],
   "source": [
    "# refit\n",
    "baseline.fit(X_train_undersampled, y_train_undersampled)\n",
    "\n",
    "# Check recall of negative tweets\n",
    "ConfusionMatrixDisplay(confusion_matrix(y_test_preprocessed,\n",
    "                                        baseline.predict(scaled_X_test),\n",
    "                                        normalize='true'\n",
    "                                       )).plot();"
   ]
  },
  {
   "cell_type": "code",
   "execution_count": null,
   "metadata": {},
   "outputs": [],
   "source": [
    "np.mean(cross_val_score(baseline, X_train_undersampled, y_train_undersampled))"
   ]
  },
  {
   "cell_type": "code",
   "execution_count": null,
   "metadata": {},
   "outputs": [],
   "source": [
    "log_binary_model_results('random_under_sampling', baseline, X_train_undersampled,\n",
    "                         y_train_undersampled)"
   ]
  },
  {
   "cell_type": "markdown",
   "metadata": {},
   "source": [
    "Undersampling drastically decreases the overall accuracy of the model, but drastically increases the recall of negative tweets."
   ]
  },
  {
   "cell_type": "code",
   "execution_count": null,
   "metadata": {},
   "outputs": [],
   "source": [
    "recall_of_neg_tweets = []\n",
    "overall_accuracy = []\n",
    "\n",
    "for ratio in np.linspace(0.5, 1, 6):\n",
    "    rus = RandomUnderSampler(random_state=seed, sampling_strategy=ratio)\n",
    "    \n",
    "    X_train_undersampled, y_train_undersampled = rus.fit_resample(scaled_X_train,\n",
    "                                                                  y_train_preprocessed)\n",
    "    \n",
    "    baseline.fit(X_train_undersampled, y_train_undersampled)\n",
    "\n",
    "    overall_accuracy.append(accuracy_score(y_test_preprocessed,\n",
    "                                           baseline.predict(scaled_X_test)))\n",
    "    neg_recall = confusion_matrix(y_test_preprocessed, baseline.predict(scaled_X_test),\n",
    "                                  normalize='true')[0][0]\n",
    "    recall_of_neg_tweets.append(neg_recall)"
   ]
  },
  {
   "cell_type": "code",
   "execution_count": null,
   "metadata": {
    "scrolled": true
   },
   "outputs": [],
   "source": [
    "fig, ax = plt.subplots()\n",
    "\n",
    "plt.plot(np.linspace(0.5, 1, 6), overall_accuracy, label='accuracy')\n",
    "plt.plot(np.linspace(0.5, 1, 6), recall_of_neg_tweets, label='negative recall')\n",
    "\n",
    "ax.legend();"
   ]
  },
  {
   "cell_type": "code",
   "execution_count": null,
   "metadata": {},
   "outputs": [],
   "source": [
    "# Check precision of positive/negative tweets\n",
    "\n",
    "rus = RandomUnderSampler(random_state=seed)\n",
    "\n",
    "X_train_undersampled, y_train_undersampled = rus.fit_resample(scaled_X_train,\n",
    "                                                              y_train_preprocessed)\n",
    "\n",
    "baseline.fit(X_train_undersampled, y_train_undersampled)\n",
    "\n",
    "ConfusionMatrixDisplay(confusion_matrix(y_test_preprocessed,\n",
    "                                        baseline.predict(scaled_X_test),\n",
    "                                        normalize='pred'\n",
    "                                       )).plot();"
   ]
  },
  {
   "cell_type": "markdown",
   "metadata": {},
   "source": [
    "With undersampling, our model has 36% precision in negative tweets, and 93% precision in positive tweets. (It is only right 36% of the time when predicting that a tweet is negative!)"
   ]
  },
  {
   "cell_type": "markdown",
   "metadata": {},
   "source": [
    "### Preprocessing as a Bag of Words"
   ]
  },
  {
   "cell_type": "code",
   "execution_count": null,
   "metadata": {},
   "outputs": [],
   "source": [
    "from nltk.tokenize import word_tokenize\n",
    "import string\n",
    "\n",
    "def custom_tokenize(tweet):\n",
    "    list_of_words = tweet.split()\n",
    "    clean_list = [word.strip(string.punctuation).lower() for word in list_of_words]\n",
    "    clean_tweet = ' '.join(clean_list)\n",
    "    return word_tokenize(clean_tweet)"
   ]
  },
  {
   "cell_type": "code",
   "execution_count": null,
   "metadata": {},
   "outputs": [],
   "source": [
    "test_tweet = \"@samantha here is a test tweet!! to make sure This works.\""
   ]
  },
  {
   "cell_type": "code",
   "execution_count": null,
   "metadata": {},
   "outputs": [],
   "source": [
    "custom_tokenize(test_tweet)"
   ]
  },
  {
   "cell_type": "code",
   "execution_count": null,
   "metadata": {},
   "outputs": [],
   "source": [
    "X_train.apply(custom_tokenize)"
   ]
  },
  {
   "cell_type": "code",
   "execution_count": null,
   "metadata": {},
   "outputs": [],
   "source": [
    "from sklearn.feature_extraction.text import TfidfVectorizer\n",
    "\n",
    "tfidf = TfidfVectorizer(ngram_range=(1,2), max_df=0.95, min_df=0.05)\n",
    "\n",
    "tfidf_X_train = pd.DataFrame(\n",
    "    tfidf.fit_transform(X_train.apply(lambda x: ' '.join(custom_tokenize(x)))).todense(),\n",
    "    columns=list(tfidf.vocabulary_.keys()),\n",
    "    index=X_train.index)"
   ]
  },
  {
   "cell_type": "code",
   "execution_count": null,
   "metadata": {},
   "outputs": [],
   "source": [
    "tfidf_X_test = pd.DataFrame(\n",
    "    tfidf.transform(X_test.apply(lambda x: ' '.join(custom_tokenize(x)))).todense(),\n",
    "    columns=list(tfidf.vocabulary_.keys()),\n",
    "    index=X_test.index)"
   ]
  },
  {
   "cell_type": "code",
   "execution_count": null,
   "metadata": {
    "scrolled": true
   },
   "outputs": [],
   "source": [
    "np.mean(\n",
    "cross_val_score(baseline, tfidf_X_train, y_train_preprocessed)\n",
    ")"
   ]
  },
  {
   "cell_type": "code",
   "execution_count": null,
   "metadata": {},
   "outputs": [],
   "source": [
    "log_binary_model_results('Tfidf', baseline, tfidf_X_train, y_train_preprocessed)"
   ]
  },
  {
   "cell_type": "code",
   "execution_count": null,
   "metadata": {},
   "outputs": [],
   "source": [
    "tfidf_X_train.head()"
   ]
  },
  {
   "cell_type": "code",
   "execution_count": null,
   "metadata": {},
   "outputs": [],
   "source": [
    "baseline.fit(tfidf_X_train, y_train_preprocessed)\n",
    "\n",
    "ConfusionMatrixDisplay(confusion_matrix(y_test_preprocessed,\n",
    "                                        baseline.predict(tfidf_X_test)\n",
    "                                       )).plot();"
   ]
  },
  {
   "cell_type": "code",
   "execution_count": null,
   "metadata": {},
   "outputs": [],
   "source": [
    "\n",
    "ConfusionMatrixDisplay(confusion_matrix(y_test_preprocessed,\n",
    "                                        baseline.predict(tfidf_X_test),\n",
    "                                        normalize='true'\n",
    "                                       )).plot();"
   ]
  },
  {
   "cell_type": "markdown",
   "metadata": {},
   "source": [
    "Using a simple bag of words representation with term frequency inverse document frequency vectorization results in the best recall of positive tweets so far, but the worst recall of negative tweets so far."
   ]
  },
  {
   "cell_type": "markdown",
   "metadata": {},
   "source": [
    "## Use TextBlob"
   ]
  },
  {
   "cell_type": "code",
   "execution_count": 12,
   "metadata": {},
   "outputs": [
    {
     "ename": "ModuleNotFoundError",
     "evalue": "No module named 'textblob'",
     "output_type": "error",
     "traceback": [
      "\u001b[0;31m---------------------------------------------------------------------------\u001b[0m",
      "\u001b[0;31mModuleNotFoundError\u001b[0m                       Traceback (most recent call last)",
      "\u001b[0;32m/var/folders/n1/06kwj40j2q1g58ss6ym4_57h0000gn/T/ipykernel_73955/4276058095.py\u001b[0m in \u001b[0;36m<cell line: 1>\u001b[0;34m()\u001b[0m\n\u001b[0;32m----> 1\u001b[0;31m \u001b[0;32mfrom\u001b[0m \u001b[0mtextblob\u001b[0m \u001b[0;32mimport\u001b[0m \u001b[0mTextBlob\u001b[0m\u001b[0;34m\u001b[0m\u001b[0;34m\u001b[0m\u001b[0m\n\u001b[0m\u001b[1;32m      2\u001b[0m \u001b[0;34m\u001b[0m\u001b[0m\n\u001b[1;32m      3\u001b[0m \u001b[0mtrain_sentiments\u001b[0m \u001b[0;34m=\u001b[0m \u001b[0mX_train\u001b[0m\u001b[0;34m.\u001b[0m\u001b[0mapply\u001b[0m\u001b[0;34m(\u001b[0m\u001b[0;32mlambda\u001b[0m \u001b[0mx\u001b[0m\u001b[0;34m:\u001b[0m \u001b[0mTextBlob\u001b[0m\u001b[0;34m(\u001b[0m\u001b[0mx\u001b[0m\u001b[0;34m)\u001b[0m\u001b[0;34m.\u001b[0m\u001b[0msentiment\u001b[0m\u001b[0;34m[\u001b[0m\u001b[0;36m0\u001b[0m\u001b[0;34m]\u001b[0m\u001b[0;34m)\u001b[0m\u001b[0;34m\u001b[0m\u001b[0;34m\u001b[0m\u001b[0m\n",
      "\u001b[0;31mModuleNotFoundError\u001b[0m: No module named 'textblob'"
     ]
    }
   ],
   "source": [
    "from textblob import TextBlob\n",
    "\n",
    "train_sentiments = X_train.apply(lambda x: TextBlob(x).sentiment[0])"
   ]
  },
  {
   "cell_type": "code",
   "execution_count": null,
   "metadata": {},
   "outputs": [],
   "source": [
    "from sklearn.metrics import accuracy_score\n",
    "\n",
    "tb_preds = []\n",
    "\n",
    "for sentiment in train_sentiments:\n",
    "    if sentiment > 0:\n",
    "        tb_preds.append(1)\n",
    "    else:\n",
    "        tb_preds.append(0)\n",
    "        \n",
    "accuracy_score(y_train_preprocessed, tb_preds)"
   ]
  },
  {
   "cell_type": "code",
   "execution_count": null,
   "metadata": {},
   "outputs": [],
   "source": [
    "from sklearn.metrics import confusion_matrix\n",
    "\n",
    "confusion_matrix(y_train_preprocessed, tb_preds, normalize='true')"
   ]
  },
  {
   "cell_type": "markdown",
   "metadata": {},
   "source": [
    "With TextBlob's sentiment attribute, we are able to achieve a 62% recall of negative tweets, and an overall accuracy of 61.6%."
   ]
  },
  {
   "cell_type": "markdown",
   "metadata": {},
   "source": [
    "## Stacking"
   ]
  },
  {
   "cell_type": "markdown",
   "metadata": {},
   "source": [
    "Let's try stacking the mean word vectors for each tweet, along with the TextBlob sentiment rating for the tweet, into one long vector which will be passed into the classifier."
   ]
  },
  {
   "cell_type": "markdown",
   "metadata": {},
   "source": [
    "### Stack Vectors"
   ]
  },
  {
   "cell_type": "code",
   "execution_count": 13,
   "metadata": {},
   "outputs": [],
   "source": [
    "# GloVe vectors\n",
    "\n",
    "import string\n",
    "def get_mean_word_vector(tweet):\n",
    "    tokens = tweet.split()\n",
    "    tweet_vectors = []\n",
    "    for token in tokens:\n",
    "        try:\n",
    "            tweet_vectors.append(glove[token.lower().strip(string.punctuation)])\n",
    "        except:\n",
    "            continue\n",
    "    return np.mean(np.array(tweet_vectors), axis=0)\n",
    "\n",
    "preprocessed_train_values = dict()\n",
    "preprocessed_test_values = dict()\n",
    "for i in range(50):\n",
    "    label = f'feature_{i}'\n",
    "    train_values = [vector[i] for vector in X_train.apply(get_mean_word_vector).values]\n",
    "    test_values = [vector[i] for vector in X_test.apply(get_mean_word_vector).values]\n",
    "    preprocessed_train_values[label] = train_values\n",
    "    preprocessed_test_values[label] = test_values\n",
    "\n",
    "final_X_train = pd.DataFrame(preprocessed_train_values, index=X_train.index)\n",
    "final_X_test = pd.DataFrame(preprocessed_test_values, index=X_test.index)"
   ]
  },
  {
   "cell_type": "code",
   "execution_count": 14,
   "metadata": {},
   "outputs": [
    {
     "data": {
      "text/html": [
       "<div>\n",
       "<style scoped>\n",
       "    .dataframe tbody tr th:only-of-type {\n",
       "        vertical-align: middle;\n",
       "    }\n",
       "\n",
       "    .dataframe tbody tr th {\n",
       "        vertical-align: top;\n",
       "    }\n",
       "\n",
       "    .dataframe thead th {\n",
       "        text-align: right;\n",
       "    }\n",
       "</style>\n",
       "<table border=\"1\" class=\"dataframe\">\n",
       "  <thead>\n",
       "    <tr style=\"text-align: right;\">\n",
       "      <th></th>\n",
       "      <th>feature_0</th>\n",
       "      <th>feature_1</th>\n",
       "      <th>feature_2</th>\n",
       "      <th>feature_3</th>\n",
       "      <th>feature_4</th>\n",
       "      <th>feature_5</th>\n",
       "      <th>feature_6</th>\n",
       "      <th>feature_7</th>\n",
       "      <th>feature_8</th>\n",
       "      <th>feature_9</th>\n",
       "      <th>...</th>\n",
       "      <th>feature_40</th>\n",
       "      <th>feature_41</th>\n",
       "      <th>feature_42</th>\n",
       "      <th>feature_43</th>\n",
       "      <th>feature_44</th>\n",
       "      <th>feature_45</th>\n",
       "      <th>feature_46</th>\n",
       "      <th>feature_47</th>\n",
       "      <th>feature_48</th>\n",
       "      <th>feature_49</th>\n",
       "    </tr>\n",
       "  </thead>\n",
       "  <tbody>\n",
       "    <tr>\n",
       "      <th>8841</th>\n",
       "      <td>0.319201</td>\n",
       "      <td>0.395279</td>\n",
       "      <td>-0.176584</td>\n",
       "      <td>-0.131364</td>\n",
       "      <td>-0.071595</td>\n",
       "      <td>0.083308</td>\n",
       "      <td>0.705606</td>\n",
       "      <td>-0.034821</td>\n",
       "      <td>0.228301</td>\n",
       "      <td>-0.119688</td>\n",
       "      <td>...</td>\n",
       "      <td>-0.714364</td>\n",
       "      <td>0.172167</td>\n",
       "      <td>0.171923</td>\n",
       "      <td>0.094589</td>\n",
       "      <td>0.099394</td>\n",
       "      <td>-0.244238</td>\n",
       "      <td>-0.124904</td>\n",
       "      <td>-0.021861</td>\n",
       "      <td>-0.306482</td>\n",
       "      <td>0.078222</td>\n",
       "    </tr>\n",
       "    <tr>\n",
       "      <th>1099</th>\n",
       "      <td>0.313010</td>\n",
       "      <td>0.332674</td>\n",
       "      <td>-0.139310</td>\n",
       "      <td>-0.143318</td>\n",
       "      <td>0.148534</td>\n",
       "      <td>0.099929</td>\n",
       "      <td>0.650696</td>\n",
       "      <td>-0.196787</td>\n",
       "      <td>0.133210</td>\n",
       "      <td>-0.467467</td>\n",
       "      <td>...</td>\n",
       "      <td>-0.750454</td>\n",
       "      <td>0.414936</td>\n",
       "      <td>0.180222</td>\n",
       "      <td>0.217292</td>\n",
       "      <td>0.367504</td>\n",
       "      <td>0.074869</td>\n",
       "      <td>-0.209672</td>\n",
       "      <td>-0.156023</td>\n",
       "      <td>-0.255526</td>\n",
       "      <td>0.273825</td>\n",
       "    </tr>\n",
       "  </tbody>\n",
       "</table>\n",
       "<p>2 rows × 50 columns</p>\n",
       "</div>"
      ],
      "text/plain": [
       "      feature_0  feature_1  feature_2  feature_3  feature_4  feature_5  \\\n",
       "8841   0.319201   0.395279  -0.176584  -0.131364  -0.071595   0.083308   \n",
       "1099   0.313010   0.332674  -0.139310  -0.143318   0.148534   0.099929   \n",
       "\n",
       "      feature_6  feature_7  feature_8  feature_9  ...  feature_40  feature_41  \\\n",
       "8841   0.705606  -0.034821   0.228301  -0.119688  ...   -0.714364    0.172167   \n",
       "1099   0.650696  -0.196787   0.133210  -0.467467  ...   -0.750454    0.414936   \n",
       "\n",
       "      feature_42  feature_43  feature_44  feature_45  feature_46  feature_47  \\\n",
       "8841    0.171923    0.094589    0.099394   -0.244238   -0.124904   -0.021861   \n",
       "1099    0.180222    0.217292    0.367504    0.074869   -0.209672   -0.156023   \n",
       "\n",
       "      feature_48  feature_49  \n",
       "8841   -0.306482    0.078222  \n",
       "1099   -0.255526    0.273825  \n",
       "\n",
       "[2 rows x 50 columns]"
      ]
     },
     "execution_count": 14,
     "metadata": {},
     "output_type": "execute_result"
    }
   ],
   "source": [
    "final_X_train.head(2)"
   ]
  },
  {
   "cell_type": "code",
   "execution_count": null,
   "metadata": {},
   "outputs": [],
   "source": [
    "import gensim\n",
    "\n",
    "corpus = []\n",
    "for tweet in X_train.values:\n",
    "    corpus.append(gensim.utils.simple_preprocess(tweet))\n",
    "\n",
    "custom_embeddings = gensim.models.Word2Vec(corpus,\n",
    "                                           size=50,\n",
    "                                           window=5,\n",
    "                                           iter=10)\n",
    "\n",
    "def get_custom_mean_word_vector(tweet):\n",
    "    tokens = tweet.split()\n",
    "    tweet_vectors = []\n",
    "    for token in tokens:\n",
    "        try:\n",
    "            tweet_vectors.append(custom_embeddings.wv[token.lower().strip(string.punctuation)])\n",
    "        except:\n",
    "            continue\n",
    "    return np.mean(np.array(tweet_vectors), axis=0)\n",
    "\n",
    "preprocessed_train_values2 = dict()\n",
    "preprocessed_test_values2 = dict()\n",
    "for i in range(50):\n",
    "    label = f'feature_{50+i}'\n",
    "    train_values = [vector[i] for vector in X_train.apply(get_custom_mean_word_vector).values]\n",
    "    test_values = [vector[i] for vector in X_test.apply(get_custom_mean_word_vector).values]\n",
    "    preprocessed_train_values2[label] = train_values\n",
    "    preprocessed_test_values2[label] = test_values\n",
    "    \n",
    "new_X_train = pd.concat(\n",
    "    [final_X_train, pd.DataFrame(preprocessed_train_values2, index=X_train.index)], axis=1)\n",
    "new_X_test = pd.concat(\n",
    "    [final_X_test, pd.DataFrame(preprocessed_test_values2, index=X_test.index)], axis=1)"
   ]
  },
  {
   "cell_type": "code",
   "execution_count": null,
   "metadata": {},
   "outputs": [],
   "source": [
    "new_X_train.head(3)"
   ]
  },
  {
   "cell_type": "code",
   "execution_count": null,
   "metadata": {},
   "outputs": [],
   "source": [
    "stacked_X_train = pd.concat(\n",
    "    [new_X_train,\n",
    "     X_train.apply(lambda x: TextBlob(x).sentiment[0]).rename('polarity')], axis=1)"
   ]
  },
  {
   "cell_type": "code",
   "execution_count": null,
   "metadata": {},
   "outputs": [],
   "source": [
    "stacked_X_test = pd.concat(\n",
    "    [new_X_test,\n",
    "     X_test.apply(lambda x: TextBlob(x).sentiment[0]).rename('polarity')], axis=1)"
   ]
  },
  {
   "cell_type": "code",
   "execution_count": null,
   "metadata": {},
   "outputs": [],
   "source": [
    "from sklearn.model_selection import cross_val_score\n",
    "\n",
    "cross_val_score(baseline, stacked_X_train, y_train_preprocessed)"
   ]
  },
  {
   "cell_type": "code",
   "execution_count": null,
   "metadata": {},
   "outputs": [],
   "source": [
    "log_binary_model_results('stacked', baseline, stacked_X_train, y_train_preprocessed)"
   ]
  },
  {
   "cell_type": "code",
   "execution_count": null,
   "metadata": {},
   "outputs": [],
   "source": [
    "baseline.fit(stacked_X_train, y_train_preprocessed)\n",
    "\n",
    "baseline.score(stacked_X_test, y_test_preprocessed)"
   ]
  },
  {
   "cell_type": "markdown",
   "metadata": {},
   "source": [
    "The baseline model above is just slightly overfit."
   ]
  },
  {
   "cell_type": "code",
   "execution_count": null,
   "metadata": {},
   "outputs": [],
   "source": [
    "logreg2 = LogisticRegression(random_state=seed, max_iter=10000, C=0.1)\n",
    "\n",
    "logreg2.fit(stacked_X_train, y_train_preprocessed)\n",
    "\n",
    "print(f'Train: {logreg2.score(stacked_X_train, y_train_preprocessed)}')\n",
    "print(f'Validate: {logreg2.score(stacked_X_test, y_test_preprocessed)}')"
   ]
  },
  {
   "cell_type": "code",
   "execution_count": null,
   "metadata": {},
   "outputs": [],
   "source": [
    "logreg2 = LogisticRegression(random_state=seed, max_iter=10000, C=0.01)\n",
    "\n",
    "logreg2.fit(stacked_X_train, y_train_preprocessed)\n",
    "\n",
    "print(f'Train: {logreg2.score(stacked_X_train, y_train_preprocessed)}')\n",
    "print(f'Validate: {logreg2.score(stacked_X_test, y_test_preprocessed)}')"
   ]
  },
  {
   "cell_type": "code",
   "execution_count": null,
   "metadata": {},
   "outputs": [],
   "source": [
    "logreg2 = LogisticRegression(random_state=seed, max_iter=10000, C=0.001)\n",
    "\n",
    "logreg2.fit(stacked_X_train, y_train_preprocessed)\n",
    "\n",
    "print(f'Train: {logreg2.score(stacked_X_train, y_train_preprocessed)}')\n",
    "print(f'Validate: {logreg2.score(stacked_X_test, y_test_preprocessed)}')"
   ]
  },
  {
   "cell_type": "code",
   "execution_count": null,
   "metadata": {},
   "outputs": [],
   "source": [
    "ConfusionMatrixDisplay(\n",
    "    confusion_matrix(y_test_preprocessed,\n",
    "                     logreg2.predict(stacked_X_test))).plot();"
   ]
  },
  {
   "cell_type": "markdown",
   "metadata": {},
   "source": [
    "## Neural Network"
   ]
  },
  {
   "cell_type": "code",
   "execution_count": 16,
   "metadata": {},
   "outputs": [
    {
     "name": "stdout",
     "output_type": "stream",
     "text": [
      "(7148, 50)\n",
      "7148\n"
     ]
    }
   ],
   "source": [
    "# use GloVe representations of training samples & label encoded target\n",
    "\n",
    "print(final_X_train.shape)\n",
    "print(len(y_train_preprocessed))"
   ]
  },
  {
   "cell_type": "code",
   "execution_count": 38,
   "metadata": {},
   "outputs": [],
   "source": [
    "small_X_train, X_val, small_y_train, y_val = train_test_split(final_X_train,\n",
    "                                                              y_train_preprocessed,\n",
    "                                                              random_state=seed,\n",
    "                                                              test_size=0.2)"
   ]
  },
  {
   "cell_type": "code",
   "execution_count": 39,
   "metadata": {},
   "outputs": [
    {
     "data": {
      "text/plain": [
       "array([[ 0.38890994,  0.38823026, -0.23611706, ..., -0.2843165 ,\n",
       "        -0.07937669,  0.12944787],\n",
       "       [ 0.16540858,  0.32137779, -0.22078753, ..., -0.02276947,\n",
       "        -0.23022126, -0.04892733],\n",
       "       [ 0.129906  ,  0.37524   , -0.529428  , ..., -0.64052   ,\n",
       "        -0.5977468 ,  0.5321534 ],\n",
       "       ...,\n",
       "       [ 0.190514  ,  0.39460748, -0.07391993, ..., -0.12904906,\n",
       "        -0.15380095,  0.05913938],\n",
       "       [ 0.12663817,  0.07791975,  0.11411817, ..., -0.26895467,\n",
       "        -0.0878075 ,  0.22643275],\n",
       "       [ 0.21509321,  0.408059  , -0.14477979, ..., -0.43829263,\n",
       "        -0.29817321,  0.24084842]])"
      ]
     },
     "execution_count": 39,
     "metadata": {},
     "output_type": "execute_result"
    }
   ],
   "source": [
    "keras_x_train = np.array([small_X_train.loc[index, :] for index in small_X_train.index])\n",
    "keras_x_train"
   ]
  },
  {
   "cell_type": "code",
   "execution_count": 40,
   "metadata": {},
   "outputs": [
    {
     "data": {
      "text/plain": [
       "(5718, 50)"
      ]
     },
     "execution_count": 40,
     "metadata": {},
     "output_type": "execute_result"
    }
   ],
   "source": [
    "keras_x_train.shape"
   ]
  },
  {
   "cell_type": "code",
   "execution_count": 44,
   "metadata": {},
   "outputs": [
    {
     "name": "stdout",
     "output_type": "stream",
     "text": [
      "(1430, 50)\n"
     ]
    }
   ],
   "source": [
    "keras_x_val = np.array([X_val.loc[index, :] for index in X_val.index])\n",
    "print(keras_x_val.shape)"
   ]
  },
  {
   "cell_type": "code",
   "execution_count": 41,
   "metadata": {},
   "outputs": [],
   "source": [
    "import keras\n",
    "\n",
    "keras_y_train = keras.utils.to_categorical(small_y_train, 3)"
   ]
  },
  {
   "cell_type": "code",
   "execution_count": 42,
   "metadata": {},
   "outputs": [
    {
     "data": {
      "text/plain": [
       "(5718, 3)"
      ]
     },
     "execution_count": 42,
     "metadata": {},
     "output_type": "execute_result"
    }
   ],
   "source": [
    "keras_y_train.shape"
   ]
  },
  {
   "cell_type": "code",
   "execution_count": 45,
   "metadata": {},
   "outputs": [
    {
     "name": "stdout",
     "output_type": "stream",
     "text": [
      "(1430, 3)\n"
     ]
    }
   ],
   "source": [
    "keras_y_val = keras.utils.to_categorical(y_val, 3)\n",
    "print(keras_y_val.shape)"
   ]
  },
  {
   "cell_type": "markdown",
   "metadata": {},
   "source": [
    "Test model:"
   ]
  },
  {
   "cell_type": "code",
   "execution_count": 47,
   "metadata": {},
   "outputs": [
    {
     "name": "stdout",
     "output_type": "stream",
     "text": [
      "Epoch 1/10\n",
      "191/191 [==============================] - 0s 1ms/step - loss: 0.9505 - accuracy: 0.5836 - val_loss: 0.8484 - val_accuracy: 0.6035\n",
      "Epoch 2/10\n",
      "191/191 [==============================] - 0s 876us/step - loss: 0.8290 - accuracy: 0.5986 - val_loss: 0.7983 - val_accuracy: 0.6084\n",
      "Epoch 3/10\n",
      "191/191 [==============================] - 0s 882us/step - loss: 0.8119 - accuracy: 0.6032 - val_loss: 0.7902 - val_accuracy: 0.6105\n",
      "Epoch 4/10\n",
      "191/191 [==============================] - 0s 851us/step - loss: 0.8049 - accuracy: 0.6093 - val_loss: 0.7840 - val_accuracy: 0.6196\n",
      "Epoch 5/10\n",
      "191/191 [==============================] - 0s 843us/step - loss: 0.7978 - accuracy: 0.6149 - val_loss: 0.7766 - val_accuracy: 0.6252\n",
      "Epoch 6/10\n",
      "191/191 [==============================] - 0s 872us/step - loss: 0.7918 - accuracy: 0.6233 - val_loss: 0.7716 - val_accuracy: 0.6266\n",
      "Epoch 7/10\n",
      "191/191 [==============================] - 0s 852us/step - loss: 0.7865 - accuracy: 0.6250 - val_loss: 0.7673 - val_accuracy: 0.6266\n",
      "Epoch 8/10\n",
      "191/191 [==============================] - 0s 883us/step - loss: 0.7819 - accuracy: 0.6243 - val_loss: 0.7665 - val_accuracy: 0.6315\n",
      "Epoch 9/10\n",
      "191/191 [==============================] - 0s 911us/step - loss: 0.7781 - accuracy: 0.6291 - val_loss: 0.7624 - val_accuracy: 0.6266\n",
      "Epoch 10/10\n",
      "191/191 [==============================] - 0s 865us/step - loss: 0.7740 - accuracy: 0.6303 - val_loss: 0.7601 - val_accuracy: 0.6259\n"
     ]
    },
    {
     "data": {
      "text/plain": [
       "{'loss': [0.9504909515380859,\n",
       "  0.8290156722068787,\n",
       "  0.8119375705718994,\n",
       "  0.8049306273460388,\n",
       "  0.7977656722068787,\n",
       "  0.7918465733528137,\n",
       "  0.7864668965339661,\n",
       "  0.7819296717643738,\n",
       "  0.7780820727348328,\n",
       "  0.7740059494972229],\n",
       " 'accuracy': [0.5835956335067749,\n",
       "  0.5986359119415283,\n",
       "  0.6031829118728638,\n",
       "  0.6093039512634277,\n",
       "  0.6149002909660339,\n",
       "  0.6232948303222656,\n",
       "  0.6250437498092651,\n",
       "  0.6243441700935364,\n",
       "  0.6290661096572876,\n",
       "  0.6302903294563293],\n",
       " 'val_loss': [0.8484165072441101,\n",
       "  0.7982558608055115,\n",
       "  0.7902095913887024,\n",
       "  0.7840167284011841,\n",
       "  0.7765704393386841,\n",
       "  0.7715634107589722,\n",
       "  0.7673218846321106,\n",
       "  0.7665272355079651,\n",
       "  0.76240074634552,\n",
       "  0.7601288557052612],\n",
       " 'val_accuracy': [0.6034964919090271,\n",
       "  0.6083915829658508,\n",
       "  0.6104894876480103,\n",
       "  0.6195804476737976,\n",
       "  0.6251748204231262,\n",
       "  0.6265734434127808,\n",
       "  0.6265734434127808,\n",
       "  0.6314685344696045,\n",
       "  0.6265734434127808,\n",
       "  0.6258741021156311]}"
      ]
     },
     "execution_count": 47,
     "metadata": {},
     "output_type": "execute_result"
    }
   ],
   "source": [
    "model = Sequential()\n",
    "# add input layer, and a dense layer with given width\n",
    "model.add(layers.Input(shape=(50,)))\n",
    "model.add(layers.Dense(5, activation='relu'))\n",
    "model.add(layers.Dense(3, activation='softmax'))\n",
    "    \n",
    "model.compile(loss='categorical_crossentropy',\n",
    "              metrics='accuracy')\n",
    "    \n",
    "results = model.fit(keras_x_train, keras_y_train,\n",
    "                    validation_data = [keras_x_val, keras_y_val],\n",
    "                    batch_size=30, epochs=10)\n",
    "    \n",
    "results.history"
   ]
  },
  {
   "cell_type": "code",
   "execution_count": 49,
   "metadata": {},
   "outputs": [
    {
     "name": "stdout",
     "output_type": "stream",
     "text": [
      "Epoch 1/30\n",
      "191/191 [==============================] - 0s 1ms/step - loss: 0.9118 - accuracy: 0.5845 - val_loss: 0.8162 - val_accuracy: 0.6042\n",
      "Epoch 2/30\n",
      "191/191 [==============================] - 0s 874us/step - loss: 0.8166 - accuracy: 0.6011 - val_loss: 0.7910 - val_accuracy: 0.6168\n",
      "Epoch 3/30\n",
      "191/191 [==============================] - 0s 852us/step - loss: 0.8009 - accuracy: 0.6088 - val_loss: 0.7757 - val_accuracy: 0.6119\n",
      "Epoch 4/30\n",
      "191/191 [==============================] - 0s 865us/step - loss: 0.7897 - accuracy: 0.6168 - val_loss: 0.7665 - val_accuracy: 0.6259\n",
      "Epoch 5/30\n",
      "191/191 [==============================] - 0s 854us/step - loss: 0.7820 - accuracy: 0.6233 - val_loss: 0.7628 - val_accuracy: 0.6315\n",
      "Epoch 6/30\n",
      "191/191 [==============================] - 0s 944us/step - loss: 0.7760 - accuracy: 0.6271 - val_loss: 0.7558 - val_accuracy: 0.6399\n",
      "Epoch 7/30\n",
      "191/191 [==============================] - 0s 898us/step - loss: 0.7712 - accuracy: 0.6303 - val_loss: 0.7509 - val_accuracy: 0.6294\n",
      "Epoch 8/30\n",
      "191/191 [==============================] - 0s 829us/step - loss: 0.7669 - accuracy: 0.6319 - val_loss: 0.7478 - val_accuracy: 0.6322\n",
      "Epoch 9/30\n",
      "191/191 [==============================] - 0s 830us/step - loss: 0.7632 - accuracy: 0.6320 - val_loss: 0.7431 - val_accuracy: 0.6406\n",
      "Epoch 10/30\n",
      "191/191 [==============================] - 0s 857us/step - loss: 0.7603 - accuracy: 0.6369 - val_loss: 0.7423 - val_accuracy: 0.6406\n",
      "Epoch 11/30\n",
      "191/191 [==============================] - 0s 833us/step - loss: 0.7583 - accuracy: 0.6368 - val_loss: 0.7388 - val_accuracy: 0.6510\n",
      "Epoch 12/30\n",
      "191/191 [==============================] - 0s 862us/step - loss: 0.7562 - accuracy: 0.6375 - val_loss: 0.7380 - val_accuracy: 0.6497\n",
      "Epoch 13/30\n",
      "191/191 [==============================] - 0s 857us/step - loss: 0.7544 - accuracy: 0.6424 - val_loss: 0.7339 - val_accuracy: 0.6441\n",
      "Epoch 14/30\n",
      "191/191 [==============================] - 0s 850us/step - loss: 0.7520 - accuracy: 0.6418 - val_loss: 0.7323 - val_accuracy: 0.6469\n",
      "Epoch 15/30\n",
      "191/191 [==============================] - 0s 906us/step - loss: 0.7510 - accuracy: 0.6420 - val_loss: 0.7319 - val_accuracy: 0.6448\n",
      "Epoch 16/30\n",
      "191/191 [==============================] - 0s 873us/step - loss: 0.7499 - accuracy: 0.6425 - val_loss: 0.7294 - val_accuracy: 0.6552\n",
      "Epoch 17/30\n",
      "191/191 [==============================] - 0s 869us/step - loss: 0.7480 - accuracy: 0.6422 - val_loss: 0.7275 - val_accuracy: 0.6503\n",
      "Epoch 18/30\n",
      "191/191 [==============================] - 0s 853us/step - loss: 0.7480 - accuracy: 0.6401 - val_loss: 0.7273 - val_accuracy: 0.6510\n",
      "Epoch 19/30\n",
      "191/191 [==============================] - 0s 828us/step - loss: 0.7465 - accuracy: 0.6446 - val_loss: 0.7274 - val_accuracy: 0.6469\n",
      "Epoch 20/30\n",
      "191/191 [==============================] - 0s 822us/step - loss: 0.7459 - accuracy: 0.6467 - val_loss: 0.7269 - val_accuracy: 0.6538\n",
      "Epoch 21/30\n",
      "191/191 [==============================] - 0s 841us/step - loss: 0.7452 - accuracy: 0.6441 - val_loss: 0.7290 - val_accuracy: 0.6580\n",
      "Epoch 22/30\n",
      "191/191 [==============================] - 0s 870us/step - loss: 0.7448 - accuracy: 0.6459 - val_loss: 0.7238 - val_accuracy: 0.6524\n",
      "Epoch 23/30\n",
      "191/191 [==============================] - 0s 843us/step - loss: 0.7438 - accuracy: 0.6478 - val_loss: 0.7232 - val_accuracy: 0.6545\n",
      "Epoch 24/30\n",
      "191/191 [==============================] - 0s 850us/step - loss: 0.7432 - accuracy: 0.6455 - val_loss: 0.7261 - val_accuracy: 0.6490\n",
      "Epoch 25/30\n",
      "191/191 [==============================] - 0s 878us/step - loss: 0.7433 - accuracy: 0.6469 - val_loss: 0.7255 - val_accuracy: 0.6545\n",
      "Epoch 26/30\n",
      "191/191 [==============================] - 0s 854us/step - loss: 0.7422 - accuracy: 0.6459 - val_loss: 0.7218 - val_accuracy: 0.6559\n",
      "Epoch 27/30\n",
      "191/191 [==============================] - 0s 862us/step - loss: 0.7420 - accuracy: 0.6481 - val_loss: 0.7224 - val_accuracy: 0.6573\n",
      "Epoch 28/30\n",
      "191/191 [==============================] - 0s 893us/step - loss: 0.7419 - accuracy: 0.6478 - val_loss: 0.7204 - val_accuracy: 0.6580\n",
      "Epoch 29/30\n",
      "191/191 [==============================] - 0s 863us/step - loss: 0.7408 - accuracy: 0.6502 - val_loss: 0.7263 - val_accuracy: 0.6594\n",
      "Epoch 30/30\n",
      "191/191 [==============================] - 0s 842us/step - loss: 0.7412 - accuracy: 0.6495 - val_loss: 0.7202 - val_accuracy: 0.6545\n",
      "Epoch 1/30\n",
      "191/191 [==============================] - 0s 1ms/step - loss: 0.8999 - accuracy: 0.5749 - val_loss: 0.7985 - val_accuracy: 0.6070\n",
      "Epoch 2/30\n",
      "191/191 [==============================] - 0s 867us/step - loss: 0.8039 - accuracy: 0.6077 - val_loss: 0.7750 - val_accuracy: 0.6091\n",
      "Epoch 3/30\n",
      "191/191 [==============================] - 0s 857us/step - loss: 0.7880 - accuracy: 0.6140 - val_loss: 0.7628 - val_accuracy: 0.6126\n",
      "Epoch 4/30\n",
      "191/191 [==============================] - 0s 860us/step - loss: 0.7779 - accuracy: 0.6186 - val_loss: 0.7530 - val_accuracy: 0.6266\n",
      "Epoch 5/30\n",
      "191/191 [==============================] - 0s 862us/step - loss: 0.7704 - accuracy: 0.6277 - val_loss: 0.7463 - val_accuracy: 0.6364\n",
      "Epoch 6/30\n",
      "191/191 [==============================] - 0s 819us/step - loss: 0.7645 - accuracy: 0.6327 - val_loss: 0.7413 - val_accuracy: 0.6371\n",
      "Epoch 7/30\n",
      "191/191 [==============================] - 0s 816us/step - loss: 0.7598 - accuracy: 0.6334 - val_loss: 0.7370 - val_accuracy: 0.6469\n",
      "Epoch 8/30\n",
      "191/191 [==============================] - 0s 880us/step - loss: 0.7560 - accuracy: 0.6354 - val_loss: 0.7336 - val_accuracy: 0.6476\n",
      "Epoch 9/30\n",
      "191/191 [==============================] - 0s 858us/step - loss: 0.7524 - accuracy: 0.6387 - val_loss: 0.7304 - val_accuracy: 0.6517\n",
      "Epoch 10/30\n",
      "191/191 [==============================] - 0s 862us/step - loss: 0.7492 - accuracy: 0.6453 - val_loss: 0.7316 - val_accuracy: 0.6573\n",
      "Epoch 11/30\n",
      "191/191 [==============================] - 0s 825us/step - loss: 0.7479 - accuracy: 0.6439 - val_loss: 0.7260 - val_accuracy: 0.6490\n",
      "Epoch 12/30\n",
      "191/191 [==============================] - 0s 828us/step - loss: 0.7453 - accuracy: 0.6459 - val_loss: 0.7254 - val_accuracy: 0.6552\n",
      "Epoch 13/30\n",
      "191/191 [==============================] - 0s 862us/step - loss: 0.7434 - accuracy: 0.6469 - val_loss: 0.7277 - val_accuracy: 0.6580\n",
      "Epoch 14/30\n",
      "191/191 [==============================] - 0s 865us/step - loss: 0.7419 - accuracy: 0.6483 - val_loss: 0.7230 - val_accuracy: 0.6483\n",
      "Epoch 15/30\n",
      "191/191 [==============================] - 0s 864us/step - loss: 0.7396 - accuracy: 0.6488 - val_loss: 0.7237 - val_accuracy: 0.6629\n",
      "Epoch 16/30\n",
      "191/191 [==============================] - 0s 911us/step - loss: 0.7381 - accuracy: 0.6487 - val_loss: 0.7198 - val_accuracy: 0.6517\n",
      "Epoch 17/30\n",
      "191/191 [==============================] - 0s 828us/step - loss: 0.7368 - accuracy: 0.6534 - val_loss: 0.7198 - val_accuracy: 0.6594\n",
      "Epoch 18/30\n",
      "191/191 [==============================] - 0s 839us/step - loss: 0.7364 - accuracy: 0.6488 - val_loss: 0.7180 - val_accuracy: 0.6566\n",
      "Epoch 19/30\n",
      "191/191 [==============================] - 0s 825us/step - loss: 0.7346 - accuracy: 0.6541 - val_loss: 0.7205 - val_accuracy: 0.6503\n",
      "Epoch 20/30\n",
      "191/191 [==============================] - 0s 868us/step - loss: 0.7337 - accuracy: 0.6542 - val_loss: 0.7192 - val_accuracy: 0.6573\n",
      "Epoch 21/30\n",
      "191/191 [==============================] - 0s 849us/step - loss: 0.7332 - accuracy: 0.6544 - val_loss: 0.7165 - val_accuracy: 0.6538\n",
      "Epoch 22/30\n",
      "191/191 [==============================] - 0s 859us/step - loss: 0.7315 - accuracy: 0.6527 - val_loss: 0.7175 - val_accuracy: 0.6573\n",
      "Epoch 23/30\n",
      "191/191 [==============================] - 0s 845us/step - loss: 0.7313 - accuracy: 0.6551 - val_loss: 0.7166 - val_accuracy: 0.6503\n",
      "Epoch 24/30\n",
      "191/191 [==============================] - 0s 820us/step - loss: 0.7305 - accuracy: 0.6558 - val_loss: 0.7174 - val_accuracy: 0.6643\n",
      "Epoch 25/30\n",
      "191/191 [==============================] - 0s 823us/step - loss: 0.7284 - accuracy: 0.6555 - val_loss: 0.7190 - val_accuracy: 0.6678\n",
      "Epoch 26/30\n",
      "191/191 [==============================] - 0s 825us/step - loss: 0.7286 - accuracy: 0.6544 - val_loss: 0.7214 - val_accuracy: 0.6524\n",
      "Epoch 27/30\n",
      "191/191 [==============================] - 0s 827us/step - loss: 0.7276 - accuracy: 0.6558 - val_loss: 0.7176 - val_accuracy: 0.6622\n",
      "Epoch 28/30\n",
      "191/191 [==============================] - 0s 865us/step - loss: 0.7275 - accuracy: 0.6593 - val_loss: 0.7166 - val_accuracy: 0.6531\n",
      "Epoch 29/30\n",
      "191/191 [==============================] - 0s 809us/step - loss: 0.7259 - accuracy: 0.6588 - val_loss: 0.7153 - val_accuracy: 0.6573\n",
      "Epoch 30/30\n",
      "191/191 [==============================] - 0s 798us/step - loss: 0.7268 - accuracy: 0.6595 - val_loss: 0.7139 - val_accuracy: 0.6594\n",
      "Epoch 1/30\n",
      "191/191 [==============================] - 0s 1ms/step - loss: 0.8500 - accuracy: 0.5792 - val_loss: 0.7903 - val_accuracy: 0.6084\n",
      "Epoch 2/30\n",
      "191/191 [==============================] - 0s 826us/step - loss: 0.7989 - accuracy: 0.6100 - val_loss: 0.7696 - val_accuracy: 0.6133\n",
      "Epoch 3/30\n",
      "191/191 [==============================] - 0s 817us/step - loss: 0.7825 - accuracy: 0.6236 - val_loss: 0.7565 - val_accuracy: 0.6280\n",
      "Epoch 4/30\n",
      "191/191 [==============================] - 0s 816us/step - loss: 0.7727 - accuracy: 0.6291 - val_loss: 0.7487 - val_accuracy: 0.6329\n",
      "Epoch 5/30\n",
      "191/191 [==============================] - 0s 839us/step - loss: 0.7654 - accuracy: 0.6348 - val_loss: 0.7440 - val_accuracy: 0.6385\n",
      "Epoch 6/30\n",
      "191/191 [==============================] - 0s 862us/step - loss: 0.7588 - accuracy: 0.6359 - val_loss: 0.7396 - val_accuracy: 0.6385\n",
      "Epoch 7/30\n",
      "191/191 [==============================] - 0s 857us/step - loss: 0.7549 - accuracy: 0.6417 - val_loss: 0.7350 - val_accuracy: 0.6399\n",
      "Epoch 8/30\n",
      "191/191 [==============================] - 0s 895us/step - loss: 0.7513 - accuracy: 0.6439 - val_loss: 0.7345 - val_accuracy: 0.6469\n",
      "Epoch 9/30\n",
      "191/191 [==============================] - 0s 882us/step - loss: 0.7484 - accuracy: 0.6455 - val_loss: 0.7302 - val_accuracy: 0.6413\n",
      "Epoch 10/30\n",
      "191/191 [==============================] - 0s 882us/step - loss: 0.7448 - accuracy: 0.6480 - val_loss: 0.7275 - val_accuracy: 0.6448\n",
      "Epoch 11/30\n",
      "191/191 [==============================] - 0s 908us/step - loss: 0.7427 - accuracy: 0.6494 - val_loss: 0.7246 - val_accuracy: 0.6490\n",
      "Epoch 12/30\n",
      "191/191 [==============================] - 0s 865us/step - loss: 0.7406 - accuracy: 0.6474 - val_loss: 0.7279 - val_accuracy: 0.6441\n",
      "Epoch 13/30\n",
      "191/191 [==============================] - 0s 876us/step - loss: 0.7375 - accuracy: 0.6530 - val_loss: 0.7232 - val_accuracy: 0.6462\n",
      "Epoch 14/30\n",
      "191/191 [==============================] - 0s 869us/step - loss: 0.7350 - accuracy: 0.6523 - val_loss: 0.7231 - val_accuracy: 0.6462\n",
      "Epoch 15/30\n",
      "191/191 [==============================] - 0s 859us/step - loss: 0.7327 - accuracy: 0.6556 - val_loss: 0.7223 - val_accuracy: 0.6524\n",
      "Epoch 16/30\n",
      "191/191 [==============================] - 0s 879us/step - loss: 0.7299 - accuracy: 0.6551 - val_loss: 0.7299 - val_accuracy: 0.6497\n",
      "Epoch 17/30\n",
      "191/191 [==============================] - 0s 881us/step - loss: 0.7290 - accuracy: 0.6553 - val_loss: 0.7167 - val_accuracy: 0.6566\n",
      "Epoch 18/30\n",
      "191/191 [==============================] - 0s 874us/step - loss: 0.7266 - accuracy: 0.6532 - val_loss: 0.7183 - val_accuracy: 0.6545\n",
      "Epoch 19/30\n",
      "191/191 [==============================] - 0s 870us/step - loss: 0.7258 - accuracy: 0.6572 - val_loss: 0.7156 - val_accuracy: 0.6601\n",
      "Epoch 20/30\n",
      "191/191 [==============================] - 0s 875us/step - loss: 0.7230 - accuracy: 0.6577 - val_loss: 0.7149 - val_accuracy: 0.6608\n",
      "Epoch 21/30\n",
      "191/191 [==============================] - 0s 865us/step - loss: 0.7213 - accuracy: 0.6611 - val_loss: 0.7140 - val_accuracy: 0.6622\n",
      "Epoch 22/30\n",
      "191/191 [==============================] - 0s 878us/step - loss: 0.7193 - accuracy: 0.6612 - val_loss: 0.7131 - val_accuracy: 0.6580\n",
      "Epoch 23/30\n",
      "191/191 [==============================] - 0s 871us/step - loss: 0.7172 - accuracy: 0.6661 - val_loss: 0.7170 - val_accuracy: 0.6657\n",
      "Epoch 24/30\n",
      "191/191 [==============================] - 0s 853us/step - loss: 0.7167 - accuracy: 0.6593 - val_loss: 0.7140 - val_accuracy: 0.6685\n",
      "Epoch 25/30\n",
      "191/191 [==============================] - 0s 867us/step - loss: 0.7149 - accuracy: 0.6618 - val_loss: 0.7112 - val_accuracy: 0.6608\n",
      "Epoch 26/30\n",
      "191/191 [==============================] - 0s 869us/step - loss: 0.7141 - accuracy: 0.6651 - val_loss: 0.7107 - val_accuracy: 0.6629\n",
      "Epoch 27/30\n",
      "191/191 [==============================] - 0s 867us/step - loss: 0.7126 - accuracy: 0.6632 - val_loss: 0.7169 - val_accuracy: 0.6538\n",
      "Epoch 28/30\n",
      "191/191 [==============================] - 0s 877us/step - loss: 0.7111 - accuracy: 0.6602 - val_loss: 0.7165 - val_accuracy: 0.6643\n",
      "Epoch 29/30\n",
      "191/191 [==============================] - 0s 875us/step - loss: 0.7108 - accuracy: 0.6644 - val_loss: 0.7122 - val_accuracy: 0.6566\n",
      "Epoch 30/30\n",
      "191/191 [==============================] - 0s 880us/step - loss: 0.7098 - accuracy: 0.6654 - val_loss: 0.7109 - val_accuracy: 0.6524\n",
      "Epoch 1/30\n",
      "191/191 [==============================] - 0s 1ms/step - loss: 0.8281 - accuracy: 0.6004 - val_loss: 0.7720 - val_accuracy: 0.6259\n",
      "Epoch 2/30\n",
      "191/191 [==============================] - 0s 898us/step - loss: 0.7838 - accuracy: 0.6153 - val_loss: 0.7535 - val_accuracy: 0.6364\n",
      "Epoch 3/30\n",
      "191/191 [==============================] - 0s 875us/step - loss: 0.7688 - accuracy: 0.6343 - val_loss: 0.7440 - val_accuracy: 0.6392\n",
      "Epoch 4/30\n",
      "191/191 [==============================] - 0s 870us/step - loss: 0.7597 - accuracy: 0.6366 - val_loss: 0.7358 - val_accuracy: 0.6483\n",
      "Epoch 5/30\n",
      "191/191 [==============================] - 0s 884us/step - loss: 0.7538 - accuracy: 0.6392 - val_loss: 0.7347 - val_accuracy: 0.6462\n",
      "Epoch 6/30\n",
      "191/191 [==============================] - 0s 884us/step - loss: 0.7471 - accuracy: 0.6464 - val_loss: 0.7282 - val_accuracy: 0.6490\n",
      "Epoch 7/30\n",
      "191/191 [==============================] - 0s 882us/step - loss: 0.7436 - accuracy: 0.6462 - val_loss: 0.7208 - val_accuracy: 0.6531\n",
      "Epoch 8/30\n",
      "191/191 [==============================] - 0s 924us/step - loss: 0.7407 - accuracy: 0.6509 - val_loss: 0.7234 - val_accuracy: 0.6490\n",
      "Epoch 9/30\n",
      "191/191 [==============================] - 0s 882us/step - loss: 0.7378 - accuracy: 0.6501 - val_loss: 0.7236 - val_accuracy: 0.6524\n",
      "Epoch 10/30\n",
      "191/191 [==============================] - 0s 893us/step - loss: 0.7351 - accuracy: 0.6530 - val_loss: 0.7186 - val_accuracy: 0.6573\n",
      "Epoch 11/30\n",
      "191/191 [==============================] - 0s 862us/step - loss: 0.7319 - accuracy: 0.6558 - val_loss: 0.7171 - val_accuracy: 0.6552\n",
      "Epoch 12/30\n",
      "191/191 [==============================] - 0s 885us/step - loss: 0.7296 - accuracy: 0.6539 - val_loss: 0.7202 - val_accuracy: 0.6538\n",
      "Epoch 13/30\n",
      "191/191 [==============================] - 0s 925us/step - loss: 0.7280 - accuracy: 0.6609 - val_loss: 0.7131 - val_accuracy: 0.6566\n",
      "Epoch 14/30\n",
      "191/191 [==============================] - 0s 921us/step - loss: 0.7258 - accuracy: 0.6602 - val_loss: 0.7116 - val_accuracy: 0.6601\n",
      "Epoch 15/30\n",
      "191/191 [==============================] - 0s 920us/step - loss: 0.7223 - accuracy: 0.6646 - val_loss: 0.7255 - val_accuracy: 0.6510\n",
      "Epoch 16/30\n",
      "191/191 [==============================] - 0s 868us/step - loss: 0.7207 - accuracy: 0.6621 - val_loss: 0.7194 - val_accuracy: 0.6545\n",
      "Epoch 17/30\n",
      "191/191 [==============================] - 0s 860us/step - loss: 0.7193 - accuracy: 0.6619 - val_loss: 0.7297 - val_accuracy: 0.6385\n",
      "Epoch 18/30\n",
      "191/191 [==============================] - 0s 888us/step - loss: 0.7161 - accuracy: 0.6654 - val_loss: 0.7122 - val_accuracy: 0.6587\n",
      "Epoch 19/30\n",
      "191/191 [==============================] - 0s 879us/step - loss: 0.7149 - accuracy: 0.6682 - val_loss: 0.7117 - val_accuracy: 0.6580\n",
      "Epoch 20/30\n",
      "191/191 [==============================] - 0s 860us/step - loss: 0.7125 - accuracy: 0.6656 - val_loss: 0.7103 - val_accuracy: 0.6594\n",
      "Epoch 21/30\n",
      "191/191 [==============================] - 0s 859us/step - loss: 0.7106 - accuracy: 0.6665 - val_loss: 0.7210 - val_accuracy: 0.6448\n",
      "Epoch 22/30\n",
      "191/191 [==============================] - 0s 872us/step - loss: 0.7081 - accuracy: 0.6707 - val_loss: 0.7088 - val_accuracy: 0.6517\n",
      "Epoch 23/30\n",
      "191/191 [==============================] - 0s 931us/step - loss: 0.7065 - accuracy: 0.6737 - val_loss: 0.7094 - val_accuracy: 0.6545\n"
     ]
    },
    {
     "name": "stdout",
     "output_type": "stream",
     "text": [
      "Epoch 24/30\n",
      "191/191 [==============================] - 0s 896us/step - loss: 0.7034 - accuracy: 0.6754 - val_loss: 0.7060 - val_accuracy: 0.6580\n",
      "Epoch 25/30\n",
      "191/191 [==============================] - 0s 917us/step - loss: 0.7017 - accuracy: 0.6758 - val_loss: 0.7192 - val_accuracy: 0.6469\n",
      "Epoch 26/30\n",
      "191/191 [==============================] - 0s 930us/step - loss: 0.6995 - accuracy: 0.6731 - val_loss: 0.7071 - val_accuracy: 0.6573\n",
      "Epoch 27/30\n",
      "191/191 [==============================] - 0s 894us/step - loss: 0.6980 - accuracy: 0.6754 - val_loss: 0.7064 - val_accuracy: 0.6622\n",
      "Epoch 28/30\n",
      "191/191 [==============================] - 0s 877us/step - loss: 0.6973 - accuracy: 0.6782 - val_loss: 0.7069 - val_accuracy: 0.6573\n",
      "Epoch 29/30\n",
      "191/191 [==============================] - 0s 878us/step - loss: 0.6946 - accuracy: 0.6780 - val_loss: 0.7112 - val_accuracy: 0.6559\n",
      "Epoch 30/30\n",
      "191/191 [==============================] - 0s 881us/step - loss: 0.6928 - accuracy: 0.6817 - val_loss: 0.7069 - val_accuracy: 0.6573\n",
      "Epoch 1/30\n",
      "191/191 [==============================] - 0s 1ms/step - loss: 0.8119 - accuracy: 0.6114 - val_loss: 0.7628 - val_accuracy: 0.6217\n",
      "Epoch 2/30\n",
      "191/191 [==============================] - 0s 1ms/step - loss: 0.7744 - accuracy: 0.6301 - val_loss: 0.7432 - val_accuracy: 0.6413\n",
      "Epoch 3/30\n",
      "191/191 [==============================] - 0s 950us/step - loss: 0.7577 - accuracy: 0.6396 - val_loss: 0.7324 - val_accuracy: 0.6503\n",
      "Epoch 4/30\n",
      "191/191 [==============================] - 0s 960us/step - loss: 0.7514 - accuracy: 0.6450 - val_loss: 0.7302 - val_accuracy: 0.6469\n",
      "Epoch 5/30\n",
      "191/191 [==============================] - 0s 930us/step - loss: 0.7446 - accuracy: 0.6455 - val_loss: 0.7294 - val_accuracy: 0.6503\n",
      "Epoch 6/30\n",
      "191/191 [==============================] - 0s 1ms/step - loss: 0.7409 - accuracy: 0.6509 - val_loss: 0.7214 - val_accuracy: 0.6531\n",
      "Epoch 7/30\n",
      "191/191 [==============================] - 0s 943us/step - loss: 0.7352 - accuracy: 0.6499 - val_loss: 0.7198 - val_accuracy: 0.6545\n",
      "Epoch 8/30\n",
      "191/191 [==============================] - 0s 956us/step - loss: 0.7328 - accuracy: 0.6534 - val_loss: 0.7172 - val_accuracy: 0.6580\n",
      "Epoch 9/30\n",
      "191/191 [==============================] - 0s 920us/step - loss: 0.7303 - accuracy: 0.6525 - val_loss: 0.7155 - val_accuracy: 0.6587\n",
      "Epoch 10/30\n",
      "191/191 [==============================] - 0s 920us/step - loss: 0.7248 - accuracy: 0.6556 - val_loss: 0.7356 - val_accuracy: 0.6497\n",
      "Epoch 11/30\n",
      "191/191 [==============================] - 0s 938us/step - loss: 0.7223 - accuracy: 0.6618 - val_loss: 0.7212 - val_accuracy: 0.6545\n",
      "Epoch 12/30\n",
      "191/191 [==============================] - 0s 940us/step - loss: 0.7185 - accuracy: 0.6602 - val_loss: 0.7139 - val_accuracy: 0.6566\n",
      "Epoch 13/30\n",
      "191/191 [==============================] - 0s 936us/step - loss: 0.7166 - accuracy: 0.6667 - val_loss: 0.7153 - val_accuracy: 0.6601\n",
      "Epoch 14/30\n",
      "191/191 [==============================] - 0s 903us/step - loss: 0.7136 - accuracy: 0.6661 - val_loss: 0.7279 - val_accuracy: 0.6580\n",
      "Epoch 15/30\n",
      "191/191 [==============================] - 0s 878us/step - loss: 0.7112 - accuracy: 0.6661 - val_loss: 0.7165 - val_accuracy: 0.6608\n",
      "Epoch 16/30\n",
      "191/191 [==============================] - 0s 894us/step - loss: 0.7082 - accuracy: 0.6668 - val_loss: 0.7121 - val_accuracy: 0.6657\n",
      "Epoch 17/30\n",
      "191/191 [==============================] - 0s 901us/step - loss: 0.7064 - accuracy: 0.6709 - val_loss: 0.7079 - val_accuracy: 0.6601\n",
      "Epoch 18/30\n",
      "191/191 [==============================] - 0s 918us/step - loss: 0.7043 - accuracy: 0.6696 - val_loss: 0.7150 - val_accuracy: 0.6566\n",
      "Epoch 19/30\n",
      "191/191 [==============================] - 0s 907us/step - loss: 0.7011 - accuracy: 0.6745 - val_loss: 0.7231 - val_accuracy: 0.6559\n",
      "Epoch 20/30\n",
      "191/191 [==============================] - 0s 935us/step - loss: 0.6979 - accuracy: 0.6744 - val_loss: 0.7072 - val_accuracy: 0.6629\n",
      "Epoch 21/30\n",
      "191/191 [==============================] - 0s 921us/step - loss: 0.6939 - accuracy: 0.6779 - val_loss: 0.7124 - val_accuracy: 0.6573\n",
      "Epoch 22/30\n",
      "191/191 [==============================] - 0s 926us/step - loss: 0.6931 - accuracy: 0.6805 - val_loss: 0.7083 - val_accuracy: 0.6650\n",
      "Epoch 23/30\n",
      "191/191 [==============================] - 0s 915us/step - loss: 0.6910 - accuracy: 0.6807 - val_loss: 0.7067 - val_accuracy: 0.6727\n",
      "Epoch 24/30\n",
      "191/191 [==============================] - 0s 909us/step - loss: 0.6892 - accuracy: 0.6838 - val_loss: 0.7233 - val_accuracy: 0.6545\n",
      "Epoch 25/30\n",
      "191/191 [==============================] - 0s 914us/step - loss: 0.6869 - accuracy: 0.6852 - val_loss: 0.7106 - val_accuracy: 0.6650\n",
      "Epoch 26/30\n",
      "191/191 [==============================] - 0s 898us/step - loss: 0.6854 - accuracy: 0.6847 - val_loss: 0.7120 - val_accuracy: 0.6594\n",
      "Epoch 27/30\n",
      "191/191 [==============================] - 0s 916us/step - loss: 0.6823 - accuracy: 0.6835 - val_loss: 0.7237 - val_accuracy: 0.6580\n",
      "Epoch 28/30\n",
      "191/191 [==============================] - 0s 915us/step - loss: 0.6798 - accuracy: 0.6838 - val_loss: 0.7065 - val_accuracy: 0.6671\n",
      "Epoch 29/30\n",
      "191/191 [==============================] - 0s 938us/step - loss: 0.6777 - accuracy: 0.6868 - val_loss: 0.7141 - val_accuracy: 0.6657\n",
      "Epoch 30/30\n",
      "191/191 [==============================] - 0s 923us/step - loss: 0.6742 - accuracy: 0.6898 - val_loss: 0.7150 - val_accuracy: 0.6643\n",
      "Epoch 1/30\n",
      "191/191 [==============================] - 0s 1ms/step - loss: 0.8060 - accuracy: 0.6107 - val_loss: 0.7849 - val_accuracy: 0.6147\n",
      "Epoch 2/30\n",
      "191/191 [==============================] - 0s 932us/step - loss: 0.7677 - accuracy: 0.6303 - val_loss: 0.7359 - val_accuracy: 0.6448\n",
      "Epoch 3/30\n",
      "191/191 [==============================] - 0s 932us/step - loss: 0.7548 - accuracy: 0.6406 - val_loss: 0.7262 - val_accuracy: 0.6545\n",
      "Epoch 4/30\n",
      "191/191 [==============================] - 0s 933us/step - loss: 0.7472 - accuracy: 0.6382 - val_loss: 0.7341 - val_accuracy: 0.6587\n",
      "Epoch 5/30\n",
      "191/191 [==============================] - 0s 929us/step - loss: 0.7394 - accuracy: 0.6471 - val_loss: 0.7160 - val_accuracy: 0.6531\n",
      "Epoch 6/30\n",
      "191/191 [==============================] - 0s 939us/step - loss: 0.7353 - accuracy: 0.6481 - val_loss: 0.7194 - val_accuracy: 0.6657\n",
      "Epoch 7/30\n",
      "191/191 [==============================] - 0s 948us/step - loss: 0.7272 - accuracy: 0.6556 - val_loss: 0.7121 - val_accuracy: 0.6636\n",
      "Epoch 8/30\n",
      "191/191 [==============================] - 0s 940us/step - loss: 0.7245 - accuracy: 0.6525 - val_loss: 0.7114 - val_accuracy: 0.6594\n",
      "Epoch 9/30\n",
      "191/191 [==============================] - 0s 943us/step - loss: 0.7205 - accuracy: 0.6614 - val_loss: 0.7099 - val_accuracy: 0.6657\n",
      "Epoch 10/30\n",
      "191/191 [==============================] - 0s 947us/step - loss: 0.7147 - accuracy: 0.6630 - val_loss: 0.7094 - val_accuracy: 0.6734\n",
      "Epoch 11/30\n",
      "191/191 [==============================] - 0s 951us/step - loss: 0.7102 - accuracy: 0.6681 - val_loss: 0.7107 - val_accuracy: 0.6608\n",
      "Epoch 12/30\n",
      "191/191 [==============================] - 0s 950us/step - loss: 0.7077 - accuracy: 0.6660 - val_loss: 0.7045 - val_accuracy: 0.6727\n",
      "Epoch 13/30\n",
      "191/191 [==============================] - 0s 933us/step - loss: 0.7024 - accuracy: 0.6719 - val_loss: 0.7139 - val_accuracy: 0.6678\n",
      "Epoch 14/30\n",
      "191/191 [==============================] - 0s 938us/step - loss: 0.6964 - accuracy: 0.6751 - val_loss: 0.7050 - val_accuracy: 0.6818\n",
      "Epoch 15/30\n",
      "191/191 [==============================] - 0s 950us/step - loss: 0.6949 - accuracy: 0.6768 - val_loss: 0.7070 - val_accuracy: 0.6755\n",
      "Epoch 16/30\n",
      "191/191 [==============================] - 0s 969us/step - loss: 0.6893 - accuracy: 0.6754 - val_loss: 0.7066 - val_accuracy: 0.6720\n",
      "Epoch 17/30\n",
      "191/191 [==============================] - 0s 951us/step - loss: 0.6881 - accuracy: 0.6766 - val_loss: 0.7023 - val_accuracy: 0.6790\n",
      "Epoch 18/30\n",
      "191/191 [==============================] - 0s 953us/step - loss: 0.6836 - accuracy: 0.6835 - val_loss: 0.7034 - val_accuracy: 0.6755\n",
      "Epoch 19/30\n",
      "191/191 [==============================] - 0s 951us/step - loss: 0.6778 - accuracy: 0.6899 - val_loss: 0.7135 - val_accuracy: 0.6601\n",
      "Epoch 20/30\n",
      "191/191 [==============================] - 0s 934us/step - loss: 0.6762 - accuracy: 0.6908 - val_loss: 0.7070 - val_accuracy: 0.6762\n"
     ]
    },
    {
     "name": "stdout",
     "output_type": "stream",
     "text": [
      "Epoch 21/30\n",
      "191/191 [==============================] - 0s 1ms/step - loss: 0.6720 - accuracy: 0.6887 - val_loss: 0.7063 - val_accuracy: 0.6734\n",
      "Epoch 22/30\n",
      "191/191 [==============================] - 0s 943us/step - loss: 0.6663 - accuracy: 0.6939 - val_loss: 0.7095 - val_accuracy: 0.6720\n",
      "Epoch 23/30\n",
      "191/191 [==============================] - 0s 944us/step - loss: 0.6634 - accuracy: 0.6891 - val_loss: 0.7112 - val_accuracy: 0.6483\n",
      "Epoch 24/30\n",
      "191/191 [==============================] - 0s 923us/step - loss: 0.6617 - accuracy: 0.6952 - val_loss: 0.7136 - val_accuracy: 0.6727\n",
      "Epoch 25/30\n",
      "191/191 [==============================] - 0s 927us/step - loss: 0.6565 - accuracy: 0.6967 - val_loss: 0.7247 - val_accuracy: 0.6483\n",
      "Epoch 26/30\n",
      "191/191 [==============================] - 0s 938us/step - loss: 0.6530 - accuracy: 0.7029 - val_loss: 0.7316 - val_accuracy: 0.6350\n",
      "Epoch 27/30\n",
      "191/191 [==============================] - 0s 933us/step - loss: 0.6499 - accuracy: 0.7016 - val_loss: 0.7178 - val_accuracy: 0.6685\n",
      "Epoch 28/30\n",
      "191/191 [==============================] - 0s 920us/step - loss: 0.6450 - accuracy: 0.6999 - val_loss: 0.7007 - val_accuracy: 0.6825\n",
      "Epoch 29/30\n",
      "191/191 [==============================] - 0s 932us/step - loss: 0.6426 - accuracy: 0.7093 - val_loss: 0.7129 - val_accuracy: 0.6671\n",
      "Epoch 30/30\n",
      "191/191 [==============================] - 0s 912us/step - loss: 0.6362 - accuracy: 0.7137 - val_loss: 0.7206 - val_accuracy: 0.6678\n"
     ]
    }
   ],
   "source": [
    "from keras import layers, Sequential\n",
    "\n",
    "hidden_layer_widths = [5, 10, 20, 50, 100, 200]\n",
    "\n",
    "train_loss = []\n",
    "val_loss = []\n",
    "train_acc = []\n",
    "val_acc = []\n",
    "\n",
    "for n in hidden_layer_widths:\n",
    "    model = Sequential()\n",
    "    # add input layer, and a dense layer with given width\n",
    "    model.add(layers.Input(shape=(50,)))\n",
    "    model.add(layers.Dense(n, activation='relu'))\n",
    "    model.add(layers.Dense(3, activation='softmax'))\n",
    "    \n",
    "    model.compile(loss='categorical_crossentropy',\n",
    "                  metrics='accuracy')\n",
    "    \n",
    "    results = model.fit(keras_x_train,\n",
    "                        keras_y_train,\n",
    "                        validation_data=[keras_x_val, keras_y_val],\n",
    "                        batch_size=30,\n",
    "                        epochs=30)\n",
    "    \n",
    "    history = results.history\n",
    "    \n",
    "    train_loss.append(history['loss'])\n",
    "    val_loss.append(history['val_loss'])\n",
    "    train_acc.append(history['accuracy'])\n",
    "    val_acc.append(history['val_accuracy'])\n",
    "    \n",
    "# eventually, plot loss & accuracy versus hidden layer width\n",
    "# plot training with lower opacity, validation full strength\n",
    "# one color for loss (red), one color for accuracy (blue)\n",
    "# one plot for 10 epochs, one plot for 50 epochs"
   ]
  },
  {
   "cell_type": "code",
   "execution_count": 58,
   "metadata": {},
   "outputs": [
    {
     "data": {
      "text/plain": [
       "(6, 30)"
      ]
     },
     "execution_count": 58,
     "metadata": {},
     "output_type": "execute_result"
    }
   ],
   "source": [
    "np.array(train_loss).shape"
   ]
  },
  {
   "cell_type": "code",
   "execution_count": 64,
   "metadata": {},
   "outputs": [
    {
     "data": {
      "image/png": "[encoded data removed]",
      "text/plain": [
       "<Figure size 1200x800 with 6 Axes>"
      ]
     },
     "metadata": {},
     "output_type": "display_data"
    }
   ],
   "source": [
    "fig, ax = plt.subplots(nrows=2, ncols=3, figsize=(12, 8))\n",
    "\n",
    "fig.suptitle('Training and Validation Loss and Accuracy')\n",
    "\n",
    "for n, width in enumerate(hidden_layer_widths):\n",
    "    i = n // 3\n",
    "    j = n % 3\n",
    "    \n",
    "    plt.sca(ax[i][j])\n",
    "\n",
    "    plt.plot(range(1,31), train_loss[n], label='Loss (Train)', color='red', alpha=0.5)\n",
    "    plt.plot(range(1,31), val_loss[n], label='Loss (Validation)', color='red')\n",
    "    plt.plot(range(1,31), train_acc[n], label='Accuracy (Train)', color='blue', alpha=0.5)\n",
    "    plt.plot(range(1,31), val_acc[n], label='Accuracy (Validation)', color='blue')\n",
    "    ax[i][j].set(title=f'Single Hidden Layer of Width: {width}',\n",
    "                 xlabel='Number of Epochs',\n",
    "                 ylabel='Categorical Crossentropy Loss / Accuracy')\n",
    "    ax[i][j].legend();"
   ]
  },
  {
   "cell_type": "code",
   "execution_count": 65,
   "metadata": {},
   "outputs": [],
   "source": [
    "model = Sequential()\n",
    "# add input layer, and a dense layer with given width\n",
    "model.add(layers.Input(shape=(50,)))\n",
    "model.add(layers.Dense(300, activation='relu'))\n",
    "model.add(layers.Dense(3, activation='softmax'))\n",
    "    \n",
    "model.compile(loss='categorical_crossentropy',\n",
    "              metrics='accuracy')\n",
    "    \n",
    "results = model.fit(keras_x_train, keras_y_train,\n",
    "                    validation_data = [keras_x_val, keras_y_val],\n",
    "                    batch_size=30, epochs=50,\n",
    "                    verbose=0)\n",
    "    \n",
    "history = results.history"
   ]
  },
  {
   "cell_type": "code",
   "execution_count": 67,
   "metadata": {
    "scrolled": true
   },
   "outputs": [
    {
     "data": {
      "image/png": "[encoded data removed]",
      "text/plain": [
       "<Figure size 640x480 with 1 Axes>"
      ]
     },
     "metadata": {},
     "output_type": "display_data"
    }
   ],
   "source": [
    "fig, ax = plt.subplots()\n",
    "\n",
    "plt.plot(range(1, 51), history['accuracy'], label='training accuracy')\n",
    "plt.plot(range(1, 51), history['val_accuracy'], label='validation accuracy')\n",
    "ax.set(title='Accuracy with Single Hidden Layer of Width 300',\n",
    "       xlabel='Epochs',\n",
    "       ylabel='Accuracy')\n",
    "ax.legend();"
   ]
  },
  {
   "cell_type": "code",
   "execution_count": 68,
   "metadata": {},
   "outputs": [],
   "source": [
    "# add in regularization\n",
    "model = Sequential()\n",
    "# add input layer, and a dense layer with given width\n",
    "model.add(layers.Input(shape=(50,)))\n",
    "model.add(layers.Dense(300, activation='relu',\n",
    "                       kernel_regularizer=keras.regularizers.L2(1e-4)))\n",
    "model.add(layers.Dense(3, activation='softmax'))\n",
    "    \n",
    "model.compile(loss='categorical_crossentropy',\n",
    "              metrics='accuracy')\n",
    "    \n",
    "results = model.fit(keras_x_train, keras_y_train,\n",
    "                    validation_data = [keras_x_val, keras_y_val],\n",
    "                    batch_size=30, epochs=50,\n",
    "                    verbose=0)\n",
    "    \n",
    "history = results.history"
   ]
  },
  {
   "cell_type": "code",
   "execution_count": 69,
   "metadata": {},
   "outputs": [
    {
     "data": {
      "image/png": "[encoded data removed]",
      "text/plain": [
       "<Figure size 640x480 with 1 Axes>"
      ]
     },
     "metadata": {},
     "output_type": "display_data"
    }
   ],
   "source": [
    "fig, ax = plt.subplots()\n",
    "\n",
    "plt.plot(range(1, 51), history['accuracy'], label='training accuracy')\n",
    "plt.plot(range(1, 51), history['val_accuracy'], label='validation accuracy')\n",
    "ax.set(title='Accuracy with Single Hidden Layer of Width 300 and L2 Regularization',\n",
    "       xlabel='Epochs',\n",
    "       ylabel='Accuracy')\n",
    "ax.legend();"
   ]
  },
  {
   "cell_type": "code",
   "execution_count": 70,
   "metadata": {},
   "outputs": [],
   "source": [
    "# complicate the network architecture\n",
    "# add in regularization\n",
    "model = Sequential()\n",
    "# add input layer, and a dense layer with given width\n",
    "model.add(layers.Input(shape=(50,)))\n",
    "model.add(layers.Dense(300, activation='relu',\n",
    "                       kernel_regularizer=keras.regularizers.L2(1e-4)))\n",
    "model.add(layers.Dense(50, activation='relu',\n",
    "                       kernel_regularizer=keras.regularizers.L2(1e-4)))\n",
    "model.add(layers.Dense(3, activation='softmax'))\n",
    "    \n",
    "model.compile(loss='categorical_crossentropy',\n",
    "              metrics='accuracy')\n",
    "    \n",
    "results = model.fit(keras_x_train, keras_y_train,\n",
    "                    validation_data = [keras_x_val, keras_y_val],\n",
    "                    batch_size=30, epochs=50,\n",
    "                    verbose=0)\n",
    "    \n",
    "history = results.history"
   ]
  },
  {
   "cell_type": "code",
   "execution_count": 71,
   "metadata": {},
   "outputs": [
    {
     "data": {
      "image/png": "[encoded data removed]",
      "text/plain": [
       "<Figure size 640x480 with 1 Axes>"
      ]
     },
     "metadata": {},
     "output_type": "display_data"
    }
   ],
   "source": [
    "fig, ax = plt.subplots()\n",
    "\n",
    "plt.plot(range(1, 51), history['accuracy'], label='training accuracy')\n",
    "plt.plot(range(1, 51), history['val_accuracy'], label='validation accuracy')\n",
    "ax.set(title='Accuracy with Two Hidden Layers (Widths of 300 and 50) and L2 Regularization',\n",
    "       xlabel='Epochs',\n",
    "       ylabel='Accuracy')\n",
    "ax.legend();"
   ]
  }
 ],
 "metadata": {
  "kernelspec": {
   "display_name": "Python (nn)",
   "language": "python",
   "name": "nn"
  },
  "language_info": {
   "codemirror_mode": {
    "name": "ipython",
    "version": 3
   },
   "file_extension": ".py",
   "mimetype": "text/x-python",
   "name": "python",
   "nbconvert_exporter": "python",
   "pygments_lexer": "ipython3",
   "version": "3.10.9"
  },
  "toc": {
   "base_numbering": 1,
   "nav_menu": {},
   "number_sections": true,
   "sideBar": true,
   "skip_h1_title": true,
   "title_cell": "Table of Contents",
   "title_sidebar": "Contents",
   "toc_cell": false,
   "toc_position": {
    "height": "calc(100% - 180px)",
    "left": "10px",
    "top": "150px",
    "width": "241.919px"
   },
   "toc_section_display": true,
   "toc_window_display": true
  }
 },
 "nbformat": 4,
 "nbformat_minor": 4
}
