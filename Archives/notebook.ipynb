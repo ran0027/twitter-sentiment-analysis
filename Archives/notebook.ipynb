{
 "cells": [
  {
   "cell_type": "markdown",
   "metadata": {},
   "source": [
    "# Tweet Sentiment Analysis"
   ]
  },
  {
   "cell_type": "markdown",
   "metadata": {},
   "source": [
    "[Data Source](https://data.world/crowdflower/brands-and-product-emotions)"
   ]
  },
  {
   "cell_type": "markdown",
   "metadata": {},
   "source": [
    "## Imports"
   ]
  },
  {
   "cell_type": "code",
   "execution_count": 4,
   "metadata": {},
   "outputs": [],
   "source": [
    "import pandas as pd\n",
    "import numpy as np\n",
    "\n",
    "import matplotlib.pyplot as plt\n",
    "\n",
    "# set a random seed for reproducibility\n",
    "seed = 3490"
   ]
  },
  {
   "cell_type": "markdown",
   "metadata": {},
   "source": [
    "## Load Data"
   ]
  },
  {
   "cell_type": "code",
   "execution_count": 5,
   "metadata": {
    "scrolled": true
   },
   "outputs": [
    {
     "name": "stdout",
     "output_type": "stream",
     "text": [
      "latin1\n"
     ]
    },
    {
     "data": {
      "text/html": [
       "<div>\n",
       "<style scoped>\n",
       "    .dataframe tbody tr th:only-of-type {\n",
       "        vertical-align: middle;\n",
       "    }\n",
       "\n",
       "    .dataframe tbody tr th {\n",
       "        vertical-align: top;\n",
       "    }\n",
       "\n",
       "    .dataframe thead th {\n",
       "        text-align: right;\n",
       "    }\n",
       "</style>\n",
       "<table border=\"1\" class=\"dataframe\">\n",
       "  <thead>\n",
       "    <tr style=\"text-align: right;\">\n",
       "      <th></th>\n",
       "      <th>tweet_text</th>\n",
       "      <th>emotion_in_tweet_is_directed_at</th>\n",
       "      <th>is_there_an_emotion_directed_at_a_brand_or_product</th>\n",
       "    </tr>\n",
       "  </thead>\n",
       "  <tbody>\n",
       "    <tr>\n",
       "      <th>0</th>\n",
       "      <td>.@wesley83 I have a 3G iPhone. After 3 hrs twe...</td>\n",
       "      <td>iPhone</td>\n",
       "      <td>Negative emotion</td>\n",
       "    </tr>\n",
       "    <tr>\n",
       "      <th>1</th>\n",
       "      <td>@jessedee Know about @fludapp ? Awesome iPad/i...</td>\n",
       "      <td>iPad or iPhone App</td>\n",
       "      <td>Positive emotion</td>\n",
       "    </tr>\n",
       "    <tr>\n",
       "      <th>2</th>\n",
       "      <td>@swonderlin Can not wait for #iPad 2 also. The...</td>\n",
       "      <td>iPad</td>\n",
       "      <td>Positive emotion</td>\n",
       "    </tr>\n",
       "    <tr>\n",
       "      <th>3</th>\n",
       "      <td>@sxsw I hope this year's festival isn't as cra...</td>\n",
       "      <td>iPad or iPhone App</td>\n",
       "      <td>Negative emotion</td>\n",
       "    </tr>\n",
       "    <tr>\n",
       "      <th>4</th>\n",
       "      <td>@sxtxstate great stuff on Fri #SXSW: Marissa M...</td>\n",
       "      <td>Google</td>\n",
       "      <td>Positive emotion</td>\n",
       "    </tr>\n",
       "  </tbody>\n",
       "</table>\n",
       "</div>"
      ],
      "text/plain": [
       "                                          tweet_text  \\\n",
       "0  .@wesley83 I have a 3G iPhone. After 3 hrs twe...   \n",
       "1  @jessedee Know about @fludapp ? Awesome iPad/i...   \n",
       "2  @swonderlin Can not wait for #iPad 2 also. The...   \n",
       "3  @sxsw I hope this year's festival isn't as cra...   \n",
       "4  @sxtxstate great stuff on Fri #SXSW: Marissa M...   \n",
       "\n",
       "  emotion_in_tweet_is_directed_at  \\\n",
       "0                          iPhone   \n",
       "1              iPad or iPhone App   \n",
       "2                            iPad   \n",
       "3              iPad or iPhone App   \n",
       "4                          Google   \n",
       "\n",
       "  is_there_an_emotion_directed_at_a_brand_or_product  \n",
       "0                                   Negative emotion  \n",
       "1                                   Positive emotion  \n",
       "2                                   Positive emotion  \n",
       "3                                   Negative emotion  \n",
       "4                                   Positive emotion  "
      ]
     },
     "execution_count": 5,
     "metadata": {},
     "output_type": "execute_result"
    }
   ],
   "source": [
    "encodings = [\"utf-8-sig\", \"cp1252\", \"iso-8859-1\", \"latin1\"]\n",
    "for encoding in encodings:\n",
    "    try:\n",
    "        data = pd.read_csv('data/judge-1377884607_tweet_product_company.csv', encoding=encoding)\n",
    "    except:\n",
    "        continue\n",
    "print(encoding)\n",
    "data.head()"
   ]
  },
  {
   "cell_type": "markdown",
   "metadata": {},
   "source": [
    "## Explore Data"
   ]
  },
  {
   "cell_type": "code",
   "execution_count": 3,
   "metadata": {},
   "outputs": [
    {
     "name": "stdout",
     "output_type": "stream",
     "text": [
      "How much data do we have?\n",
      "9093 records.\n",
      "\n",
      "\n",
      "Example of a tweet in the dataset:\n",
      "\".@wesley83 I have a 3G iPhone. After 3 hrs tweeting at #RISE_Austin, it was dead!  I need to upgrade. Plugin stations at #SXSW.\"\n",
      "\n",
      "\n",
      "Which products are the tweets concerning?\n",
      "['iPad', 'Apple', 'iPad or iPhone App', 'Google', 'iPhone', 'Other Google product or service', 'Android App', 'Android', 'Other Apple product or service']\n",
      "\n",
      "\n",
      "Is this an imbalanced classification problem?\n",
      "No emotion toward brand or product    0.592654\n",
      "Positive emotion                      0.327505\n",
      "Negative emotion                      0.062686\n",
      "I can't tell                          0.017156\n",
      "Name: is_there_an_emotion_directed_at_a_brand_or_product, dtype: float64\n"
     ]
    }
   ],
   "source": [
    "print(f'How much data do we have?\\n{data.shape[0]} records.')\n",
    "print('\\n')\n",
    "print(f'Example of a tweet in the dataset:\\n\"{data.tweet_text[0]}\"')\n",
    "print('\\n')\n",
    "print(f'Which products are the tweets concerning?\\n{list(data.emotion_in_tweet_is_directed_at.value_counts().index)}')\n",
    "print('\\n')\n",
    "class_distribution = data.is_there_an_emotion_directed_at_a_brand_or_product.value_counts(normalize=True)\n",
    "print(f'Is this an imbalanced classification problem?\\n{class_distribution}')"
   ]
  },
  {
   "cell_type": "markdown",
   "metadata": {},
   "source": [
    "This is definitely an imbalanced classification problem (in terms of sentiment.)\n",
    "\n",
    "How much is each brand represented in the dataset?"
   ]
  },
  {
   "cell_type": "code",
   "execution_count": 4,
   "metadata": {},
   "outputs": [],
   "source": [
    "apple_categories = ['iPad', 'Apple', 'iPad or iPhone App', 'iPhone',\n",
    "                    'Other Apple product or service']\n",
    "\n",
    "android_categories = ['Android App', 'Android']\n",
    "\n",
    "google_categories = ['Google', 'Other Google product or service']"
   ]
  },
  {
   "cell_type": "code",
   "execution_count": 5,
   "metadata": {},
   "outputs": [
    {
     "data": {
      "image/png": "[encoded data removed]",
      "text/plain": [
       "<Figure size 1200x800 with 3 Axes>"
      ]
     },
     "metadata": {},
     "output_type": "display_data"
    }
   ],
   "source": [
    "brands = [apple_categories, android_categories, google_categories]\n",
    "\n",
    "fig, ax = plt.subplots(nrows=3, figsize=(12, 8), sharex=True)\n",
    "\n",
    "for i, brand in enumerate(brands):\n",
    "    plt.sca(ax[i])\n",
    "    data.loc[data.emotion_in_tweet_is_directed_at.isin(brand),\n",
    "         'is_there_an_emotion_directed_at_a_brand_or_product'].value_counts().plot(\n",
    "    kind='barh')\n",
    "    ax[i].set_title(f'{brand}')\n",
    "    \n",
    "fig.tight_layout();"
   ]
  },
  {
   "cell_type": "markdown",
   "metadata": {},
   "source": [
    "## Prepare Data for Modeling"
   ]
  },
  {
   "cell_type": "markdown",
   "metadata": {},
   "source": [
    "**Handle Missing Data**"
   ]
  },
  {
   "cell_type": "markdown",
   "metadata": {},
   "source": [
    "Check for missing data."
   ]
  },
  {
   "cell_type": "code",
   "execution_count": 6,
   "metadata": {},
   "outputs": [
    {
     "data": {
      "text/plain": [
       "tweet_text                                               1\n",
       "emotion_in_tweet_is_directed_at                       5802\n",
       "is_there_an_emotion_directed_at_a_brand_or_product       0\n",
       "dtype: int64"
      ]
     },
     "execution_count": 6,
     "metadata": {},
     "output_type": "execute_result"
    }
   ],
   "source": [
    "data.isna().sum()"
   ]
  },
  {
   "cell_type": "markdown",
   "metadata": {},
   "source": [
    "For now, we will ignore towards which product the sentiment in the tweet is directed, which allows us to ignore the missing data in the \"emotion_in_tweet_is_directed_at\" column."
   ]
  },
  {
   "cell_type": "markdown",
   "metadata": {},
   "source": [
    "View the record which is missing \"tweet_text\" data."
   ]
  },
  {
   "cell_type": "code",
   "execution_count": 7,
   "metadata": {},
   "outputs": [
    {
     "data": {
      "text/html": [
       "<div>\n",
       "<style scoped>\n",
       "    .dataframe tbody tr th:only-of-type {\n",
       "        vertical-align: middle;\n",
       "    }\n",
       "\n",
       "    .dataframe tbody tr th {\n",
       "        vertical-align: top;\n",
       "    }\n",
       "\n",
       "    .dataframe thead th {\n",
       "        text-align: right;\n",
       "    }\n",
       "</style>\n",
       "<table border=\"1\" class=\"dataframe\">\n",
       "  <thead>\n",
       "    <tr style=\"text-align: right;\">\n",
       "      <th></th>\n",
       "      <th>tweet_text</th>\n",
       "      <th>emotion_in_tweet_is_directed_at</th>\n",
       "      <th>is_there_an_emotion_directed_at_a_brand_or_product</th>\n",
       "    </tr>\n",
       "  </thead>\n",
       "  <tbody>\n",
       "  </tbody>\n",
       "</table>\n",
       "</div>"
      ],
      "text/plain": [
       "Empty DataFrame\n",
       "Columns: [tweet_text, emotion_in_tweet_is_directed_at, is_there_an_emotion_directed_at_a_brand_or_product]\n",
       "Index: []"
      ]
     },
     "execution_count": 7,
     "metadata": {},
     "output_type": "execute_result"
    }
   ],
   "source": [
    "data.loc[data.tweet_text == None]"
   ]
  },
  {
   "cell_type": "markdown",
   "metadata": {},
   "source": [
    "We can safely drop this record."
   ]
  },
  {
   "cell_type": "code",
   "execution_count": 6,
   "metadata": {},
   "outputs": [],
   "source": [
    "clean_data = data.dropna(subset=['tweet_text'])"
   ]
  },
  {
   "cell_type": "markdown",
   "metadata": {},
   "source": [
    "**Drop Data for Which Sentiment Category is \"I can't tell\"**"
   ]
  },
  {
   "cell_type": "code",
   "execution_count": 7,
   "metadata": {},
   "outputs": [],
   "source": [
    "clean_data = clean_data.loc[clean_data.is_there_an_emotion_directed_at_a_brand_or_product != \"I can't tell\"]"
   ]
  },
  {
   "cell_type": "markdown",
   "metadata": {},
   "source": [
    "**Drop Column Specifying At Which Product the Sentiment is Directed**"
   ]
  },
  {
   "cell_type": "code",
   "execution_count": 8,
   "metadata": {},
   "outputs": [],
   "source": [
    "clean_data = clean_data.drop(columns='emotion_in_tweet_is_directed_at')"
   ]
  },
  {
   "cell_type": "markdown",
   "metadata": {},
   "source": [
    "**Rename Sentiment Column**"
   ]
  },
  {
   "cell_type": "code",
   "execution_count": 9,
   "metadata": {},
   "outputs": [],
   "source": [
    "clean_data = clean_data.rename({'is_there_an_emotion_directed_at_a_brand_or_product': 'sentiment'}, axis=1)"
   ]
  },
  {
   "cell_type": "markdown",
   "metadata": {},
   "source": [
    "**Inspect First Few Rows of Cleaned Data:**"
   ]
  },
  {
   "cell_type": "code",
   "execution_count": 10,
   "metadata": {},
   "outputs": [
    {
     "data": {
      "text/html": [
       "<div>\n",
       "<style scoped>\n",
       "    .dataframe tbody tr th:only-of-type {\n",
       "        vertical-align: middle;\n",
       "    }\n",
       "\n",
       "    .dataframe tbody tr th {\n",
       "        vertical-align: top;\n",
       "    }\n",
       "\n",
       "    .dataframe thead th {\n",
       "        text-align: right;\n",
       "    }\n",
       "</style>\n",
       "<table border=\"1\" class=\"dataframe\">\n",
       "  <thead>\n",
       "    <tr style=\"text-align: right;\">\n",
       "      <th></th>\n",
       "      <th>tweet_text</th>\n",
       "      <th>sentiment</th>\n",
       "    </tr>\n",
       "  </thead>\n",
       "  <tbody>\n",
       "    <tr>\n",
       "      <th>0</th>\n",
       "      <td>.@wesley83 I have a 3G iPhone. After 3 hrs twe...</td>\n",
       "      <td>Negative emotion</td>\n",
       "    </tr>\n",
       "    <tr>\n",
       "      <th>1</th>\n",
       "      <td>@jessedee Know about @fludapp ? Awesome iPad/i...</td>\n",
       "      <td>Positive emotion</td>\n",
       "    </tr>\n",
       "    <tr>\n",
       "      <th>2</th>\n",
       "      <td>@swonderlin Can not wait for #iPad 2 also. The...</td>\n",
       "      <td>Positive emotion</td>\n",
       "    </tr>\n",
       "    <tr>\n",
       "      <th>3</th>\n",
       "      <td>@sxsw I hope this year's festival isn't as cra...</td>\n",
       "      <td>Negative emotion</td>\n",
       "    </tr>\n",
       "    <tr>\n",
       "      <th>4</th>\n",
       "      <td>@sxtxstate great stuff on Fri #SXSW: Marissa M...</td>\n",
       "      <td>Positive emotion</td>\n",
       "    </tr>\n",
       "  </tbody>\n",
       "</table>\n",
       "</div>"
      ],
      "text/plain": [
       "                                          tweet_text         sentiment\n",
       "0  .@wesley83 I have a 3G iPhone. After 3 hrs twe...  Negative emotion\n",
       "1  @jessedee Know about @fludapp ? Awesome iPad/i...  Positive emotion\n",
       "2  @swonderlin Can not wait for #iPad 2 also. The...  Positive emotion\n",
       "3  @sxsw I hope this year's festival isn't as cra...  Negative emotion\n",
       "4  @sxtxstate great stuff on Fri #SXSW: Marissa M...  Positive emotion"
      ]
     },
     "execution_count": 10,
     "metadata": {},
     "output_type": "execute_result"
    }
   ],
   "source": [
    "clean_data.head()"
   ]
  },
  {
   "cell_type": "code",
   "execution_count": 11,
   "metadata": {},
   "outputs": [
    {
     "data": {
      "text/plain": [
       "(8936, 2)"
      ]
     },
     "execution_count": 11,
     "metadata": {},
     "output_type": "execute_result"
    }
   ],
   "source": [
    "clean_data.shape"
   ]
  },
  {
   "cell_type": "markdown",
   "metadata": {},
   "source": [
    "## Load Pre-trained GloVe Vectors"
   ]
  },
  {
   "cell_type": "markdown",
   "metadata": {},
   "source": [
    "Load pre-trained word vectors (to give more context to our 9000 or so tweets.)"
   ]
  },
  {
   "cell_type": "code",
   "execution_count": 10,
   "metadata": {},
   "outputs": [],
   "source": [
    "with open('data/glove.twitter.27B.50d.txt') as f:\n",
    "    lines = f.readlines()"
   ]
  },
  {
   "cell_type": "code",
   "execution_count": 11,
   "metadata": {},
   "outputs": [],
   "source": [
    "glove = dict()\n",
    "\n",
    "for line in lines:\n",
    "    items = line.split()\n",
    "    word = items[0]\n",
    "    vector = items[1:]\n",
    "    glove[word] = [float(component) for component in vector]"
   ]
  },
  {
   "cell_type": "markdown",
   "metadata": {},
   "source": [
    "Save to file, so we don't have to run the above code every time we restart the kernel."
   ]
  },
  {
   "cell_type": "code",
   "execution_count": 13,
   "metadata": {},
   "outputs": [],
   "source": [
    "import json\n",
    "with open(\"data/glove.txt\", \"w\") as filepath:\n",
    "    json.dump(glove, filepath) "
   ]
  },
  {
   "cell_type": "markdown",
   "metadata": {},
   "source": [
    "**Load preprocessed glove dictionary here:**"
   ]
  },
  {
   "cell_type": "code",
   "execution_count": 14,
   "metadata": {},
   "outputs": [],
   "source": [
    "import json\n",
    "with open(\"data/glove.txt\", \"r\") as file:\n",
    "    glove = json.load(file)"
   ]
  },
  {
   "cell_type": "code",
   "execution_count": 15,
   "metadata": {},
   "outputs": [
    {
     "data": {
      "text/plain": [
       "1193514"
      ]
     },
     "execution_count": 15,
     "metadata": {},
     "output_type": "execute_result"
    }
   ],
   "source": [
    "len(glove.keys())"
   ]
  },
  {
   "cell_type": "markdown",
   "metadata": {},
   "source": [
    "We have 1,193,514 words and characters which have been vectorized for us (in the context of Twitter.)"
   ]
  },
  {
   "cell_type": "markdown",
   "metadata": {},
   "source": [
    "## Train Test Split"
   ]
  },
  {
   "cell_type": "markdown",
   "metadata": {},
   "source": [
    "The next step is to split our data into training and testing sets, and then preprocess the tweet text for our classifier using our glove vectors."
   ]
  },
  {
   "cell_type": "code",
   "execution_count": 12,
   "metadata": {},
   "outputs": [
    {
     "data": {
      "text/plain": [
       "8841    Next #SXSW we're heading to is about designing...\n",
       "1099    Talked to some great developers at the Android...\n",
       "Name: tweet_text, dtype: object"
      ]
     },
     "execution_count": 12,
     "metadata": {},
     "output_type": "execute_result"
    }
   ],
   "source": [
    "from sklearn.model_selection import train_test_split\n",
    "\n",
    "X_train, X_test, y_train, y_test = train_test_split(clean_data['tweet_text'],\n",
    "                                                    clean_data['sentiment'],\n",
    "                                                    test_size=0.2,\n",
    "                                                    random_state=seed)\n",
    "\n",
    "X_train.head(2)"
   ]
  },
  {
   "cell_type": "markdown",
   "metadata": {},
   "source": [
    "## Vectorize Tweets for Modeling"
   ]
  },
  {
   "cell_type": "markdown",
   "metadata": {},
   "source": [
    "Define a function to go through the text of each tweet and get the (GloVe) vector representation for each word, then mind the mean word vector for the entire tweet."
   ]
  },
  {
   "cell_type": "code",
   "execution_count": 17,
   "metadata": {},
   "outputs": [],
   "source": [
    "import string\n",
    "\n",
    "def get_mean_word_vector(tweet):\n",
    "    tokens = tweet.split()\n",
    "    tweet_vectors = []\n",
    "    for token in tokens:\n",
    "        try:\n",
    "            tweet_vectors.append(glove[token.lower().strip(string.punctuation)])\n",
    "        except:\n",
    "#             print(token)     we're losing quite a few tokens, but will ignore for now\n",
    "            continue\n",
    "    return np.mean(np.array(tweet_vectors), axis=0)"
   ]
  },
  {
   "cell_type": "markdown",
   "metadata": {},
   "source": [
    "Note that this function does not pad each tweet. I am curious to see the effect of padding versus not padding on the classifier."
   ]
  },
  {
   "cell_type": "code",
   "execution_count": 18,
   "metadata": {},
   "outputs": [],
   "source": [
    "X_train_preprocessed = X_train.apply(get_mean_word_vector)"
   ]
  },
  {
   "cell_type": "code",
   "execution_count": 19,
   "metadata": {},
   "outputs": [],
   "source": [
    "X_test_preprocessed = X_test.apply(get_mean_word_vector)"
   ]
  },
  {
   "cell_type": "markdown",
   "metadata": {},
   "source": [
    "The series above are not in the correct format for a scikit learn classifier. To convert to a matrix of features, use the below loop:"
   ]
  },
  {
   "cell_type": "code",
   "execution_count": 20,
   "metadata": {},
   "outputs": [],
   "source": [
    "preprocessed_values = dict()\n",
    "\n",
    "for i in range(50):\n",
    "    label = f'feature_{i}'\n",
    "    values = [vector[i] for vector in X_train_preprocessed.values]\n",
    "    preprocessed_values[label] = values\n",
    "\n",
    "final_X_train = pd.DataFrame(preprocessed_values, index=X_train.index)"
   ]
  },
  {
   "cell_type": "code",
   "execution_count": 21,
   "metadata": {},
   "outputs": [],
   "source": [
    "preprocessed_values = dict()\n",
    "\n",
    "for i in range(50):\n",
    "    label = f'feature_{i}'\n",
    "    values = [vector[i] for vector in X_test_preprocessed.values]\n",
    "    preprocessed_values[label] = values\n",
    "\n",
    "final_X_test = pd.DataFrame(preprocessed_values, index=X_test.index)"
   ]
  },
  {
   "cell_type": "markdown",
   "metadata": {},
   "source": [
    "## Label Encode Target"
   ]
  },
  {
   "cell_type": "markdown",
   "metadata": {},
   "source": [
    "Label encode the target."
   ]
  },
  {
   "cell_type": "code",
   "execution_count": 20,
   "metadata": {},
   "outputs": [
    {
     "name": "stdout",
     "output_type": "stream",
     "text": [
      "['Negative emotion' 'No emotion toward brand or product'\n",
      " 'Positive emotion']\n"
     ]
    }
   ],
   "source": [
    "from sklearn.preprocessing import LabelEncoder\n",
    "\n",
    "le = LabelEncoder()\n",
    "\n",
    "y_train_preprocessed = le.fit_transform(y_train)\n",
    "y_test_preprocessed = le.transform(y_test)\n",
    "\n",
    "print(le.classes_)"
   ]
  },
  {
   "cell_type": "markdown",
   "metadata": {},
   "source": [
    "## Store Modeling Results"
   ]
  },
  {
   "cell_type": "markdown",
   "metadata": {},
   "source": [
    "To keep up with the performance of different models, build a dictionary for scores."
   ]
  },
  {
   "cell_type": "code",
   "execution_count": 23,
   "metadata": {},
   "outputs": [],
   "source": [
    "model_eval = {'name': [], 'model': [], 'accuracy': []}\n",
    "\n",
    "from sklearn.base import clone # to store models"
   ]
  },
  {
   "cell_type": "markdown",
   "metadata": {},
   "source": [
    "## Build Baseline Classifier"
   ]
  },
  {
   "cell_type": "markdown",
   "metadata": {},
   "source": [
    "Options for classifier:\n",
    "\n",
    "- logistic regression\n",
    "- decision tree\n",
    "- k nearest neighbors\n",
    "- random forest\n",
    "- boosted random forest"
   ]
  },
  {
   "cell_type": "markdown",
   "metadata": {},
   "source": [
    "Our baseline classifier will be a logistic regression."
   ]
  },
  {
   "cell_type": "code",
   "execution_count": 24,
   "metadata": {},
   "outputs": [],
   "source": [
    "from sklearn.linear_model import LogisticRegression"
   ]
  },
  {
   "cell_type": "markdown",
   "metadata": {},
   "source": [
    "For logistic regression, the data needs to be scaled."
   ]
  },
  {
   "cell_type": "code",
   "execution_count": 25,
   "metadata": {},
   "outputs": [],
   "source": [
    "from sklearn.preprocessing import StandardScaler\n",
    "\n",
    "ss = StandardScaler()\n",
    "\n",
    "scaled_X_train = ss.fit_transform(final_X_train)\n",
    "scaled_X_test = ss.transform(final_X_test)"
   ]
  },
  {
   "cell_type": "markdown",
   "metadata": {},
   "source": [
    "Perform cross validation on the scaled training data."
   ]
  },
  {
   "cell_type": "code",
   "execution_count": 26,
   "metadata": {},
   "outputs": [],
   "source": [
    "from sklearn.model_selection import cross_val_score"
   ]
  },
  {
   "cell_type": "code",
   "execution_count": 27,
   "metadata": {},
   "outputs": [
    {
     "data": {
      "text/plain": [
       "array([0.64615385, 0.63706294, 0.63916084, 0.6550035 , 0.64660602])"
      ]
     },
     "execution_count": 27,
     "metadata": {},
     "output_type": "execute_result"
    }
   ],
   "source": [
    "baseline = LogisticRegression(random_state=seed)\n",
    "\n",
    "cross_val_score(baseline, scaled_X_train, y_train_preprocessed)"
   ]
  },
  {
   "cell_type": "code",
   "execution_count": 28,
   "metadata": {},
   "outputs": [
    {
     "data": {
      "text/plain": [
       "array([0.04597701, 0.17241379, 0.08045977, 0.05813953, 0.12643678])"
      ]
     },
     "execution_count": 28,
     "metadata": {},
     "output_type": "execute_result"
    }
   ],
   "source": [
    "from sklearn.metrics import make_scorer\n",
    "\n",
    "def neg_recall_score(y_true, y_preds):\n",
    "    tn = 0\n",
    "    fp = 0\n",
    "    for true_label, predicted_label in zip(y_true, y_preds):\n",
    "        if true_label == 0:\n",
    "            if predicted_label == true_label:\n",
    "                tn += 1\n",
    "            else:\n",
    "                fp += 1\n",
    "    return tn / (tn + fp)\n",
    "\n",
    "negative_recall_score = make_scorer(neg_recall_score)\n",
    "\n",
    "cross_val_score(baseline, scaled_X_train, y_train_preprocessed, scoring=negative_recall_score)"
   ]
  },
  {
   "cell_type": "markdown",
   "metadata": {},
   "source": [
    "Store the results."
   ]
  },
  {
   "cell_type": "code",
   "execution_count": 29,
   "metadata": {},
   "outputs": [
    {
     "data": {
      "text/html": [
       "<div>\n",
       "<style scoped>\n",
       "    .dataframe tbody tr th:only-of-type {\n",
       "        vertical-align: middle;\n",
       "    }\n",
       "\n",
       "    .dataframe tbody tr th {\n",
       "        vertical-align: top;\n",
       "    }\n",
       "\n",
       "    .dataframe thead th {\n",
       "        text-align: right;\n",
       "    }\n",
       "</style>\n",
       "<table border=\"1\" class=\"dataframe\">\n",
       "  <thead>\n",
       "    <tr style=\"text-align: right;\">\n",
       "      <th></th>\n",
       "      <th>name</th>\n",
       "      <th>model</th>\n",
       "      <th>accuracy</th>\n",
       "    </tr>\n",
       "  </thead>\n",
       "  <tbody>\n",
       "    <tr>\n",
       "      <th>0</th>\n",
       "      <td>baseline</td>\n",
       "      <td>LogisticRegression(random_state=3490)</td>\n",
       "      <td>0.644797</td>\n",
       "    </tr>\n",
       "  </tbody>\n",
       "</table>\n",
       "</div>"
      ],
      "text/plain": [
       "       name                                  model  accuracy\n",
       "0  baseline  LogisticRegression(random_state=3490)  0.644797"
      ]
     },
     "execution_count": 29,
     "metadata": {},
     "output_type": "execute_result"
    }
   ],
   "source": [
    "model_eval['name'].append('baseline')\n",
    "model_eval['model'].append(clone(baseline))\n",
    "model_eval['accuracy'].append(np.mean(cross_val_score(baseline, scaled_X_train, y_train_preprocessed)))\n",
    "pd.DataFrame(model_eval)"
   ]
  },
  {
   "cell_type": "code",
   "execution_count": 30,
   "metadata": {},
   "outputs": [],
   "source": [
    "neg_recall_eval = {'name': [], 'model': [], 'recall_of_negative_tweets': []}"
   ]
  },
  {
   "cell_type": "code",
   "execution_count": 31,
   "metadata": {},
   "outputs": [
    {
     "data": {
      "text/html": [
       "<div>\n",
       "<style scoped>\n",
       "    .dataframe tbody tr th:only-of-type {\n",
       "        vertical-align: middle;\n",
       "    }\n",
       "\n",
       "    .dataframe tbody tr th {\n",
       "        vertical-align: top;\n",
       "    }\n",
       "\n",
       "    .dataframe thead th {\n",
       "        text-align: right;\n",
       "    }\n",
       "</style>\n",
       "<table border=\"1\" class=\"dataframe\">\n",
       "  <thead>\n",
       "    <tr style=\"text-align: right;\">\n",
       "      <th></th>\n",
       "      <th>name</th>\n",
       "      <th>model</th>\n",
       "      <th>recall_of_negative_tweets</th>\n",
       "    </tr>\n",
       "  </thead>\n",
       "  <tbody>\n",
       "    <tr>\n",
       "      <th>0</th>\n",
       "      <td>baseline</td>\n",
       "      <td>LogisticRegression(random_state=3490)</td>\n",
       "      <td>0.096685</td>\n",
       "    </tr>\n",
       "  </tbody>\n",
       "</table>\n",
       "</div>"
      ],
      "text/plain": [
       "       name                                  model  recall_of_negative_tweets\n",
       "0  baseline  LogisticRegression(random_state=3490)                   0.096685"
      ]
     },
     "execution_count": 31,
     "metadata": {},
     "output_type": "execute_result"
    }
   ],
   "source": [
    "neg_recall_eval['name'].append('baseline')\n",
    "neg_recall_eval['model'].append(clone(baseline))\n",
    "neg_recall_eval['recall_of_negative_tweets'].append(\n",
    "np.mean(cross_val_score(baseline, scaled_X_train, y_train_preprocessed, scoring=negative_recall_score)))\n",
    "pd.DataFrame(neg_recall_eval)"
   ]
  },
  {
   "cell_type": "markdown",
   "metadata": {},
   "source": [
    "Explore the results a little more. Examine where the model is making correct predictions and where it is making incorrect predictions."
   ]
  },
  {
   "cell_type": "code",
   "execution_count": 32,
   "metadata": {},
   "outputs": [
    {
     "data": {
      "image/png": "[encoded data removed]",
      "text/plain": [
       "<Figure size 640x480 with 2 Axes>"
      ]
     },
     "metadata": {},
     "output_type": "display_data"
    }
   ],
   "source": [
    "from sklearn.metrics import confusion_matrix, ConfusionMatrixDisplay\n",
    "from sklearn.model_selection import KFold\n",
    "\n",
    "kfolds = KFold(n_splits=2, shuffle=True, random_state=seed)\n",
    "\n",
    "for train, test in kfolds.split(scaled_X_train, y_train_preprocessed):\n",
    "    train_split = train\n",
    "    test_split = test\n",
    "    break\n",
    "    \n",
    "baseline.fit(scaled_X_train[train_split], y_train_preprocessed[train_split])\n",
    "ConfusionMatrixDisplay(confusion_matrix(y_train_preprocessed[test_split],\n",
    "                                        baseline.predict(scaled_X_train[test_split])\n",
    "                                       )).plot();"
   ]
  },
  {
   "cell_type": "code",
   "execution_count": 33,
   "metadata": {},
   "outputs": [
    {
     "name": "stdout",
     "output_type": "stream",
     "text": [
      "The model is predicting the majority class \"No emotion toward brand or product\" quite well.\n",
      "The model is classifying a large proportion of the other two classes as the majority class.\n"
     ]
    }
   ],
   "source": [
    "print(f'The model is predicting the majority class \"{le.classes_[1]}\" quite well.')\n",
    "print(f'The model is classifying a large proportion of the other two classes as the majority class.')"
   ]
  },
  {
   "cell_type": "markdown",
   "metadata": {},
   "source": [
    "Here is the percentage of each true class which is correctly labeled. The model's recall for each class is on the diagonal."
   ]
  },
  {
   "cell_type": "code",
   "execution_count": 34,
   "metadata": {},
   "outputs": [
    {
     "data": {
      "image/png": "[encoded data removed]",
      "text/plain": [
       "<Figure size 640x480 with 2 Axes>"
      ]
     },
     "metadata": {},
     "output_type": "display_data"
    }
   ],
   "source": [
    "ConfusionMatrixDisplay(confusion_matrix(y_train_preprocessed[test_split],\n",
    "                                        baseline.predict(scaled_X_train[test_split]),\n",
    "                                        normalize='true'\n",
    "                                       )).plot();"
   ]
  },
  {
   "cell_type": "markdown",
   "metadata": {},
   "source": [
    "Here is the percentage of the model's predictions for each class which are correct. The model's precision for each class is on the diagonal."
   ]
  },
  {
   "cell_type": "code",
   "execution_count": 35,
   "metadata": {},
   "outputs": [
    {
     "data": {
      "image/png": "[encoded data removed]",
      "text/plain": [
       "<Figure size 640x480 with 2 Axes>"
      ]
     },
     "metadata": {},
     "output_type": "display_data"
    }
   ],
   "source": [
    "ConfusionMatrixDisplay(confusion_matrix(y_train_preprocessed[test_split],\n",
    "                                        baseline.predict(scaled_X_train[test_split]),\n",
    "                                        normalize='pred'\n",
    "                                       )).plot();"
   ]
  },
  {
   "cell_type": "code",
   "execution_count": 36,
   "metadata": {},
   "outputs": [
    {
     "data": {
      "text/plain": [
       "'Negative emotion'"
      ]
     },
     "execution_count": 36,
     "metadata": {},
     "output_type": "execute_result"
    }
   ],
   "source": [
    "le.classes_[0]"
   ]
  },
  {
   "cell_type": "code",
   "execution_count": 37,
   "metadata": {},
   "outputs": [
    {
     "name": "stdout",
     "output_type": "stream",
     "text": [
      "Recall of Negative Emotion Tweets:\n",
      "0.07075471698113207\n"
     ]
    }
   ],
   "source": [
    "cf = confusion_matrix(y_train_preprocessed[test_split], baseline.predict(scaled_X_train[test_split]))\n",
    "\n",
    "print('Recall of Negative Emotion Tweets:')\n",
    "print(cf[0][0] / np.sum([cf[0][i] for i in range(3)]))"
   ]
  },
  {
   "cell_type": "markdown",
   "metadata": {},
   "source": [
    "## Evaluation Metrics"
   ]
  },
  {
   "cell_type": "markdown",
   "metadata": {},
   "source": [
    "Looking at the accuracy for each class is a reasonable measure of the model's performance.\n",
    "\n",
    "It is also important to look at the **recall for negative tweets** in particular because we want to respond quickly to negative feedback to improve customer satisfaction and brand perception.\n",
    "\n",
    "Right now, our model has a recall for negative tweets specifically of only 7%."
   ]
  },
  {
   "cell_type": "markdown",
   "metadata": {},
   "source": [
    "## Increase Recall of Negative Tweets"
   ]
  },
  {
   "cell_type": "markdown",
   "metadata": {},
   "source": [
    "One strategy for increasing the model's recall of negative tweets is to change the threshold for predicting that a tweet is negative.\n",
    "\n",
    "Currently, our model selects the category with the highest probability.\n",
    "\n",
    "For example, if the predicted probabilities for negative, neutral and positive are $.33$, $.36$ and $.31$, then the model will predict that the tweet is neutral. But if the model has even a 30% confidence that the tweet is negative, we may want to classify that tweet as negative.\n",
    "\n",
    "We can set some custom thresholds as follows:\n",
    "\n",
    "- If the model is 30% confident (or more) that a tweet is negative, and less than 50% confident that the tweet is neutral or positive, then classify the tweet as negative.\n",
    "\n",
    "- Otherwise, classify the tweet according to highest confidence level."
   ]
  },
  {
   "cell_type": "code",
   "execution_count": 38,
   "metadata": {},
   "outputs": [],
   "source": [
    "import random\n",
    "\n",
    "thresholded_preds = []\n",
    "\n",
    "for probs in baseline.predict_proba(scaled_X_train[test_split]):\n",
    "    if probs[0] >= 0.3:\n",
    "        if (probs[1] <= 0.5) and (probs[2] <= 0.5):\n",
    "            thresholded_preds.append(0)\n",
    "        elif probs[1] > 0.5:\n",
    "            thresholded_preds.append(1)\n",
    "        else:\n",
    "            thresholded_preds.append(2)\n",
    "    else:\n",
    "        if probs[1] > probs[2]:\n",
    "            thresholded_preds.append(1)\n",
    "        elif probs[1] < probs[2]:\n",
    "            thresholded_preds.append(2)\n",
    "        else:\n",
    "            thresholded_preds.append(random.randint(1,2))"
   ]
  },
  {
   "cell_type": "markdown",
   "metadata": {},
   "source": [
    "Check recall of thresholded predictions."
   ]
  },
  {
   "cell_type": "code",
   "execution_count": 39,
   "metadata": {},
   "outputs": [
    {
     "data": {
      "image/png": "[encoded data removed]",
      "text/plain": [
       "<Figure size 640x480 with 2 Axes>"
      ]
     },
     "metadata": {},
     "output_type": "display_data"
    }
   ],
   "source": [
    "ConfusionMatrixDisplay(confusion_matrix(y_train_preprocessed[test_split],\n",
    "                                        thresholded_preds,\n",
    "                                        normalize='true'\n",
    "                                       )).plot();"
   ]
  },
  {
   "cell_type": "markdown",
   "metadata": {},
   "source": [
    "Applying some custom thresholding increased the recall of negative tweets from 7% to 14%."
   ]
  },
  {
   "cell_type": "markdown",
   "metadata": {},
   "source": [
    "Make the above thresholding code into a function to apply repeatedly in search of the best thresholding schema."
   ]
  },
  {
   "cell_type": "code",
   "execution_count": 40,
   "metadata": {},
   "outputs": [],
   "source": [
    "import random\n",
    "\n",
    "def custom_threshold_predict(model, X, neg_threshold, pos_threshold, neut_threshold):\n",
    "    \n",
    "    thresholded_preds = []\n",
    "\n",
    "    for probs in model.predict_proba(X):\n",
    "        # negative tweet confidence above threshold\n",
    "        if probs[0] >= neg_threshold:\n",
    "            # positive and neutral confidence below thresholds\n",
    "            if (probs[1] <= neut_threshold) and (probs[2] <= pos_threshold):\n",
    "                thresholded_preds.append(0)\n",
    "            # positive and neutral confidence both above thresholds\n",
    "            elif (probs[1] > neut_threshold) and (probs[2] > pos_threshold):\n",
    "                # select class with highest probability, or choose randomly if equal\n",
    "                if probs[1] > probs[2]:\n",
    "                    thresholded_preds.append(1)\n",
    "                elif probs[1] < probs[2]:\n",
    "                    thresholded_preds.append(2)\n",
    "                else:\n",
    "                    thresholded_preds.append(random.randint(1,2))\n",
    "            # positive or netural confidence is above, the other is below, their thresholds \n",
    "            elif (probs[1] > neut_threshold) and (probs[2] < pos_threshold):\n",
    "                thresholded_preds.append(1)\n",
    "            elif (probs[1] < neut_threshold) and (probs[2] > pos_threshold):\n",
    "                thresholded_preds.append(2)\n",
    "            # if all three classes are outside of their thresholds, pick class with highest probability\n",
    "            else:\n",
    "                thresholded_preds.append(np.argmax(probs))\n",
    "        # if negative tweet confidence is NOT above threshold, pick highest probability\n",
    "        else:\n",
    "            thresholded_preds.append(np.argmax(probs))\n",
    "            \n",
    "    return thresholded_preds"
   ]
  },
  {
   "cell_type": "markdown",
   "metadata": {},
   "source": [
    "Store results."
   ]
  },
  {
   "cell_type": "code",
   "execution_count": 41,
   "metadata": {},
   "outputs": [
    {
     "data": {
      "text/html": [
       "<div>\n",
       "<style scoped>\n",
       "    .dataframe tbody tr th:only-of-type {\n",
       "        vertical-align: middle;\n",
       "    }\n",
       "\n",
       "    .dataframe tbody tr th {\n",
       "        vertical-align: top;\n",
       "    }\n",
       "\n",
       "    .dataframe thead th {\n",
       "        text-align: right;\n",
       "    }\n",
       "</style>\n",
       "<table border=\"1\" class=\"dataframe\">\n",
       "  <thead>\n",
       "    <tr style=\"text-align: right;\">\n",
       "      <th></th>\n",
       "      <th>name</th>\n",
       "      <th>model</th>\n",
       "      <th>accuracy</th>\n",
       "    </tr>\n",
       "  </thead>\n",
       "  <tbody>\n",
       "    <tr>\n",
       "      <th>0</th>\n",
       "      <td>baseline</td>\n",
       "      <td>LogisticRegression(random_state=3490)</td>\n",
       "      <td>0.644797</td>\n",
       "    </tr>\n",
       "    <tr>\n",
       "      <th>1</th>\n",
       "      <td>thresholded_baseline</td>\n",
       "      <td>LogisticRegression(random_state=3490)</td>\n",
       "      <td>0.641578</td>\n",
       "    </tr>\n",
       "  </tbody>\n",
       "</table>\n",
       "</div>"
      ],
      "text/plain": [
       "                   name                                  model  accuracy\n",
       "0              baseline  LogisticRegression(random_state=3490)  0.644797\n",
       "1  thresholded_baseline  LogisticRegression(random_state=3490)  0.641578"
      ]
     },
     "execution_count": 41,
     "metadata": {},
     "output_type": "execute_result"
    }
   ],
   "source": [
    "from sklearn.metrics import accuracy_score\n",
    "\n",
    "model_eval['name'].append('thresholded_baseline')\n",
    "model_eval['model'].append(clone(baseline))\n",
    "model_eval['accuracy'].append(accuracy_score(y_train_preprocessed[test_split], thresholded_preds))\n",
    "pd.DataFrame(model_eval)"
   ]
  },
  {
   "cell_type": "code",
   "execution_count": 42,
   "metadata": {},
   "outputs": [
    {
     "data": {
      "text/html": [
       "<div>\n",
       "<style scoped>\n",
       "    .dataframe tbody tr th:only-of-type {\n",
       "        vertical-align: middle;\n",
       "    }\n",
       "\n",
       "    .dataframe tbody tr th {\n",
       "        vertical-align: top;\n",
       "    }\n",
       "\n",
       "    .dataframe thead th {\n",
       "        text-align: right;\n",
       "    }\n",
       "</style>\n",
       "<table border=\"1\" class=\"dataframe\">\n",
       "  <thead>\n",
       "    <tr style=\"text-align: right;\">\n",
       "      <th></th>\n",
       "      <th>name</th>\n",
       "      <th>model</th>\n",
       "      <th>recall_of_negative_tweets</th>\n",
       "    </tr>\n",
       "  </thead>\n",
       "  <tbody>\n",
       "    <tr>\n",
       "      <th>0</th>\n",
       "      <td>baseline</td>\n",
       "      <td>LogisticRegression(random_state=3490)</td>\n",
       "      <td>0.096685</td>\n",
       "    </tr>\n",
       "    <tr>\n",
       "      <th>1</th>\n",
       "      <td>thresholded_baseline</td>\n",
       "      <td>LogisticRegression(random_state=3490)</td>\n",
       "      <td>0.136792</td>\n",
       "    </tr>\n",
       "  </tbody>\n",
       "</table>\n",
       "</div>"
      ],
      "text/plain": [
       "                   name                                  model  \\\n",
       "0              baseline  LogisticRegression(random_state=3490)   \n",
       "1  thresholded_baseline  LogisticRegression(random_state=3490)   \n",
       "\n",
       "   recall_of_negative_tweets  \n",
       "0                   0.096685  \n",
       "1                   0.136792  "
      ]
     },
     "execution_count": 42,
     "metadata": {},
     "output_type": "execute_result"
    }
   ],
   "source": [
    "neg_recall_eval['name'].append('thresholded_baseline')\n",
    "neg_recall_eval['model'].append(clone(baseline))\n",
    "neg_recall_eval['recall_of_negative_tweets'].append(\n",
    "neg_recall_score(y_train_preprocessed[test_split], thresholded_preds))\n",
    "pd.DataFrame(neg_recall_eval)"
   ]
  },
  {
   "cell_type": "markdown",
   "metadata": {},
   "source": [
    "Now, let's tune the classification algorithm itself, then threshold the best classifier found."
   ]
  },
  {
   "cell_type": "markdown",
   "metadata": {},
   "source": [
    "## Test Padding Mean Word Vector for Different Length Tweets"
   ]
  },
  {
   "cell_type": "code",
   "execution_count": 43,
   "metadata": {},
   "outputs": [
    {
     "data": {
      "text/plain": [
       "count    7148.000000\n",
       "mean       17.758254\n",
       "std         4.954223\n",
       "min         2.000000\n",
       "25%        14.000000\n",
       "50%        18.000000\n",
       "75%        21.000000\n",
       "max        32.000000\n",
       "Name: tweet_text, dtype: float64"
      ]
     },
     "execution_count": 43,
     "metadata": {},
     "output_type": "execute_result"
    }
   ],
   "source": [
    "X_train.map(lambda x: len(x.split())).describe()"
   ]
  },
  {
   "cell_type": "markdown",
   "metadata": {},
   "source": [
    "Based on the above descriptive statistics for the length (in words) of each tweet, 21 would be a good \"length\" for the mean tweet vector.\n",
    "\n",
    "\\*Note: the mean tweet vector has a dimensionality of 50, but I am going to try considering a list of word vectors of length 21, regardless of whether a tweet has fewer or greater than 21 words in it."
   ]
  },
  {
   "cell_type": "code",
   "execution_count": 44,
   "metadata": {},
   "outputs": [
    {
     "data": {
      "text/plain": [
       "array([[1, 2, 5],\n",
       "       [3, 4, 7],\n",
       "       [0, 0, 0]])"
      ]
     },
     "execution_count": 44,
     "metadata": {},
     "output_type": "execute_result"
    }
   ],
   "source": [
    "test_array = [[1, 2, 5], [3, 4, 7]]\n",
    "test_array.append([0]*3)\n",
    "np.array(test_array)"
   ]
  },
  {
   "cell_type": "code",
   "execution_count": 45,
   "metadata": {},
   "outputs": [],
   "source": [
    "import string\n",
    "\n",
    "def get_mean_word_vector2(tweet):\n",
    "    tokens = tweet.split()\n",
    "    tweet_vectors = []\n",
    "    for token in tokens:\n",
    "        try:\n",
    "            tweet_vectors.append(glove[token.lower().strip(string.punctuation)])\n",
    "        except:\n",
    "#             print(token)     we're losing quite a few tokens, but will ignore for now\n",
    "            continue\n",
    "    # pad with 0 vectors if less than 21 words in length\n",
    "    while len(tweet_vectors) < 21:\n",
    "        tweet_vectors.append([0]*50)\n",
    "    # save first 21 word vectors as an array\n",
    "    padded_tweet_vector = np.array(tweet_vectors[:21])\n",
    "    # return the mean of these 21 word vectors\n",
    "    return np.mean(padded_tweet_vector, axis=0)"
   ]
  },
  {
   "cell_type": "code",
   "execution_count": 46,
   "metadata": {},
   "outputs": [],
   "source": [
    "X_train_preprocessed2 = X_train.apply(get_mean_word_vector2)\n",
    "\n",
    "X_test_preprocessed2 = X_test.apply(get_mean_word_vector2)"
   ]
  },
  {
   "cell_type": "code",
   "execution_count": 47,
   "metadata": {},
   "outputs": [],
   "source": [
    "preprocessed_values = dict()\n",
    "\n",
    "for i in range(50):\n",
    "    label = f'feature_{i}'\n",
    "    values = [vector[i] for vector in X_train_preprocessed.values]\n",
    "    preprocessed_values[label] = values\n",
    "\n",
    "final_X_train2 = pd.DataFrame(preprocessed_values, index=X_train.index)\n",
    "\n",
    "preprocessed_values = dict()\n",
    "\n",
    "for i in range(50):\n",
    "    label = f'feature_{i}'\n",
    "    values = [vector[i] for vector in X_test_preprocessed.values]\n",
    "    preprocessed_values[label] = values\n",
    "\n",
    "final_X_test2 = pd.DataFrame(preprocessed_values, index=X_test.index)"
   ]
  },
  {
   "cell_type": "code",
   "execution_count": 48,
   "metadata": {},
   "outputs": [],
   "source": [
    "from sklearn.preprocessing import StandardScaler\n",
    "\n",
    "ss = StandardScaler()\n",
    "\n",
    "scaled_X_train2 = ss.fit_transform(final_X_train2)\n",
    "scaled_X_test2 = ss.transform(final_X_test2)"
   ]
  },
  {
   "cell_type": "code",
   "execution_count": 49,
   "metadata": {},
   "outputs": [
    {
     "data": {
      "text/plain": [
       "array([0.64615385, 0.63706294, 0.63916084, 0.6550035 , 0.64660602])"
      ]
     },
     "execution_count": 49,
     "metadata": {},
     "output_type": "execute_result"
    }
   ],
   "source": [
    "cross_val_score(baseline, scaled_X_train2, y_train_preprocessed)"
   ]
  },
  {
   "cell_type": "code",
   "execution_count": 50,
   "metadata": {
    "scrolled": true
   },
   "outputs": [
    {
     "data": {
      "text/html": [
       "<div>\n",
       "<style scoped>\n",
       "    .dataframe tbody tr th:only-of-type {\n",
       "        vertical-align: middle;\n",
       "    }\n",
       "\n",
       "    .dataframe tbody tr th {\n",
       "        vertical-align: top;\n",
       "    }\n",
       "\n",
       "    .dataframe thead th {\n",
       "        text-align: right;\n",
       "    }\n",
       "</style>\n",
       "<table border=\"1\" class=\"dataframe\">\n",
       "  <thead>\n",
       "    <tr style=\"text-align: right;\">\n",
       "      <th></th>\n",
       "      <th>name</th>\n",
       "      <th>model</th>\n",
       "      <th>accuracy</th>\n",
       "    </tr>\n",
       "  </thead>\n",
       "  <tbody>\n",
       "    <tr>\n",
       "      <th>0</th>\n",
       "      <td>baseline</td>\n",
       "      <td>LogisticRegression(random_state=3490)</td>\n",
       "      <td>0.644797</td>\n",
       "    </tr>\n",
       "    <tr>\n",
       "      <th>1</th>\n",
       "      <td>thresholded_baseline</td>\n",
       "      <td>LogisticRegression(random_state=3490)</td>\n",
       "      <td>0.641578</td>\n",
       "    </tr>\n",
       "    <tr>\n",
       "      <th>2</th>\n",
       "      <td>baseline_w_padded_mean_word_vector</td>\n",
       "      <td>LogisticRegression(random_state=3490)</td>\n",
       "      <td>0.644797</td>\n",
       "    </tr>\n",
       "  </tbody>\n",
       "</table>\n",
       "</div>"
      ],
      "text/plain": [
       "                                 name                                  model  \\\n",
       "0                            baseline  LogisticRegression(random_state=3490)   \n",
       "1                thresholded_baseline  LogisticRegression(random_state=3490)   \n",
       "2  baseline_w_padded_mean_word_vector  LogisticRegression(random_state=3490)   \n",
       "\n",
       "   accuracy  \n",
       "0  0.644797  \n",
       "1  0.641578  \n",
       "2  0.644797  "
      ]
     },
     "execution_count": 50,
     "metadata": {},
     "output_type": "execute_result"
    }
   ],
   "source": [
    "model_eval['name'].append('baseline_w_padded_mean_word_vector')\n",
    "model_eval['model'].append(clone(baseline))\n",
    "model_eval['accuracy'].append(np.mean(cross_val_score(baseline, scaled_X_train2, y_train_preprocessed)))\n",
    "pd.DataFrame(model_eval)"
   ]
  },
  {
   "cell_type": "code",
   "execution_count": 51,
   "metadata": {},
   "outputs": [
    {
     "data": {
      "text/html": [
       "<div>\n",
       "<style scoped>\n",
       "    .dataframe tbody tr th:only-of-type {\n",
       "        vertical-align: middle;\n",
       "    }\n",
       "\n",
       "    .dataframe tbody tr th {\n",
       "        vertical-align: top;\n",
       "    }\n",
       "\n",
       "    .dataframe thead th {\n",
       "        text-align: right;\n",
       "    }\n",
       "</style>\n",
       "<table border=\"1\" class=\"dataframe\">\n",
       "  <thead>\n",
       "    <tr style=\"text-align: right;\">\n",
       "      <th></th>\n",
       "      <th>name</th>\n",
       "      <th>model</th>\n",
       "      <th>recall_of_negative_tweets</th>\n",
       "    </tr>\n",
       "  </thead>\n",
       "  <tbody>\n",
       "    <tr>\n",
       "      <th>0</th>\n",
       "      <td>baseline</td>\n",
       "      <td>LogisticRegression(random_state=3490)</td>\n",
       "      <td>0.096685</td>\n",
       "    </tr>\n",
       "    <tr>\n",
       "      <th>1</th>\n",
       "      <td>thresholded_baseline</td>\n",
       "      <td>LogisticRegression(random_state=3490)</td>\n",
       "      <td>0.136792</td>\n",
       "    </tr>\n",
       "    <tr>\n",
       "      <th>2</th>\n",
       "      <td>baseline_w_padded_mean_word_vector</td>\n",
       "      <td>LogisticRegression(random_state=3490)</td>\n",
       "      <td>0.096685</td>\n",
       "    </tr>\n",
       "  </tbody>\n",
       "</table>\n",
       "</div>"
      ],
      "text/plain": [
       "                                 name                                  model  \\\n",
       "0                            baseline  LogisticRegression(random_state=3490)   \n",
       "1                thresholded_baseline  LogisticRegression(random_state=3490)   \n",
       "2  baseline_w_padded_mean_word_vector  LogisticRegression(random_state=3490)   \n",
       "\n",
       "   recall_of_negative_tweets  \n",
       "0                   0.096685  \n",
       "1                   0.136792  \n",
       "2                   0.096685  "
      ]
     },
     "execution_count": 51,
     "metadata": {},
     "output_type": "execute_result"
    }
   ],
   "source": [
    "neg_recall_eval['name'].append('baseline_w_padded_mean_word_vector')\n",
    "neg_recall_eval['model'].append(clone(baseline))\n",
    "neg_recall_eval['recall_of_negative_tweets'].append(\n",
    "np.mean(cross_val_score(baseline, scaled_X_train2, y_train_preprocessed, scoring=negative_recall_score)))\n",
    "pd.DataFrame(neg_recall_eval)"
   ]
  },
  {
   "cell_type": "markdown",
   "metadata": {},
   "source": [
    "There is practically no difference, so I will continue without padding."
   ]
  },
  {
   "cell_type": "markdown",
   "metadata": {},
   "source": [
    "## Tuning Logistic Regression"
   ]
  },
  {
   "cell_type": "code",
   "execution_count": 52,
   "metadata": {
    "scrolled": true
   },
   "outputs": [
    {
     "name": "stdout",
     "output_type": "stream",
     "text": [
      "0.6452173019422844\n"
     ]
    }
   ],
   "source": [
    "from sklearn.model_selection import GridSearchCV\n",
    "\n",
    "param_grid = [\n",
    "    {'C': [0.001, 0.1, 1, 1000],\n",
    "     'class_weight': [None, 'balanced'],\n",
    "     'random_state': [seed],\n",
    "     'max_iter': [1000]},\n",
    "    {'penalty': ['elasticnet'],\n",
    "     'solver': ['saga'],\n",
    "     'l1_ratio': [0.25, 0.5, 0.75],\n",
    "     'C': [0.001, 0.1, 1, 1000],\n",
    "     'max_iter': [1000]},\n",
    "    {'penalty': ['l1'],\n",
    "     'solver': ['saga'],\n",
    "     'C': [0.001, 0.1, 1, 1000],\n",
    "     'random_state': [seed],\n",
    "     'max_iter': [1000]}\n",
    "]\n",
    "\n",
    "logreg = LogisticRegression()\n",
    "\n",
    "grid_search = GridSearchCV(logreg, param_grid, scoring='accuracy')\n",
    "\n",
    "grid_search.fit(scaled_X_train, y_train_preprocessed)\n",
    "\n",
    "print(grid_search.best_score_)"
   ]
  },
  {
   "cell_type": "code",
   "execution_count": 53,
   "metadata": {
    "scrolled": true
   },
   "outputs": [
    {
     "data": {
      "text/html": [
       "<div>\n",
       "<style scoped>\n",
       "    .dataframe tbody tr th:only-of-type {\n",
       "        vertical-align: middle;\n",
       "    }\n",
       "\n",
       "    .dataframe tbody tr th {\n",
       "        vertical-align: top;\n",
       "    }\n",
       "\n",
       "    .dataframe thead th {\n",
       "        text-align: right;\n",
       "    }\n",
       "</style>\n",
       "<table border=\"1\" class=\"dataframe\">\n",
       "  <thead>\n",
       "    <tr style=\"text-align: right;\">\n",
       "      <th></th>\n",
       "      <th>name</th>\n",
       "      <th>model</th>\n",
       "      <th>accuracy</th>\n",
       "    </tr>\n",
       "  </thead>\n",
       "  <tbody>\n",
       "    <tr>\n",
       "      <th>0</th>\n",
       "      <td>baseline</td>\n",
       "      <td>LogisticRegression(random_state=3490)</td>\n",
       "      <td>0.644797</td>\n",
       "    </tr>\n",
       "    <tr>\n",
       "      <th>1</th>\n",
       "      <td>thresholded_baseline</td>\n",
       "      <td>LogisticRegression(random_state=3490)</td>\n",
       "      <td>0.641578</td>\n",
       "    </tr>\n",
       "    <tr>\n",
       "      <th>2</th>\n",
       "      <td>baseline_w_padded_mean_word_vector</td>\n",
       "      <td>LogisticRegression(random_state=3490)</td>\n",
       "      <td>0.644797</td>\n",
       "    </tr>\n",
       "    <tr>\n",
       "      <th>3</th>\n",
       "      <td>tuned_logreg</td>\n",
       "      <td>LogisticRegression(C=1, l1_ratio=0.75, max_ite...</td>\n",
       "      <td>0.645217</td>\n",
       "    </tr>\n",
       "  </tbody>\n",
       "</table>\n",
       "</div>"
      ],
      "text/plain": [
       "                                 name  \\\n",
       "0                            baseline   \n",
       "1                thresholded_baseline   \n",
       "2  baseline_w_padded_mean_word_vector   \n",
       "3                        tuned_logreg   \n",
       "\n",
       "                                               model  accuracy  \n",
       "0              LogisticRegression(random_state=3490)  0.644797  \n",
       "1              LogisticRegression(random_state=3490)  0.641578  \n",
       "2              LogisticRegression(random_state=3490)  0.644797  \n",
       "3  LogisticRegression(C=1, l1_ratio=0.75, max_ite...  0.645217  "
      ]
     },
     "execution_count": 53,
     "metadata": {},
     "output_type": "execute_result"
    }
   ],
   "source": [
    "# store accuracy for logreg tuned for accuracy\n",
    "\n",
    "model_eval['name'].append('tuned_logreg')\n",
    "model_eval['model'].append(clone(grid_search.best_estimator_))\n",
    "model_eval['accuracy'].append(grid_search.best_score_)\n",
    "pd.DataFrame(model_eval)"
   ]
  },
  {
   "cell_type": "code",
   "execution_count": 54,
   "metadata": {},
   "outputs": [
    {
     "data": {
      "text/html": [
       "<div>\n",
       "<style scoped>\n",
       "    .dataframe tbody tr th:only-of-type {\n",
       "        vertical-align: middle;\n",
       "    }\n",
       "\n",
       "    .dataframe tbody tr th {\n",
       "        vertical-align: top;\n",
       "    }\n",
       "\n",
       "    .dataframe thead th {\n",
       "        text-align: right;\n",
       "    }\n",
       "</style>\n",
       "<table border=\"1\" class=\"dataframe\">\n",
       "  <thead>\n",
       "    <tr style=\"text-align: right;\">\n",
       "      <th></th>\n",
       "      <th>name</th>\n",
       "      <th>model</th>\n",
       "      <th>recall_of_negative_tweets</th>\n",
       "    </tr>\n",
       "  </thead>\n",
       "  <tbody>\n",
       "    <tr>\n",
       "      <th>0</th>\n",
       "      <td>baseline</td>\n",
       "      <td>LogisticRegression(random_state=3490)</td>\n",
       "      <td>0.096685</td>\n",
       "    </tr>\n",
       "    <tr>\n",
       "      <th>1</th>\n",
       "      <td>thresholded_baseline</td>\n",
       "      <td>LogisticRegression(random_state=3490)</td>\n",
       "      <td>0.136792</td>\n",
       "    </tr>\n",
       "    <tr>\n",
       "      <th>2</th>\n",
       "      <td>baseline_w_padded_mean_word_vector</td>\n",
       "      <td>LogisticRegression(random_state=3490)</td>\n",
       "      <td>0.096685</td>\n",
       "    </tr>\n",
       "    <tr>\n",
       "      <th>3</th>\n",
       "      <td>tuned_logreg</td>\n",
       "      <td>LogisticRegression(C=1, l1_ratio=0.75, max_ite...</td>\n",
       "      <td>0.089789</td>\n",
       "    </tr>\n",
       "  </tbody>\n",
       "</table>\n",
       "</div>"
      ],
      "text/plain": [
       "                                 name  \\\n",
       "0                            baseline   \n",
       "1                thresholded_baseline   \n",
       "2  baseline_w_padded_mean_word_vector   \n",
       "3                        tuned_logreg   \n",
       "\n",
       "                                               model  \\\n",
       "0              LogisticRegression(random_state=3490)   \n",
       "1              LogisticRegression(random_state=3490)   \n",
       "2              LogisticRegression(random_state=3490)   \n",
       "3  LogisticRegression(C=1, l1_ratio=0.75, max_ite...   \n",
       "\n",
       "   recall_of_negative_tweets  \n",
       "0                   0.096685  \n",
       "1                   0.136792  \n",
       "2                   0.096685  \n",
       "3                   0.089789  "
      ]
     },
     "execution_count": 54,
     "metadata": {},
     "output_type": "execute_result"
    }
   ],
   "source": [
    "# store recall for logreg tuned for accuracy\n",
    "\n",
    "neg_recall_eval['name'].append('tuned_logreg')\n",
    "neg_recall_eval['model'].append(clone(grid_search.best_estimator_))\n",
    "neg_recall_eval['recall_of_negative_tweets'].append(\n",
    "np.mean(cross_val_score(grid_search.best_estimator_, scaled_X_train, y_train_preprocessed, scoring=negative_recall_score)))\n",
    "pd.DataFrame(neg_recall_eval)"
   ]
  },
  {
   "cell_type": "code",
   "execution_count": 55,
   "metadata": {
    "scrolled": true
   },
   "outputs": [
    {
     "name": "stdout",
     "output_type": "stream",
     "text": [
      "0.6750334135257952\n"
     ]
    }
   ],
   "source": [
    "# optimize for negative recall instead\n",
    "\n",
    "grid_search = GridSearchCV(logreg, param_grid, scoring=negative_recall_score)\n",
    "\n",
    "grid_search.fit(scaled_X_train, y_train_preprocessed)\n",
    "\n",
    "print(grid_search.best_score_)"
   ]
  },
  {
   "cell_type": "code",
   "execution_count": 56,
   "metadata": {},
   "outputs": [
    {
     "data": {
      "text/plain": [
       "LogisticRegression(C=0.001, class_weight='balanced', max_iter=1000,\n",
       "                   random_state=3490)"
      ]
     },
     "execution_count": 56,
     "metadata": {},
     "output_type": "execute_result"
    }
   ],
   "source": [
    "grid_search.best_estimator_"
   ]
  },
  {
   "cell_type": "code",
   "execution_count": 57,
   "metadata": {},
   "outputs": [
    {
     "data": {
      "text/html": [
       "<div>\n",
       "<style scoped>\n",
       "    .dataframe tbody tr th:only-of-type {\n",
       "        vertical-align: middle;\n",
       "    }\n",
       "\n",
       "    .dataframe tbody tr th {\n",
       "        vertical-align: top;\n",
       "    }\n",
       "\n",
       "    .dataframe thead th {\n",
       "        text-align: right;\n",
       "    }\n",
       "</style>\n",
       "<table border=\"1\" class=\"dataframe\">\n",
       "  <thead>\n",
       "    <tr style=\"text-align: right;\">\n",
       "      <th></th>\n",
       "      <th>name</th>\n",
       "      <th>model</th>\n",
       "      <th>accuracy</th>\n",
       "    </tr>\n",
       "  </thead>\n",
       "  <tbody>\n",
       "    <tr>\n",
       "      <th>0</th>\n",
       "      <td>baseline</td>\n",
       "      <td>LogisticRegression(random_state=3490)</td>\n",
       "      <td>0.644797</td>\n",
       "    </tr>\n",
       "    <tr>\n",
       "      <th>1</th>\n",
       "      <td>thresholded_baseline</td>\n",
       "      <td>LogisticRegression(random_state=3490)</td>\n",
       "      <td>0.641578</td>\n",
       "    </tr>\n",
       "    <tr>\n",
       "      <th>2</th>\n",
       "      <td>baseline_w_padded_mean_word_vector</td>\n",
       "      <td>LogisticRegression(random_state=3490)</td>\n",
       "      <td>0.644797</td>\n",
       "    </tr>\n",
       "    <tr>\n",
       "      <th>3</th>\n",
       "      <td>tuned_logreg</td>\n",
       "      <td>LogisticRegression(C=1, l1_ratio=0.75, max_ite...</td>\n",
       "      <td>0.645217</td>\n",
       "    </tr>\n",
       "    <tr>\n",
       "      <th>4</th>\n",
       "      <td>logreg_tuned_for_neg_recall</td>\n",
       "      <td>LogisticRegression(C=0.001, class_weight='bala...</td>\n",
       "      <td>0.520565</td>\n",
       "    </tr>\n",
       "  </tbody>\n",
       "</table>\n",
       "</div>"
      ],
      "text/plain": [
       "                                 name  \\\n",
       "0                            baseline   \n",
       "1                thresholded_baseline   \n",
       "2  baseline_w_padded_mean_word_vector   \n",
       "3                        tuned_logreg   \n",
       "4         logreg_tuned_for_neg_recall   \n",
       "\n",
       "                                               model  accuracy  \n",
       "0              LogisticRegression(random_state=3490)  0.644797  \n",
       "1              LogisticRegression(random_state=3490)  0.641578  \n",
       "2              LogisticRegression(random_state=3490)  0.644797  \n",
       "3  LogisticRegression(C=1, l1_ratio=0.75, max_ite...  0.645217  \n",
       "4  LogisticRegression(C=0.001, class_weight='bala...  0.520565  "
      ]
     },
     "execution_count": 57,
     "metadata": {},
     "output_type": "execute_result"
    }
   ],
   "source": [
    "# store results\n",
    "model_eval['name'].append('logreg_tuned_for_neg_recall')\n",
    "model_eval['model'].append(clone(grid_search.best_estimator_))\n",
    "model_eval['accuracy'].append(\n",
    "np.mean(cross_val_score(grid_search.best_estimator_, scaled_X_train, y_train_preprocessed)))\n",
    "pd.DataFrame(model_eval)"
   ]
  },
  {
   "cell_type": "code",
   "execution_count": 58,
   "metadata": {},
   "outputs": [
    {
     "data": {
      "text/html": [
       "<div>\n",
       "<style scoped>\n",
       "    .dataframe tbody tr th:only-of-type {\n",
       "        vertical-align: middle;\n",
       "    }\n",
       "\n",
       "    .dataframe tbody tr th {\n",
       "        vertical-align: top;\n",
       "    }\n",
       "\n",
       "    .dataframe thead th {\n",
       "        text-align: right;\n",
       "    }\n",
       "</style>\n",
       "<table border=\"1\" class=\"dataframe\">\n",
       "  <thead>\n",
       "    <tr style=\"text-align: right;\">\n",
       "      <th></th>\n",
       "      <th>name</th>\n",
       "      <th>model</th>\n",
       "      <th>recall_of_negative_tweets</th>\n",
       "    </tr>\n",
       "  </thead>\n",
       "  <tbody>\n",
       "    <tr>\n",
       "      <th>0</th>\n",
       "      <td>baseline</td>\n",
       "      <td>LogisticRegression(random_state=3490)</td>\n",
       "      <td>0.096685</td>\n",
       "    </tr>\n",
       "    <tr>\n",
       "      <th>1</th>\n",
       "      <td>thresholded_baseline</td>\n",
       "      <td>LogisticRegression(random_state=3490)</td>\n",
       "      <td>0.136792</td>\n",
       "    </tr>\n",
       "    <tr>\n",
       "      <th>2</th>\n",
       "      <td>baseline_w_padded_mean_word_vector</td>\n",
       "      <td>LogisticRegression(random_state=3490)</td>\n",
       "      <td>0.096685</td>\n",
       "    </tr>\n",
       "    <tr>\n",
       "      <th>3</th>\n",
       "      <td>tuned_logreg</td>\n",
       "      <td>LogisticRegression(C=1, l1_ratio=0.75, max_ite...</td>\n",
       "      <td>0.089789</td>\n",
       "    </tr>\n",
       "    <tr>\n",
       "      <th>4</th>\n",
       "      <td>logreg_tuned_for_neg_recall</td>\n",
       "      <td>LogisticRegression(C=0.001, class_weight='bala...</td>\n",
       "      <td>0.675033</td>\n",
       "    </tr>\n",
       "  </tbody>\n",
       "</table>\n",
       "</div>"
      ],
      "text/plain": [
       "                                 name  \\\n",
       "0                            baseline   \n",
       "1                thresholded_baseline   \n",
       "2  baseline_w_padded_mean_word_vector   \n",
       "3                        tuned_logreg   \n",
       "4         logreg_tuned_for_neg_recall   \n",
       "\n",
       "                                               model  \\\n",
       "0              LogisticRegression(random_state=3490)   \n",
       "1              LogisticRegression(random_state=3490)   \n",
       "2              LogisticRegression(random_state=3490)   \n",
       "3  LogisticRegression(C=1, l1_ratio=0.75, max_ite...   \n",
       "4  LogisticRegression(C=0.001, class_weight='bala...   \n",
       "\n",
       "   recall_of_negative_tweets  \n",
       "0                   0.096685  \n",
       "1                   0.136792  \n",
       "2                   0.096685  \n",
       "3                   0.089789  \n",
       "4                   0.675033  "
      ]
     },
     "execution_count": 58,
     "metadata": {},
     "output_type": "execute_result"
    }
   ],
   "source": [
    "# store neg recall results\n",
    "\n",
    "neg_recall_eval['name'].append('logreg_tuned_for_neg_recall')\n",
    "neg_recall_eval['model'].append(clone(grid_search.best_estimator_))\n",
    "neg_recall_eval['recall_of_negative_tweets'].append(grid_search.best_score_)\n",
    "pd.DataFrame(neg_recall_eval)"
   ]
  },
  {
   "cell_type": "markdown",
   "metadata": {},
   "source": [
    "## Random Forest"
   ]
  },
  {
   "cell_type": "code",
   "execution_count": 59,
   "metadata": {},
   "outputs": [
    {
     "data": {
      "text/plain": [
       "0.6529123500712024"
      ]
     },
     "execution_count": 59,
     "metadata": {},
     "output_type": "execute_result"
    }
   ],
   "source": [
    "from sklearn.ensemble import RandomForestClassifier\n",
    "\n",
    "rf = RandomForestClassifier(random_state=seed)\n",
    "\n",
    "np.mean(cross_val_score(rf, scaled_X_train, y_train_preprocessed))"
   ]
  },
  {
   "cell_type": "code",
   "execution_count": 60,
   "metadata": {},
   "outputs": [
    {
     "data": {
      "text/html": [
       "<div>\n",
       "<style scoped>\n",
       "    .dataframe tbody tr th:only-of-type {\n",
       "        vertical-align: middle;\n",
       "    }\n",
       "\n",
       "    .dataframe tbody tr th {\n",
       "        vertical-align: top;\n",
       "    }\n",
       "\n",
       "    .dataframe thead th {\n",
       "        text-align: right;\n",
       "    }\n",
       "</style>\n",
       "<table border=\"1\" class=\"dataframe\">\n",
       "  <thead>\n",
       "    <tr style=\"text-align: right;\">\n",
       "      <th></th>\n",
       "      <th>name</th>\n",
       "      <th>model</th>\n",
       "      <th>accuracy</th>\n",
       "    </tr>\n",
       "  </thead>\n",
       "  <tbody>\n",
       "    <tr>\n",
       "      <th>0</th>\n",
       "      <td>baseline</td>\n",
       "      <td>LogisticRegression(random_state=3490)</td>\n",
       "      <td>0.644797</td>\n",
       "    </tr>\n",
       "    <tr>\n",
       "      <th>1</th>\n",
       "      <td>thresholded_baseline</td>\n",
       "      <td>LogisticRegression(random_state=3490)</td>\n",
       "      <td>0.641578</td>\n",
       "    </tr>\n",
       "    <tr>\n",
       "      <th>2</th>\n",
       "      <td>baseline_w_padded_mean_word_vector</td>\n",
       "      <td>LogisticRegression(random_state=3490)</td>\n",
       "      <td>0.644797</td>\n",
       "    </tr>\n",
       "    <tr>\n",
       "      <th>3</th>\n",
       "      <td>tuned_logreg</td>\n",
       "      <td>LogisticRegression(C=1, l1_ratio=0.75, max_ite...</td>\n",
       "      <td>0.645217</td>\n",
       "    </tr>\n",
       "    <tr>\n",
       "      <th>4</th>\n",
       "      <td>logreg_tuned_for_neg_recall</td>\n",
       "      <td>LogisticRegression(C=0.001, class_weight='bala...</td>\n",
       "      <td>0.520565</td>\n",
       "    </tr>\n",
       "    <tr>\n",
       "      <th>5</th>\n",
       "      <td>baseline_random_forest</td>\n",
       "      <td>RandomForestClassifier(random_state=3490)</td>\n",
       "      <td>0.652912</td>\n",
       "    </tr>\n",
       "  </tbody>\n",
       "</table>\n",
       "</div>"
      ],
      "text/plain": [
       "                                 name  \\\n",
       "0                            baseline   \n",
       "1                thresholded_baseline   \n",
       "2  baseline_w_padded_mean_word_vector   \n",
       "3                        tuned_logreg   \n",
       "4         logreg_tuned_for_neg_recall   \n",
       "5              baseline_random_forest   \n",
       "\n",
       "                                               model  accuracy  \n",
       "0              LogisticRegression(random_state=3490)  0.644797  \n",
       "1              LogisticRegression(random_state=3490)  0.641578  \n",
       "2              LogisticRegression(random_state=3490)  0.644797  \n",
       "3  LogisticRegression(C=1, l1_ratio=0.75, max_ite...  0.645217  \n",
       "4  LogisticRegression(C=0.001, class_weight='bala...  0.520565  \n",
       "5          RandomForestClassifier(random_state=3490)  0.652912  "
      ]
     },
     "execution_count": 60,
     "metadata": {},
     "output_type": "execute_result"
    }
   ],
   "source": [
    "model_eval['name'].append('baseline_random_forest')\n",
    "model_eval['model'].append(clone(rf))\n",
    "model_eval['accuracy'].append(np.mean(cross_val_score(rf, scaled_X_train, y_train_preprocessed)))\n",
    "pd.DataFrame(model_eval)"
   ]
  },
  {
   "cell_type": "code",
   "execution_count": 61,
   "metadata": {},
   "outputs": [
    {
     "data": {
      "text/html": [
       "<div>\n",
       "<style scoped>\n",
       "    .dataframe tbody tr th:only-of-type {\n",
       "        vertical-align: middle;\n",
       "    }\n",
       "\n",
       "    .dataframe tbody tr th {\n",
       "        vertical-align: top;\n",
       "    }\n",
       "\n",
       "    .dataframe thead th {\n",
       "        text-align: right;\n",
       "    }\n",
       "</style>\n",
       "<table border=\"1\" class=\"dataframe\">\n",
       "  <thead>\n",
       "    <tr style=\"text-align: right;\">\n",
       "      <th></th>\n",
       "      <th>name</th>\n",
       "      <th>model</th>\n",
       "      <th>recall_of_negative_tweets</th>\n",
       "    </tr>\n",
       "  </thead>\n",
       "  <tbody>\n",
       "    <tr>\n",
       "      <th>0</th>\n",
       "      <td>baseline</td>\n",
       "      <td>LogisticRegression(random_state=3490)</td>\n",
       "      <td>0.096685</td>\n",
       "    </tr>\n",
       "    <tr>\n",
       "      <th>1</th>\n",
       "      <td>thresholded_baseline</td>\n",
       "      <td>LogisticRegression(random_state=3490)</td>\n",
       "      <td>0.136792</td>\n",
       "    </tr>\n",
       "    <tr>\n",
       "      <th>2</th>\n",
       "      <td>baseline_w_padded_mean_word_vector</td>\n",
       "      <td>LogisticRegression(random_state=3490)</td>\n",
       "      <td>0.096685</td>\n",
       "    </tr>\n",
       "    <tr>\n",
       "      <th>3</th>\n",
       "      <td>tuned_logreg</td>\n",
       "      <td>LogisticRegression(C=1, l1_ratio=0.75, max_ite...</td>\n",
       "      <td>0.089789</td>\n",
       "    </tr>\n",
       "    <tr>\n",
       "      <th>4</th>\n",
       "      <td>logreg_tuned_for_neg_recall</td>\n",
       "      <td>LogisticRegression(C=0.001, class_weight='bala...</td>\n",
       "      <td>0.675033</td>\n",
       "    </tr>\n",
       "    <tr>\n",
       "      <th>5</th>\n",
       "      <td>baseline_random_forest</td>\n",
       "      <td>RandomForestClassifier(random_state=3490)</td>\n",
       "      <td>0.016092</td>\n",
       "    </tr>\n",
       "  </tbody>\n",
       "</table>\n",
       "</div>"
      ],
      "text/plain": [
       "                                 name  \\\n",
       "0                            baseline   \n",
       "1                thresholded_baseline   \n",
       "2  baseline_w_padded_mean_word_vector   \n",
       "3                        tuned_logreg   \n",
       "4         logreg_tuned_for_neg_recall   \n",
       "5              baseline_random_forest   \n",
       "\n",
       "                                               model  \\\n",
       "0              LogisticRegression(random_state=3490)   \n",
       "1              LogisticRegression(random_state=3490)   \n",
       "2              LogisticRegression(random_state=3490)   \n",
       "3  LogisticRegression(C=1, l1_ratio=0.75, max_ite...   \n",
       "4  LogisticRegression(C=0.001, class_weight='bala...   \n",
       "5          RandomForestClassifier(random_state=3490)   \n",
       "\n",
       "   recall_of_negative_tweets  \n",
       "0                   0.096685  \n",
       "1                   0.136792  \n",
       "2                   0.096685  \n",
       "3                   0.089789  \n",
       "4                   0.675033  \n",
       "5                   0.016092  "
      ]
     },
     "execution_count": 61,
     "metadata": {},
     "output_type": "execute_result"
    }
   ],
   "source": [
    "neg_recall_eval['name'].append('baseline_random_forest')\n",
    "neg_recall_eval['model'].append(clone(rf))\n",
    "neg_recall_eval['recall_of_negative_tweets'].append(\n",
    "np.mean(cross_val_score(rf, scaled_X_train, y_train_preprocessed, scoring=negative_recall_score)))\n",
    "pd.DataFrame(neg_recall_eval)"
   ]
  },
  {
   "cell_type": "markdown",
   "metadata": {},
   "source": [
    "**Make a function to record model results:**"
   ]
  },
  {
   "cell_type": "code",
   "execution_count": 62,
   "metadata": {},
   "outputs": [],
   "source": [
    "def log_model_results(name, model, x_data=scaled_X_train, y_data=y_train_preprocessed):\n",
    "    '''Pass in a name and a model; store model's name, a clone of model & accuracy.'''\n",
    "    global model_eval\n",
    "    global neg_recall_eval\n",
    "\n",
    "    model_eval['name'].append(name)\n",
    "    model_eval['model'].append(clone(model))\n",
    "    model_score = np.mean(cross_val_score(model, x_data, y_data))\n",
    "    model_eval['accuracy'].append(model_score)\n",
    "    \n",
    "    neg_recall_eval['name'].append(name)\n",
    "    neg_recall_eval['model'].append(clone(model))\n",
    "    nr_score = np.mean(cross_val_score(model, x_data, y_data, scoring=negative_recall_score))\n",
    "    neg_recall_eval['recall_of_negative_tweets'].append(nr_score)\n",
    "    \n",
    "    return pd.concat([pd.DataFrame(model_eval), pd.DataFrame(neg_recall_eval)], axis=1)"
   ]
  },
  {
   "cell_type": "code",
   "execution_count": 63,
   "metadata": {},
   "outputs": [
    {
     "data": {
      "text/html": [
       "<div>\n",
       "<style scoped>\n",
       "    .dataframe tbody tr th:only-of-type {\n",
       "        vertical-align: middle;\n",
       "    }\n",
       "\n",
       "    .dataframe tbody tr th {\n",
       "        vertical-align: top;\n",
       "    }\n",
       "\n",
       "    .dataframe thead th {\n",
       "        text-align: right;\n",
       "    }\n",
       "</style>\n",
       "<table border=\"1\" class=\"dataframe\">\n",
       "  <thead>\n",
       "    <tr style=\"text-align: right;\">\n",
       "      <th></th>\n",
       "      <th>name</th>\n",
       "      <th>model</th>\n",
       "      <th>recall_of_negative_tweets</th>\n",
       "    </tr>\n",
       "  </thead>\n",
       "  <tbody>\n",
       "    <tr>\n",
       "      <th>0</th>\n",
       "      <td>baseline</td>\n",
       "      <td>LogisticRegression(random_state=3490)</td>\n",
       "      <td>0.096685</td>\n",
       "    </tr>\n",
       "    <tr>\n",
       "      <th>1</th>\n",
       "      <td>thresholded_baseline</td>\n",
       "      <td>LogisticRegression(random_state=3490)</td>\n",
       "      <td>0.136792</td>\n",
       "    </tr>\n",
       "    <tr>\n",
       "      <th>2</th>\n",
       "      <td>baseline_w_padded_mean_word_vector</td>\n",
       "      <td>LogisticRegression(random_state=3490)</td>\n",
       "      <td>0.096685</td>\n",
       "    </tr>\n",
       "    <tr>\n",
       "      <th>3</th>\n",
       "      <td>tuned_logreg</td>\n",
       "      <td>LogisticRegression(C=1, l1_ratio=0.75, max_ite...</td>\n",
       "      <td>0.089789</td>\n",
       "    </tr>\n",
       "    <tr>\n",
       "      <th>4</th>\n",
       "      <td>logreg_tuned_for_neg_recall</td>\n",
       "      <td>LogisticRegression(C=0.001, class_weight='bala...</td>\n",
       "      <td>0.675033</td>\n",
       "    </tr>\n",
       "    <tr>\n",
       "      <th>5</th>\n",
       "      <td>baseline_random_forest</td>\n",
       "      <td>RandomForestClassifier(random_state=3490)</td>\n",
       "      <td>0.016092</td>\n",
       "    </tr>\n",
       "  </tbody>\n",
       "</table>\n",
       "</div>"
      ],
      "text/plain": [
       "                                 name  \\\n",
       "0                            baseline   \n",
       "1                thresholded_baseline   \n",
       "2  baseline_w_padded_mean_word_vector   \n",
       "3                        tuned_logreg   \n",
       "4         logreg_tuned_for_neg_recall   \n",
       "5              baseline_random_forest   \n",
       "\n",
       "                                               model  \\\n",
       "0              LogisticRegression(random_state=3490)   \n",
       "1              LogisticRegression(random_state=3490)   \n",
       "2              LogisticRegression(random_state=3490)   \n",
       "3  LogisticRegression(C=1, l1_ratio=0.75, max_ite...   \n",
       "4  LogisticRegression(C=0.001, class_weight='bala...   \n",
       "5          RandomForestClassifier(random_state=3490)   \n",
       "\n",
       "   recall_of_negative_tweets  \n",
       "0                   0.096685  \n",
       "1                   0.136792  \n",
       "2                   0.096685  \n",
       "3                   0.089789  \n",
       "4                   0.675033  \n",
       "5                   0.016092  "
      ]
     },
     "execution_count": 63,
     "metadata": {},
     "output_type": "execute_result"
    }
   ],
   "source": [
    "pd.DataFrame(neg_recall_eval)"
   ]
  },
  {
   "cell_type": "markdown",
   "metadata": {},
   "source": [
    "## Build Custom word2Vec Embeddings 2"
   ]
  },
  {
   "cell_type": "code",
   "execution_count": 1,
   "metadata": {},
   "outputs": [],
   "source": [
    "import gensim"
   ]
  },
  {
   "cell_type": "code",
   "execution_count": 13,
   "metadata": {},
   "outputs": [],
   "source": [
    "corpus = []\n",
    "for tweet in X_train.values:\n",
    "    corpus.append(gensim.utils.simple_preprocess(tweet))"
   ]
  },
  {
   "cell_type": "code",
   "execution_count": 14,
   "metadata": {},
   "outputs": [],
   "source": [
    "custom_embeddings = gensim.models.Word2Vec(corpus,\n",
    "                                           size=50,\n",
    "                                           window=5,\n",
    "                                           iter=10)"
   ]
  },
  {
   "cell_type": "code",
   "execution_count": 15,
   "metadata": {},
   "outputs": [],
   "source": [
    "import string\n",
    "\n",
    "def get_custom_mean_word_vector(tweet):\n",
    "    tokens = tweet.split()\n",
    "    tweet_vectors = []\n",
    "    for token in tokens:\n",
    "        try:\n",
    "            tweet_vectors.append(custom_embeddings.wv[token.lower().strip(string.punctuation)])\n",
    "        except:\n",
    "            continue\n",
    "    return np.mean(np.array(tweet_vectors), axis=0)"
   ]
  },
  {
   "cell_type": "code",
   "execution_count": 16,
   "metadata": {
    "scrolled": false
   },
   "outputs": [],
   "source": [
    "X_train_preprocessed3 = X_train.apply(get_custom_mean_word_vector)"
   ]
  },
  {
   "cell_type": "code",
   "execution_count": 17,
   "metadata": {},
   "outputs": [],
   "source": [
    "preprocessed_values = dict()\n",
    "\n",
    "for i in range(50):\n",
    "    label = f'feature_{i}'\n",
    "    values = [vector[i] for vector in X_train_preprocessed3.values]\n",
    "    preprocessed_values[label] = values\n",
    "\n",
    "final_X_train3 = pd.DataFrame(preprocessed_values, index=X_train.index)"
   ]
  },
  {
   "cell_type": "code",
   "execution_count": 18,
   "metadata": {},
   "outputs": [],
   "source": [
    "from sklearn.preprocessing import StandardScaler\n",
    "\n",
    "ss = StandardScaler()\n",
    "\n",
    "scaled_X_train3 = ss.fit_transform(final_X_train3)"
   ]
  },
  {
   "cell_type": "code",
   "execution_count": 21,
   "metadata": {},
   "outputs": [
    {
     "data": {
      "text/plain": [
       "0.6210150381458989"
      ]
     },
     "execution_count": 21,
     "metadata": {},
     "output_type": "execute_result"
    }
   ],
   "source": [
    "from sklearn.model_selection import cross_val_score\n",
    "from sklearn.linear_model import LogisticRegression\n",
    "\n",
    "baseline = LogisticRegression(random_state=seed, max_iter=10000)\n",
    "\n",
    "np.mean(cross_val_score(baseline, scaled_X_train3, y_train_preprocessed))"
   ]
  },
  {
   "cell_type": "code",
   "execution_count": 22,
   "metadata": {},
   "outputs": [
    {
     "ename": "NameError",
     "evalue": "name 'log_model_results' is not defined",
     "output_type": "error",
     "traceback": [
      "\u001b[0;31m---------------------------------------------------------------------------\u001b[0m",
      "\u001b[0;31mNameError\u001b[0m                                 Traceback (most recent call last)",
      "\u001b[0;32m<ipython-input-22-1b6cee23281c>\u001b[0m in \u001b[0;36m<module>\u001b[0;34m\u001b[0m\n\u001b[0;32m----> 1\u001b[0;31m \u001b[0mlog_model_results\u001b[0m\u001b[0;34m(\u001b[0m\u001b[0;34m'custom_embeddings'\u001b[0m\u001b[0;34m,\u001b[0m \u001b[0mbaseline\u001b[0m\u001b[0;34m,\u001b[0m \u001b[0mscaled_X_train3\u001b[0m\u001b[0;34m,\u001b[0m \u001b[0my_train_preprocessed\u001b[0m\u001b[0;34m)\u001b[0m\u001b[0;34m\u001b[0m\u001b[0;34m\u001b[0m\u001b[0m\n\u001b[0m",
      "\u001b[0;31mNameError\u001b[0m: name 'log_model_results' is not defined"
     ]
    }
   ],
   "source": [
    "log_model_results('custom_embeddings', baseline, scaled_X_train3, y_train_preprocessed)"
   ]
  },
  {
   "cell_type": "markdown",
   "metadata": {},
   "source": [
    "## Tuning Random Forest"
   ]
  },
  {
   "cell_type": "code",
   "execution_count": null,
   "metadata": {},
   "outputs": [],
   "source": [
    "balanced_rf = RandomForestClassifier(random_state=seed, class_weight='balanced')"
   ]
  },
  {
   "cell_type": "code",
   "execution_count": null,
   "metadata": {
    "scrolled": true
   },
   "outputs": [],
   "source": [
    "log_model_results('balanced_rf', balanced_rf)"
   ]
  },
  {
   "cell_type": "code",
   "execution_count": null,
   "metadata": {
    "scrolled": true
   },
   "outputs": [],
   "source": [
    "balanced_rf.fit(scaled_X_train, y_train_preprocessed)"
   ]
  },
  {
   "cell_type": "code",
   "execution_count": null,
   "metadata": {},
   "outputs": [],
   "source": [
    "estimator_depths = [estimator.get_depth() for estimator in balanced_rf.estimators_]\n",
    "print(f'Mean depth: {np.mean(estimator_depths)}')\n",
    "print(f'Standard deviation: {np.std(estimator_depths)}')"
   ]
  },
  {
   "cell_type": "code",
   "execution_count": null,
   "metadata": {},
   "outputs": [],
   "source": [
    "param_grid = [\n",
    "    {'random_state': [seed],\n",
    "     'max_depth': [5, 10, 20, 30],\n",
    "     'class_weight': [None, 'balanced']}\n",
    "]\n",
    "\n",
    "grid_search = GridSearchCV(rf, param_grid, scoring=negative_recall_score)\n",
    "\n",
    "grid_search.fit(scaled_X_train, y_train_preprocessed)"
   ]
  },
  {
   "cell_type": "code",
   "execution_count": null,
   "metadata": {},
   "outputs": [],
   "source": [
    "grid_search.best_score_"
   ]
  },
  {
   "cell_type": "code",
   "execution_count": null,
   "metadata": {},
   "outputs": [],
   "source": [
    "log_model_results('tuned_rf', grid_search.best_estimator_)"
   ]
  },
  {
   "cell_type": "markdown",
   "metadata": {},
   "source": [
    "## Binary Classifier"
   ]
  },
  {
   "cell_type": "code",
   "execution_count": null,
   "metadata": {},
   "outputs": [],
   "source": [
    "clean_data.head()"
   ]
  },
  {
   "cell_type": "code",
   "execution_count": null,
   "metadata": {},
   "outputs": [],
   "source": [
    "clean_data.sentiment.value_counts(normalize=True)"
   ]
  },
  {
   "cell_type": "code",
   "execution_count": null,
   "metadata": {},
   "outputs": [],
   "source": [
    "binary_data = clean_data.loc[clean_data.sentiment != 'No emotion toward brand or product']"
   ]
  },
  {
   "cell_type": "code",
   "execution_count": null,
   "metadata": {},
   "outputs": [],
   "source": [
    "binary_data.sentiment.value_counts(normalize=True)"
   ]
  },
  {
   "cell_type": "code",
   "execution_count": null,
   "metadata": {},
   "outputs": [],
   "source": [
    "binary_model_eval = {'name': [], 'model': [], 'accuracy': []}\n",
    "\n",
    "from sklearn.base import clone # to store models"
   ]
  },
  {
   "cell_type": "code",
   "execution_count": null,
   "metadata": {},
   "outputs": [],
   "source": [
    "def log_binary_model_results(name, model, x_data, y_data):\n",
    "    '''Pass in a name and a model; store model's name, a clone of model & accuracy.'''\n",
    "    global binary_model_eval\n",
    "\n",
    "    binary_model_eval['name'].append(name)\n",
    "    binary_model_eval['model'].append(clone(model))\n",
    "    model_score = np.mean(cross_val_score(model, x_data, y_data))\n",
    "    binary_model_eval['accuracy'].append(model_score)\n",
    "    \n",
    "    return pd.DataFrame(binary_model_eval)"
   ]
  },
  {
   "cell_type": "code",
   "execution_count": null,
   "metadata": {},
   "outputs": [],
   "source": [
    "from sklearn.model_selection import train_test_split\n",
    "\n",
    "X_train, X_test, y_train, y_test = train_test_split(binary_data['tweet_text'],\n",
    "                                                    binary_data['sentiment'],\n",
    "                                                    test_size=0.2,\n",
    "                                                    random_state=seed)"
   ]
  },
  {
   "cell_type": "code",
   "execution_count": null,
   "metadata": {},
   "outputs": [],
   "source": [
    "y_train.value_counts(normalize=True)"
   ]
  },
  {
   "cell_type": "code",
   "execution_count": null,
   "metadata": {
    "scrolled": true
   },
   "outputs": [],
   "source": [
    "y_test.value_counts(normalize=True)"
   ]
  },
  {
   "cell_type": "markdown",
   "metadata": {},
   "source": [
    "### Preprocessing with GloVe"
   ]
  },
  {
   "cell_type": "code",
   "execution_count": null,
   "metadata": {},
   "outputs": [],
   "source": [
    "# GloVe word2vec vectorization\n",
    "preprocessed_train_values = dict()\n",
    "preprocessed_test_values = dict()\n",
    "\n",
    "for i in range(50):\n",
    "    label = f'feature_{i}'\n",
    "    # get i^th component of each mean tweet vector\n",
    "    train_values = [vector[i] for vector in X_train.apply(get_mean_word_vector)]\n",
    "    test_values = [vector[i] for vector in X_test.apply(get_mean_word_vector)]\n",
    "    # store\n",
    "    preprocessed_train_values[label] = train_values\n",
    "    preprocessed_test_values[label] = test_values\n",
    "\n",
    "final_X_train = pd.DataFrame(preprocessed_train_values, index=X_train.index)\n",
    "final_X_test = pd.DataFrame(preprocessed_test_values, index=X_test.index)"
   ]
  },
  {
   "cell_type": "code",
   "execution_count": null,
   "metadata": {},
   "outputs": [],
   "source": [
    "# scale\n",
    "scaled_X_train = ss.fit_transform(final_X_train)\n",
    "scaled_X_test = ss.transform(final_X_test)"
   ]
  },
  {
   "cell_type": "code",
   "execution_count": null,
   "metadata": {},
   "outputs": [],
   "source": [
    "# label encode target\n",
    "from sklearn.preprocessing import LabelEncoder\n",
    "\n",
    "le = LabelEncoder()\n",
    "\n",
    "y_train_preprocessed = le.fit_transform(y_train)\n",
    "y_test_preprocessed = le.transform(y_test)\n",
    "\n",
    "print(le.classes_)"
   ]
  },
  {
   "cell_type": "code",
   "execution_count": null,
   "metadata": {},
   "outputs": [],
   "source": [
    "# score baseline\n",
    "baseline = LogisticRegression(random_state=seed)\n",
    "\n",
    "np.mean(cross_val_score(baseline, scaled_X_train, y_train_preprocessed))"
   ]
  },
  {
   "cell_type": "code",
   "execution_count": null,
   "metadata": {},
   "outputs": [],
   "source": [
    "log_binary_model_results('GloVe', baseline, scaled_X_train, y_train_preprocessed)"
   ]
  },
  {
   "cell_type": "code",
   "execution_count": null,
   "metadata": {},
   "outputs": [],
   "source": [
    "# examine positive / negative breakdown\n",
    "from sklearn.metrics import confusion_matrix, ConfusionMatrixDisplay\n",
    "from sklearn.model_selection import KFold\n",
    "\n",
    "kfolds = KFold(n_splits=2, shuffle=True, random_state=seed)\n",
    "\n",
    "for train, test in kfolds.split(scaled_X_train, y_train_preprocessed):\n",
    "    train_split = train\n",
    "    test_split = test\n",
    "    break\n",
    "    \n",
    "baseline.fit(scaled_X_train[train_split], y_train_preprocessed[train_split])\n",
    "ConfusionMatrixDisplay(confusion_matrix(y_train_preprocessed[test_split],\n",
    "                                        baseline.predict(scaled_X_train[test_split])\n",
    "                                       )).plot();"
   ]
  },
  {
   "cell_type": "code",
   "execution_count": null,
   "metadata": {},
   "outputs": [],
   "source": [
    "# Check recall of negative tweets\n",
    "ConfusionMatrixDisplay(confusion_matrix(y_train_preprocessed[test_split],\n",
    "                                        baseline.predict(scaled_X_train[test_split]),\n",
    "                                        normalize='true'\n",
    "                                       )).plot();"
   ]
  },
  {
   "cell_type": "markdown",
   "metadata": {},
   "source": [
    "18% of negative tweets are being captured."
   ]
  },
  {
   "cell_type": "code",
   "execution_count": null,
   "metadata": {},
   "outputs": [],
   "source": [
    "# undersample\n",
    "from imblearn.under_sampling import RandomUnderSampler\n",
    "\n",
    "rus = RandomUnderSampler(random_state=seed)\n",
    "\n",
    "X_train_undersampled, y_train_undersampled = rus.fit_resample(scaled_X_train,\n",
    "                                                              y_train_preprocessed)"
   ]
  },
  {
   "cell_type": "code",
   "execution_count": null,
   "metadata": {},
   "outputs": [],
   "source": [
    "# refit\n",
    "baseline.fit(X_train_undersampled, y_train_undersampled)\n",
    "\n",
    "# Check recall of negative tweets\n",
    "ConfusionMatrixDisplay(confusion_matrix(y_test_preprocessed,\n",
    "                                        baseline.predict(scaled_X_test),\n",
    "                                        normalize='true'\n",
    "                                       )).plot();"
   ]
  },
  {
   "cell_type": "code",
   "execution_count": null,
   "metadata": {},
   "outputs": [],
   "source": [
    "np.mean(cross_val_score(baseline, X_train_undersampled, y_train_undersampled))"
   ]
  },
  {
   "cell_type": "code",
   "execution_count": null,
   "metadata": {},
   "outputs": [],
   "source": [
    "log_binary_model_results('random_under_sampling', baseline, X_train_undersampled,\n",
    "                         y_train_undersampled)"
   ]
  },
  {
   "cell_type": "markdown",
   "metadata": {},
   "source": [
    "Undersampling drastically decreases the overall accuracy of the model, but drastically increases the recall of negative tweets."
   ]
  },
  {
   "cell_type": "code",
   "execution_count": null,
   "metadata": {},
   "outputs": [],
   "source": [
    "recall_of_neg_tweets = []\n",
    "overall_accuracy = []\n",
    "\n",
    "for ratio in np.linspace(0.5, 1, 6):\n",
    "    rus = RandomUnderSampler(random_state=seed, sampling_strategy=ratio)\n",
    "    \n",
    "    X_train_undersampled, y_train_undersampled = rus.fit_resample(scaled_X_train,\n",
    "                                                                  y_train_preprocessed)\n",
    "    \n",
    "    baseline.fit(X_train_undersampled, y_train_undersampled)\n",
    "\n",
    "    overall_accuracy.append(accuracy_score(y_test_preprocessed,\n",
    "                                           baseline.predict(scaled_X_test)))\n",
    "    neg_recall = confusion_matrix(y_test_preprocessed, baseline.predict(scaled_X_test),\n",
    "                                  normalize='true')[0][0]\n",
    "    recall_of_neg_tweets.append(neg_recall)"
   ]
  },
  {
   "cell_type": "code",
   "execution_count": null,
   "metadata": {
    "scrolled": true
   },
   "outputs": [],
   "source": [
    "fig, ax = plt.subplots()\n",
    "\n",
    "plt.plot(np.linspace(0.5, 1, 6), overall_accuracy, label='accuracy')\n",
    "plt.plot(np.linspace(0.5, 1, 6), recall_of_neg_tweets, label='negative recall')\n",
    "\n",
    "ax.legend();"
   ]
  },
  {
   "cell_type": "code",
   "execution_count": null,
   "metadata": {},
   "outputs": [],
   "source": [
    "# Check precision of positive/negative tweets\n",
    "\n",
    "rus = RandomUnderSampler(random_state=seed)\n",
    "\n",
    "X_train_undersampled, y_train_undersampled = rus.fit_resample(scaled_X_train,\n",
    "                                                              y_train_preprocessed)\n",
    "\n",
    "baseline.fit(X_train_undersampled, y_train_undersampled)\n",
    "\n",
    "ConfusionMatrixDisplay(confusion_matrix(y_test_preprocessed,\n",
    "                                        baseline.predict(scaled_X_test),\n",
    "                                        normalize='pred'\n",
    "                                       )).plot();"
   ]
  },
  {
   "cell_type": "markdown",
   "metadata": {},
   "source": [
    "With undersampling, our model has 36% precision in negative tweets, and 93% precision in positive tweets. (It is only right 36% of the time when predicting that a tweet is negative!)"
   ]
  },
  {
   "cell_type": "markdown",
   "metadata": {},
   "source": [
    "### Preprocessing as a Bag of Words"
   ]
  },
  {
   "cell_type": "code",
   "execution_count": null,
   "metadata": {},
   "outputs": [],
   "source": [
    "from nltk.tokenize import word_tokenize\n",
    "import string\n",
    "\n",
    "def custom_tokenize(tweet):\n",
    "    list_of_words = tweet.split()\n",
    "    clean_list = [word.strip(string.punctuation).lower() for word in list_of_words]\n",
    "    clean_tweet = ' '.join(clean_list)\n",
    "    return word_tokenize(clean_tweet)"
   ]
  },
  {
   "cell_type": "code",
   "execution_count": null,
   "metadata": {},
   "outputs": [],
   "source": [
    "test_tweet = \"@samantha here is a test tweet!! to make sure This works.\""
   ]
  },
  {
   "cell_type": "code",
   "execution_count": null,
   "metadata": {},
   "outputs": [],
   "source": [
    "custom_tokenize(test_tweet)"
   ]
  },
  {
   "cell_type": "code",
   "execution_count": null,
   "metadata": {},
   "outputs": [],
   "source": [
    "X_train.apply(custom_tokenize)"
   ]
  },
  {
   "cell_type": "code",
   "execution_count": null,
   "metadata": {},
   "outputs": [],
   "source": [
    "from sklearn.feature_extraction.text import TfidfVectorizer\n",
    "\n",
    "tfidf = TfidfVectorizer(ngram_range=(1,2), max_df=0.95, min_df=0.05)\n",
    "\n",
    "tfidf_X_train = pd.DataFrame(\n",
    "    tfidf.fit_transform(X_train.apply(lambda x: ' '.join(custom_tokenize(x)))).todense(),\n",
    "    columns=list(tfidf.vocabulary_.keys()),\n",
    "    index=X_train.index)"
   ]
  },
  {
   "cell_type": "code",
   "execution_count": null,
   "metadata": {},
   "outputs": [],
   "source": [
    "tfidf_X_test = pd.DataFrame(\n",
    "    tfidf.transform(X_test.apply(lambda x: ' '.join(custom_tokenize(x)))).todense(),\n",
    "    columns=list(tfidf.vocabulary_.keys()),\n",
    "    index=X_test.index)"
   ]
  },
  {
   "cell_type": "code",
   "execution_count": null,
   "metadata": {
    "scrolled": true
   },
   "outputs": [],
   "source": [
    "np.mean(\n",
    "cross_val_score(baseline, tfidf_X_train, y_train_preprocessed)\n",
    ")"
   ]
  },
  {
   "cell_type": "code",
   "execution_count": null,
   "metadata": {},
   "outputs": [],
   "source": [
    "log_binary_model_results('Tfidf', baseline, tfidf_X_train, y_train_preprocessed)"
   ]
  },
  {
   "cell_type": "code",
   "execution_count": null,
   "metadata": {},
   "outputs": [],
   "source": [
    "tfidf_X_train.head()"
   ]
  },
  {
   "cell_type": "code",
   "execution_count": null,
   "metadata": {},
   "outputs": [],
   "source": [
    "baseline.fit(tfidf_X_train, y_train_preprocessed)\n",
    "\n",
    "ConfusionMatrixDisplay(confusion_matrix(y_test_preprocessed,\n",
    "                                        baseline.predict(tfidf_X_test)\n",
    "                                       )).plot();"
   ]
  },
  {
   "cell_type": "code",
   "execution_count": null,
   "metadata": {},
   "outputs": [],
   "source": [
    "\n",
    "ConfusionMatrixDisplay(confusion_matrix(y_test_preprocessed,\n",
    "                                        baseline.predict(tfidf_X_test),\n",
    "                                        normalize='true'\n",
    "                                       )).plot();"
   ]
  },
  {
   "cell_type": "markdown",
   "metadata": {},
   "source": [
    "Using a simple bag of words representation with term frequency inverse document frequency vectorization results in the best recall of positive tweets so far, but the worst recall of negative tweets so far."
   ]
  },
  {
   "cell_type": "markdown",
   "metadata": {},
   "source": [
    "## Use TextBlob"
   ]
  },
  {
   "cell_type": "code",
   "execution_count": null,
   "metadata": {},
   "outputs": [],
   "source": [
    "from textblob import TextBlob\n",
    "\n",
    "train_sentiments = X_train.apply(lambda x: TextBlob(x).sentiment[0])"
   ]
  },
  {
   "cell_type": "code",
   "execution_count": null,
   "metadata": {},
   "outputs": [],
   "source": [
    "from sklearn.metrics import accuracy_score\n",
    "\n",
    "tb_preds = []\n",
    "\n",
    "for sentiment in train_sentiments:\n",
    "    if sentiment > 0:\n",
    "        tb_preds.append(1)\n",
    "    else:\n",
    "        tb_preds.append(0)\n",
    "        \n",
    "accuracy_score(y_train_preprocessed, tb_preds)"
   ]
  },
  {
   "cell_type": "code",
   "execution_count": null,
   "metadata": {},
   "outputs": [],
   "source": [
    "from sklearn.metrics import confusion_matrix\n",
    "\n",
    "confusion_matrix(y_train_preprocessed, tb_preds, normalize='true')"
   ]
  },
  {
   "cell_type": "markdown",
   "metadata": {},
   "source": [
    "With TextBlob's sentiment attribute, we are able to achieve a 62% recall of negative tweets, and an overall accuracy of 61.6%."
   ]
  },
  {
   "cell_type": "markdown",
   "metadata": {},
   "source": [
    "## Stacking"
   ]
  },
  {
   "cell_type": "markdown",
   "metadata": {},
   "source": [
    "Let's try stacking the mean word vectors for each tweet, along with the TextBlob sentiment rating for the tweet, into one long vector which will be passed into the classifier."
   ]
  },
  {
   "cell_type": "markdown",
   "metadata": {},
   "source": [
    "### Stack Vectors"
   ]
  },
  {
   "cell_type": "code",
   "execution_count": null,
   "metadata": {},
   "outputs": [],
   "source": [
    "# GloVe vectors\n",
    "\n",
    "import string\n",
    "def get_mean_word_vector(tweet):\n",
    "    tokens = tweet.split()\n",
    "    tweet_vectors = []\n",
    "    for token in tokens:\n",
    "        try:\n",
    "            tweet_vectors.append(glove[token.lower().strip(string.punctuation)])\n",
    "        except:\n",
    "            continue\n",
    "    return np.mean(np.array(tweet_vectors), axis=0)\n",
    "\n",
    "preprocessed_train_values = dict()\n",
    "preprocessed_test_values = dict()\n",
    "for i in range(50):\n",
    "    label = f'feature_{i}'\n",
    "    train_values = [vector[i] for vector in X_train.apply(get_mean_word_vector).values]\n",
    "    test_values = [vector[i] for vector in X_test.apply(get_mean_word_vector).values]\n",
    "    preprocessed_train_values[label] = train_values\n",
    "    preprocessed_test_values[label] = test_values\n",
    "\n",
    "final_X_train = pd.DataFrame(preprocessed_train_values, index=X_train.index)\n",
    "final_X_test = pd.DataFrame(preprocessed_test_values, index=X_test.index)"
   ]
  },
  {
   "cell_type": "code",
   "execution_count": null,
   "metadata": {},
   "outputs": [],
   "source": [
    "final_X_train.head(2)"
   ]
  },
  {
   "cell_type": "code",
   "execution_count": null,
   "metadata": {},
   "outputs": [],
   "source": [
    "import gensim\n",
    "\n",
    "corpus = []\n",
    "for tweet in X_train.values:\n",
    "    corpus.append(gensim.utils.simple_preprocess(tweet))\n",
    "\n",
    "custom_embeddings = gensim.models.Word2Vec(corpus,\n",
    "                                           size=50,\n",
    "                                           window=5,\n",
    "                                           iter=10)\n",
    "\n",
    "def get_custom_mean_word_vector(tweet):\n",
    "    tokens = tweet.split()\n",
    "    tweet_vectors = []\n",
    "    for token in tokens:\n",
    "        try:\n",
    "            tweet_vectors.append(custom_embeddings.wv[token.lower().strip(string.punctuation)])\n",
    "        except:\n",
    "            continue\n",
    "    return np.mean(np.array(tweet_vectors), axis=0)\n",
    "\n",
    "preprocessed_train_values2 = dict()\n",
    "preprocessed_test_values2 = dict()\n",
    "for i in range(50):\n",
    "    label = f'feature_{50+i}'\n",
    "    train_values = [vector[i] for vector in X_train.apply(get_custom_mean_word_vector).values]\n",
    "    test_values = [vector[i] for vector in X_test.apply(get_custom_mean_word_vector).values]\n",
    "    preprocessed_train_values2[label] = train_values\n",
    "    preprocessed_test_values2[label] = test_values\n",
    "    \n",
    "new_X_train = pd.concat(\n",
    "    [final_X_train, pd.DataFrame(preprocessed_train_values2, index=X_train.index)], axis=1)\n",
    "new_X_test = pd.concat(\n",
    "    [final_X_test, pd.DataFrame(preprocessed_test_values2, index=X_test.index)], axis=1)"
   ]
  },
  {
   "cell_type": "code",
   "execution_count": null,
   "metadata": {},
   "outputs": [],
   "source": [
    "new_X_train.head(3)"
   ]
  },
  {
   "cell_type": "code",
   "execution_count": null,
   "metadata": {},
   "outputs": [],
   "source": [
    "stacked_X_train = pd.concat(\n",
    "    [new_X_train,\n",
    "     X_train.apply(lambda x: TextBlob(x).sentiment[0]).rename('polarity')], axis=1)"
   ]
  },
  {
   "cell_type": "code",
   "execution_count": null,
   "metadata": {},
   "outputs": [],
   "source": [
    "stacked_X_test = pd.concat(\n",
    "    [new_X_test,\n",
    "     X_test.apply(lambda x: TextBlob(x).sentiment[0]).rename('polarity')], axis=1)"
   ]
  },
  {
   "cell_type": "code",
   "execution_count": null,
   "metadata": {},
   "outputs": [],
   "source": [
    "from sklearn.model_selection import cross_val_score\n",
    "\n",
    "cross_val_score(baseline, stacked_X_train, y_train_preprocessed)"
   ]
  },
  {
   "cell_type": "code",
   "execution_count": null,
   "metadata": {},
   "outputs": [],
   "source": [
    "log_binary_model_results('stacked', baseline, stacked_X_train, y_train_preprocessed)"
   ]
  },
  {
   "cell_type": "code",
   "execution_count": null,
   "metadata": {},
   "outputs": [],
   "source": [
    "baseline.fit(stacked_X_train, y_train_preprocessed)\n",
    "\n",
    "baseline.score(stacked_X_test, y_test_preprocessed)"
   ]
  },
  {
   "cell_type": "markdown",
   "metadata": {},
   "source": [
    "The baseline model above is just slightly overfit."
   ]
  },
  {
   "cell_type": "code",
   "execution_count": null,
   "metadata": {},
   "outputs": [],
   "source": [
    "logreg2 = LogisticRegression(random_state=seed, max_iter=10000, C=0.1)\n",
    "\n",
    "logreg2.fit(stacked_X_train, y_train_preprocessed)\n",
    "\n",
    "print(f'Train: {logreg2.score(stacked_X_train, y_train_preprocessed)}')\n",
    "print(f'Validate: {logreg2.score(stacked_X_test, y_test_preprocessed)}')"
   ]
  },
  {
   "cell_type": "code",
   "execution_count": null,
   "metadata": {},
   "outputs": [],
   "source": [
    "logreg2 = LogisticRegression(random_state=seed, max_iter=10000, C=0.01)\n",
    "\n",
    "logreg2.fit(stacked_X_train, y_train_preprocessed)\n",
    "\n",
    "print(f'Train: {logreg2.score(stacked_X_train, y_train_preprocessed)}')\n",
    "print(f'Validate: {logreg2.score(stacked_X_test, y_test_preprocessed)}')"
   ]
  },
  {
   "cell_type": "code",
   "execution_count": null,
   "metadata": {},
   "outputs": [],
   "source": [
    "logreg2 = LogisticRegression(random_state=seed, max_iter=10000, C=0.001)\n",
    "\n",
    "logreg2.fit(stacked_X_train, y_train_preprocessed)\n",
    "\n",
    "print(f'Train: {logreg2.score(stacked_X_train, y_train_preprocessed)}')\n",
    "print(f'Validate: {logreg2.score(stacked_X_test, y_test_preprocessed)}')"
   ]
  },
  {
   "cell_type": "code",
   "execution_count": null,
   "metadata": {},
   "outputs": [],
   "source": [
    "ConfusionMatrixDisplay(\n",
    "    confusion_matrix(y_test_preprocessed,\n",
    "                     logreg2.predict(stacked_X_test))).plot();"
   ]
  },
  {
   "cell_type": "markdown",
   "metadata": {},
   "source": [
    "## Neural Network"
   ]
  },
  {
   "cell_type": "code",
   "execution_count": null,
   "metadata": {},
   "outputs": [],
   "source": [
    "# use GloVe representations of training samples & label encoded target\n",
    "\n",
    "print(final_X_train.shape)\n",
    "print(len(y_train_preprocessed))"
   ]
  },
  {
   "cell_type": "code",
   "execution_count": null,
   "metadata": {},
   "outputs": [],
   "source": [
    "small_X_train, X_val, small_y_train, y_val = train_test_split(final_X_train,\n",
    "                                                              y_train_preprocessed,\n",
    "                                                              random_state=seed,\n",
    "                                                              test_size=0.2)"
   ]
  },
  {
   "cell_type": "code",
   "execution_count": null,
   "metadata": {},
   "outputs": [],
   "source": [
    "keras_x_train = np.array([small_X_train.loc[index, :] for index in small_X_train.index])\n",
    "keras_x_train"
   ]
  },
  {
   "cell_type": "code",
   "execution_count": null,
   "metadata": {},
   "outputs": [],
   "source": [
    "keras_x_train.shape"
   ]
  },
  {
   "cell_type": "code",
   "execution_count": null,
   "metadata": {},
   "outputs": [],
   "source": [
    "keras_x_val = np.array([X_val.loc[index, :] for index in X_val.index])\n",
    "print(keras_x_val.shape)"
   ]
  },
  {
   "cell_type": "code",
   "execution_count": null,
   "metadata": {},
   "outputs": [],
   "source": [
    "import keras\n",
    "\n",
    "keras_y_train = keras.utils.to_categorical(small_y_train, 3)"
   ]
  },
  {
   "cell_type": "code",
   "execution_count": null,
   "metadata": {},
   "outputs": [],
   "source": [
    "keras_y_train.shape"
   ]
  },
  {
   "cell_type": "code",
   "execution_count": null,
   "metadata": {},
   "outputs": [],
   "source": [
    "keras_y_val = keras.utils.to_categorical(y_val, 3)\n",
    "print(keras_y_val.shape)"
   ]
  },
  {
   "cell_type": "markdown",
   "metadata": {},
   "source": [
    "Test model:"
   ]
  },
  {
   "cell_type": "code",
   "execution_count": null,
   "metadata": {},
   "outputs": [],
   "source": [
    "model = Sequential()\n",
    "# add input layer, and a dense layer with given width\n",
    "model.add(layers.Input(shape=(50,)))\n",
    "model.add(layers.Dense(5, activation='relu'))\n",
    "model.add(layers.Dense(3, activation='softmax'))\n",
    "    \n",
    "model.compile(loss='categorical_crossentropy',\n",
    "              metrics='accuracy')\n",
    "    \n",
    "results = model.fit(keras_x_train, keras_y_train,\n",
    "                    validation_data = [keras_x_val, keras_y_val],\n",
    "                    batch_size=30, epochs=10)\n",
    "    \n",
    "results.history"
   ]
  },
  {
   "cell_type": "code",
   "execution_count": null,
   "metadata": {},
   "outputs": [],
   "source": [
    "from keras import layers, Sequential\n",
    "\n",
    "hidden_layer_widths = [5, 10, 20, 50, 100, 200]\n",
    "\n",
    "train_loss = []\n",
    "val_loss = []\n",
    "train_acc = []\n",
    "val_acc = []\n",
    "\n",
    "for n in hidden_layer_widths:\n",
    "    model = Sequential()\n",
    "    # add input layer, and a dense layer with given width\n",
    "    model.add(layers.Input(shape=(50,)))\n",
    "    model.add(layers.Dense(n, activation='relu'))\n",
    "    model.add(layers.Dense(3, activation='softmax'))\n",
    "    \n",
    "    model.compile(loss='categorical_crossentropy',\n",
    "                  metrics='accuracy')\n",
    "    \n",
    "    results = model.fit(keras_x_train,\n",
    "                        keras_y_train,\n",
    "                        validation_data=[keras_x_val, keras_y_val],\n",
    "                        batch_size=30,\n",
    "                        epochs=30)\n",
    "    \n",
    "    history = results.history\n",
    "    \n",
    "    train_loss.append(history['loss'])\n",
    "    val_loss.append(history['val_loss'])\n",
    "    train_acc.append(history['accuracy'])\n",
    "    val_acc.append(history['val_accuracy'])\n",
    "    \n",
    "# eventually, plot loss & accuracy versus hidden layer width\n",
    "# plot training with lower opacity, validation full strength\n",
    "# one color for loss (red), one color for accuracy (blue)\n",
    "# one plot for 10 epochs, one plot for 50 epochs"
   ]
  },
  {
   "cell_type": "code",
   "execution_count": null,
   "metadata": {},
   "outputs": [],
   "source": [
    "np.array(train_loss).shape"
   ]
  },
  {
   "cell_type": "code",
   "execution_count": null,
   "metadata": {},
   "outputs": [],
   "source": [
    "fig, ax = plt.subplots(nrows=2, ncols=3, figsize=(12, 8))\n",
    "\n",
    "fig.suptitle('Training and Validation Loss and Accuracy')\n",
    "\n",
    "for n, width in enumerate(hidden_layer_widths):\n",
    "    i = n // 3\n",
    "    j = n % 3\n",
    "    \n",
    "    plt.sca(ax[i][j])\n",
    "\n",
    "    plt.plot(range(1,31), train_loss[n], label='Loss (Train)', color='red', alpha=0.5)\n",
    "    plt.plot(range(1,31), val_loss[n], label='Loss (Validation)', color='red')\n",
    "    plt.plot(range(1,31), train_acc[n], label='Accuracy (Train)', color='blue', alpha=0.5)\n",
    "    plt.plot(range(1,31), val_acc[n], label='Accuracy (Validation)', color='blue')\n",
    "    ax[i][j].set(title=f'Single Hidden Layer of Width: {width}',\n",
    "                 xlabel='Number of Epochs',\n",
    "                 ylabel='Categorical Crossentropy Loss / Accuracy')\n",
    "    ax[i][j].legend();"
   ]
  },
  {
   "cell_type": "code",
   "execution_count": null,
   "metadata": {},
   "outputs": [],
   "source": [
    "model = Sequential()\n",
    "# add input layer, and a dense layer with given width\n",
    "model.add(layers.Input(shape=(50,)))\n",
    "model.add(layers.Dense(300, activation='relu'))\n",
    "model.add(layers.Dense(3, activation='softmax'))\n",
    "    \n",
    "model.compile(loss='categorical_crossentropy',\n",
    "              metrics='accuracy')\n",
    "    \n",
    "results = model.fit(keras_x_train, keras_y_train,\n",
    "                    validation_data = [keras_x_val, keras_y_val],\n",
    "                    batch_size=30, epochs=50,\n",
    "                    verbose=0)\n",
    "    \n",
    "history = results.history"
   ]
  },
  {
   "cell_type": "code",
   "execution_count": null,
   "metadata": {
    "scrolled": true
   },
   "outputs": [],
   "source": [
    "fig, ax = plt.subplots()\n",
    "\n",
    "plt.plot(range(1, 51), history['accuracy'], label='training accuracy')\n",
    "plt.plot(range(1, 51), history['val_accuracy'], label='validation accuracy')\n",
    "ax.set(title='Accuracy with Single Hidden Layer of Width 300',\n",
    "       xlabel='Epochs',\n",
    "       ylabel='Accuracy')\n",
    "ax.legend();"
   ]
  },
  {
   "cell_type": "code",
   "execution_count": null,
   "metadata": {},
   "outputs": [],
   "source": [
    "# add in regularization\n",
    "model = Sequential()\n",
    "# add input layer, and a dense layer with given width\n",
    "model.add(layers.Input(shape=(50,)))\n",
    "model.add(layers.Dense(300, activation='relu',\n",
    "                       kernel_regularizer=keras.regularizers.L2(1e-4)))\n",
    "model.add(layers.Dense(3, activation='softmax'))\n",
    "    \n",
    "model.compile(loss='categorical_crossentropy',\n",
    "              metrics='accuracy')\n",
    "    \n",
    "results = model.fit(keras_x_train, keras_y_train,\n",
    "                    validation_data = [keras_x_val, keras_y_val],\n",
    "                    batch_size=30, epochs=50,\n",
    "                    verbose=0)\n",
    "    \n",
    "history = results.history"
   ]
  },
  {
   "cell_type": "code",
   "execution_count": null,
   "metadata": {},
   "outputs": [],
   "source": [
    "fig, ax = plt.subplots()\n",
    "\n",
    "plt.plot(range(1, 51), history['accuracy'], label='training accuracy')\n",
    "plt.plot(range(1, 51), history['val_accuracy'], label='validation accuracy')\n",
    "ax.set(title='Accuracy with Single Hidden Layer of Width 300 and L2 Regularization',\n",
    "       xlabel='Epochs',\n",
    "       ylabel='Accuracy')\n",
    "ax.legend();"
   ]
  },
  {
   "cell_type": "code",
   "execution_count": null,
   "metadata": {},
   "outputs": [],
   "source": [
    "# complicate the network architecture\n",
    "# add in regularization\n",
    "model = Sequential()\n",
    "# add input layer, and a dense layer with given width\n",
    "model.add(layers.Input(shape=(50,)))\n",
    "model.add(layers.Dense(300, activation='relu',\n",
    "                       kernel_regularizer=keras.regularizers.L2(1e-4)))\n",
    "model.add(layers.Dense(50, activation='relu',\n",
    "                       kernel_regularizer=keras.regularizers.L2(1e-4)))\n",
    "model.add(layers.Dense(3, activation='softmax'))\n",
    "    \n",
    "model.compile(loss='categorical_crossentropy',\n",
    "              metrics='accuracy')\n",
    "    \n",
    "results = model.fit(keras_x_train, keras_y_train,\n",
    "                    validation_data = [keras_x_val, keras_y_val],\n",
    "                    batch_size=30, epochs=50,\n",
    "                    verbose=0)\n",
    "    \n",
    "history = results.history"
   ]
  },
  {
   "cell_type": "code",
   "execution_count": null,
   "metadata": {},
   "outputs": [],
   "source": [
    "fig, ax = plt.subplots()\n",
    "\n",
    "plt.plot(range(1, 51), history['accuracy'], label='training accuracy')\n",
    "plt.plot(range(1, 51), history['val_accuracy'], label='validation accuracy')\n",
    "ax.set(title='Accuracy with Two Hidden Layers (Widths of 300 and 50) and L2 Regularization',\n",
    "       xlabel='Epochs',\n",
    "       ylabel='Accuracy')\n",
    "ax.legend();"
   ]
  }
 ],
 "metadata": {
  "kernelspec": {
   "display_name": "Python (learn-env)",
   "language": "python",
   "name": "learn-env"
  },
  "language_info": {
   "codemirror_mode": {
    "name": "ipython",
    "version": 3
   },
   "file_extension": ".py",
   "mimetype": "text/x-python",
   "name": "python",
   "nbconvert_exporter": "python",
   "pygments_lexer": "ipython3",
   "version": "3.8.5"
  },
  "toc": {
   "base_numbering": 1,
   "nav_menu": {},
   "number_sections": true,
   "sideBar": true,
   "skip_h1_title": true,
   "title_cell": "Table of Contents",
   "title_sidebar": "Contents",
   "toc_cell": false,
   "toc_position": {
    "height": "calc(100% - 180px)",
    "left": "10px",
    "top": "150px",
    "width": "241.919px"
   },
   "toc_section_display": true,
   "toc_window_display": false
  }
 },
 "nbformat": 4,
 "nbformat_minor": 4
}
