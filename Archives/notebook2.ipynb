{
 "cells": [
  {
   "cell_type": "markdown",
   "id": "034367fd",
   "metadata": {},
   "source": [
    "# Tweet Sentiment Analysis Practice"
   ]
  },
  {
   "cell_type": "markdown",
   "id": "515ca00a",
   "metadata": {},
   "source": [
    "[Data Source](https://data.world/crowdflower/brands-and-product-emotions)"
   ]
  },
  {
   "cell_type": "markdown",
   "id": "2044db6e",
   "metadata": {},
   "source": [
    "## Business Understanding\n",
    "\n",
    "Our goal is to build a proof-of-concept classifier which would allow Apple to monitor sentiment toward its products (and the products of its top competitors) on Twitter.\n",
    "\n",
    "In particular, Apple needs to be able to monitor *negative sentiment* towards its products and that of its competitors to respond quickly to customer dissatisfaction to resolve the issue (or, in the case of its competitors, to proactively avoid their pain points.)\n",
    "\n",
    "## Data Understanding\n",
    "\n",
    "We have a collection of ~9,000 tweets concerning Apple, Android and Google products with the sentiment labeled (\"positive\", \"negative\", \"neutral\", or \"I can't tell\") and the object of the sentiment in the tweet."
   ]
  },
  {
   "cell_type": "markdown",
   "id": "f42710d4",
   "metadata": {},
   "source": [
    "## Imports"
   ]
  },
  {
   "cell_type": "code",
   "execution_count": 55,
   "id": "6e4f2127",
   "metadata": {},
   "outputs": [],
   "source": [
    "# set a random seed for reproducibility\n",
    "seed = 3490\n",
    "\n",
    "import pandas as pd\n",
    "import numpy as np\n",
    "import matplotlib.pyplot as plt\n",
    "import matplotlib as mpl\n",
    "from matplotlib.container import BarContainer\n",
    "\n",
    "from sklearn.model_selection import train_test_split\n",
    "from sklearn.preprocessing import LabelEncoder\n",
    "\n",
    "import string\n",
    "from nltk.corpus import stopwords\n",
    "\n",
    "from nltk.stem import PorterStemmer\n",
    "from nltk.stem import WordNetLemmatizer\n",
    "\n",
    "from nltk.corpus import wordnet\n",
    "import nltk\n",
    "\n",
    "from sklearn.feature_extraction.text import CountVectorizer, TfidfVectorizer\n",
    "\n",
    "from sklearn.preprocessing import StandardScaler, MinMaxScaler\n",
    "\n",
    "from sklearn.ensemble import RandomForestClassifier\n",
    "from sklearn.naive_bayes import MultinomialNB\n",
    "from sklearn.svm import SVC\n",
    "\n",
    "from sklearn.model_selection import GridSearchCV\n",
    "\n",
    "from sklearn.metrics import confusion_matrix, ConfusionMatrixDisplay\n",
    "\n",
    "import gensim.downloader\n",
    "\n",
    "from sklearn.decomposition import PCA\n",
    "\n",
    "from gensim.models import Word2Vec"
   ]
  },
  {
   "cell_type": "markdown",
   "id": "972be2a9",
   "metadata": {},
   "source": [
    "## Load Data"
   ]
  },
  {
   "cell_type": "code",
   "execution_count": 56,
   "id": "f63d4ba9",
   "metadata": {},
   "outputs": [
    {
     "data": {
      "text/html": [
       "<div>\n",
       "<style scoped>\n",
       "    .dataframe tbody tr th:only-of-type {\n",
       "        vertical-align: middle;\n",
       "    }\n",
       "\n",
       "    .dataframe tbody tr th {\n",
       "        vertical-align: top;\n",
       "    }\n",
       "\n",
       "    .dataframe thead th {\n",
       "        text-align: right;\n",
       "    }\n",
       "</style>\n",
       "<table border=\"1\" class=\"dataframe\">\n",
       "  <thead>\n",
       "    <tr style=\"text-align: right;\">\n",
       "      <th></th>\n",
       "      <th>tweet_text</th>\n",
       "      <th>emotion_in_tweet_is_directed_at</th>\n",
       "      <th>is_there_an_emotion_directed_at_a_brand_or_product</th>\n",
       "    </tr>\n",
       "  </thead>\n",
       "  <tbody>\n",
       "    <tr>\n",
       "      <th>0</th>\n",
       "      <td>.@wesley83 I have a 3G iPhone. After 3 hrs twe...</td>\n",
       "      <td>iPhone</td>\n",
       "      <td>Negative emotion</td>\n",
       "    </tr>\n",
       "    <tr>\n",
       "      <th>1</th>\n",
       "      <td>@jessedee Know about @fludapp ? Awesome iPad/i...</td>\n",
       "      <td>iPad or iPhone App</td>\n",
       "      <td>Positive emotion</td>\n",
       "    </tr>\n",
       "    <tr>\n",
       "      <th>2</th>\n",
       "      <td>@swonderlin Can not wait for #iPad 2 also. The...</td>\n",
       "      <td>iPad</td>\n",
       "      <td>Positive emotion</td>\n",
       "    </tr>\n",
       "    <tr>\n",
       "      <th>3</th>\n",
       "      <td>@sxsw I hope this year's festival isn't as cra...</td>\n",
       "      <td>iPad or iPhone App</td>\n",
       "      <td>Negative emotion</td>\n",
       "    </tr>\n",
       "    <tr>\n",
       "      <th>4</th>\n",
       "      <td>@sxtxstate great stuff on Fri #SXSW: Marissa M...</td>\n",
       "      <td>Google</td>\n",
       "      <td>Positive emotion</td>\n",
       "    </tr>\n",
       "  </tbody>\n",
       "</table>\n",
       "</div>"
      ],
      "text/plain": [
       "                                          tweet_text   \n",
       "0  .@wesley83 I have a 3G iPhone. After 3 hrs twe...  \\\n",
       "1  @jessedee Know about @fludapp ? Awesome iPad/i...   \n",
       "2  @swonderlin Can not wait for #iPad 2 also. The...   \n",
       "3  @sxsw I hope this year's festival isn't as cra...   \n",
       "4  @sxtxstate great stuff on Fri #SXSW: Marissa M...   \n",
       "\n",
       "  emotion_in_tweet_is_directed_at   \n",
       "0                          iPhone  \\\n",
       "1              iPad or iPhone App   \n",
       "2                            iPad   \n",
       "3              iPad or iPhone App   \n",
       "4                          Google   \n",
       "\n",
       "  is_there_an_emotion_directed_at_a_brand_or_product  \n",
       "0                                   Negative emotion  \n",
       "1                                   Positive emotion  \n",
       "2                                   Positive emotion  \n",
       "3                                   Negative emotion  \n",
       "4                                   Positive emotion  "
      ]
     },
     "execution_count": 56,
     "metadata": {},
     "output_type": "execute_result"
    }
   ],
   "source": [
    "# load data from file; encoding is \"latin1\"\n",
    "data = pd.read_csv('data/judge-1377884607_tweet_product_company.csv', encoding='latin1')\n",
    "\n",
    "# inspect first few rows\n",
    "data.head()"
   ]
  },
  {
   "cell_type": "code",
   "execution_count": 57,
   "id": "d5311ca8",
   "metadata": {},
   "outputs": [
    {
     "data": {
      "text/plain": [
       "(9093, 3)"
      ]
     },
     "execution_count": 57,
     "metadata": {},
     "output_type": "execute_result"
    }
   ],
   "source": [
    "data.shape"
   ]
  },
  {
   "cell_type": "markdown",
   "id": "d3dd9eaa",
   "metadata": {},
   "source": [
    "How many tweets contains #SXSW or #sxsw? (Answer: most of them.)"
   ]
  },
  {
   "cell_type": "code",
   "execution_count": 58,
   "id": "41728d90",
   "metadata": {},
   "outputs": [],
   "source": [
    "data_list = data.dropna().copy()\n",
    "data_list['tweet_words'] = data_list.tweet_text.map(lambda x: x.split())\n",
    "exploded = data_list.reset_index().rename({'index': 'true_index'}, axis=1).explode('tweet_words')\n",
    "about_sxsw = exploded.loc[(exploded.tweet_words == '#SXSW') | (exploded.tweet_words == '#sxsw')].true_index.values"
   ]
  },
  {
   "cell_type": "code",
   "execution_count": 59,
   "id": "dc43a1a0",
   "metadata": {},
   "outputs": [
    {
     "name": "stdout",
     "output_type": "stream",
     "text": [
      "@mention #SXSW don't forget @mention to plan your schedule. Plus our free iphone app {link}\n",
      "Outside of 9:30 panels which 75% of people skip I can barely get anything to work on my iPhone. #sxsw needs to shrink by 10k people.\n",
      "I want one!! It's not a rumor: Apple is opening up a temporary store in downtown Austin for #SXSW and the iPad 2 launch {link}\n",
      "If you haven't waited in line for an Apple product you're missing out on an important rite of passage.  #sxsw\n",
      "Apple set to open popup shop in core of #SXSW action {link} Geeks need #iPad2 love!\n"
     ]
    }
   ],
   "source": [
    "for tweet in data.tweet_text.loc[about_sxsw].sample(5):\n",
    "    print(tweet)"
   ]
  },
  {
   "cell_type": "markdown",
   "id": "24582b16",
   "metadata": {},
   "source": [
    "## Explore Data"
   ]
  },
  {
   "cell_type": "markdown",
   "id": "ac0de4e0",
   "metadata": {},
   "source": [
    "The column names are a mouthful (\"is_there_an_emotion_directed_at_a_brand_or_product\"), so let's rename them for ease."
   ]
  },
  {
   "cell_type": "code",
   "execution_count": 60,
   "id": "f8180b6a",
   "metadata": {},
   "outputs": [
    {
     "data": {
      "text/html": [
       "<div>\n",
       "<style scoped>\n",
       "    .dataframe tbody tr th:only-of-type {\n",
       "        vertical-align: middle;\n",
       "    }\n",
       "\n",
       "    .dataframe tbody tr th {\n",
       "        vertical-align: top;\n",
       "    }\n",
       "\n",
       "    .dataframe thead th {\n",
       "        text-align: right;\n",
       "    }\n",
       "</style>\n",
       "<table border=\"1\" class=\"dataframe\">\n",
       "  <thead>\n",
       "    <tr style=\"text-align: right;\">\n",
       "      <th></th>\n",
       "      <th>tweet_text</th>\n",
       "      <th>object_of_sentiment</th>\n",
       "      <th>sentiment</th>\n",
       "    </tr>\n",
       "  </thead>\n",
       "  <tbody>\n",
       "    <tr>\n",
       "      <th>0</th>\n",
       "      <td>.@wesley83 I have a 3G iPhone. After 3 hrs twe...</td>\n",
       "      <td>iPhone</td>\n",
       "      <td>Negative emotion</td>\n",
       "    </tr>\n",
       "    <tr>\n",
       "      <th>1</th>\n",
       "      <td>@jessedee Know about @fludapp ? Awesome iPad/i...</td>\n",
       "      <td>iPad or iPhone App</td>\n",
       "      <td>Positive emotion</td>\n",
       "    </tr>\n",
       "    <tr>\n",
       "      <th>2</th>\n",
       "      <td>@swonderlin Can not wait for #iPad 2 also. The...</td>\n",
       "      <td>iPad</td>\n",
       "      <td>Positive emotion</td>\n",
       "    </tr>\n",
       "    <tr>\n",
       "      <th>3</th>\n",
       "      <td>@sxsw I hope this year's festival isn't as cra...</td>\n",
       "      <td>iPad or iPhone App</td>\n",
       "      <td>Negative emotion</td>\n",
       "    </tr>\n",
       "    <tr>\n",
       "      <th>4</th>\n",
       "      <td>@sxtxstate great stuff on Fri #SXSW: Marissa M...</td>\n",
       "      <td>Google</td>\n",
       "      <td>Positive emotion</td>\n",
       "    </tr>\n",
       "  </tbody>\n",
       "</table>\n",
       "</div>"
      ],
      "text/plain": [
       "                                          tweet_text object_of_sentiment   \n",
       "0  .@wesley83 I have a 3G iPhone. After 3 hrs twe...              iPhone  \\\n",
       "1  @jessedee Know about @fludapp ? Awesome iPad/i...  iPad or iPhone App   \n",
       "2  @swonderlin Can not wait for #iPad 2 also. The...                iPad   \n",
       "3  @sxsw I hope this year's festival isn't as cra...  iPad or iPhone App   \n",
       "4  @sxtxstate great stuff on Fri #SXSW: Marissa M...              Google   \n",
       "\n",
       "          sentiment  \n",
       "0  Negative emotion  \n",
       "1  Positive emotion  \n",
       "2  Positive emotion  \n",
       "3  Negative emotion  \n",
       "4  Positive emotion  "
      ]
     },
     "execution_count": 60,
     "metadata": {},
     "output_type": "execute_result"
    }
   ],
   "source": [
    "# rename last two columns, in place\n",
    "data.rename({'emotion_in_tweet_is_directed_at': 'object_of_sentiment',\n",
    "             'is_there_an_emotion_directed_at_a_brand_or_product': 'sentiment'}, axis=1, inplace=True)\n",
    "# inspect first few rows\n",
    "data.head()"
   ]
  },
  {
   "cell_type": "markdown",
   "id": "f65df63e",
   "metadata": {},
   "source": [
    "Now let's explore the distribution of the data."
   ]
  },
  {
   "cell_type": "code",
   "execution_count": 61,
   "id": "0efce112",
   "metadata": {},
   "outputs": [
    {
     "data": {
      "text/plain": [
       "sentiment\n",
       "No emotion toward brand or product    5389\n",
       "Positive emotion                      2978\n",
       "Negative emotion                       570\n",
       "I can't tell                           156\n",
       "Name: count, dtype: int64"
      ]
     },
     "execution_count": 61,
     "metadata": {},
     "output_type": "execute_result"
    }
   ],
   "source": [
    "data.sentiment.value_counts()"
   ]
  },
  {
   "cell_type": "markdown",
   "id": "98ec636d",
   "metadata": {},
   "source": [
    "Sample a few tweets which have unlabeled sentiment."
   ]
  },
  {
   "cell_type": "code",
   "execution_count": 62,
   "id": "9c8aaa60",
   "metadata": {},
   "outputs": [
    {
     "name": "stdout",
     "output_type": "stream",
     "text": [
      "Finally got my #SXSW schedule on my #google calendar. #coudbeeasier\n",
      "funny! iphone correction? RT @mention Dashing off to learn a thing or two about longhorn journalism #SXSW\n",
      "&quot;Do you know what Apple is really good at? Making you feel bad about your Xmas present!&quot; - Seth Meyers on iPad2 #sxsw #doyoureallyneedthat?\n",
      "+1 ÛÏ@mention +1 RT @mention Petricone says Google TV is just a browser. I don't think that's correct. #SXSWÛ\n",
      "RT @mention Gary Vaynerchuck lÌ_gger ner winelibrary.tv och slÌ_pper i stÌ_llet Iphone-appen Daily Grape. #thankyoueconomy #sxsw #swesxsw\n"
     ]
    }
   ],
   "source": [
    "for i in data.loc[data.sentiment==\"I can't tell\"].sample(5, random_state=seed).index:\n",
    "    print(data.loc[i, 'tweet_text'])"
   ]
  },
  {
   "cell_type": "markdown",
   "id": "015296e2",
   "metadata": {},
   "source": [
    "Only one of these is clearly negative. However, forcing the classifier to treat them as positive, negative or neutral would probably yield some valuable insights for the brand (example: why don't you use your iPad on the go? Can the iPhone alarm clock be improved?) \\*Sorry, I didn't set the random_state initially! These comments were in reference to a different sample of tweets.\n",
    "\n",
    "With that being said, the records with unlabeled sentiment represent only a small portion of the dataset, and introducing semi-supervised labels here may have an unexpected effect given that the original labellers already classified these tweets as ambiguous. I will drop these records."
   ]
  },
  {
   "cell_type": "code",
   "execution_count": 63,
   "id": "d097f29d",
   "metadata": {},
   "outputs": [],
   "source": [
    "# replace \"I can't tell\" in sentiment column with null\n",
    "data.sentiment = data.sentiment.replace({\"I can't tell\": None})"
   ]
  },
  {
   "cell_type": "code",
   "execution_count": 64,
   "id": "fd9b3389",
   "metadata": {},
   "outputs": [],
   "source": [
    "# drop records with null value for sentiment\n",
    "data.dropna(subset='sentiment', inplace=True)"
   ]
  },
  {
   "cell_type": "markdown",
   "id": "ef5142be",
   "metadata": {},
   "source": [
    "Now let's explore the distribution of products discussed in these tweets."
   ]
  },
  {
   "cell_type": "code",
   "execution_count": 65,
   "id": "82473539",
   "metadata": {},
   "outputs": [
    {
     "data": {
      "image/png": "[encoded data removed]",
      "text/plain": [
       "<Figure size 432x288 with 1 Axes>"
      ]
     },
     "metadata": {
      "needs_background": "light"
     },
     "output_type": "display_data"
    }
   ],
   "source": [
    "fig, ax = plt.subplots()\n",
    "\n",
    "ax.set_title('Objects of Sentiment in Tweets')\n",
    "\n",
    "data.object_of_sentiment.value_counts().plot(kind='barh');"
   ]
  },
  {
   "cell_type": "markdown",
   "id": "d70c0a74",
   "metadata": {},
   "source": [
    "We have the most data on Apple products, and a little sprinkling of data on Google and Android products."
   ]
  },
  {
   "cell_type": "markdown",
   "id": "e8fa5d4a",
   "metadata": {},
   "source": [
    "What is the sentiment breakdown by object?"
   ]
  },
  {
   "cell_type": "markdown",
   "id": "9f6285d8",
   "metadata": {},
   "source": [
    "Before we answer this question, first note that more than half of records do not have an object of sentiment."
   ]
  },
  {
   "cell_type": "code",
   "execution_count": 66,
   "id": "8492192b",
   "metadata": {},
   "outputs": [
    {
     "data": {
      "text/plain": [
       "5655"
      ]
     },
     "execution_count": 66,
     "metadata": {},
     "output_type": "execute_result"
    }
   ],
   "source": [
    "data.object_of_sentiment.isna().sum()"
   ]
  },
  {
   "cell_type": "markdown",
   "id": "8d128ceb",
   "metadata": {},
   "source": [
    "Check how many of these null sentiment records correspond to tweets which are neutral or unlabeled."
   ]
  },
  {
   "cell_type": "code",
   "execution_count": 67,
   "id": "6582c511",
   "metadata": {},
   "outputs": [
    {
     "data": {
      "text/plain": [
       "5298"
      ]
     },
     "execution_count": 67,
     "metadata": {},
     "output_type": "execute_result"
    }
   ],
   "source": [
    "data.loc[(data.sentiment=='No emotion toward brand or product') | (data.sentiment==\"I can't tell\"),\n",
    "         'object_of_sentiment'].isna().sum()"
   ]
  },
  {
   "cell_type": "markdown",
   "id": "91a5cca4",
   "metadata": {},
   "source": [
    "There are 5298 records for which sentiment is unknown or neutral, and the \"object_of_sentiment\" value is null. But this means that there are a few records for which no object is given, despite a positive or negative sentiment being recorded.\n",
    "\n",
    "Let's view an example of such a tweet."
   ]
  },
  {
   "cell_type": "code",
   "execution_count": 68,
   "id": "c8274131",
   "metadata": {},
   "outputs": [
    {
     "name": "stdout",
     "output_type": "stream",
     "text": [
      "My iPhone says it can't connect to the Internet even though #sxsw wifi works great on my computer. Any suggestions?\n",
      "RT @mention The Web DesignerÛªs Guide to iOS (and Android) Apps, today @mention 10 a.m! {link} #sxsw\n",
      "Imagine if every company had the 20% concept like Google. #bavcID #SXSW\n"
     ]
    }
   ],
   "source": [
    "for i in data.loc[((data.sentiment=='Positive emotion') | (data.sentiment=='Negative emotion')) &\n",
    "                  (data.object_of_sentiment.isna())].sample(3, random_state=seed).index:\n",
    "    print(data.loc[i, 'tweet_text'])"
   ]
  },
  {
   "cell_type": "markdown",
   "id": "7f8ed178",
   "metadata": {},
   "source": [
    "One approach to deal with these null objects is to classify them using the labeled data as training data (semi-supervised learning.)\n",
    "\n",
    "We may mis-classify some tweets -- for example, tweet 64 is not directed at a specific Apple product at all -- but hopefully we can capture the fact that some of these *are* clearly directed at specific products."
   ]
  },
  {
   "cell_type": "markdown",
   "id": "93b42a3a",
   "metadata": {},
   "source": [
    "Before we complete the above semi-supervised learning task for the \"object_of_sentiment\" category, let's look at the current distribution of positive, negative and neutral tweets by product."
   ]
  },
  {
   "cell_type": "code",
   "execution_count": 69,
   "id": "f9fac747",
   "metadata": {},
   "outputs": [
    {
     "data": {
      "text/html": [
       "<div>\n",
       "<style scoped>\n",
       "    .dataframe tbody tr th:only-of-type {\n",
       "        vertical-align: middle;\n",
       "    }\n",
       "\n",
       "    .dataframe tbody tr th {\n",
       "        vertical-align: top;\n",
       "    }\n",
       "\n",
       "    .dataframe thead th {\n",
       "        text-align: right;\n",
       "    }\n",
       "</style>\n",
       "<table border=\"1\" class=\"dataframe\">\n",
       "  <thead>\n",
       "    <tr style=\"text-align: right;\">\n",
       "      <th></th>\n",
       "      <th>sentiment</th>\n",
       "      <th>count</th>\n",
       "    </tr>\n",
       "  </thead>\n",
       "  <tbody>\n",
       "    <tr>\n",
       "      <th>0</th>\n",
       "      <td>Positive emotion</td>\n",
       "      <td>793</td>\n",
       "    </tr>\n",
       "    <tr>\n",
       "      <th>1</th>\n",
       "      <td>Negative emotion</td>\n",
       "      <td>125</td>\n",
       "    </tr>\n",
       "    <tr>\n",
       "      <th>2</th>\n",
       "      <td>No emotion toward brand or product</td>\n",
       "      <td>24</td>\n",
       "    </tr>\n",
       "  </tbody>\n",
       "</table>\n",
       "</div>"
      ],
      "text/plain": [
       "                            sentiment  count\n",
       "0                    Positive emotion    793\n",
       "1                    Negative emotion    125\n",
       "2  No emotion toward brand or product     24"
      ]
     },
     "execution_count": 69,
     "metadata": {},
     "output_type": "execute_result"
    }
   ],
   "source": [
    "data.loc[data.object_of_sentiment=='iPad', 'sentiment'].value_counts().to_frame().reset_index()"
   ]
  },
  {
   "cell_type": "code",
   "execution_count": 70,
   "id": "c04ac08d",
   "metadata": {},
   "outputs": [
    {
     "data": {
      "image/png": "[encoded data removed]",
      "text/plain": [
       "<Figure size 1080x720 with 9 Axes>"
      ]
     },
     "metadata": {
      "needs_background": "light"
     },
     "output_type": "display_data"
    }
   ],
   "source": [
    "fig, ax = plt.subplots(nrows=3, ncols=3, figsize=(15, 10))\n",
    "\n",
    "# set up color map for negative, positive and neutral tweets\n",
    "viridis = mpl.colormaps['viridis'].resampled(3)\n",
    "\n",
    "for n, product in enumerate(np.unique(data.object_of_sentiment.to_list())[:-1]):\n",
    "    # get sentiment counts for this product\n",
    "    df = data.loc[data.object_of_sentiment==product, 'sentiment'].value_counts().to_frame().reset_index()\n",
    "\n",
    "    # plot bar chart\n",
    "    df.plot(kind='barh', ax=ax[n//3][n%3])\n",
    "    \n",
    "    # set colors for each bar according to whether it is the count of positive, negative or neutral tweets\n",
    "    bars = [i for i in ax[n//3][n%3].containers if isinstance(i, BarContainer)]\n",
    "    colors = df.sentiment.replace({'Positive emotion': 2,\n",
    "                                   'Negative emotion': 0,\n",
    "                                   'No emotion toward brand or product': 1})\n",
    "    for i in range(3):\n",
    "        bars[0][i].set_color(viridis(colors[i]/2))\n",
    "    \n",
    "    # fix labels, remove legend\n",
    "    ax[n//3][n%3].set_yticklabels(df['sentiment'])\n",
    "    ax[n//3][n%3].get_legend().remove()\n",
    "    \n",
    "    # set title\n",
    "    ax[n//3][n%3].set_title(f'{product}')\n",
    "    \n",
    "fig.tight_layout();"
   ]
  },
  {
   "cell_type": "markdown",
   "id": "f09663ce",
   "metadata": {},
   "source": [
    "The iPhone has the highest ratio of negative to positive emotion tweets."
   ]
  },
  {
   "cell_type": "markdown",
   "id": "59da3cc6",
   "metadata": {},
   "source": [
    "Let's dig in a little more to customer sentiment toward Apple products."
   ]
  },
  {
   "cell_type": "code",
   "execution_count": 71,
   "id": "7eebc536",
   "metadata": {
    "scrolled": true
   },
   "outputs": [
    {
     "data": {
      "text/html": [
       "<div>\n",
       "<style scoped>\n",
       "    .dataframe tbody tr th:only-of-type {\n",
       "        vertical-align: middle;\n",
       "    }\n",
       "\n",
       "    .dataframe tbody tr th {\n",
       "        vertical-align: top;\n",
       "    }\n",
       "\n",
       "    .dataframe thead th {\n",
       "        text-align: right;\n",
       "    }\n",
       "</style>\n",
       "<table border=\"1\" class=\"dataframe\">\n",
       "  <thead>\n",
       "    <tr style=\"text-align: right;\">\n",
       "      <th></th>\n",
       "      <th>tweet_text</th>\n",
       "      <th>object_of_sentiment</th>\n",
       "      <th>sentiment</th>\n",
       "    </tr>\n",
       "  </thead>\n",
       "  <tbody>\n",
       "    <tr>\n",
       "      <th>0</th>\n",
       "      <td>.@wesley83 I have a 3G iPhone. After 3 hrs twe...</td>\n",
       "      <td>iPhone</td>\n",
       "      <td>Negative emotion</td>\n",
       "    </tr>\n",
       "  </tbody>\n",
       "</table>\n",
       "</div>"
      ],
      "text/plain": [
       "                                          tweet_text object_of_sentiment   \n",
       "0  .@wesley83 I have a 3G iPhone. After 3 hrs twe...              iPhone  \\\n",
       "\n",
       "          sentiment  \n",
       "0  Negative emotion  "
      ]
     },
     "execution_count": 71,
     "metadata": {},
     "output_type": "execute_result"
    }
   ],
   "source": [
    "data.head(1)"
   ]
  },
  {
   "cell_type": "code",
   "execution_count": 72,
   "id": "44720a88",
   "metadata": {},
   "outputs": [
    {
     "name": "stdout",
     "output_type": "stream",
     "text": [
      "Negative emotion toward iPhone:\n",
      "With just my iPhone and iPad on me, I feel very unequipped compared to everyone else. Dang! #sxsw\n",
      "\n",
      "\n",
      "No emotion toward brand or product toward iPhone:\n",
      "Still using the original first-generation iPhone. Wondering if this will get me kicked out of #SXSW\n",
      "\n",
      "\n",
      "Positive emotion toward iPhone:\n",
      "@mention Feature @mention for the iPhone. We will be all over #SXSW this week!\n",
      "\n",
      "\n",
      "Negative emotion toward iPad or iPhone App:\n",
      "NYT app for iPad: not &quot;here's an amazing way to serve our readership,&quot; more &quot;here's a market opportunity we can't ignore.&quot; #sxsw #newsapps\n",
      "\n",
      "\n",
      "No emotion toward brand or product toward iPad or iPhone App:\n",
      "Just got @mention new iPhone app, The Dialy Grape: {link} #sxsw #thankyou\n",
      "\n",
      "\n",
      "Positive emotion toward iPad or iPhone App:\n",
      "Unexpected geekout moment of #sxsw so far: talked with the guys who are bringing the Traveller RPG to the iPhone.\n",
      "\n",
      "\n",
      "Negative emotion toward iPad:\n",
      "In iPad Design Headaches: Take Two Tablets, Call Me in the AM panel - excited to hear @mention live! #sxsw\n",
      "\n",
      "\n",
      "No emotion toward brand or product toward iPad:\n",
      "@mention You can get an iPad 1 for under $350 now. And they'll be $99 before you know it. Look at iPhone. #newsapps #sxsw\n",
      "\n",
      "\n",
      "Positive emotion toward iPad:\n",
      "So I bought an iPad on impulse! Must be something in the water at #sxsw!\n",
      "\n",
      "\n",
      "Negative emotion toward Other Apple product or service:\n",
      "Design for iPad is like a design 101 class. Will someone give a talk and assume that we didn't all ditch our previous experience #sxsw\n",
      "\n",
      "\n",
      "No emotion toward brand or product toward Other Apple product or service:\n",
      "From #Apple to Naomi Campbell: pop-up stores are all the rage: {link} #sxsw\n",
      "\n",
      "\n",
      "Positive emotion toward Other Apple product or service:\n",
      "@mention #sxsw - free tunage on iTunes {link}\n",
      "\n",
      "\n",
      "Negative emotion toward Apple:\n",
      "Too quotable --&gt; RT ÛÏ@mention &quot;Apple is the most elegant fascist company in America.&quot; #flip-board #SXSW\n",
      "\n",
      "\n",
      "No emotion toward brand or product toward Apple:\n",
      "Austin has two Apple Stores, actually. RT @mention @mention Brian - Austin doesn't have an Apple store but they built a pop up one for #SXSW\n",
      "\n",
      "\n",
      "Positive emotion toward Apple:\n",
      "Apple's pop-up store at #SXSW on the day of the iPad2 release could be the most genius move in marketing history.\n",
      "\n",
      "\n"
     ]
    }
   ],
   "source": [
    "apple_products = ['iPhone', 'iPad or iPhone App', 'iPad', 'Other Apple product or service', 'Apple']\n",
    "sentiments = np.unique(data.sentiment)\n",
    "\n",
    "for product in apple_products:\n",
    "    for sentiment in sentiments:\n",
    "        try:\n",
    "            print(f'{sentiment} toward {product}:')\n",
    "            text = data.loc[\n",
    "                (data.object_of_sentiment==product)&(data.sentiment==sentiment), 'tweet_text'].sample(1).values[0]\n",
    "            print(text)\n",
    "            print('\\n')\n",
    "        except:\n",
    "            continue"
   ]
  },
  {
   "cell_type": "markdown",
   "id": "3308b11a",
   "metadata": {},
   "source": [
    "How many tweets are concerning Apple?"
   ]
  },
  {
   "cell_type": "code",
   "execution_count": 73,
   "id": "712a40d9",
   "metadata": {},
   "outputs": [
    {
     "data": {
      "text/plain": [
       "(2402, 3)"
      ]
     },
     "execution_count": 73,
     "metadata": {},
     "output_type": "execute_result"
    }
   ],
   "source": [
    "data.loc[data.object_of_sentiment.isin(apple_products)].shape"
   ]
  },
  {
   "cell_type": "code",
   "execution_count": 74,
   "id": "97b89376",
   "metadata": {},
   "outputs": [
    {
     "data": {
      "text/plain": [
       "0.268770280854873"
      ]
     },
     "execution_count": 74,
     "metadata": {},
     "output_type": "execute_result"
    }
   ],
   "source": [
    "2402 / len(data)"
   ]
  },
  {
   "cell_type": "markdown",
   "id": "6d93fafc",
   "metadata": {},
   "source": [
    "Roughly 27% of our data concerns Apple products."
   ]
  },
  {
   "cell_type": "markdown",
   "id": "69477444",
   "metadata": {},
   "source": [
    "## Semi-supervised Learning\n",
    "\n",
    "Apply semi-supervised learning to classify the object_of_sentiment for tweets with positive or negative sentiment."
   ]
  },
  {
   "cell_type": "code",
   "execution_count": 75,
   "id": "e4fe3d8b",
   "metadata": {},
   "outputs": [
    {
     "data": {
      "text/html": [
       "<div>\n",
       "<style scoped>\n",
       "    .dataframe tbody tr th:only-of-type {\n",
       "        vertical-align: middle;\n",
       "    }\n",
       "\n",
       "    .dataframe tbody tr th {\n",
       "        vertical-align: top;\n",
       "    }\n",
       "\n",
       "    .dataframe thead th {\n",
       "        text-align: right;\n",
       "    }\n",
       "</style>\n",
       "<table border=\"1\" class=\"dataframe\">\n",
       "  <thead>\n",
       "    <tr style=\"text-align: right;\">\n",
       "      <th></th>\n",
       "      <th>tweet_text</th>\n",
       "      <th>object_of_sentiment</th>\n",
       "      <th>sentiment</th>\n",
       "    </tr>\n",
       "  </thead>\n",
       "  <tbody>\n",
       "    <tr>\n",
       "      <th>0</th>\n",
       "      <td>.@wesley83 I have a 3G iPhone. After 3 hrs twe...</td>\n",
       "      <td>iPhone</td>\n",
       "      <td>Negative emotion</td>\n",
       "    </tr>\n",
       "    <tr>\n",
       "      <th>1</th>\n",
       "      <td>@jessedee Know about @fludapp ? Awesome iPad/i...</td>\n",
       "      <td>iPad or iPhone App</td>\n",
       "      <td>Positive emotion</td>\n",
       "    </tr>\n",
       "    <tr>\n",
       "      <th>2</th>\n",
       "      <td>@swonderlin Can not wait for #iPad 2 also. The...</td>\n",
       "      <td>iPad</td>\n",
       "      <td>Positive emotion</td>\n",
       "    </tr>\n",
       "    <tr>\n",
       "      <th>3</th>\n",
       "      <td>@sxsw I hope this year's festival isn't as cra...</td>\n",
       "      <td>iPad or iPhone App</td>\n",
       "      <td>Negative emotion</td>\n",
       "    </tr>\n",
       "    <tr>\n",
       "      <th>4</th>\n",
       "      <td>@sxtxstate great stuff on Fri #SXSW: Marissa M...</td>\n",
       "      <td>Google</td>\n",
       "      <td>Positive emotion</td>\n",
       "    </tr>\n",
       "  </tbody>\n",
       "</table>\n",
       "</div>"
      ],
      "text/plain": [
       "                                          tweet_text object_of_sentiment   \n",
       "0  .@wesley83 I have a 3G iPhone. After 3 hrs twe...              iPhone  \\\n",
       "1  @jessedee Know about @fludapp ? Awesome iPad/i...  iPad or iPhone App   \n",
       "2  @swonderlin Can not wait for #iPad 2 also. The...                iPad   \n",
       "3  @sxsw I hope this year's festival isn't as cra...  iPad or iPhone App   \n",
       "4  @sxtxstate great stuff on Fri #SXSW: Marissa M...              Google   \n",
       "\n",
       "          sentiment  \n",
       "0  Negative emotion  \n",
       "1  Positive emotion  \n",
       "2  Positive emotion  \n",
       "3  Negative emotion  \n",
       "4  Positive emotion  "
      ]
     },
     "execution_count": 75,
     "metadata": {},
     "output_type": "execute_result"
    }
   ],
   "source": [
    "# get all tweets with positive or negative sentiment\n",
    "emotive_tweets = data.loc[(data.sentiment=='Positive emotion') | (data.sentiment=='Negative emotion')]\n",
    "emotive_tweets.head()"
   ]
  },
  {
   "cell_type": "code",
   "execution_count": 76,
   "id": "06080b26",
   "metadata": {},
   "outputs": [],
   "source": [
    "# separate into \"train\" and \"predict\"\n",
    "train = emotive_tweets.loc[emotive_tweets.object_of_sentiment.isna()==False]\n",
    "predict = emotive_tweets.loc[emotive_tweets.object_of_sentiment.isna()]"
   ]
  },
  {
   "cell_type": "code",
   "execution_count": 77,
   "id": "564e3ef4",
   "metadata": {},
   "outputs": [
    {
     "data": {
      "text/plain": [
       "True"
      ]
     },
     "execution_count": 77,
     "metadata": {},
     "output_type": "execute_result"
    }
   ],
   "source": [
    "# check shapes\n",
    "train.shape[0] + predict.shape[0] == emotive_tweets.shape[0]"
   ]
  },
  {
   "cell_type": "markdown",
   "id": "b5eb8251",
   "metadata": {},
   "source": [
    "Now, we want to build a classifier to classify the object_of_sentiment for the \"predict\" set based on the labels in the \"train\" set."
   ]
  },
  {
   "cell_type": "code",
   "execution_count": 78,
   "id": "e8a47452",
   "metadata": {},
   "outputs": [],
   "source": [
    "train_target = train['object_of_sentiment']\n",
    "train_features = train['tweet_text']"
   ]
  },
  {
   "cell_type": "markdown",
   "id": "371f96ad",
   "metadata": {},
   "source": [
    "We need to label encode the target, then vectorize the tweet text.\n",
    "\n",
    "We now run into the problem that we are going to have when building the sentiment classifier; there are many different ways that we could preprocess the tweet text prior to modeling, and when you combine this with all of the classification algorithms we could use and their hyperparameters to be tuned, we have a truly large search space for the \"best\" model to do the job.\n",
    "\n",
    "For this reason, I plan to drop this data for now and return to this piece of the project after building out a classifier below. I will use whatever preprocessing techniques resulted in the best performance for identifying the object of the sentiment, and I will apply that preprocessing technique to the \"training data\" for labeling the unlabeled object_of_sentiment values, then build a classifier to label these missing values.\n",
    "\n",
    "When I add the newly labeled data to the rest of the training data and refit the best-performing classifier as determined below, if the performance improves or stays the same, I will keep it. Otherwise, this data will be permanently dropped."
   ]
  },
  {
   "cell_type": "markdown",
   "id": "378e3b5b",
   "metadata": {},
   "source": [
    "## Modeling"
   ]
  },
  {
   "cell_type": "markdown",
   "id": "9c39b313",
   "metadata": {},
   "source": [
    "Our goal is to build a classifier which identifies the i.) sentiment and ii.) object of sentiment of a tweet.\n",
    "\n",
    "We are going to build the classifier in steps:\n",
    "\n",
    "1.) Classify a tweet as negative or not negative (positive or neutral, with no distinction between the two.)\n",
    "\n",
    "2.) Classify the object of the sentiment in a tweet.\n",
    "\n",
    "3.) Combine 1 and 2.\n",
    "\n",
    "4.) Classify a tweet as positive, negative or neutral and identify the object of the sentiment (if applicable.)\n",
    "\n",
    "It is not critically important that our classifier be able to distinguish between positive and neutral tweets (hence, it is the last step in our process.)"
   ]
  },
  {
   "cell_type": "code",
   "execution_count": 79,
   "id": "fceaa689",
   "metadata": {},
   "outputs": [
    {
     "data": {
      "text/plain": [
       "tweet_text                1\n",
       "object_of_sentiment    5655\n",
       "sentiment                 0\n",
       "dtype: int64"
      ]
     },
     "execution_count": 79,
     "metadata": {},
     "output_type": "execute_result"
    }
   ],
   "source": [
    "data.isna().sum()"
   ]
  },
  {
   "cell_type": "code",
   "execution_count": 80,
   "id": "1d4f878c",
   "metadata": {},
   "outputs": [
    {
     "name": "stdout",
     "output_type": "stream",
     "text": [
      "We now have 8936 records.\n"
     ]
    }
   ],
   "source": [
    "# drop tweet that is missing tweet_text\n",
    "data.dropna(subset='tweet_text', inplace=True)\n",
    "print(f'We now have {data.shape[0]} records.')"
   ]
  },
  {
   "cell_type": "markdown",
   "id": "c4f6de5d",
   "metadata": {},
   "source": [
    "### Train Test Split"
   ]
  },
  {
   "cell_type": "code",
   "execution_count": 81,
   "id": "b1975bfc",
   "metadata": {
    "scrolled": false
   },
   "outputs": [
    {
     "name": "stdout",
     "output_type": "stream",
     "text": [
      "(5718,)\n",
      "(5718,)\n",
      "\n",
      "\n",
      "(1430,)\n",
      "(1430,)\n",
      "\n",
      "\n",
      "(1788,)\n",
      "(1788,)\n"
     ]
    }
   ],
   "source": [
    "# separate features and target\n",
    "X = data['tweet_text']\n",
    "y = data['sentiment']\n",
    "\n",
    "# label encode the target\n",
    "le = LabelEncoder()\n",
    "y_encoded = pd.Series(le.fit_transform(y), index=y.index)\n",
    "\n",
    "# train test split\n",
    "X_train, X_test, y_train, y_test = train_test_split(X, y_encoded, test_size=0.2, random_state=seed)\n",
    "\n",
    "# train val split\n",
    "X_train, X_val, y_train, y_val = train_test_split(X_train, y_train, test_size=0.2, random_state=seed)\n",
    "\n",
    "# check shapes\n",
    "print(X_train.shape)\n",
    "print(y_train.shape)\n",
    "print('\\n')\n",
    "print(X_val.shape)\n",
    "print(y_val.shape)\n",
    "print('\\n')\n",
    "print(X_test.shape)\n",
    "print(y_test.shape)"
   ]
  },
  {
   "cell_type": "code",
   "execution_count": 82,
   "id": "f3167720",
   "metadata": {},
   "outputs": [
    {
     "data": {
      "text/plain": [
       "1    0.602134\n",
       "2    0.335607\n",
       "0    0.062260\n",
       "Name: proportion, dtype: float64"
      ]
     },
     "execution_count": 82,
     "metadata": {},
     "output_type": "execute_result"
    }
   ],
   "source": [
    "y_train.value_counts(normalize=True)"
   ]
  },
  {
   "cell_type": "code",
   "execution_count": 83,
   "id": "c6555a72",
   "metadata": {},
   "outputs": [
    {
     "data": {
      "text/plain": [
       "{0: 'Negative emotion',\n",
       " 1: 'No emotion toward brand or product',\n",
       " 2: 'Positive emotion'}"
      ]
     },
     "execution_count": 83,
     "metadata": {},
     "output_type": "execute_result"
    }
   ],
   "source": [
    "dict(zip([0, 1, 2], le.classes_))"
   ]
  },
  {
   "cell_type": "markdown",
   "id": "83d1df65",
   "metadata": {},
   "source": [
    "We may have some difficulty capturing the negative class due to its tiny minority! We may even have some difficulty capturing the positive class, also; the neutral class is so big."
   ]
  },
  {
   "cell_type": "markdown",
   "id": "242e48dc",
   "metadata": {},
   "source": [
    "### Preprocessing"
   ]
  },
  {
   "cell_type": "markdown",
   "id": "171e3597",
   "metadata": {},
   "source": [
    "I am going to try three different methods of preprocessing the tweet text to pass in to the model. The tweets need to be \"clean\" (lower cased, with punctuation removed and, ideally, some form of tokenization applied) before these methods can be applied, so we are going to do that preprocessing work first. We will also remove some common English stop words.\n",
    "\n",
    "The vectorization / embedding techniques to then be applied are:\n",
    "- count or term frequency inverse document frequency vectorization (using Scikit Learn's implementations; we will try both)\n",
    "- using pretrained GloVe embeddings and a mean word embedding for each tweet\n",
    "- training a Word2Vec model on our corpus to obtain embeddings (using gensim) and using a mean word embedding for each tweet\n",
    "\n",
    "A fourth and final possible technique to be applied is stacking a combination of these embeddings/vectorizations to pass into the model, along with any other potentially helpful features (e.g. TextBlob's sentiment analysis polarity results for the tweet.)"
   ]
  },
  {
   "cell_type": "markdown",
   "id": "fe2f9cdc",
   "metadata": {},
   "source": [
    "#### General Clean Up"
   ]
  },
  {
   "cell_type": "markdown",
   "id": "d4b1e551",
   "metadata": {},
   "source": [
    "We can apply general clean up techniques and tokenization to the entire training data without leakage, so we will do that first:"
   ]
  },
  {
   "cell_type": "code",
   "execution_count": 84,
   "id": "ac2f4d0e",
   "metadata": {},
   "outputs": [],
   "source": [
    "# clean up (remove punctuation & change to lower case) tweets & remove english stopwords\n",
    "import string\n",
    "from nltk.corpus import stopwords\n",
    "\n",
    "stopwords_list = stopwords.words('english')\n",
    "\n",
    "def clean_up(tweet):\n",
    "    return ' '.join([word.strip(string.punctuation).lower() for word in tweet.split() if\n",
    "                     word not in stopwords_list])"
   ]
  },
  {
   "cell_type": "code",
   "execution_count": 85,
   "id": "c7d05b96",
   "metadata": {},
   "outputs": [
    {
     "data": {
      "text/plain": [
       "5390    rt mention android developers friends let's ha...\n",
       "5237    rt mention ipad design tip looks like physical...\n",
       "7148                            apple store atx link sxsw\n",
       "7206    my life would much better ipad brainwashed lin...\n",
       "5416    rt mention apple autocorrect weird ogilvy auto...\n",
       "Name: tweet_text, dtype: object"
      ]
     },
     "execution_count": 85,
     "metadata": {},
     "output_type": "execute_result"
    }
   ],
   "source": [
    "X_train.apply(clean_up).head()"
   ]
  },
  {
   "cell_type": "markdown",
   "id": "88eead14",
   "metadata": {},
   "source": [
    "#### Tokenization"
   ]
  },
  {
   "cell_type": "markdown",
   "id": "56139d57",
   "metadata": {},
   "source": [
    "We can employ stemming or lemmatization to obtain tokens for vectorization.\n",
    "\n",
    "Stemming is very simple with nltk's Porter Stemmer:"
   ]
  },
  {
   "cell_type": "code",
   "execution_count": 86,
   "id": "653b5d6d",
   "metadata": {},
   "outputs": [
    {
     "data": {
      "text/plain": [
       "\"hi i'm rob and i'm go swim tomorrow woohoo\""
      ]
     },
     "execution_count": 86,
     "metadata": {},
     "output_type": "execute_result"
    }
   ],
   "source": [
    "# stemming\n",
    "from nltk.stem import PorterStemmer\n",
    "\n",
    "def get_stems(tweet):\n",
    "    '''Takes in a string of words and outputs a string of stemmed tokens.'''\n",
    "    stemmer = PorterStemmer()\n",
    "    return ' '.join([stemmer.stem(word) for word in tweet.split()])\n",
    "\n",
    "# test\n",
    "get_stems(\"hi i'm rob and i'm going swimming tomorrow woohoo\")"
   ]
  },
  {
   "cell_type": "markdown",
   "id": "4be843d9",
   "metadata": {},
   "source": [
    "Lemmatization looks more complicated, but this is only because the lemmatizer from WordNet works best if part-of-speech tags are passed to it along with the word itself. Most of the code below generates a wordnet version of a part of speech tag for a word and passes it in to the lemmatizer along with the word itself."
   ]
  },
  {
   "cell_type": "code",
   "execution_count": 87,
   "id": "87e71864",
   "metadata": {},
   "outputs": [
    {
     "data": {
      "text/plain": [
       "\"hi i'm rob and i'm go swim tomorrow woohoo\""
      ]
     },
     "execution_count": 87,
     "metadata": {},
     "output_type": "execute_result"
    }
   ],
   "source": [
    "# lemmatization\n",
    "\n",
    "# imports\n",
    "from nltk.stem import WordNetLemmatizer\n",
    "from nltk.corpus import wordnet\n",
    "import nltk\n",
    "\n",
    "# helper function to get wordnet pos_tags from nltk pos_tags\n",
    "def get_wordnet_pos(tag):\n",
    "    '''Convert POS tags generated by nltk.pos_tag to wordnet tags, for use with word net\n",
    "    lemmatizer provided in the nltk.stem.wordnet package.'''\n",
    "    if tag.startswith('J'):\n",
    "        return wordnet.ADJ\n",
    "    elif tag.startswith('V'):\n",
    "        return wordnet.VERB\n",
    "    elif tag.startswith('N'):\n",
    "        return wordnet.NOUN\n",
    "    elif tag.startswith('R'):\n",
    "        return wordnet.ADV\n",
    "    else:\n",
    "        return wordnet.NOUN\n",
    "    \n",
    "# define function to apply lemmatizer to wordnet-tagged words to get lemmas\n",
    "def get_lemmas(tweet):\n",
    "    '''Takes in a string (tweet) and returns string of lemmatized tokens.'''\n",
    "    # instantiate word net lemmatizer\n",
    "    lemmatizer = WordNetLemmatizer()\n",
    "    \n",
    "    nltk_pos_tags = nltk.pos_tag(tweet.split()) # list of (word, pos_tag)\n",
    "    \n",
    "    wordnet_pos_tags = [(pair[0], get_wordnet_pos(pair[1])) for pair in nltk_pos_tags]\n",
    "    \n",
    "    return ' '.join([lemmatizer.lemmatize(*tagged_word) for tagged_word in wordnet_pos_tags])\n",
    "\n",
    "# test\n",
    "get_lemmas(\"hi i'm rob and i'm going swimming tomorrow woohoo\")"
   ]
  },
  {
   "cell_type": "code",
   "execution_count": 88,
   "id": "d72592fc",
   "metadata": {},
   "outputs": [],
   "source": [
    "# get stemmed and lemmatized tokens for training & validation data\n",
    "X_train_stems = X_train.apply(clean_up).apply(get_stems)\n",
    "X_train_lemmas = X_train.apply(clean_up).apply(get_lemmas)\n",
    "\n",
    "X_val_stems = X_val.apply(clean_up).apply(get_stems)\n",
    "X_val_lemmas = X_val.apply(clean_up).apply(get_lemmas)"
   ]
  },
  {
   "cell_type": "code",
   "execution_count": 89,
   "id": "586f4ad3",
   "metadata": {},
   "outputs": [
    {
     "data": {
      "text/plain": [
       "5390    rt mention android develop friend let' hang 12...\n",
       "5237    rt mention ipad design tip look like physic ob...\n",
       "Name: tweet_text, dtype: object"
      ]
     },
     "execution_count": 89,
     "metadata": {},
     "output_type": "execute_result"
    }
   ],
   "source": [
    "X_train_stems.head(2)"
   ]
  },
  {
   "cell_type": "code",
   "execution_count": 90,
   "id": "03b34973",
   "metadata": {},
   "outputs": [
    {
     "data": {
      "text/plain": [
       "5390    rt mention android developer friends let's han...\n",
       "5237    rt mention ipad design tip look like physical ...\n",
       "Name: tweet_text, dtype: object"
      ]
     },
     "execution_count": 90,
     "metadata": {},
     "output_type": "execute_result"
    }
   ],
   "source": [
    "X_train_lemmas.head(2)"
   ]
  },
  {
   "cell_type": "markdown",
   "id": "a7fbb7a6",
   "metadata": {},
   "source": [
    "We see an example of stemming versus lemmatization in tweet 5237: stemming results in \"physic\", lemmatization results in \"physical\"."
   ]
  },
  {
   "cell_type": "markdown",
   "id": "27587cf3",
   "metadata": {},
   "source": [
    "The classifiers we will test out with are preprocessed data are random forest, naive bayes and support vector machine. We are not testing logistic regression because it is not particularly suited to a multi-class classification problem, and we are not using KNN because it is possible that two tweets which are both positive will contain very different content.\n",
    "\n",
    "I will store my results in the `model_eval` dictionary below which can easily be displayed as a DataFrame to view the model tuning process over time."
   ]
  },
  {
   "cell_type": "code",
   "execution_count": 91,
   "id": "dc40be02",
   "metadata": {},
   "outputs": [],
   "source": [
    "model_eval = {'tokenization': [], 'preprocessing': [], 'classifier': [], 'score': []}\n",
    "\n",
    "def score_model(model, X_train, y_train, X_val, y_val, token, preprocess, clf):\n",
    "    global model_eval\n",
    "    try:\n",
    "        model.fit(X_train, y_train)\n",
    "    except:\n",
    "        print('Error fitting model; check training data. Is it scaled? Try fitting separately to troubleshoot.')\n",
    "        return 0\n",
    "    \n",
    "    model_eval['tokenization'].append(token)\n",
    "    model_eval['preprocessing'].append(preprocess)\n",
    "    model_eval['classifier'].append(clf)\n",
    "    model_eval['score'].append(model.score(X_val, y_val))\n",
    "    \n",
    "    return pd.DataFrame(model_eval).tail()"
   ]
  },
  {
   "cell_type": "code",
   "execution_count": 92,
   "id": "a4df8c63",
   "metadata": {},
   "outputs": [
    {
     "data": {
      "text/html": [
       "<div>\n",
       "<style scoped>\n",
       "    .dataframe tbody tr th:only-of-type {\n",
       "        vertical-align: middle;\n",
       "    }\n",
       "\n",
       "    .dataframe tbody tr th {\n",
       "        vertical-align: top;\n",
       "    }\n",
       "\n",
       "    .dataframe thead th {\n",
       "        text-align: right;\n",
       "    }\n",
       "</style>\n",
       "<table border=\"1\" class=\"dataframe\">\n",
       "  <thead>\n",
       "    <tr style=\"text-align: right;\">\n",
       "      <th></th>\n",
       "      <th>rt</th>\n",
       "      <th>mention</th>\n",
       "      <th>android</th>\n",
       "      <th>develop</th>\n",
       "      <th>friend</th>\n",
       "      <th>let</th>\n",
       "      <th>hang</th>\n",
       "      <th>12</th>\n",
       "      <th>30p</th>\n",
       "      <th>saturday</th>\n",
       "      <th>...</th>\n",
       "      <th>webmail</th>\n",
       "      <th>suppose</th>\n",
       "      <th>forb</th>\n",
       "      <th>mahalo</th>\n",
       "      <th>97</th>\n",
       "      <th>woop</th>\n",
       "      <th>youkidshavefun</th>\n",
       "      <th>tdg</th>\n",
       "      <th>exclud</th>\n",
       "      <th>interface</th>\n",
       "    </tr>\n",
       "  </thead>\n",
       "  <tbody>\n",
       "    <tr>\n",
       "      <th>5390</th>\n",
       "      <td>0</td>\n",
       "      <td>0</td>\n",
       "      <td>0</td>\n",
       "      <td>0</td>\n",
       "      <td>0</td>\n",
       "      <td>0</td>\n",
       "      <td>0</td>\n",
       "      <td>0</td>\n",
       "      <td>0</td>\n",
       "      <td>0</td>\n",
       "      <td>...</td>\n",
       "      <td>0</td>\n",
       "      <td>0</td>\n",
       "      <td>0</td>\n",
       "      <td>0</td>\n",
       "      <td>0</td>\n",
       "      <td>0</td>\n",
       "      <td>0</td>\n",
       "      <td>0</td>\n",
       "      <td>0</td>\n",
       "      <td>0</td>\n",
       "    </tr>\n",
       "    <tr>\n",
       "      <th>5237</th>\n",
       "      <td>0</td>\n",
       "      <td>0</td>\n",
       "      <td>0</td>\n",
       "      <td>0</td>\n",
       "      <td>0</td>\n",
       "      <td>0</td>\n",
       "      <td>0</td>\n",
       "      <td>0</td>\n",
       "      <td>0</td>\n",
       "      <td>0</td>\n",
       "      <td>...</td>\n",
       "      <td>0</td>\n",
       "      <td>0</td>\n",
       "      <td>0</td>\n",
       "      <td>0</td>\n",
       "      <td>0</td>\n",
       "      <td>0</td>\n",
       "      <td>0</td>\n",
       "      <td>0</td>\n",
       "      <td>0</td>\n",
       "      <td>0</td>\n",
       "    </tr>\n",
       "  </tbody>\n",
       "</table>\n",
       "<p>2 rows × 6512 columns</p>\n",
       "</div>"
      ],
      "text/plain": [
       "      rt  mention  android  develop  friend  let  hang  12  30p  saturday   \n",
       "5390   0        0        0        0       0    0     0   0    0         0  \\\n",
       "5237   0        0        0        0       0    0     0   0    0         0   \n",
       "\n",
       "      ...  webmail  suppose  forb  mahalo  97  woop  youkidshavefun  tdg   \n",
       "5390  ...        0        0     0       0   0     0               0    0  \\\n",
       "5237  ...        0        0     0       0   0     0               0    0   \n",
       "\n",
       "      exclud  interface  \n",
       "5390       0          0  \n",
       "5237       0          0  \n",
       "\n",
       "[2 rows x 6512 columns]"
      ]
     },
     "execution_count": 92,
     "metadata": {},
     "output_type": "execute_result"
    }
   ],
   "source": [
    "from sklearn.feature_extraction.text import CountVectorizer\n",
    "\n",
    "count = CountVectorizer()\n",
    "\n",
    "final_X_train = pd.DataFrame(count.fit_transform(X_train_stems).todense(), index=X_train_stems.index,\n",
    "                                                    columns=count.vocabulary_)\n",
    "final_X_val = pd.DataFrame(count.transform(X_val_stems).todense(), index=X_val.index, columns=count.vocabulary_)\n",
    "\n",
    "final_X_train.head(2)"
   ]
  },
  {
   "cell_type": "markdown",
   "id": "29468229",
   "metadata": {},
   "source": [
    "For random forest and naive bayes, it is not strictly necessary to scale the data. Let's go ahead and get scores for these two models."
   ]
  },
  {
   "cell_type": "code",
   "execution_count": 93,
   "id": "9ecce406",
   "metadata": {},
   "outputs": [
    {
     "data": {
      "text/html": [
       "<div>\n",
       "<style scoped>\n",
       "    .dataframe tbody tr th:only-of-type {\n",
       "        vertical-align: middle;\n",
       "    }\n",
       "\n",
       "    .dataframe tbody tr th {\n",
       "        vertical-align: top;\n",
       "    }\n",
       "\n",
       "    .dataframe thead th {\n",
       "        text-align: right;\n",
       "    }\n",
       "</style>\n",
       "<table border=\"1\" class=\"dataframe\">\n",
       "  <thead>\n",
       "    <tr style=\"text-align: right;\">\n",
       "      <th></th>\n",
       "      <th>tokenization</th>\n",
       "      <th>preprocessing</th>\n",
       "      <th>classifier</th>\n",
       "      <th>score</th>\n",
       "    </tr>\n",
       "  </thead>\n",
       "  <tbody>\n",
       "    <tr>\n",
       "      <th>0</th>\n",
       "      <td>stem</td>\n",
       "      <td>count_vectorize</td>\n",
       "      <td>random_forest</td>\n",
       "      <td>0.676923</td>\n",
       "    </tr>\n",
       "    <tr>\n",
       "      <th>1</th>\n",
       "      <td>stem</td>\n",
       "      <td>count_vectorize</td>\n",
       "      <td>naive_bayes</td>\n",
       "      <td>0.684615</td>\n",
       "    </tr>\n",
       "  </tbody>\n",
       "</table>\n",
       "</div>"
      ],
      "text/plain": [
       "  tokenization    preprocessing     classifier     score\n",
       "0         stem  count_vectorize  random_forest  0.676923\n",
       "1         stem  count_vectorize    naive_bayes  0.684615"
      ]
     },
     "execution_count": 93,
     "metadata": {},
     "output_type": "execute_result"
    }
   ],
   "source": [
    "from sklearn.ensemble import RandomForestClassifier\n",
    "from sklearn.naive_bayes import MultinomialNB\n",
    "\n",
    "rf = RandomForestClassifier(random_state=seed)\n",
    "nb = MultinomialNB()\n",
    "\n",
    "score_model(rf, final_X_train, y_train, final_X_val, y_val, 'stem', 'count_vectorize', 'random_forest')\n",
    "score_model(nb, final_X_train, y_train, final_X_val, y_val, 'stem', 'count_vectorize', 'naive_bayes')"
   ]
  },
  {
   "cell_type": "markdown",
   "id": "f62c31ee",
   "metadata": {},
   "source": [
    "For a support vector machine classifier, we do need to scale the data."
   ]
  },
  {
   "cell_type": "code",
   "execution_count": 94,
   "id": "16a19ec2",
   "metadata": {},
   "outputs": [
    {
     "data": {
      "text/html": [
       "<div>\n",
       "<style scoped>\n",
       "    .dataframe tbody tr th:only-of-type {\n",
       "        vertical-align: middle;\n",
       "    }\n",
       "\n",
       "    .dataframe tbody tr th {\n",
       "        vertical-align: top;\n",
       "    }\n",
       "\n",
       "    .dataframe thead th {\n",
       "        text-align: right;\n",
       "    }\n",
       "</style>\n",
       "<table border=\"1\" class=\"dataframe\">\n",
       "  <thead>\n",
       "    <tr style=\"text-align: right;\">\n",
       "      <th></th>\n",
       "      <th>tokenization</th>\n",
       "      <th>preprocessing</th>\n",
       "      <th>classifier</th>\n",
       "      <th>score</th>\n",
       "    </tr>\n",
       "  </thead>\n",
       "  <tbody>\n",
       "    <tr>\n",
       "      <th>0</th>\n",
       "      <td>stem</td>\n",
       "      <td>count_vectorize</td>\n",
       "      <td>random_forest</td>\n",
       "      <td>0.676923</td>\n",
       "    </tr>\n",
       "    <tr>\n",
       "      <th>1</th>\n",
       "      <td>stem</td>\n",
       "      <td>count_vectorize</td>\n",
       "      <td>naive_bayes</td>\n",
       "      <td>0.684615</td>\n",
       "    </tr>\n",
       "    <tr>\n",
       "      <th>2</th>\n",
       "      <td>stem</td>\n",
       "      <td>count_vectorize</td>\n",
       "      <td>support_vector</td>\n",
       "      <td>0.653147</td>\n",
       "    </tr>\n",
       "  </tbody>\n",
       "</table>\n",
       "</div>"
      ],
      "text/plain": [
       "  tokenization    preprocessing      classifier     score\n",
       "0         stem  count_vectorize   random_forest  0.676923\n",
       "1         stem  count_vectorize     naive_bayes  0.684615\n",
       "2         stem  count_vectorize  support_vector  0.653147"
      ]
     },
     "execution_count": 94,
     "metadata": {},
     "output_type": "execute_result"
    }
   ],
   "source": [
    "from sklearn.preprocessing import StandardScaler\n",
    "\n",
    "from sklearn.svm import SVC\n",
    "\n",
    "ss = StandardScaler()\n",
    "\n",
    "scaled_X_train = ss.fit_transform(final_X_train)\n",
    "scaled_X_val = ss.transform(final_X_val)\n",
    "\n",
    "svc = SVC(random_state=seed)\n",
    "\n",
    "score_model(svc, scaled_X_train, y_train, scaled_X_val, y_val, 'stem', 'count_vectorize', 'support_vector')"
   ]
  },
  {
   "cell_type": "markdown",
   "id": "44d34146",
   "metadata": {},
   "source": [
    "With stemming and count vectorization, Naive Bayes is in the lead.\n",
    "\n",
    "Now we need to tune these classifiers, then tune the preprocessing technique (count vectorization) itself.\n",
    "\n",
    "Before we do so, let's check the model scores with the same preprocessing technique, but lemmatization instead of stemming."
   ]
  },
  {
   "cell_type": "code",
   "execution_count": 95,
   "id": "966efc87",
   "metadata": {},
   "outputs": [
    {
     "data": {
      "text/html": [
       "<div>\n",
       "<style scoped>\n",
       "    .dataframe tbody tr th:only-of-type {\n",
       "        vertical-align: middle;\n",
       "    }\n",
       "\n",
       "    .dataframe tbody tr th {\n",
       "        vertical-align: top;\n",
       "    }\n",
       "\n",
       "    .dataframe thead th {\n",
       "        text-align: right;\n",
       "    }\n",
       "</style>\n",
       "<table border=\"1\" class=\"dataframe\">\n",
       "  <thead>\n",
       "    <tr style=\"text-align: right;\">\n",
       "      <th></th>\n",
       "      <th>tokenization</th>\n",
       "      <th>preprocessing</th>\n",
       "      <th>classifier</th>\n",
       "      <th>score</th>\n",
       "    </tr>\n",
       "  </thead>\n",
       "  <tbody>\n",
       "    <tr>\n",
       "      <th>1</th>\n",
       "      <td>stem</td>\n",
       "      <td>count_vectorize</td>\n",
       "      <td>naive_bayes</td>\n",
       "      <td>0.684615</td>\n",
       "    </tr>\n",
       "    <tr>\n",
       "      <th>2</th>\n",
       "      <td>stem</td>\n",
       "      <td>count_vectorize</td>\n",
       "      <td>support_vector</td>\n",
       "      <td>0.653147</td>\n",
       "    </tr>\n",
       "    <tr>\n",
       "      <th>3</th>\n",
       "      <td>lemmatize</td>\n",
       "      <td>count_vectorize</td>\n",
       "      <td>random_forest</td>\n",
       "      <td>0.679021</td>\n",
       "    </tr>\n",
       "    <tr>\n",
       "      <th>4</th>\n",
       "      <td>lemmatize</td>\n",
       "      <td>count_vectorize</td>\n",
       "      <td>naive_bayes</td>\n",
       "      <td>0.683916</td>\n",
       "    </tr>\n",
       "    <tr>\n",
       "      <th>5</th>\n",
       "      <td>lemmatize</td>\n",
       "      <td>count_vectorize</td>\n",
       "      <td>support_vector</td>\n",
       "      <td>0.647552</td>\n",
       "    </tr>\n",
       "  </tbody>\n",
       "</table>\n",
       "</div>"
      ],
      "text/plain": [
       "  tokenization    preprocessing      classifier     score\n",
       "1         stem  count_vectorize     naive_bayes  0.684615\n",
       "2         stem  count_vectorize  support_vector  0.653147\n",
       "3    lemmatize  count_vectorize   random_forest  0.679021\n",
       "4    lemmatize  count_vectorize     naive_bayes  0.683916\n",
       "5    lemmatize  count_vectorize  support_vector  0.647552"
      ]
     },
     "execution_count": 95,
     "metadata": {},
     "output_type": "execute_result"
    }
   ],
   "source": [
    "# refit count vectorizer and standard scaler with lemmatized data\n",
    "\n",
    "final_X_train = pd.DataFrame(count.fit_transform(X_train_lemmas).todense(), index=X_train_lemmas.index,\n",
    "                                                    columns=count.vocabulary_)\n",
    "final_X_val = pd.DataFrame(count.transform(X_val_lemmas).todense(), index=X_val_lemmas.index,\n",
    "                           columns=count.vocabulary_)\n",
    "\n",
    "scaled_X_train = ss.fit_transform(final_X_train)\n",
    "scaled_X_val = ss.transform(final_X_val)\n",
    "\n",
    "# score models with new training and validation data\n",
    "\n",
    "score_model(rf, final_X_train, y_train, final_X_val, y_val, 'lemmatize', 'count_vectorize', 'random_forest')\n",
    "score_model(nb, final_X_train, y_train, final_X_val, y_val, 'lemmatize', 'count_vectorize', 'naive_bayes')\n",
    "score_model(svc, scaled_X_train, y_train, scaled_X_val, y_val, 'lemmatize', 'count_vectorize', 'support_vector')"
   ]
  },
  {
   "cell_type": "markdown",
   "id": "0badaf9f",
   "metadata": {},
   "source": [
    "The best performing classifier so far is Naive Bayes, and it performs 0.1% better with stemming, rather than lemmatization, so we'll use the stemmed and count-vectorized data to tune our Naive Bayes classifier next. Then we can turn our attention back to tuning the count vectorizer itself."
   ]
  },
  {
   "cell_type": "code",
   "execution_count": 96,
   "id": "257acbcb",
   "metadata": {},
   "outputs": [
    {
     "data": {
      "text/html": [
       "<div>\n",
       "<style scoped>\n",
       "    .dataframe tbody tr th:only-of-type {\n",
       "        vertical-align: middle;\n",
       "    }\n",
       "\n",
       "    .dataframe tbody tr th {\n",
       "        vertical-align: top;\n",
       "    }\n",
       "\n",
       "    .dataframe thead th {\n",
       "        text-align: right;\n",
       "    }\n",
       "</style>\n",
       "<table border=\"1\" class=\"dataframe\">\n",
       "  <thead>\n",
       "    <tr style=\"text-align: right;\">\n",
       "      <th></th>\n",
       "      <th>rt</th>\n",
       "      <th>mention</th>\n",
       "      <th>android</th>\n",
       "      <th>develop</th>\n",
       "      <th>friend</th>\n",
       "      <th>let</th>\n",
       "      <th>hang</th>\n",
       "      <th>12</th>\n",
       "      <th>30p</th>\n",
       "      <th>saturday</th>\n",
       "      <th>...</th>\n",
       "      <th>webmail</th>\n",
       "      <th>suppose</th>\n",
       "      <th>forb</th>\n",
       "      <th>mahalo</th>\n",
       "      <th>97</th>\n",
       "      <th>woop</th>\n",
       "      <th>youkidshavefun</th>\n",
       "      <th>tdg</th>\n",
       "      <th>exclud</th>\n",
       "      <th>interface</th>\n",
       "    </tr>\n",
       "  </thead>\n",
       "  <tbody>\n",
       "    <tr>\n",
       "      <th>5390</th>\n",
       "      <td>0</td>\n",
       "      <td>0</td>\n",
       "      <td>0</td>\n",
       "      <td>0</td>\n",
       "      <td>0</td>\n",
       "      <td>0</td>\n",
       "      <td>0</td>\n",
       "      <td>0</td>\n",
       "      <td>0</td>\n",
       "      <td>0</td>\n",
       "      <td>...</td>\n",
       "      <td>0</td>\n",
       "      <td>0</td>\n",
       "      <td>0</td>\n",
       "      <td>0</td>\n",
       "      <td>0</td>\n",
       "      <td>0</td>\n",
       "      <td>0</td>\n",
       "      <td>0</td>\n",
       "      <td>0</td>\n",
       "      <td>0</td>\n",
       "    </tr>\n",
       "    <tr>\n",
       "      <th>5237</th>\n",
       "      <td>0</td>\n",
       "      <td>0</td>\n",
       "      <td>0</td>\n",
       "      <td>0</td>\n",
       "      <td>0</td>\n",
       "      <td>0</td>\n",
       "      <td>0</td>\n",
       "      <td>0</td>\n",
       "      <td>0</td>\n",
       "      <td>0</td>\n",
       "      <td>...</td>\n",
       "      <td>0</td>\n",
       "      <td>0</td>\n",
       "      <td>0</td>\n",
       "      <td>0</td>\n",
       "      <td>0</td>\n",
       "      <td>0</td>\n",
       "      <td>0</td>\n",
       "      <td>0</td>\n",
       "      <td>0</td>\n",
       "      <td>0</td>\n",
       "    </tr>\n",
       "  </tbody>\n",
       "</table>\n",
       "<p>2 rows × 6512 columns</p>\n",
       "</div>"
      ],
      "text/plain": [
       "      rt  mention  android  develop  friend  let  hang  12  30p  saturday   \n",
       "5390   0        0        0        0       0    0     0   0    0         0  \\\n",
       "5237   0        0        0        0       0    0     0   0    0         0   \n",
       "\n",
       "      ...  webmail  suppose  forb  mahalo  97  woop  youkidshavefun  tdg   \n",
       "5390  ...        0        0     0       0   0     0               0    0  \\\n",
       "5237  ...        0        0     0       0   0     0               0    0   \n",
       "\n",
       "      exclud  interface  \n",
       "5390       0          0  \n",
       "5237       0          0  \n",
       "\n",
       "[2 rows x 6512 columns]"
      ]
     },
     "execution_count": 96,
     "metadata": {},
     "output_type": "execute_result"
    }
   ],
   "source": [
    "best_X_train = pd.DataFrame(count.fit_transform(X_train_stems).todense(), index=X_train_stems.index,\n",
    "                            columns=count.vocabulary_)\n",
    "best_X_val = pd.DataFrame(count.transform(X_val_stems).todense(), index=X_val_stems.index,\n",
    "                          columns=count.vocabulary_)\n",
    "best_X_train.head(2)"
   ]
  },
  {
   "cell_type": "code",
   "execution_count": 97,
   "id": "a525c4ce",
   "metadata": {},
   "outputs": [
    {
     "data": {
      "text/html": [
       "<style>#sk-container-id-1 {color: black;background-color: white;}#sk-container-id-1 pre{padding: 0;}#sk-container-id-1 div.sk-toggleable {background-color: white;}#sk-container-id-1 label.sk-toggleable__label {cursor: pointer;display: block;width: 100%;margin-bottom: 0;padding: 0.3em;box-sizing: border-box;text-align: center;}#sk-container-id-1 label.sk-toggleable__label-arrow:before {content: \"▸\";float: left;margin-right: 0.25em;color: #696969;}#sk-container-id-1 label.sk-toggleable__label-arrow:hover:before {color: black;}#sk-container-id-1 div.sk-estimator:hover label.sk-toggleable__label-arrow:before {color: black;}#sk-container-id-1 div.sk-toggleable__content {max-height: 0;max-width: 0;overflow: hidden;text-align: left;background-color: #f0f8ff;}#sk-container-id-1 div.sk-toggleable__content pre {margin: 0.2em;color: black;border-radius: 0.25em;background-color: #f0f8ff;}#sk-container-id-1 input.sk-toggleable__control:checked~div.sk-toggleable__content {max-height: 200px;max-width: 100%;overflow: auto;}#sk-container-id-1 input.sk-toggleable__control:checked~label.sk-toggleable__label-arrow:before {content: \"▾\";}#sk-container-id-1 div.sk-estimator input.sk-toggleable__control:checked~label.sk-toggleable__label {background-color: #d4ebff;}#sk-container-id-1 div.sk-label input.sk-toggleable__control:checked~label.sk-toggleable__label {background-color: #d4ebff;}#sk-container-id-1 input.sk-hidden--visually {border: 0;clip: rect(1px 1px 1px 1px);clip: rect(1px, 1px, 1px, 1px);height: 1px;margin: -1px;overflow: hidden;padding: 0;position: absolute;width: 1px;}#sk-container-id-1 div.sk-estimator {font-family: monospace;background-color: #f0f8ff;border: 1px dotted black;border-radius: 0.25em;box-sizing: border-box;margin-bottom: 0.5em;}#sk-container-id-1 div.sk-estimator:hover {background-color: #d4ebff;}#sk-container-id-1 div.sk-parallel-item::after {content: \"\";width: 100%;border-bottom: 1px solid gray;flex-grow: 1;}#sk-container-id-1 div.sk-label:hover label.sk-toggleable__label {background-color: #d4ebff;}#sk-container-id-1 div.sk-serial::before {content: \"\";position: absolute;border-left: 1px solid gray;box-sizing: border-box;top: 0;bottom: 0;left: 50%;z-index: 0;}#sk-container-id-1 div.sk-serial {display: flex;flex-direction: column;align-items: center;background-color: white;padding-right: 0.2em;padding-left: 0.2em;position: relative;}#sk-container-id-1 div.sk-item {position: relative;z-index: 1;}#sk-container-id-1 div.sk-parallel {display: flex;align-items: stretch;justify-content: center;background-color: white;position: relative;}#sk-container-id-1 div.sk-item::before, #sk-container-id-1 div.sk-parallel-item::before {content: \"\";position: absolute;border-left: 1px solid gray;box-sizing: border-box;top: 0;bottom: 0;left: 50%;z-index: -1;}#sk-container-id-1 div.sk-parallel-item {display: flex;flex-direction: column;z-index: 1;position: relative;background-color: white;}#sk-container-id-1 div.sk-parallel-item:first-child::after {align-self: flex-end;width: 50%;}#sk-container-id-1 div.sk-parallel-item:last-child::after {align-self: flex-start;width: 50%;}#sk-container-id-1 div.sk-parallel-item:only-child::after {width: 0;}#sk-container-id-1 div.sk-dashed-wrapped {border: 1px dashed gray;margin: 0 0.4em 0.5em 0.4em;box-sizing: border-box;padding-bottom: 0.4em;background-color: white;}#sk-container-id-1 div.sk-label label {font-family: monospace;font-weight: bold;display: inline-block;line-height: 1.2em;}#sk-container-id-1 div.sk-label-container {text-align: center;}#sk-container-id-1 div.sk-container {/* jupyter's `normalize.less` sets `[hidden] { display: none; }` but bootstrap.min.css set `[hidden] { display: none !important; }` so we also need the `!important` here to be able to override the default hidden behavior on the sphinx rendered scikit-learn.org. See: https://github.com/scikit-learn/scikit-learn/issues/21755 */display: inline-block !important;position: relative;}#sk-container-id-1 div.sk-text-repr-fallback {display: none;}</style><div id=\"sk-container-id-1\" class=\"sk-top-container\"><div class=\"sk-text-repr-fallback\"><pre>GridSearchCV(estimator=MultinomialNB(), param_grid={&#x27;alpha&#x27;: [1, 0.5, 10]},\n",
       "             scoring=&#x27;accuracy&#x27;)</pre><b>In a Jupyter environment, please rerun this cell to show the HTML representation or trust the notebook. <br />On GitHub, the HTML representation is unable to render, please try loading this page with nbviewer.org.</b></div><div class=\"sk-container\" hidden><div class=\"sk-item sk-dashed-wrapped\"><div class=\"sk-label-container\"><div class=\"sk-label sk-toggleable\"><input class=\"sk-toggleable__control sk-hidden--visually\" id=\"sk-estimator-id-1\" type=\"checkbox\" ><label for=\"sk-estimator-id-1\" class=\"sk-toggleable__label sk-toggleable__label-arrow\">GridSearchCV</label><div class=\"sk-toggleable__content\"><pre>GridSearchCV(estimator=MultinomialNB(), param_grid={&#x27;alpha&#x27;: [1, 0.5, 10]},\n",
       "             scoring=&#x27;accuracy&#x27;)</pre></div></div></div><div class=\"sk-parallel\"><div class=\"sk-parallel-item\"><div class=\"sk-item\"><div class=\"sk-label-container\"><div class=\"sk-label sk-toggleable\"><input class=\"sk-toggleable__control sk-hidden--visually\" id=\"sk-estimator-id-2\" type=\"checkbox\" ><label for=\"sk-estimator-id-2\" class=\"sk-toggleable__label sk-toggleable__label-arrow\">estimator: MultinomialNB</label><div class=\"sk-toggleable__content\"><pre>MultinomialNB()</pre></div></div></div><div class=\"sk-serial\"><div class=\"sk-item\"><div class=\"sk-estimator sk-toggleable\"><input class=\"sk-toggleable__control sk-hidden--visually\" id=\"sk-estimator-id-3\" type=\"checkbox\" ><label for=\"sk-estimator-id-3\" class=\"sk-toggleable__label sk-toggleable__label-arrow\">MultinomialNB</label><div class=\"sk-toggleable__content\"><pre>MultinomialNB()</pre></div></div></div></div></div></div></div></div></div></div>"
      ],
      "text/plain": [
       "GridSearchCV(estimator=MultinomialNB(), param_grid={'alpha': [1, 0.5, 10]},\n",
       "             scoring='accuracy')"
      ]
     },
     "execution_count": 97,
     "metadata": {},
     "output_type": "execute_result"
    }
   ],
   "source": [
    "from sklearn.model_selection import GridSearchCV\n",
    "\n",
    "param_grid = {'alpha': [1, 0.5, 10]}\n",
    "\n",
    "grid_search = GridSearchCV(nb, param_grid, scoring='accuracy')\n",
    "\n",
    "grid_search.fit(best_X_train, y_train)"
   ]
  },
  {
   "cell_type": "code",
   "execution_count": 98,
   "id": "c285ebae",
   "metadata": {},
   "outputs": [
    {
     "data": {
      "text/plain": [
       "0.6631672570648949"
      ]
     },
     "execution_count": 98,
     "metadata": {},
     "output_type": "execute_result"
    }
   ],
   "source": [
    "grid_search.best_score_"
   ]
  },
  {
   "cell_type": "markdown",
   "id": "461102d1",
   "metadata": {},
   "source": [
    "There is very little that can be done to tune a Naive Bayes classifier. Changing the smoothing parameter didn't have a great effect.\n",
    "\n",
    "So we'll move on to tuning the count vectorizer."
   ]
  },
  {
   "cell_type": "code",
   "execution_count": 99,
   "id": "b3eb56a4",
   "metadata": {},
   "outputs": [
    {
     "data": {
      "text/plain": [
       "6512"
      ]
     },
     "execution_count": 99,
     "metadata": {},
     "output_type": "execute_result"
    }
   ],
   "source": [
    "len(count.vocabulary_)"
   ]
  },
  {
   "cell_type": "markdown",
   "id": "550a8c7c",
   "metadata": {},
   "source": [
    "Currently, the \"baseline\" count vectorizer has a vocabulary of 6512 lemmas.\n",
    "\n",
    "One technique we can try to improve the classifier's performance is limiting the vectorizer's vocabulary to only those words which show up often enough *and* little enough to qualify as being meaningful. (Example: 'the' shows up too often to provide information, but a word which only shows up once in the entire corpus also won't help us, for example, a specific person's username.)\n",
    "\n",
    "The below vectorizer has a \"maximum document frequency\" of 90% (only include a token if it appears in fewer than 90% of tweets) and a \"minimum document frequency\" of 5% (only include tokens which appear in more than 5% of all tweets.)"
   ]
  },
  {
   "cell_type": "code",
   "execution_count": 100,
   "id": "42d473cf",
   "metadata": {},
   "outputs": [
    {
     "data": {
      "text/html": [
       "<div>\n",
       "<style scoped>\n",
       "    .dataframe tbody tr th:only-of-type {\n",
       "        vertical-align: middle;\n",
       "    }\n",
       "\n",
       "    .dataframe tbody tr th {\n",
       "        vertical-align: top;\n",
       "    }\n",
       "\n",
       "    .dataframe thead th {\n",
       "        text-align: right;\n",
       "    }\n",
       "</style>\n",
       "<table border=\"1\" class=\"dataframe\">\n",
       "  <thead>\n",
       "    <tr style=\"text-align: right;\">\n",
       "      <th></th>\n",
       "      <th>tokenization</th>\n",
       "      <th>preprocessing</th>\n",
       "      <th>classifier</th>\n",
       "      <th>score</th>\n",
       "    </tr>\n",
       "  </thead>\n",
       "  <tbody>\n",
       "    <tr>\n",
       "      <th>2</th>\n",
       "      <td>stem</td>\n",
       "      <td>count_vectorize</td>\n",
       "      <td>support_vector</td>\n",
       "      <td>0.653147</td>\n",
       "    </tr>\n",
       "    <tr>\n",
       "      <th>3</th>\n",
       "      <td>lemmatize</td>\n",
       "      <td>count_vectorize</td>\n",
       "      <td>random_forest</td>\n",
       "      <td>0.679021</td>\n",
       "    </tr>\n",
       "    <tr>\n",
       "      <th>4</th>\n",
       "      <td>lemmatize</td>\n",
       "      <td>count_vectorize</td>\n",
       "      <td>naive_bayes</td>\n",
       "      <td>0.683916</td>\n",
       "    </tr>\n",
       "    <tr>\n",
       "      <th>5</th>\n",
       "      <td>lemmatize</td>\n",
       "      <td>count_vectorize</td>\n",
       "      <td>support_vector</td>\n",
       "      <td>0.647552</td>\n",
       "    </tr>\n",
       "    <tr>\n",
       "      <th>6</th>\n",
       "      <td>stem</td>\n",
       "      <td>CountVectorizer(max_df=0.9, min_df=0.05)</td>\n",
       "      <td>MultinomialNB()</td>\n",
       "      <td>0.612587</td>\n",
       "    </tr>\n",
       "  </tbody>\n",
       "</table>\n",
       "</div>"
      ],
      "text/plain": [
       "  tokenization                             preprocessing       classifier   \n",
       "2         stem                           count_vectorize   support_vector  \\\n",
       "3    lemmatize                           count_vectorize    random_forest   \n",
       "4    lemmatize                           count_vectorize      naive_bayes   \n",
       "5    lemmatize                           count_vectorize   support_vector   \n",
       "6         stem  CountVectorizer(max_df=0.9, min_df=0.05)  MultinomialNB()   \n",
       "\n",
       "      score  \n",
       "2  0.653147  \n",
       "3  0.679021  \n",
       "4  0.683916  \n",
       "5  0.647552  \n",
       "6  0.612587  "
      ]
     },
     "execution_count": 100,
     "metadata": {},
     "output_type": "execute_result"
    }
   ],
   "source": [
    "count = CountVectorizer(min_df=0.05, max_df=0.9)\n",
    "\n",
    "final_X_train = pd.DataFrame(count.fit_transform(X_train_stems).todense(), index=X_train_stems.index,\n",
    "                                                    columns=count.vocabulary_)\n",
    "final_X_val = pd.DataFrame(count.transform(X_val_stems).todense(), index=X_val_stems.index,\n",
    "                           columns=count.vocabulary_)\n",
    "\n",
    "score_model(nb, final_X_train, y_train, final_X_val, y_val, 'stem', count, nb)"
   ]
  },
  {
   "cell_type": "markdown",
   "id": "2e257e5b",
   "metadata": {},
   "source": [
    "Our model's score is worse (by about 7%.) Let's try a more conservative maximum document frequency."
   ]
  },
  {
   "cell_type": "code",
   "execution_count": 101,
   "id": "fd132a0c",
   "metadata": {},
   "outputs": [
    {
     "data": {
      "text/html": [
       "<div>\n",
       "<style scoped>\n",
       "    .dataframe tbody tr th:only-of-type {\n",
       "        vertical-align: middle;\n",
       "    }\n",
       "\n",
       "    .dataframe tbody tr th {\n",
       "        vertical-align: top;\n",
       "    }\n",
       "\n",
       "    .dataframe thead th {\n",
       "        text-align: right;\n",
       "    }\n",
       "</style>\n",
       "<table border=\"1\" class=\"dataframe\">\n",
       "  <thead>\n",
       "    <tr style=\"text-align: right;\">\n",
       "      <th></th>\n",
       "      <th>tokenization</th>\n",
       "      <th>preprocessing</th>\n",
       "      <th>classifier</th>\n",
       "      <th>score</th>\n",
       "    </tr>\n",
       "  </thead>\n",
       "  <tbody>\n",
       "    <tr>\n",
       "      <th>3</th>\n",
       "      <td>lemmatize</td>\n",
       "      <td>count_vectorize</td>\n",
       "      <td>random_forest</td>\n",
       "      <td>0.679021</td>\n",
       "    </tr>\n",
       "    <tr>\n",
       "      <th>4</th>\n",
       "      <td>lemmatize</td>\n",
       "      <td>count_vectorize</td>\n",
       "      <td>naive_bayes</td>\n",
       "      <td>0.683916</td>\n",
       "    </tr>\n",
       "    <tr>\n",
       "      <th>5</th>\n",
       "      <td>lemmatize</td>\n",
       "      <td>count_vectorize</td>\n",
       "      <td>support_vector</td>\n",
       "      <td>0.647552</td>\n",
       "    </tr>\n",
       "    <tr>\n",
       "      <th>6</th>\n",
       "      <td>stem</td>\n",
       "      <td>CountVectorizer(max_df=0.9, min_df=0.05)</td>\n",
       "      <td>MultinomialNB()</td>\n",
       "      <td>0.612587</td>\n",
       "    </tr>\n",
       "    <tr>\n",
       "      <th>7</th>\n",
       "      <td>stem</td>\n",
       "      <td>CountVectorizer(max_df=0.95, min_df=0.05)</td>\n",
       "      <td>MultinomialNB()</td>\n",
       "      <td>0.612587</td>\n",
       "    </tr>\n",
       "  </tbody>\n",
       "</table>\n",
       "</div>"
      ],
      "text/plain": [
       "  tokenization                              preprocessing       classifier   \n",
       "3    lemmatize                            count_vectorize    random_forest  \\\n",
       "4    lemmatize                            count_vectorize      naive_bayes   \n",
       "5    lemmatize                            count_vectorize   support_vector   \n",
       "6         stem   CountVectorizer(max_df=0.9, min_df=0.05)  MultinomialNB()   \n",
       "7         stem  CountVectorizer(max_df=0.95, min_df=0.05)  MultinomialNB()   \n",
       "\n",
       "      score  \n",
       "3  0.679021  \n",
       "4  0.683916  \n",
       "5  0.647552  \n",
       "6  0.612587  \n",
       "7  0.612587  "
      ]
     },
     "execution_count": 101,
     "metadata": {},
     "output_type": "execute_result"
    }
   ],
   "source": [
    "count = CountVectorizer(min_df=0.05, max_df=0.95)\n",
    "\n",
    "final_X_train = pd.DataFrame(count.fit_transform(X_train_stems).todense(), index=X_train_stems.index,\n",
    "                                                    columns=count.vocabulary_)\n",
    "final_X_val = pd.DataFrame(count.transform(X_val_stems).todense(), index=X_val_stems.index,\n",
    "                           columns=count.vocabulary_)\n",
    "\n",
    "score_model(nb, final_X_train, y_train, final_X_val, y_val, 'stem', count, nb)"
   ]
  },
  {
   "cell_type": "markdown",
   "id": "ff91a7ad",
   "metadata": {},
   "source": [
    "Taking out information doesn't seem to be improving the model's performance, so let's try adding information by including bigrams in our training data."
   ]
  },
  {
   "cell_type": "code",
   "execution_count": 102,
   "id": "f8fe4ec0",
   "metadata": {},
   "outputs": [
    {
     "data": {
      "text/html": [
       "<div>\n",
       "<style scoped>\n",
       "    .dataframe tbody tr th:only-of-type {\n",
       "        vertical-align: middle;\n",
       "    }\n",
       "\n",
       "    .dataframe tbody tr th {\n",
       "        vertical-align: top;\n",
       "    }\n",
       "\n",
       "    .dataframe thead th {\n",
       "        text-align: right;\n",
       "    }\n",
       "</style>\n",
       "<table border=\"1\" class=\"dataframe\">\n",
       "  <thead>\n",
       "    <tr style=\"text-align: right;\">\n",
       "      <th></th>\n",
       "      <th>tokenization</th>\n",
       "      <th>preprocessing</th>\n",
       "      <th>classifier</th>\n",
       "      <th>score</th>\n",
       "    </tr>\n",
       "  </thead>\n",
       "  <tbody>\n",
       "    <tr>\n",
       "      <th>4</th>\n",
       "      <td>lemmatize</td>\n",
       "      <td>count_vectorize</td>\n",
       "      <td>naive_bayes</td>\n",
       "      <td>0.683916</td>\n",
       "    </tr>\n",
       "    <tr>\n",
       "      <th>5</th>\n",
       "      <td>lemmatize</td>\n",
       "      <td>count_vectorize</td>\n",
       "      <td>support_vector</td>\n",
       "      <td>0.647552</td>\n",
       "    </tr>\n",
       "    <tr>\n",
       "      <th>6</th>\n",
       "      <td>stem</td>\n",
       "      <td>CountVectorizer(max_df=0.9, min_df=0.05)</td>\n",
       "      <td>MultinomialNB()</td>\n",
       "      <td>0.612587</td>\n",
       "    </tr>\n",
       "    <tr>\n",
       "      <th>7</th>\n",
       "      <td>stem</td>\n",
       "      <td>CountVectorizer(max_df=0.95, min_df=0.05)</td>\n",
       "      <td>MultinomialNB()</td>\n",
       "      <td>0.612587</td>\n",
       "    </tr>\n",
       "    <tr>\n",
       "      <th>8</th>\n",
       "      <td>stem</td>\n",
       "      <td>CountVectorizer(ngram_range=(1, 2))</td>\n",
       "      <td>MultinomialNB()</td>\n",
       "      <td>0.690909</td>\n",
       "    </tr>\n",
       "  </tbody>\n",
       "</table>\n",
       "</div>"
      ],
      "text/plain": [
       "  tokenization                              preprocessing       classifier   \n",
       "4    lemmatize                            count_vectorize      naive_bayes  \\\n",
       "5    lemmatize                            count_vectorize   support_vector   \n",
       "6         stem   CountVectorizer(max_df=0.9, min_df=0.05)  MultinomialNB()   \n",
       "7         stem  CountVectorizer(max_df=0.95, min_df=0.05)  MultinomialNB()   \n",
       "8         stem        CountVectorizer(ngram_range=(1, 2))  MultinomialNB()   \n",
       "\n",
       "      score  \n",
       "4  0.683916  \n",
       "5  0.647552  \n",
       "6  0.612587  \n",
       "7  0.612587  \n",
       "8  0.690909  "
      ]
     },
     "execution_count": 102,
     "metadata": {},
     "output_type": "execute_result"
    }
   ],
   "source": [
    "count = CountVectorizer(ngram_range=(1, 2))\n",
    "\n",
    "final_X_train = pd.DataFrame(count.fit_transform(X_train_stems).todense(), index=X_train_stems.index,\n",
    "                                                    columns=count.vocabulary_)\n",
    "final_X_val = pd.DataFrame(count.transform(X_val_stems).todense(), index=X_val_stems.index,\n",
    "                           columns=count.vocabulary_)\n",
    "\n",
    "score_model(nb, final_X_train, y_train, final_X_val, y_val, 'stem', count, nb)"
   ]
  },
  {
   "cell_type": "markdown",
   "id": "b7692e83",
   "metadata": {},
   "source": [
    "Adding bigrams very slightly improved the model's performance."
   ]
  },
  {
   "cell_type": "markdown",
   "id": "452bbed4",
   "metadata": {},
   "source": [
    "It's probably worth giving our other two classifiers a chance to be tuned as well before dismissing them out of hand (especially since there was so little to tune in the best model - there are a lot more knobs to turn for random forest, so perhaps it will improve significantly over the baseline.)\n",
    "\n",
    "Going back to simply X_train_stems, let's tune our random forest classifier next.\n",
    "\n",
    "Increasing the number of estimators should improve performance. Limiting the maximum depth of individual decision trees can help those trees not to overfit. It's possible that weighting the classes according to their ratios could improve performance as well."
   ]
  },
  {
   "cell_type": "code",
   "execution_count": 103,
   "id": "21d9f98e",
   "metadata": {},
   "outputs": [
    {
     "data": {
      "text/plain": [
       "0.6411328610147508"
      ]
     },
     "execution_count": 103,
     "metadata": {},
     "output_type": "execute_result"
    }
   ],
   "source": [
    "param_grid = {'n_estimators': [100, 200, 300],\n",
    "              'max_depth': [2, 10, 20, 50],\n",
    "              'random_state': [seed]}\n",
    "\n",
    "rf = RandomForestClassifier()\n",
    "\n",
    "grid_search = GridSearchCV(rf, param_grid, scoring='accuracy')\n",
    "\n",
    "grid_search.fit(final_X_train, y_train)\n",
    "\n",
    "grid_search.best_score_"
   ]
  },
  {
   "cell_type": "markdown",
   "id": "605e89d0",
   "metadata": {},
   "source": [
    "Tuning the random forest failed miserably. Let's try different versions of count vectorize paired with the random forest."
   ]
  },
  {
   "cell_type": "code",
   "execution_count": 104,
   "id": "9526b06d",
   "metadata": {},
   "outputs": [
    {
     "data": {
      "text/html": [
       "<div>\n",
       "<style scoped>\n",
       "    .dataframe tbody tr th:only-of-type {\n",
       "        vertical-align: middle;\n",
       "    }\n",
       "\n",
       "    .dataframe tbody tr th {\n",
       "        vertical-align: top;\n",
       "    }\n",
       "\n",
       "    .dataframe thead th {\n",
       "        text-align: right;\n",
       "    }\n",
       "</style>\n",
       "<table border=\"1\" class=\"dataframe\">\n",
       "  <thead>\n",
       "    <tr style=\"text-align: right;\">\n",
       "      <th></th>\n",
       "      <th>tokenization</th>\n",
       "      <th>preprocessing</th>\n",
       "      <th>classifier</th>\n",
       "      <th>score</th>\n",
       "    </tr>\n",
       "  </thead>\n",
       "  <tbody>\n",
       "    <tr>\n",
       "      <th>5</th>\n",
       "      <td>lemmatize</td>\n",
       "      <td>count_vectorize</td>\n",
       "      <td>support_vector</td>\n",
       "      <td>0.647552</td>\n",
       "    </tr>\n",
       "    <tr>\n",
       "      <th>6</th>\n",
       "      <td>stem</td>\n",
       "      <td>CountVectorizer(max_df=0.9, min_df=0.05)</td>\n",
       "      <td>MultinomialNB()</td>\n",
       "      <td>0.612587</td>\n",
       "    </tr>\n",
       "    <tr>\n",
       "      <th>7</th>\n",
       "      <td>stem</td>\n",
       "      <td>CountVectorizer(max_df=0.95, min_df=0.05)</td>\n",
       "      <td>MultinomialNB()</td>\n",
       "      <td>0.612587</td>\n",
       "    </tr>\n",
       "    <tr>\n",
       "      <th>8</th>\n",
       "      <td>stem</td>\n",
       "      <td>CountVectorizer(ngram_range=(1, 2))</td>\n",
       "      <td>MultinomialNB()</td>\n",
       "      <td>0.690909</td>\n",
       "    </tr>\n",
       "    <tr>\n",
       "      <th>9</th>\n",
       "      <td>stem</td>\n",
       "      <td>CountVectorizer(max_df=0.95, min_df=0.05)</td>\n",
       "      <td>(DecisionTreeClassifier(max_features='sqrt', r...</td>\n",
       "      <td>0.575524</td>\n",
       "    </tr>\n",
       "  </tbody>\n",
       "</table>\n",
       "</div>"
      ],
      "text/plain": [
       "  tokenization                              preprocessing   \n",
       "5    lemmatize                            count_vectorize  \\\n",
       "6         stem   CountVectorizer(max_df=0.9, min_df=0.05)   \n",
       "7         stem  CountVectorizer(max_df=0.95, min_df=0.05)   \n",
       "8         stem        CountVectorizer(ngram_range=(1, 2))   \n",
       "9         stem  CountVectorizer(max_df=0.95, min_df=0.05)   \n",
       "\n",
       "                                          classifier     score  \n",
       "5                                     support_vector  0.647552  \n",
       "6                                    MultinomialNB()  0.612587  \n",
       "7                                    MultinomialNB()  0.612587  \n",
       "8                                    MultinomialNB()  0.690909  \n",
       "9  (DecisionTreeClassifier(max_features='sqrt', r...  0.575524  "
      ]
     },
     "execution_count": 104,
     "metadata": {},
     "output_type": "execute_result"
    }
   ],
   "source": [
    "count = CountVectorizer(min_df=0.05, max_df=0.95)\n",
    "\n",
    "final_X_train = pd.DataFrame(count.fit_transform(X_train_stems).todense(), index=X_train_stems.index,\n",
    "                             columns=count.vocabulary_)\n",
    "final_X_val = pd.DataFrame(count.transform(X_val_stems).todense(), index=X_val_stems.index,\n",
    "                           columns=count.vocabulary_)\n",
    "\n",
    "score_model(rf, final_X_train, y_train, final_X_val, y_val, 'stem', count, rf)"
   ]
  },
  {
   "cell_type": "markdown",
   "id": "ca6d986d",
   "metadata": {},
   "source": [
    "Once again, let's try adding bigrams instead of specifying document frequency limits."
   ]
  },
  {
   "cell_type": "code",
   "execution_count": 105,
   "id": "5c1bdbb1",
   "metadata": {},
   "outputs": [
    {
     "data": {
      "text/html": [
       "<div>\n",
       "<style scoped>\n",
       "    .dataframe tbody tr th:only-of-type {\n",
       "        vertical-align: middle;\n",
       "    }\n",
       "\n",
       "    .dataframe tbody tr th {\n",
       "        vertical-align: top;\n",
       "    }\n",
       "\n",
       "    .dataframe thead th {\n",
       "        text-align: right;\n",
       "    }\n",
       "</style>\n",
       "<table border=\"1\" class=\"dataframe\">\n",
       "  <thead>\n",
       "    <tr style=\"text-align: right;\">\n",
       "      <th></th>\n",
       "      <th>tokenization</th>\n",
       "      <th>preprocessing</th>\n",
       "      <th>classifier</th>\n",
       "      <th>score</th>\n",
       "    </tr>\n",
       "  </thead>\n",
       "  <tbody>\n",
       "    <tr>\n",
       "      <th>6</th>\n",
       "      <td>stem</td>\n",
       "      <td>CountVectorizer(max_df=0.9, min_df=0.05)</td>\n",
       "      <td>MultinomialNB()</td>\n",
       "      <td>0.612587</td>\n",
       "    </tr>\n",
       "    <tr>\n",
       "      <th>7</th>\n",
       "      <td>stem</td>\n",
       "      <td>CountVectorizer(max_df=0.95, min_df=0.05)</td>\n",
       "      <td>MultinomialNB()</td>\n",
       "      <td>0.612587</td>\n",
       "    </tr>\n",
       "    <tr>\n",
       "      <th>8</th>\n",
       "      <td>stem</td>\n",
       "      <td>CountVectorizer(ngram_range=(1, 2))</td>\n",
       "      <td>MultinomialNB()</td>\n",
       "      <td>0.690909</td>\n",
       "    </tr>\n",
       "    <tr>\n",
       "      <th>9</th>\n",
       "      <td>stem</td>\n",
       "      <td>CountVectorizer(max_df=0.95, min_df=0.05)</td>\n",
       "      <td>(DecisionTreeClassifier(max_features='sqrt', r...</td>\n",
       "      <td>0.575524</td>\n",
       "    </tr>\n",
       "    <tr>\n",
       "      <th>10</th>\n",
       "      <td>stem</td>\n",
       "      <td>CountVectorizer(ngram_range=(1, 2))</td>\n",
       "      <td>(DecisionTreeClassifier(max_features='sqrt', r...</td>\n",
       "      <td>0.657343</td>\n",
       "    </tr>\n",
       "  </tbody>\n",
       "</table>\n",
       "</div>"
      ],
      "text/plain": [
       "   tokenization                              preprocessing   \n",
       "6          stem   CountVectorizer(max_df=0.9, min_df=0.05)  \\\n",
       "7          stem  CountVectorizer(max_df=0.95, min_df=0.05)   \n",
       "8          stem        CountVectorizer(ngram_range=(1, 2))   \n",
       "9          stem  CountVectorizer(max_df=0.95, min_df=0.05)   \n",
       "10         stem        CountVectorizer(ngram_range=(1, 2))   \n",
       "\n",
       "                                           classifier     score  \n",
       "6                                     MultinomialNB()  0.612587  \n",
       "7                                     MultinomialNB()  0.612587  \n",
       "8                                     MultinomialNB()  0.690909  \n",
       "9   (DecisionTreeClassifier(max_features='sqrt', r...  0.575524  \n",
       "10  (DecisionTreeClassifier(max_features='sqrt', r...  0.657343  "
      ]
     },
     "execution_count": 105,
     "metadata": {},
     "output_type": "execute_result"
    }
   ],
   "source": [
    "count = CountVectorizer(ngram_range=(1, 2))\n",
    "\n",
    "final_X_train = pd.DataFrame(count.fit_transform(X_train_stems).todense(), index=X_train_stems.index,\n",
    "                             columns=count.vocabulary_)\n",
    "final_X_val = pd.DataFrame(count.transform(X_val_stems).todense(), index=X_val_stems.index,\n",
    "                           columns=count.vocabulary_)\n",
    "\n",
    "score_model(rf, final_X_train, y_train, final_X_val, y_val, 'stem', count, rf)"
   ]
  },
  {
   "cell_type": "markdown",
   "id": "7864f528",
   "metadata": {},
   "source": [
    "Let's tune our support vector machine, then move on to other preprocessing techniques."
   ]
  },
  {
   "cell_type": "code",
   "execution_count": 106,
   "id": "ce684e3a",
   "metadata": {},
   "outputs": [],
   "source": [
    "# too long\n",
    "\n",
    "# count = CountVectorizer()\n",
    "\n",
    "# final_X_train = pd.DataFrame(count.fit_transform(X_train_stems).todense(), index=X_train_stems.index,\n",
    "#                              columns=count.vocabulary_)\n",
    "# final_X_val = pd.DataFrame(count.transform(X_val_stems).todense(), index=X_val_stems.index,\n",
    "#                            columns=count.vocabulary_)\n",
    "\n",
    "# scaled_X_train = pd.DataFrame(ss.fit_transform(final_X_train), index=final_X_train.index,\n",
    "#                               columns=final_X_train.columns)\n",
    "# scaled_X_val = pd.DataFrame(ss.transform(final_X_val), index=final_X_val.index,\n",
    "#                             columns=final_X_val.columns)\n",
    "\n",
    "# param_grid = [\n",
    "#     {'C': [0.01, 0.1, 1],\n",
    "#      'kernel': ['poly', 'rbf'],\n",
    "#      'gamma': [0.001, 0.005, 0.01],\n",
    "#      'class_weight': ['balanced', {0:1, 1:1, 2:1}]}\n",
    "# ]\n",
    "\n",
    "# grid_search = GridSearchCV(svc, param_grid, scoring='accuracy')\n",
    "\n",
    "# grid_search.fit(scaled_X_train, y_train)\n",
    "\n",
    "# grid_search.best_score_"
   ]
  },
  {
   "cell_type": "code",
   "execution_count": 107,
   "id": "a54ffb9f",
   "metadata": {},
   "outputs": [
    {
     "name": "stdout",
     "output_type": "stream",
     "text": [
      "Error fitting model; check training data. Is it scaled? Try fitting separately to troubleshoot.\n"
     ]
    },
    {
     "data": {
      "text/plain": [
       "0"
      ]
     },
     "execution_count": 107,
     "metadata": {},
     "output_type": "execute_result"
    }
   ],
   "source": [
    "# count = CountVectorizer()\n",
    "\n",
    "final_X_train = pd.DataFrame(count.fit_transform(X_train_stems).todense(), index=X_train_stems.index,\n",
    "                             columns=count.vocabulary_)\n",
    "final_X_val = pd.DataFrame(count.transform(X_val_stems).todense(), index=X_val_stems.index,\n",
    "                           columns=count.vocabulary_)\n",
    "\n",
    "scaled_X_train = pd.DataFrame(ss.fit_transform(final_X_train), index=final_X_train.index,\n",
    "                              columns=final_X_train.columns)\n",
    "scaled_X_val = pd.DataFrame(ss.transform(final_X_val), index=final_X_val.index,\n",
    "                            columns=final_X_val.columns)\n",
    "\n",
    "svc = SVC(kernel='poly')\n",
    "\n",
    "score_model(svc, scaled_X_train, y_train, scaled_X_val, y_val, 'stem', count, svc)"
   ]
  },
  {
   "cell_type": "code",
   "execution_count": 139,
   "id": "baed4d56",
   "metadata": {},
   "outputs": [
    {
     "ename": "KeyboardInterrupt",
     "evalue": "",
     "output_type": "error",
     "traceback": [
      "\u001b[0;31m---------------------------------------------------------------------------\u001b[0m",
      "\u001b[0;31mKeyboardInterrupt\u001b[0m                         Traceback (most recent call last)",
      "Cell \u001b[0;32mIn[139], line 13\u001b[0m\n\u001b[1;32m      8\u001b[0m scaled_X_train \u001b[38;5;241m=\u001b[39m pd\u001b[38;5;241m.\u001b[39mDataFrame(ss\u001b[38;5;241m.\u001b[39mfit_transform(final_X_train), index\u001b[38;5;241m=\u001b[39mfinal_X_train\u001b[38;5;241m.\u001b[39mindex,\n\u001b[1;32m      9\u001b[0m                               columns\u001b[38;5;241m=\u001b[39mfinal_X_train\u001b[38;5;241m.\u001b[39mcolumns)\n\u001b[1;32m     10\u001b[0m scaled_X_val \u001b[38;5;241m=\u001b[39m pd\u001b[38;5;241m.\u001b[39mDataFrame(ss\u001b[38;5;241m.\u001b[39mtransform(final_X_val), index\u001b[38;5;241m=\u001b[39mfinal_X_val\u001b[38;5;241m.\u001b[39mindex,\n\u001b[1;32m     11\u001b[0m                             columns\u001b[38;5;241m=\u001b[39mfinal_X_val\u001b[38;5;241m.\u001b[39mcolumns)\n\u001b[0;32m---> 13\u001b[0m svc\u001b[38;5;241m.\u001b[39mfit(scaled_X_train, y_train)\n",
      "File \u001b[0;32m~/opt/anaconda3/envs/twitter-env/lib/python3.11/site-packages/sklearn/svm/_base.py:252\u001b[0m, in \u001b[0;36mBaseLibSVM.fit\u001b[0;34m(self, X, y, sample_weight)\u001b[0m\n\u001b[1;32m    249\u001b[0m     \u001b[38;5;28mprint\u001b[39m(\u001b[38;5;124m\"\u001b[39m\u001b[38;5;124m[LibSVM]\u001b[39m\u001b[38;5;124m\"\u001b[39m, end\u001b[38;5;241m=\u001b[39m\u001b[38;5;124m\"\u001b[39m\u001b[38;5;124m\"\u001b[39m)\n\u001b[1;32m    251\u001b[0m seed \u001b[38;5;241m=\u001b[39m rnd\u001b[38;5;241m.\u001b[39mrandint(np\u001b[38;5;241m.\u001b[39miinfo(\u001b[38;5;124m\"\u001b[39m\u001b[38;5;124mi\u001b[39m\u001b[38;5;124m\"\u001b[39m)\u001b[38;5;241m.\u001b[39mmax)\n\u001b[0;32m--> 252\u001b[0m fit(X, y, sample_weight, solver_type, kernel, random_seed\u001b[38;5;241m=\u001b[39mseed)\n\u001b[1;32m    253\u001b[0m \u001b[38;5;66;03m# see comment on the other call to np.iinfo in this file\u001b[39;00m\n\u001b[1;32m    255\u001b[0m \u001b[38;5;28mself\u001b[39m\u001b[38;5;241m.\u001b[39mshape_fit_ \u001b[38;5;241m=\u001b[39m X\u001b[38;5;241m.\u001b[39mshape \u001b[38;5;28;01mif\u001b[39;00m \u001b[38;5;28mhasattr\u001b[39m(X, \u001b[38;5;124m\"\u001b[39m\u001b[38;5;124mshape\u001b[39m\u001b[38;5;124m\"\u001b[39m) \u001b[38;5;28;01melse\u001b[39;00m (n_samples,)\n",
      "File \u001b[0;32m~/opt/anaconda3/envs/twitter-env/lib/python3.11/site-packages/sklearn/svm/_base.py:331\u001b[0m, in \u001b[0;36mBaseLibSVM._dense_fit\u001b[0;34m(self, X, y, sample_weight, solver_type, kernel, random_seed)\u001b[0m\n\u001b[1;32m    317\u001b[0m libsvm\u001b[38;5;241m.\u001b[39mset_verbosity_wrap(\u001b[38;5;28mself\u001b[39m\u001b[38;5;241m.\u001b[39mverbose)\n\u001b[1;32m    319\u001b[0m \u001b[38;5;66;03m# we don't pass **self.get_params() to allow subclasses to\u001b[39;00m\n\u001b[1;32m    320\u001b[0m \u001b[38;5;66;03m# add other parameters to __init__\u001b[39;00m\n\u001b[1;32m    321\u001b[0m (\n\u001b[1;32m    322\u001b[0m     \u001b[38;5;28mself\u001b[39m\u001b[38;5;241m.\u001b[39msupport_,\n\u001b[1;32m    323\u001b[0m     \u001b[38;5;28mself\u001b[39m\u001b[38;5;241m.\u001b[39msupport_vectors_,\n\u001b[1;32m    324\u001b[0m     \u001b[38;5;28mself\u001b[39m\u001b[38;5;241m.\u001b[39m_n_support,\n\u001b[1;32m    325\u001b[0m     \u001b[38;5;28mself\u001b[39m\u001b[38;5;241m.\u001b[39mdual_coef_,\n\u001b[1;32m    326\u001b[0m     \u001b[38;5;28mself\u001b[39m\u001b[38;5;241m.\u001b[39mintercept_,\n\u001b[1;32m    327\u001b[0m     \u001b[38;5;28mself\u001b[39m\u001b[38;5;241m.\u001b[39m_probA,\n\u001b[1;32m    328\u001b[0m     \u001b[38;5;28mself\u001b[39m\u001b[38;5;241m.\u001b[39m_probB,\n\u001b[1;32m    329\u001b[0m     \u001b[38;5;28mself\u001b[39m\u001b[38;5;241m.\u001b[39mfit_status_,\n\u001b[1;32m    330\u001b[0m     \u001b[38;5;28mself\u001b[39m\u001b[38;5;241m.\u001b[39m_num_iter,\n\u001b[0;32m--> 331\u001b[0m ) \u001b[38;5;241m=\u001b[39m libsvm\u001b[38;5;241m.\u001b[39mfit(\n\u001b[1;32m    332\u001b[0m     X,\n\u001b[1;32m    333\u001b[0m     y,\n\u001b[1;32m    334\u001b[0m     svm_type\u001b[38;5;241m=\u001b[39msolver_type,\n\u001b[1;32m    335\u001b[0m     sample_weight\u001b[38;5;241m=\u001b[39msample_weight,\n\u001b[1;32m    336\u001b[0m     \u001b[38;5;66;03m# TODO(1.4): Replace \"_class_weight\" with \"class_weight_\"\u001b[39;00m\n\u001b[1;32m    337\u001b[0m     class_weight\u001b[38;5;241m=\u001b[39m\u001b[38;5;28mgetattr\u001b[39m(\u001b[38;5;28mself\u001b[39m, \u001b[38;5;124m\"\u001b[39m\u001b[38;5;124m_class_weight\u001b[39m\u001b[38;5;124m\"\u001b[39m, np\u001b[38;5;241m.\u001b[39mempty(\u001b[38;5;241m0\u001b[39m)),\n\u001b[1;32m    338\u001b[0m     kernel\u001b[38;5;241m=\u001b[39mkernel,\n\u001b[1;32m    339\u001b[0m     C\u001b[38;5;241m=\u001b[39m\u001b[38;5;28mself\u001b[39m\u001b[38;5;241m.\u001b[39mC,\n\u001b[1;32m    340\u001b[0m     nu\u001b[38;5;241m=\u001b[39m\u001b[38;5;28mself\u001b[39m\u001b[38;5;241m.\u001b[39mnu,\n\u001b[1;32m    341\u001b[0m     probability\u001b[38;5;241m=\u001b[39m\u001b[38;5;28mself\u001b[39m\u001b[38;5;241m.\u001b[39mprobability,\n\u001b[1;32m    342\u001b[0m     degree\u001b[38;5;241m=\u001b[39m\u001b[38;5;28mself\u001b[39m\u001b[38;5;241m.\u001b[39mdegree,\n\u001b[1;32m    343\u001b[0m     shrinking\u001b[38;5;241m=\u001b[39m\u001b[38;5;28mself\u001b[39m\u001b[38;5;241m.\u001b[39mshrinking,\n\u001b[1;32m    344\u001b[0m     tol\u001b[38;5;241m=\u001b[39m\u001b[38;5;28mself\u001b[39m\u001b[38;5;241m.\u001b[39mtol,\n\u001b[1;32m    345\u001b[0m     cache_size\u001b[38;5;241m=\u001b[39m\u001b[38;5;28mself\u001b[39m\u001b[38;5;241m.\u001b[39mcache_size,\n\u001b[1;32m    346\u001b[0m     coef0\u001b[38;5;241m=\u001b[39m\u001b[38;5;28mself\u001b[39m\u001b[38;5;241m.\u001b[39mcoef0,\n\u001b[1;32m    347\u001b[0m     gamma\u001b[38;5;241m=\u001b[39m\u001b[38;5;28mself\u001b[39m\u001b[38;5;241m.\u001b[39m_gamma,\n\u001b[1;32m    348\u001b[0m     epsilon\u001b[38;5;241m=\u001b[39m\u001b[38;5;28mself\u001b[39m\u001b[38;5;241m.\u001b[39mepsilon,\n\u001b[1;32m    349\u001b[0m     max_iter\u001b[38;5;241m=\u001b[39m\u001b[38;5;28mself\u001b[39m\u001b[38;5;241m.\u001b[39mmax_iter,\n\u001b[1;32m    350\u001b[0m     random_seed\u001b[38;5;241m=\u001b[39mrandom_seed,\n\u001b[1;32m    351\u001b[0m )\n\u001b[1;32m    353\u001b[0m \u001b[38;5;28mself\u001b[39m\u001b[38;5;241m.\u001b[39m_warn_from_fit_status()\n",
      "\u001b[0;31mKeyboardInterrupt\u001b[0m: "
     ]
    }
   ],
   "source": [
    "# try fitting separately\n",
    "\n",
    "# count = CountVectorizer()\n",
    "\n",
    "svc = SVC(kernel='poly')\n",
    "\n",
    "final_X_train = pd.DataFrame(count.fit_transform(X_train_stems).todense(), index=X_train_stems.index,\n",
    "                             columns=count.vocabulary_)\n",
    "final_X_val = pd.DataFrame(count.transform(X_val_stems).todense(), index=X_val_stems.index,\n",
    "                           columns=count.vocabulary_)\n",
    "\n",
    "scaled_X_train = pd.DataFrame(ss.fit_transform(final_X_train), index=final_X_train.index,\n",
    "                              columns=final_X_train.columns)\n",
    "scaled_X_val = pd.DataFrame(ss.transform(final_X_val), index=final_X_val.index,\n",
    "                            columns=final_X_val.columns)\n",
    "\n",
    "svc.fit(scaled_X_train, y_train)"
   ]
  },
  {
   "cell_type": "markdown",
   "id": "e3e426a7",
   "metadata": {},
   "source": [
    "Examine the performance of the best model so far (model 8.)"
   ]
  },
  {
   "cell_type": "code",
   "execution_count": 108,
   "id": "55b114d3",
   "metadata": {},
   "outputs": [
    {
     "data": {
      "image/png": "[encoded data removed]",
      "text/plain": [
       "<Figure size 864x576 with 4 Axes>"
      ]
     },
     "metadata": {
      "needs_background": "light"
     },
     "output_type": "display_data"
    }
   ],
   "source": [
    "from sklearn.metrics import confusion_matrix, ConfusionMatrixDisplay\n",
    "\n",
    "count = CountVectorizer(ngram_range=(1, 2))\n",
    "\n",
    "final_X_train = pd.DataFrame(count.fit_transform(X_train_stems).todense(), index=X_train_stems.index,\n",
    "                             columns=count.vocabulary_)\n",
    "final_X_val = pd.DataFrame(count.transform(X_val_stems).todense(), index=X_val_stems.index,\n",
    "                           columns=count.vocabulary_)\n",
    "\n",
    "nb.fit(final_X_train, y_train)\n",
    "\n",
    "fig, ax = plt.subplots(ncols=2, figsize=(12, 8))\n",
    "\n",
    "ConfusionMatrixDisplay(confusion_matrix(y_val, nb.predict(final_X_val))).plot(ax=ax[0])\n",
    "ConfusionMatrixDisplay(confusion_matrix(y_val, nb.predict(final_X_val), normalize='true')).plot(ax=ax[1])\n",
    "\n",
    "fig.tight_layout();"
   ]
  },
  {
   "cell_type": "markdown",
   "id": "dbcfa430",
   "metadata": {},
   "source": [
    "The best model's performance corresponds loosely to class size. Let's try undersampling to get a better rate of prediction for the positive and negative classes."
   ]
  },
  {
   "cell_type": "code",
   "execution_count": 109,
   "id": "fdfbad1d",
   "metadata": {},
   "outputs": [
    {
     "data": {
      "text/plain": [
       "1    3443\n",
       "2    1919\n",
       "0     356\n",
       "Name: count, dtype: int64"
      ]
     },
     "execution_count": 109,
     "metadata": {},
     "output_type": "execute_result"
    }
   ],
   "source": [
    "y_train.value_counts()"
   ]
  },
  {
   "cell_type": "code",
   "execution_count": 110,
   "id": "09c7d965",
   "metadata": {},
   "outputs": [],
   "source": [
    "# randomly undersample to make class weights equal\n",
    "\n",
    "neutral_index = (y_train.loc[(y_train == 1)]).sample(356, random_state=seed).index\n",
    "positive_index = (y_train.loc[(y_train == 2)]).sample(356, random_state=seed).index\n",
    "undersampled_index = np.concatenate((neutral_index, positive_index, (y_train.loc[(y_train == 0)]).index))\n",
    "\n",
    "y_train_undersampled = y_train.loc[undersampled_index].copy()"
   ]
  },
  {
   "cell_type": "code",
   "execution_count": 111,
   "id": "70f19fb9",
   "metadata": {},
   "outputs": [
    {
     "data": {
      "text/plain": [
       "1    356\n",
       "2    356\n",
       "0    356\n",
       "Name: count, dtype: int64"
      ]
     },
     "execution_count": 111,
     "metadata": {},
     "output_type": "execute_result"
    }
   ],
   "source": [
    "y_train_undersampled.value_counts()"
   ]
  },
  {
   "cell_type": "code",
   "execution_count": 112,
   "id": "2c7828a5",
   "metadata": {},
   "outputs": [],
   "source": [
    "X_train_undersampled = X_train_stems.loc[undersampled_index].copy()\n",
    "\n",
    "final_X_train_undersampled = pd.DataFrame(count.fit_transform(X_train_undersampled).todense(),\n",
    "                                          index=X_train_undersampled.index, columns=count.vocabulary_)\n",
    "final_X_val_us = pd.DataFrame(count.transform(X_val).todense(), index=X_val.index, columns=count.vocabulary_)"
   ]
  },
  {
   "cell_type": "code",
   "execution_count": 113,
   "id": "eeb66db2",
   "metadata": {},
   "outputs": [
    {
     "data": {
      "text/plain": [
       "0.5671328671328671"
      ]
     },
     "execution_count": 113,
     "metadata": {},
     "output_type": "execute_result"
    }
   ],
   "source": [
    "nb.fit(final_X_train_undersampled, y_train_undersampled)\n",
    "\n",
    "nb.score(final_X_val_us, y_val)"
   ]
  },
  {
   "cell_type": "markdown",
   "id": "5474ec78",
   "metadata": {},
   "source": [
    "Performance is worse. What about a different class weighting?"
   ]
  },
  {
   "cell_type": "code",
   "execution_count": 114,
   "id": "da77607e",
   "metadata": {},
   "outputs": [
    {
     "data": {
      "text/plain": [
       "0.6265734265734266"
      ]
     },
     "execution_count": 114,
     "metadata": {},
     "output_type": "execute_result"
    }
   ],
   "source": [
    "# randomly undersample to make adjust class weights\n",
    "\n",
    "neutral_index = (y_train.loc[(y_train == 1)]).sample(356*3, random_state=seed).index\n",
    "positive_index = (y_train.loc[(y_train == 2)]).sample(356*2, random_state=seed).index\n",
    "undersampled_index = np.concatenate((neutral_index, positive_index, (y_train.loc[(y_train == 0)]).index))\n",
    "\n",
    "y_train_undersampled = y_train.loc[undersampled_index].copy()\n",
    "X_train_undersampled = X_train_stems.loc[undersampled_index].copy()\n",
    "\n",
    "final_X_train_undersampled = pd.DataFrame(count.fit_transform(X_train_undersampled).todense(),\n",
    "                                          index=X_train_undersampled.index, columns=count.vocabulary_)\n",
    "final_X_val_us = pd.DataFrame(count.transform(X_val).todense(), index=X_val.index, columns=count.vocabulary_)\n",
    "\n",
    "nb.fit(final_X_train_undersampled, y_train_undersampled)\n",
    "nb.score(final_X_val_us, y_val)"
   ]
  },
  {
   "cell_type": "markdown",
   "id": "fb66ee4c",
   "metadata": {},
   "source": [
    "Another preprocessing technique we can try is that of term frequency- inverse document frequency vectorization (similar to count vectorization, but adjusted according to how often a word appears in a particular document *versus the corpus as a whole*.)\n",
    "\n",
    "Here are the baseline results with tfidf vectorization:"
   ]
  },
  {
   "cell_type": "code",
   "execution_count": 115,
   "id": "f7ddbd39",
   "metadata": {},
   "outputs": [
    {
     "data": {
      "text/html": [
       "<div>\n",
       "<style scoped>\n",
       "    .dataframe tbody tr th:only-of-type {\n",
       "        vertical-align: middle;\n",
       "    }\n",
       "\n",
       "    .dataframe tbody tr th {\n",
       "        vertical-align: top;\n",
       "    }\n",
       "\n",
       "    .dataframe thead th {\n",
       "        text-align: right;\n",
       "    }\n",
       "</style>\n",
       "<table border=\"1\" class=\"dataframe\">\n",
       "  <thead>\n",
       "    <tr style=\"text-align: right;\">\n",
       "      <th></th>\n",
       "      <th>tokenization</th>\n",
       "      <th>preprocessing</th>\n",
       "      <th>classifier</th>\n",
       "      <th>score</th>\n",
       "    </tr>\n",
       "  </thead>\n",
       "  <tbody>\n",
       "    <tr>\n",
       "      <th>9</th>\n",
       "      <td>stem</td>\n",
       "      <td>CountVectorizer(max_df=0.95, min_df=0.05)</td>\n",
       "      <td>(DecisionTreeClassifier(max_features='sqrt', r...</td>\n",
       "      <td>0.575524</td>\n",
       "    </tr>\n",
       "    <tr>\n",
       "      <th>10</th>\n",
       "      <td>stem</td>\n",
       "      <td>CountVectorizer(ngram_range=(1, 2))</td>\n",
       "      <td>(DecisionTreeClassifier(max_features='sqrt', r...</td>\n",
       "      <td>0.657343</td>\n",
       "    </tr>\n",
       "    <tr>\n",
       "      <th>11</th>\n",
       "      <td>stem</td>\n",
       "      <td>TfidfVectorizer()</td>\n",
       "      <td>MultinomialNB()</td>\n",
       "      <td>0.648252</td>\n",
       "    </tr>\n",
       "    <tr>\n",
       "      <th>12</th>\n",
       "      <td>stem</td>\n",
       "      <td>TfidfVectorizer()</td>\n",
       "      <td>(DecisionTreeClassifier(max_features='sqrt', r...</td>\n",
       "      <td>0.673427</td>\n",
       "    </tr>\n",
       "    <tr>\n",
       "      <th>13</th>\n",
       "      <td>stem</td>\n",
       "      <td>TfidfVectorizer()</td>\n",
       "      <td>SVC(kernel='poly')</td>\n",
       "      <td>0.616084</td>\n",
       "    </tr>\n",
       "  </tbody>\n",
       "</table>\n",
       "</div>"
      ],
      "text/plain": [
       "   tokenization                              preprocessing   \n",
       "9          stem  CountVectorizer(max_df=0.95, min_df=0.05)  \\\n",
       "10         stem        CountVectorizer(ngram_range=(1, 2))   \n",
       "11         stem                          TfidfVectorizer()   \n",
       "12         stem                          TfidfVectorizer()   \n",
       "13         stem                          TfidfVectorizer()   \n",
       "\n",
       "                                           classifier     score  \n",
       "9   (DecisionTreeClassifier(max_features='sqrt', r...  0.575524  \n",
       "10  (DecisionTreeClassifier(max_features='sqrt', r...  0.657343  \n",
       "11                                    MultinomialNB()  0.648252  \n",
       "12  (DecisionTreeClassifier(max_features='sqrt', r...  0.673427  \n",
       "13                                 SVC(kernel='poly')  0.616084  "
      ]
     },
     "execution_count": 115,
     "metadata": {},
     "output_type": "execute_result"
    }
   ],
   "source": [
    "from sklearn.feature_extraction.text import TfidfVectorizer\n",
    "\n",
    "tfidf = TfidfVectorizer()\n",
    "\n",
    "final_X_train = pd.DataFrame(tfidf.fit_transform(X_train_stems).todense(), index=X_train_stems.index,\n",
    "                             columns=tfidf.vocabulary_)\n",
    "final_X_val = pd.DataFrame(tfidf.transform(X_val_stems).todense(), index=X_val_stems.index,\n",
    "                           columns=tfidf.vocabulary_)\n",
    "\n",
    "score_model(nb, final_X_train, y_train, final_X_val, y_val, 'stem', tfidf, nb)\n",
    "score_model(rf, final_X_train, y_train, final_X_val, y_val, 'stem', tfidf, rf)\n",
    "\n",
    "scaled_X_train = pd.DataFrame(ss.fit_transform(final_X_train), index=final_X_train.index,\n",
    "                              columns=final_X_train.columns)\n",
    "scaled_X_val = pd.DataFrame(ss.transform(final_X_val), index=final_X_val.index,\n",
    "                            columns=final_X_val.columns)\n",
    "\n",
    "score_model(svc, scaled_X_train, y_train, scaled_X_val, y_val, 'stem', tfidf, svc)"
   ]
  },
  {
   "cell_type": "markdown",
   "id": "0dded13a",
   "metadata": {},
   "source": [
    "Let's tune the random forest."
   ]
  },
  {
   "cell_type": "code",
   "execution_count": 116,
   "id": "5dd5b2fe",
   "metadata": {},
   "outputs": [
    {
     "data": {
      "text/html": [
       "<div>\n",
       "<style scoped>\n",
       "    .dataframe tbody tr th:only-of-type {\n",
       "        vertical-align: middle;\n",
       "    }\n",
       "\n",
       "    .dataframe tbody tr th {\n",
       "        vertical-align: top;\n",
       "    }\n",
       "\n",
       "    .dataframe thead th {\n",
       "        text-align: right;\n",
       "    }\n",
       "</style>\n",
       "<table border=\"1\" class=\"dataframe\">\n",
       "  <thead>\n",
       "    <tr style=\"text-align: right;\">\n",
       "      <th></th>\n",
       "      <th>tokenization</th>\n",
       "      <th>preprocessing</th>\n",
       "      <th>classifier</th>\n",
       "      <th>score</th>\n",
       "    </tr>\n",
       "  </thead>\n",
       "  <tbody>\n",
       "    <tr>\n",
       "      <th>10</th>\n",
       "      <td>stem</td>\n",
       "      <td>CountVectorizer(ngram_range=(1, 2))</td>\n",
       "      <td>(DecisionTreeClassifier(max_features='sqrt', r...</td>\n",
       "      <td>0.657343</td>\n",
       "    </tr>\n",
       "    <tr>\n",
       "      <th>11</th>\n",
       "      <td>stem</td>\n",
       "      <td>TfidfVectorizer()</td>\n",
       "      <td>MultinomialNB()</td>\n",
       "      <td>0.648252</td>\n",
       "    </tr>\n",
       "    <tr>\n",
       "      <th>12</th>\n",
       "      <td>stem</td>\n",
       "      <td>TfidfVectorizer()</td>\n",
       "      <td>(DecisionTreeClassifier(max_features='sqrt', r...</td>\n",
       "      <td>0.673427</td>\n",
       "    </tr>\n",
       "    <tr>\n",
       "      <th>13</th>\n",
       "      <td>stem</td>\n",
       "      <td>TfidfVectorizer()</td>\n",
       "      <td>SVC(kernel='poly')</td>\n",
       "      <td>0.616084</td>\n",
       "    </tr>\n",
       "    <tr>\n",
       "      <th>14</th>\n",
       "      <td>stem</td>\n",
       "      <td>TfidfVectorizer()</td>\n",
       "      <td>(DecisionTreeClassifier(max_features='sqrt', r...</td>\n",
       "      <td>0.665035</td>\n",
       "    </tr>\n",
       "  </tbody>\n",
       "</table>\n",
       "</div>"
      ],
      "text/plain": [
       "   tokenization                        preprocessing   \n",
       "10         stem  CountVectorizer(ngram_range=(1, 2))  \\\n",
       "11         stem                    TfidfVectorizer()   \n",
       "12         stem                    TfidfVectorizer()   \n",
       "13         stem                    TfidfVectorizer()   \n",
       "14         stem                    TfidfVectorizer()   \n",
       "\n",
       "                                           classifier     score  \n",
       "10  (DecisionTreeClassifier(max_features='sqrt', r...  0.657343  \n",
       "11                                    MultinomialNB()  0.648252  \n",
       "12  (DecisionTreeClassifier(max_features='sqrt', r...  0.673427  \n",
       "13                                 SVC(kernel='poly')  0.616084  \n",
       "14  (DecisionTreeClassifier(max_features='sqrt', r...  0.665035  "
      ]
     },
     "execution_count": 116,
     "metadata": {},
     "output_type": "execute_result"
    }
   ],
   "source": [
    "rf = RandomForestClassifier(random_state=seed, class_weight='balanced')\n",
    "\n",
    "score_model(rf, final_X_train, y_train, final_X_val, y_val, 'stem', tfidf, rf)"
   ]
  },
  {
   "cell_type": "code",
   "execution_count": 117,
   "id": "fa34e428",
   "metadata": {},
   "outputs": [
    {
     "data": {
      "text/html": [
       "<div>\n",
       "<style scoped>\n",
       "    .dataframe tbody tr th:only-of-type {\n",
       "        vertical-align: middle;\n",
       "    }\n",
       "\n",
       "    .dataframe tbody tr th {\n",
       "        vertical-align: top;\n",
       "    }\n",
       "\n",
       "    .dataframe thead th {\n",
       "        text-align: right;\n",
       "    }\n",
       "</style>\n",
       "<table border=\"1\" class=\"dataframe\">\n",
       "  <thead>\n",
       "    <tr style=\"text-align: right;\">\n",
       "      <th></th>\n",
       "      <th>tokenization</th>\n",
       "      <th>preprocessing</th>\n",
       "      <th>classifier</th>\n",
       "      <th>score</th>\n",
       "    </tr>\n",
       "  </thead>\n",
       "  <tbody>\n",
       "    <tr>\n",
       "      <th>11</th>\n",
       "      <td>stem</td>\n",
       "      <td>TfidfVectorizer()</td>\n",
       "      <td>MultinomialNB()</td>\n",
       "      <td>0.648252</td>\n",
       "    </tr>\n",
       "    <tr>\n",
       "      <th>12</th>\n",
       "      <td>stem</td>\n",
       "      <td>TfidfVectorizer()</td>\n",
       "      <td>(DecisionTreeClassifier(max_features='sqrt', r...</td>\n",
       "      <td>0.673427</td>\n",
       "    </tr>\n",
       "    <tr>\n",
       "      <th>13</th>\n",
       "      <td>stem</td>\n",
       "      <td>TfidfVectorizer()</td>\n",
       "      <td>SVC(kernel='poly')</td>\n",
       "      <td>0.616084</td>\n",
       "    </tr>\n",
       "    <tr>\n",
       "      <th>14</th>\n",
       "      <td>stem</td>\n",
       "      <td>TfidfVectorizer()</td>\n",
       "      <td>(DecisionTreeClassifier(max_features='sqrt', r...</td>\n",
       "      <td>0.665035</td>\n",
       "    </tr>\n",
       "    <tr>\n",
       "      <th>15</th>\n",
       "      <td>stem</td>\n",
       "      <td>TfidfVectorizer()</td>\n",
       "      <td>(DecisionTreeClassifier(max_features='sqrt', r...</td>\n",
       "      <td>0.671329</td>\n",
       "    </tr>\n",
       "  </tbody>\n",
       "</table>\n",
       "</div>"
      ],
      "text/plain": [
       "   tokenization      preprocessing   \n",
       "11         stem  TfidfVectorizer()  \\\n",
       "12         stem  TfidfVectorizer()   \n",
       "13         stem  TfidfVectorizer()   \n",
       "14         stem  TfidfVectorizer()   \n",
       "15         stem  TfidfVectorizer()   \n",
       "\n",
       "                                           classifier     score  \n",
       "11                                    MultinomialNB()  0.648252  \n",
       "12  (DecisionTreeClassifier(max_features='sqrt', r...  0.673427  \n",
       "13                                 SVC(kernel='poly')  0.616084  \n",
       "14  (DecisionTreeClassifier(max_features='sqrt', r...  0.665035  \n",
       "15  (DecisionTreeClassifier(max_features='sqrt', r...  0.671329  "
      ]
     },
     "execution_count": 117,
     "metadata": {},
     "output_type": "execute_result"
    }
   ],
   "source": [
    "rf = RandomForestClassifier(random_state=seed, n_estimators=200)\n",
    "\n",
    "score_model(rf, final_X_train, y_train, final_X_val, y_val, 'stem', tfidf, rf)"
   ]
  },
  {
   "cell_type": "code",
   "execution_count": 118,
   "id": "7ef65b1f",
   "metadata": {},
   "outputs": [
    {
     "data": {
      "text/html": [
       "<div>\n",
       "<style scoped>\n",
       "    .dataframe tbody tr th:only-of-type {\n",
       "        vertical-align: middle;\n",
       "    }\n",
       "\n",
       "    .dataframe tbody tr th {\n",
       "        vertical-align: top;\n",
       "    }\n",
       "\n",
       "    .dataframe thead th {\n",
       "        text-align: right;\n",
       "    }\n",
       "</style>\n",
       "<table border=\"1\" class=\"dataframe\">\n",
       "  <thead>\n",
       "    <tr style=\"text-align: right;\">\n",
       "      <th></th>\n",
       "      <th>tokenization</th>\n",
       "      <th>preprocessing</th>\n",
       "      <th>classifier</th>\n",
       "      <th>score</th>\n",
       "    </tr>\n",
       "  </thead>\n",
       "  <tbody>\n",
       "    <tr>\n",
       "      <th>12</th>\n",
       "      <td>stem</td>\n",
       "      <td>TfidfVectorizer()</td>\n",
       "      <td>(DecisionTreeClassifier(max_features='sqrt', r...</td>\n",
       "      <td>0.673427</td>\n",
       "    </tr>\n",
       "    <tr>\n",
       "      <th>13</th>\n",
       "      <td>stem</td>\n",
       "      <td>TfidfVectorizer()</td>\n",
       "      <td>SVC(kernel='poly')</td>\n",
       "      <td>0.616084</td>\n",
       "    </tr>\n",
       "    <tr>\n",
       "      <th>14</th>\n",
       "      <td>stem</td>\n",
       "      <td>TfidfVectorizer()</td>\n",
       "      <td>(DecisionTreeClassifier(max_features='sqrt', r...</td>\n",
       "      <td>0.665035</td>\n",
       "    </tr>\n",
       "    <tr>\n",
       "      <th>15</th>\n",
       "      <td>stem</td>\n",
       "      <td>TfidfVectorizer()</td>\n",
       "      <td>(DecisionTreeClassifier(max_features='sqrt', r...</td>\n",
       "      <td>0.671329</td>\n",
       "    </tr>\n",
       "    <tr>\n",
       "      <th>16</th>\n",
       "      <td>stem</td>\n",
       "      <td>TfidfVectorizer()</td>\n",
       "      <td>(DecisionTreeClassifier(max_depth=2, max_featu...</td>\n",
       "      <td>0.604895</td>\n",
       "    </tr>\n",
       "  </tbody>\n",
       "</table>\n",
       "</div>"
      ],
      "text/plain": [
       "   tokenization      preprocessing   \n",
       "12         stem  TfidfVectorizer()  \\\n",
       "13         stem  TfidfVectorizer()   \n",
       "14         stem  TfidfVectorizer()   \n",
       "15         stem  TfidfVectorizer()   \n",
       "16         stem  TfidfVectorizer()   \n",
       "\n",
       "                                           classifier     score  \n",
       "12  (DecisionTreeClassifier(max_features='sqrt', r...  0.673427  \n",
       "13                                 SVC(kernel='poly')  0.616084  \n",
       "14  (DecisionTreeClassifier(max_features='sqrt', r...  0.665035  \n",
       "15  (DecisionTreeClassifier(max_features='sqrt', r...  0.671329  \n",
       "16  (DecisionTreeClassifier(max_depth=2, max_featu...  0.604895  "
      ]
     },
     "execution_count": 118,
     "metadata": {},
     "output_type": "execute_result"
    }
   ],
   "source": [
    "rf = RandomForestClassifier(random_state=seed, max_depth=2)\n",
    "\n",
    "score_model(rf, final_X_train, y_train, final_X_val, y_val, 'stem', tfidf, rf)"
   ]
  },
  {
   "cell_type": "code",
   "execution_count": 119,
   "id": "e3e4c562",
   "metadata": {},
   "outputs": [
    {
     "data": {
      "text/html": [
       "<div>\n",
       "<style scoped>\n",
       "    .dataframe tbody tr th:only-of-type {\n",
       "        vertical-align: middle;\n",
       "    }\n",
       "\n",
       "    .dataframe tbody tr th {\n",
       "        vertical-align: top;\n",
       "    }\n",
       "\n",
       "    .dataframe thead th {\n",
       "        text-align: right;\n",
       "    }\n",
       "</style>\n",
       "<table border=\"1\" class=\"dataframe\">\n",
       "  <thead>\n",
       "    <tr style=\"text-align: right;\">\n",
       "      <th></th>\n",
       "      <th>tokenization</th>\n",
       "      <th>preprocessing</th>\n",
       "      <th>classifier</th>\n",
       "      <th>score</th>\n",
       "    </tr>\n",
       "  </thead>\n",
       "  <tbody>\n",
       "    <tr>\n",
       "      <th>13</th>\n",
       "      <td>stem</td>\n",
       "      <td>TfidfVectorizer()</td>\n",
       "      <td>SVC(kernel='poly')</td>\n",
       "      <td>0.616084</td>\n",
       "    </tr>\n",
       "    <tr>\n",
       "      <th>14</th>\n",
       "      <td>stem</td>\n",
       "      <td>TfidfVectorizer()</td>\n",
       "      <td>(DecisionTreeClassifier(max_features='sqrt', r...</td>\n",
       "      <td>0.665035</td>\n",
       "    </tr>\n",
       "    <tr>\n",
       "      <th>15</th>\n",
       "      <td>stem</td>\n",
       "      <td>TfidfVectorizer()</td>\n",
       "      <td>(DecisionTreeClassifier(max_features='sqrt', r...</td>\n",
       "      <td>0.671329</td>\n",
       "    </tr>\n",
       "    <tr>\n",
       "      <th>16</th>\n",
       "      <td>stem</td>\n",
       "      <td>TfidfVectorizer()</td>\n",
       "      <td>(DecisionTreeClassifier(max_depth=2, max_featu...</td>\n",
       "      <td>0.604895</td>\n",
       "    </tr>\n",
       "    <tr>\n",
       "      <th>17</th>\n",
       "      <td>stem</td>\n",
       "      <td>TfidfVectorizer()</td>\n",
       "      <td>(DecisionTreeClassifier(max_depth=10, max_feat...</td>\n",
       "      <td>0.607692</td>\n",
       "    </tr>\n",
       "  </tbody>\n",
       "</table>\n",
       "</div>"
      ],
      "text/plain": [
       "   tokenization      preprocessing   \n",
       "13         stem  TfidfVectorizer()  \\\n",
       "14         stem  TfidfVectorizer()   \n",
       "15         stem  TfidfVectorizer()   \n",
       "16         stem  TfidfVectorizer()   \n",
       "17         stem  TfidfVectorizer()   \n",
       "\n",
       "                                           classifier     score  \n",
       "13                                 SVC(kernel='poly')  0.616084  \n",
       "14  (DecisionTreeClassifier(max_features='sqrt', r...  0.665035  \n",
       "15  (DecisionTreeClassifier(max_features='sqrt', r...  0.671329  \n",
       "16  (DecisionTreeClassifier(max_depth=2, max_featu...  0.604895  \n",
       "17  (DecisionTreeClassifier(max_depth=10, max_feat...  0.607692  "
      ]
     },
     "execution_count": 119,
     "metadata": {},
     "output_type": "execute_result"
    }
   ],
   "source": [
    "rf = RandomForestClassifier(random_state=seed, max_depth=10)\n",
    "\n",
    "score_model(rf, final_X_train, y_train, final_X_val, y_val, 'stem', tfidf, rf)"
   ]
  },
  {
   "cell_type": "code",
   "execution_count": 120,
   "id": "4008a54d",
   "metadata": {},
   "outputs": [
    {
     "data": {
      "text/html": [
       "<div>\n",
       "<style scoped>\n",
       "    .dataframe tbody tr th:only-of-type {\n",
       "        vertical-align: middle;\n",
       "    }\n",
       "\n",
       "    .dataframe tbody tr th {\n",
       "        vertical-align: top;\n",
       "    }\n",
       "\n",
       "    .dataframe thead th {\n",
       "        text-align: right;\n",
       "    }\n",
       "</style>\n",
       "<table border=\"1\" class=\"dataframe\">\n",
       "  <thead>\n",
       "    <tr style=\"text-align: right;\">\n",
       "      <th></th>\n",
       "      <th>tokenization</th>\n",
       "      <th>preprocessing</th>\n",
       "      <th>classifier</th>\n",
       "      <th>score</th>\n",
       "    </tr>\n",
       "  </thead>\n",
       "  <tbody>\n",
       "    <tr>\n",
       "      <th>14</th>\n",
       "      <td>stem</td>\n",
       "      <td>TfidfVectorizer()</td>\n",
       "      <td>(DecisionTreeClassifier(max_features='sqrt', r...</td>\n",
       "      <td>0.665035</td>\n",
       "    </tr>\n",
       "    <tr>\n",
       "      <th>15</th>\n",
       "      <td>stem</td>\n",
       "      <td>TfidfVectorizer()</td>\n",
       "      <td>(DecisionTreeClassifier(max_features='sqrt', r...</td>\n",
       "      <td>0.671329</td>\n",
       "    </tr>\n",
       "    <tr>\n",
       "      <th>16</th>\n",
       "      <td>stem</td>\n",
       "      <td>TfidfVectorizer()</td>\n",
       "      <td>(DecisionTreeClassifier(max_depth=2, max_featu...</td>\n",
       "      <td>0.604895</td>\n",
       "    </tr>\n",
       "    <tr>\n",
       "      <th>17</th>\n",
       "      <td>stem</td>\n",
       "      <td>TfidfVectorizer()</td>\n",
       "      <td>(DecisionTreeClassifier(max_depth=10, max_feat...</td>\n",
       "      <td>0.607692</td>\n",
       "    </tr>\n",
       "    <tr>\n",
       "      <th>18</th>\n",
       "      <td>stem</td>\n",
       "      <td>TfidfVectorizer()</td>\n",
       "      <td>(DecisionTreeClassifier(max_depth=20, max_feat...</td>\n",
       "      <td>0.626573</td>\n",
       "    </tr>\n",
       "  </tbody>\n",
       "</table>\n",
       "</div>"
      ],
      "text/plain": [
       "   tokenization      preprocessing   \n",
       "14         stem  TfidfVectorizer()  \\\n",
       "15         stem  TfidfVectorizer()   \n",
       "16         stem  TfidfVectorizer()   \n",
       "17         stem  TfidfVectorizer()   \n",
       "18         stem  TfidfVectorizer()   \n",
       "\n",
       "                                           classifier     score  \n",
       "14  (DecisionTreeClassifier(max_features='sqrt', r...  0.665035  \n",
       "15  (DecisionTreeClassifier(max_features='sqrt', r...  0.671329  \n",
       "16  (DecisionTreeClassifier(max_depth=2, max_featu...  0.604895  \n",
       "17  (DecisionTreeClassifier(max_depth=10, max_feat...  0.607692  \n",
       "18  (DecisionTreeClassifier(max_depth=20, max_feat...  0.626573  "
      ]
     },
     "execution_count": 120,
     "metadata": {},
     "output_type": "execute_result"
    }
   ],
   "source": [
    "rf = RandomForestClassifier(random_state=seed, max_depth=20)\n",
    "\n",
    "score_model(rf, final_X_train, y_train, final_X_val, y_val, 'stem', tfidf, rf)"
   ]
  },
  {
   "cell_type": "code",
   "execution_count": 121,
   "id": "e74d3765",
   "metadata": {
    "scrolled": true
   },
   "outputs": [
    {
     "data": {
      "text/html": [
       "<div>\n",
       "<style scoped>\n",
       "    .dataframe tbody tr th:only-of-type {\n",
       "        vertical-align: middle;\n",
       "    }\n",
       "\n",
       "    .dataframe tbody tr th {\n",
       "        vertical-align: top;\n",
       "    }\n",
       "\n",
       "    .dataframe thead th {\n",
       "        text-align: right;\n",
       "    }\n",
       "</style>\n",
       "<table border=\"1\" class=\"dataframe\">\n",
       "  <thead>\n",
       "    <tr style=\"text-align: right;\">\n",
       "      <th></th>\n",
       "      <th>tokenization</th>\n",
       "      <th>preprocessing</th>\n",
       "      <th>classifier</th>\n",
       "      <th>score</th>\n",
       "    </tr>\n",
       "  </thead>\n",
       "  <tbody>\n",
       "    <tr>\n",
       "      <th>15</th>\n",
       "      <td>stem</td>\n",
       "      <td>TfidfVectorizer()</td>\n",
       "      <td>(DecisionTreeClassifier(max_features='sqrt', r...</td>\n",
       "      <td>0.671329</td>\n",
       "    </tr>\n",
       "    <tr>\n",
       "      <th>16</th>\n",
       "      <td>stem</td>\n",
       "      <td>TfidfVectorizer()</td>\n",
       "      <td>(DecisionTreeClassifier(max_depth=2, max_featu...</td>\n",
       "      <td>0.604895</td>\n",
       "    </tr>\n",
       "    <tr>\n",
       "      <th>17</th>\n",
       "      <td>stem</td>\n",
       "      <td>TfidfVectorizer()</td>\n",
       "      <td>(DecisionTreeClassifier(max_depth=10, max_feat...</td>\n",
       "      <td>0.607692</td>\n",
       "    </tr>\n",
       "    <tr>\n",
       "      <th>18</th>\n",
       "      <td>stem</td>\n",
       "      <td>TfidfVectorizer()</td>\n",
       "      <td>(DecisionTreeClassifier(max_depth=20, max_feat...</td>\n",
       "      <td>0.626573</td>\n",
       "    </tr>\n",
       "    <tr>\n",
       "      <th>19</th>\n",
       "      <td>stem</td>\n",
       "      <td>TfidfVectorizer()</td>\n",
       "      <td>(DecisionTreeClassifier(max_depth=100, max_fea...</td>\n",
       "      <td>0.679720</td>\n",
       "    </tr>\n",
       "  </tbody>\n",
       "</table>\n",
       "</div>"
      ],
      "text/plain": [
       "   tokenization      preprocessing   \n",
       "15         stem  TfidfVectorizer()  \\\n",
       "16         stem  TfidfVectorizer()   \n",
       "17         stem  TfidfVectorizer()   \n",
       "18         stem  TfidfVectorizer()   \n",
       "19         stem  TfidfVectorizer()   \n",
       "\n",
       "                                           classifier     score  \n",
       "15  (DecisionTreeClassifier(max_features='sqrt', r...  0.671329  \n",
       "16  (DecisionTreeClassifier(max_depth=2, max_featu...  0.604895  \n",
       "17  (DecisionTreeClassifier(max_depth=10, max_feat...  0.607692  \n",
       "18  (DecisionTreeClassifier(max_depth=20, max_feat...  0.626573  \n",
       "19  (DecisionTreeClassifier(max_depth=100, max_fea...  0.679720  "
      ]
     },
     "execution_count": 121,
     "metadata": {},
     "output_type": "execute_result"
    }
   ],
   "source": [
    "rf = RandomForestClassifier(random_state=seed, max_depth=100)\n",
    "\n",
    "score_model(rf, final_X_train, y_train, final_X_val, y_val, 'stem', tfidf, rf)"
   ]
  },
  {
   "cell_type": "code",
   "execution_count": 122,
   "id": "3932dfee",
   "metadata": {},
   "outputs": [
    {
     "name": "stdout",
     "output_type": "stream",
     "text": [
      "              precision    recall  f1-score   support\n",
      "\n",
      "           0       0.73      0.14      0.24        78\n",
      "           1       0.68      0.91      0.78       865\n",
      "           2       0.68      0.36      0.47       487\n",
      "\n",
      "    accuracy                           0.68      1430\n",
      "   macro avg       0.70      0.47      0.50      1430\n",
      "weighted avg       0.68      0.68      0.64      1430\n",
      "\n"
     ]
    }
   ],
   "source": [
    "from sklearn.metrics import classification_report\n",
    "\n",
    "rf.fit(final_X_train, y_train)\n",
    "\n",
    "print(classification_report(y_val, rf.predict(final_X_val)))"
   ]
  },
  {
   "cell_type": "code",
   "execution_count": 123,
   "id": "154ab0f5",
   "metadata": {},
   "outputs": [
    {
     "data": {
      "text/plain": [
       "1    865\n",
       "2    487\n",
       "0     78\n",
       "Name: count, dtype: int64"
      ]
     },
     "execution_count": 123,
     "metadata": {},
     "output_type": "execute_result"
    }
   ],
   "source": [
    "y_val.value_counts()"
   ]
  },
  {
   "cell_type": "code",
   "execution_count": 124,
   "id": "d04a8462",
   "metadata": {},
   "outputs": [
    {
     "data": {
      "text/plain": [
       "77.85"
      ]
     },
     "execution_count": 124,
     "metadata": {},
     "output_type": "execute_result"
    }
   ],
   "source": [
    "865*0.09"
   ]
  },
  {
   "cell_type": "markdown",
   "id": "3642f236",
   "metadata": {},
   "source": [
    "Our best classifier so far has a 91% recall of neutral tweets, a 14% recall of negative tweets and a 36% recall of positive tweets. Precision is much higher, with 73% precision for negative tweets, and 68% precision for both neutral and positive tweets."
   ]
  },
  {
   "cell_type": "markdown",
   "id": "bca742ad",
   "metadata": {},
   "source": [
    "This [paper](http://www.lrec-conf.org/proceedings/lrec2014/pdf/483_Paper.pdf) makes me feel a little better about the results, although the paper was written in 2014."
   ]
  },
  {
   "cell_type": "markdown",
   "id": "5ca4b6cd",
   "metadata": {},
   "source": [
    "Another technique for preprocessing is to use word embeddings to vectorize the tweets, to avoid the sparsity seen with count vectorization and tfidf vectorization.\n",
    "\n",
    "I will try using the pretrained GloVe embeddings which were trained on tweets."
   ]
  },
  {
   "cell_type": "markdown",
   "id": "f6704dfb",
   "metadata": {},
   "source": [
    "We will use gensim to download the pretrained embeddings, but first, let's define a function to get the mean of the word vectors for all words in a tweet, given their GloVe embeddings.\n",
    "\n",
    "Based on the average length (in words) of a tweet in this corpus, the function finds the zero-padded mean of the first 21 words in the tweet. "
   ]
  },
  {
   "cell_type": "code",
   "execution_count": 125,
   "id": "5c04b359",
   "metadata": {},
   "outputs": [],
   "source": [
    "# glove_embeddings must be stored in a variable called glove for this function to work\n",
    "\n",
    "def get_mean_word_vector(tweet):\n",
    "    '''Takes in a string (tweet) and returns the mean word vector of the tweet based on GloVe embeddings and a\n",
    "    normalized tweet \"length\" of 21 words.'''\n",
    "    # hold the GloVe embeddings for each word in the tweet\n",
    "    glove_embeddings = []\n",
    "    \n",
    "    # iterate over each token in the tweet to add its embedding to the list\n",
    "    for token in tweet.split():\n",
    "        try:\n",
    "            glove_embeddings.append(glove[token])\n",
    "        except:\n",
    "            # this token isn't in the GloVe vocab =(\n",
    "            continue\n",
    "    # take the padded mean of the first 21 words in the tweet\n",
    "    if len(glove_embeddings) >= 21:\n",
    "        padded_tweet = glove_embeddings[:21]\n",
    "    elif len(glove_embeddings) >= 1:\n",
    "        padded_tweet = glove_embeddings\n",
    "    else:\n",
    "        padded_tweet = np.array([np.zeros((50,)) for x in range(21)]) # need an array of arrays to output correct type\n",
    "    return np.sum(padded_tweet, axis=0) / 21"
   ]
  },
  {
   "cell_type": "markdown",
   "id": "4afb9de9",
   "metadata": {},
   "source": [
    "Second, define a function which transforms a dataframe of tweet data into a dataframe in which each column represents a dimension of the mean word vector of a tweet (based on glove embeddings.)"
   ]
  },
  {
   "cell_type": "code",
   "execution_count": 126,
   "id": "75447202",
   "metadata": {},
   "outputs": [],
   "source": [
    "def glove_embed(X_train, glove_dimensions):\n",
    "    '''Get mean word vector for each tweet in df X_train based on GloVe embeddings.'''\n",
    "    embedded_series = X_train.apply(get_mean_word_vector)\n",
    "    \n",
    "    text_features = {}\n",
    "    \n",
    "    for i in range(glove_dimensions):\n",
    "        feature = f'feature_{i}'\n",
    "        values = [embedding[i] for embedding in embedded_series.values]\n",
    "        text_features[feature] = values\n",
    "    \n",
    "    return pd.DataFrame(text_features, index=X_train.index)"
   ]
  },
  {
   "cell_type": "markdown",
   "id": "79e13053",
   "metadata": {},
   "source": [
    "Now we can iterate over several versions of the GloVe embeddings obtained from twitter data (with different numbers of dimensions for the embeddings) and record the model score."
   ]
  },
  {
   "cell_type": "code",
   "execution_count": 127,
   "id": "ff50e807",
   "metadata": {},
   "outputs": [],
   "source": [
    "import gensim.downloader\n",
    "glove_options = ['glove-twitter-25', 'glove-twitter-50', 'glove-twitter-100', 'glove-twitter-200']\n",
    "\n",
    "from sklearn.preprocessing import MinMaxScaler\n",
    "\n",
    "for which_glove in glove_options:\n",
    "    glove = gensim.downloader.load(which_glove)\n",
    "    n_dim = int(which_glove.split('-')[-1]) # number after last dash is the dimensions of the embeddings\n",
    "    final_X_train = glove_embed(X_train_stems, n_dim)\n",
    "    final_X_val = glove_embed(X_val_stems, n_dim)\n",
    "    # using naive bayes as baseline; we need to scale between 0 and 1 to make all features positive (not an issue\n",
    "    # with count or tfidf vectorization, just embeddings) so use min max scaler instead of standard scaler\n",
    "    mms = MinMaxScaler()\n",
    "    scaled_X_train = mms.fit_transform(final_X_train)\n",
    "    scaled_X_val = mms.transform(final_X_val)\n",
    "    score_model(nb, scaled_X_train, y_train, scaled_X_val, y_val, 'stem', which_glove, nb)"
   ]
  },
  {
   "cell_type": "code",
   "execution_count": 128,
   "id": "208e4c36",
   "metadata": {},
   "outputs": [
    {
     "data": {
      "text/html": [
       "<div>\n",
       "<style scoped>\n",
       "    .dataframe tbody tr th:only-of-type {\n",
       "        vertical-align: middle;\n",
       "    }\n",
       "\n",
       "    .dataframe tbody tr th {\n",
       "        vertical-align: top;\n",
       "    }\n",
       "\n",
       "    .dataframe thead th {\n",
       "        text-align: right;\n",
       "    }\n",
       "</style>\n",
       "<table border=\"1\" class=\"dataframe\">\n",
       "  <thead>\n",
       "    <tr style=\"text-align: right;\">\n",
       "      <th></th>\n",
       "      <th>tokenization</th>\n",
       "      <th>preprocessing</th>\n",
       "      <th>classifier</th>\n",
       "      <th>score</th>\n",
       "    </tr>\n",
       "  </thead>\n",
       "  <tbody>\n",
       "    <tr>\n",
       "      <th>0</th>\n",
       "      <td>stem</td>\n",
       "      <td>count_vectorize</td>\n",
       "      <td>random_forest</td>\n",
       "      <td>0.676923</td>\n",
       "    </tr>\n",
       "    <tr>\n",
       "      <th>1</th>\n",
       "      <td>stem</td>\n",
       "      <td>count_vectorize</td>\n",
       "      <td>naive_bayes</td>\n",
       "      <td>0.684615</td>\n",
       "    </tr>\n",
       "    <tr>\n",
       "      <th>2</th>\n",
       "      <td>stem</td>\n",
       "      <td>count_vectorize</td>\n",
       "      <td>support_vector</td>\n",
       "      <td>0.653147</td>\n",
       "    </tr>\n",
       "    <tr>\n",
       "      <th>3</th>\n",
       "      <td>lemmatize</td>\n",
       "      <td>count_vectorize</td>\n",
       "      <td>random_forest</td>\n",
       "      <td>0.679021</td>\n",
       "    </tr>\n",
       "    <tr>\n",
       "      <th>4</th>\n",
       "      <td>lemmatize</td>\n",
       "      <td>count_vectorize</td>\n",
       "      <td>naive_bayes</td>\n",
       "      <td>0.683916</td>\n",
       "    </tr>\n",
       "    <tr>\n",
       "      <th>5</th>\n",
       "      <td>lemmatize</td>\n",
       "      <td>count_vectorize</td>\n",
       "      <td>support_vector</td>\n",
       "      <td>0.647552</td>\n",
       "    </tr>\n",
       "    <tr>\n",
       "      <th>6</th>\n",
       "      <td>stem</td>\n",
       "      <td>CountVectorizer(max_df=0.9, min_df=0.05)</td>\n",
       "      <td>MultinomialNB()</td>\n",
       "      <td>0.612587</td>\n",
       "    </tr>\n",
       "    <tr>\n",
       "      <th>7</th>\n",
       "      <td>stem</td>\n",
       "      <td>CountVectorizer(max_df=0.95, min_df=0.05)</td>\n",
       "      <td>MultinomialNB()</td>\n",
       "      <td>0.612587</td>\n",
       "    </tr>\n",
       "    <tr>\n",
       "      <th>8</th>\n",
       "      <td>stem</td>\n",
       "      <td>CountVectorizer(ngram_range=(1, 2))</td>\n",
       "      <td>MultinomialNB()</td>\n",
       "      <td>0.690909</td>\n",
       "    </tr>\n",
       "    <tr>\n",
       "      <th>9</th>\n",
       "      <td>stem</td>\n",
       "      <td>CountVectorizer(max_df=0.95, min_df=0.05)</td>\n",
       "      <td>(DecisionTreeClassifier(max_features='sqrt', r...</td>\n",
       "      <td>0.575524</td>\n",
       "    </tr>\n",
       "    <tr>\n",
       "      <th>10</th>\n",
       "      <td>stem</td>\n",
       "      <td>CountVectorizer(ngram_range=(1, 2))</td>\n",
       "      <td>(DecisionTreeClassifier(max_features='sqrt', r...</td>\n",
       "      <td>0.657343</td>\n",
       "    </tr>\n",
       "    <tr>\n",
       "      <th>11</th>\n",
       "      <td>stem</td>\n",
       "      <td>TfidfVectorizer()</td>\n",
       "      <td>MultinomialNB()</td>\n",
       "      <td>0.648252</td>\n",
       "    </tr>\n",
       "    <tr>\n",
       "      <th>12</th>\n",
       "      <td>stem</td>\n",
       "      <td>TfidfVectorizer()</td>\n",
       "      <td>(DecisionTreeClassifier(max_features='sqrt', r...</td>\n",
       "      <td>0.673427</td>\n",
       "    </tr>\n",
       "    <tr>\n",
       "      <th>13</th>\n",
       "      <td>stem</td>\n",
       "      <td>TfidfVectorizer()</td>\n",
       "      <td>SVC(kernel='poly')</td>\n",
       "      <td>0.616084</td>\n",
       "    </tr>\n",
       "    <tr>\n",
       "      <th>14</th>\n",
       "      <td>stem</td>\n",
       "      <td>TfidfVectorizer()</td>\n",
       "      <td>(DecisionTreeClassifier(max_features='sqrt', r...</td>\n",
       "      <td>0.665035</td>\n",
       "    </tr>\n",
       "    <tr>\n",
       "      <th>15</th>\n",
       "      <td>stem</td>\n",
       "      <td>TfidfVectorizer()</td>\n",
       "      <td>(DecisionTreeClassifier(max_features='sqrt', r...</td>\n",
       "      <td>0.671329</td>\n",
       "    </tr>\n",
       "    <tr>\n",
       "      <th>16</th>\n",
       "      <td>stem</td>\n",
       "      <td>TfidfVectorizer()</td>\n",
       "      <td>(DecisionTreeClassifier(max_depth=2, max_featu...</td>\n",
       "      <td>0.604895</td>\n",
       "    </tr>\n",
       "    <tr>\n",
       "      <th>17</th>\n",
       "      <td>stem</td>\n",
       "      <td>TfidfVectorizer()</td>\n",
       "      <td>(DecisionTreeClassifier(max_depth=10, max_feat...</td>\n",
       "      <td>0.607692</td>\n",
       "    </tr>\n",
       "    <tr>\n",
       "      <th>18</th>\n",
       "      <td>stem</td>\n",
       "      <td>TfidfVectorizer()</td>\n",
       "      <td>(DecisionTreeClassifier(max_depth=20, max_feat...</td>\n",
       "      <td>0.626573</td>\n",
       "    </tr>\n",
       "    <tr>\n",
       "      <th>19</th>\n",
       "      <td>stem</td>\n",
       "      <td>TfidfVectorizer()</td>\n",
       "      <td>(DecisionTreeClassifier(max_depth=100, max_fea...</td>\n",
       "      <td>0.679720</td>\n",
       "    </tr>\n",
       "    <tr>\n",
       "      <th>20</th>\n",
       "      <td>stem</td>\n",
       "      <td>glove-twitter-25</td>\n",
       "      <td>MultinomialNB()</td>\n",
       "      <td>0.604895</td>\n",
       "    </tr>\n",
       "    <tr>\n",
       "      <th>21</th>\n",
       "      <td>stem</td>\n",
       "      <td>glove-twitter-50</td>\n",
       "      <td>MultinomialNB()</td>\n",
       "      <td>0.604895</td>\n",
       "    </tr>\n",
       "    <tr>\n",
       "      <th>22</th>\n",
       "      <td>stem</td>\n",
       "      <td>glove-twitter-100</td>\n",
       "      <td>MultinomialNB()</td>\n",
       "      <td>0.604895</td>\n",
       "    </tr>\n",
       "    <tr>\n",
       "      <th>23</th>\n",
       "      <td>stem</td>\n",
       "      <td>glove-twitter-200</td>\n",
       "      <td>MultinomialNB()</td>\n",
       "      <td>0.605594</td>\n",
       "    </tr>\n",
       "  </tbody>\n",
       "</table>\n",
       "</div>"
      ],
      "text/plain": [
       "   tokenization                              preprocessing   \n",
       "0          stem                            count_vectorize  \\\n",
       "1          stem                            count_vectorize   \n",
       "2          stem                            count_vectorize   \n",
       "3     lemmatize                            count_vectorize   \n",
       "4     lemmatize                            count_vectorize   \n",
       "5     lemmatize                            count_vectorize   \n",
       "6          stem   CountVectorizer(max_df=0.9, min_df=0.05)   \n",
       "7          stem  CountVectorizer(max_df=0.95, min_df=0.05)   \n",
       "8          stem        CountVectorizer(ngram_range=(1, 2))   \n",
       "9          stem  CountVectorizer(max_df=0.95, min_df=0.05)   \n",
       "10         stem        CountVectorizer(ngram_range=(1, 2))   \n",
       "11         stem                          TfidfVectorizer()   \n",
       "12         stem                          TfidfVectorizer()   \n",
       "13         stem                          TfidfVectorizer()   \n",
       "14         stem                          TfidfVectorizer()   \n",
       "15         stem                          TfidfVectorizer()   \n",
       "16         stem                          TfidfVectorizer()   \n",
       "17         stem                          TfidfVectorizer()   \n",
       "18         stem                          TfidfVectorizer()   \n",
       "19         stem                          TfidfVectorizer()   \n",
       "20         stem                           glove-twitter-25   \n",
       "21         stem                           glove-twitter-50   \n",
       "22         stem                          glove-twitter-100   \n",
       "23         stem                          glove-twitter-200   \n",
       "\n",
       "                                           classifier     score  \n",
       "0                                       random_forest  0.676923  \n",
       "1                                         naive_bayes  0.684615  \n",
       "2                                      support_vector  0.653147  \n",
       "3                                       random_forest  0.679021  \n",
       "4                                         naive_bayes  0.683916  \n",
       "5                                      support_vector  0.647552  \n",
       "6                                     MultinomialNB()  0.612587  \n",
       "7                                     MultinomialNB()  0.612587  \n",
       "8                                     MultinomialNB()  0.690909  \n",
       "9   (DecisionTreeClassifier(max_features='sqrt', r...  0.575524  \n",
       "10  (DecisionTreeClassifier(max_features='sqrt', r...  0.657343  \n",
       "11                                    MultinomialNB()  0.648252  \n",
       "12  (DecisionTreeClassifier(max_features='sqrt', r...  0.673427  \n",
       "13                                 SVC(kernel='poly')  0.616084  \n",
       "14  (DecisionTreeClassifier(max_features='sqrt', r...  0.665035  \n",
       "15  (DecisionTreeClassifier(max_features='sqrt', r...  0.671329  \n",
       "16  (DecisionTreeClassifier(max_depth=2, max_featu...  0.604895  \n",
       "17  (DecisionTreeClassifier(max_depth=10, max_feat...  0.607692  \n",
       "18  (DecisionTreeClassifier(max_depth=20, max_feat...  0.626573  \n",
       "19  (DecisionTreeClassifier(max_depth=100, max_fea...  0.679720  \n",
       "20                                    MultinomialNB()  0.604895  \n",
       "21                                    MultinomialNB()  0.604895  \n",
       "22                                    MultinomialNB()  0.604895  \n",
       "23                                    MultinomialNB()  0.605594  "
      ]
     },
     "execution_count": 128,
     "metadata": {},
     "output_type": "execute_result"
    }
   ],
   "source": [
    "pd.DataFrame(model_eval)"
   ]
  },
  {
   "cell_type": "markdown",
   "id": "8364f373",
   "metadata": {},
   "source": [
    "Let's give glove a chance with a different type of model - random forest."
   ]
  },
  {
   "cell_type": "code",
   "execution_count": 129,
   "id": "d20a9cd0",
   "metadata": {},
   "outputs": [
    {
     "data": {
      "text/html": [
       "<div>\n",
       "<style scoped>\n",
       "    .dataframe tbody tr th:only-of-type {\n",
       "        vertical-align: middle;\n",
       "    }\n",
       "\n",
       "    .dataframe tbody tr th {\n",
       "        vertical-align: top;\n",
       "    }\n",
       "\n",
       "    .dataframe thead th {\n",
       "        text-align: right;\n",
       "    }\n",
       "</style>\n",
       "<table border=\"1\" class=\"dataframe\">\n",
       "  <thead>\n",
       "    <tr style=\"text-align: right;\">\n",
       "      <th></th>\n",
       "      <th>tokenization</th>\n",
       "      <th>preprocessing</th>\n",
       "      <th>classifier</th>\n",
       "      <th>score</th>\n",
       "    </tr>\n",
       "  </thead>\n",
       "  <tbody>\n",
       "    <tr>\n",
       "      <th>20</th>\n",
       "      <td>stem</td>\n",
       "      <td>glove-twitter-25</td>\n",
       "      <td>MultinomialNB()</td>\n",
       "      <td>0.604895</td>\n",
       "    </tr>\n",
       "    <tr>\n",
       "      <th>21</th>\n",
       "      <td>stem</td>\n",
       "      <td>glove-twitter-50</td>\n",
       "      <td>MultinomialNB()</td>\n",
       "      <td>0.604895</td>\n",
       "    </tr>\n",
       "    <tr>\n",
       "      <th>22</th>\n",
       "      <td>stem</td>\n",
       "      <td>glove-twitter-100</td>\n",
       "      <td>MultinomialNB()</td>\n",
       "      <td>0.604895</td>\n",
       "    </tr>\n",
       "    <tr>\n",
       "      <th>23</th>\n",
       "      <td>stem</td>\n",
       "      <td>glove-twitter-200</td>\n",
       "      <td>MultinomialNB()</td>\n",
       "      <td>0.605594</td>\n",
       "    </tr>\n",
       "    <tr>\n",
       "      <th>24</th>\n",
       "      <td>stem</td>\n",
       "      <td>glove-twitter-200</td>\n",
       "      <td>(DecisionTreeClassifier(max_features='sqrt', r...</td>\n",
       "      <td>0.653846</td>\n",
       "    </tr>\n",
       "  </tbody>\n",
       "</table>\n",
       "</div>"
      ],
      "text/plain": [
       "   tokenization      preprocessing   \n",
       "20         stem   glove-twitter-25  \\\n",
       "21         stem   glove-twitter-50   \n",
       "22         stem  glove-twitter-100   \n",
       "23         stem  glove-twitter-200   \n",
       "24         stem  glove-twitter-200   \n",
       "\n",
       "                                           classifier     score  \n",
       "20                                    MultinomialNB()  0.604895  \n",
       "21                                    MultinomialNB()  0.604895  \n",
       "22                                    MultinomialNB()  0.604895  \n",
       "23                                    MultinomialNB()  0.605594  \n",
       "24  (DecisionTreeClassifier(max_features='sqrt', r...  0.653846  "
      ]
     },
     "execution_count": 129,
     "metadata": {},
     "output_type": "execute_result"
    }
   ],
   "source": [
    "rf = RandomForestClassifier(random_state=seed)\n",
    "\n",
    "# last glove embedding was best (200-dimensional) so no need to re-preprocess data\n",
    "score_model(rf, scaled_X_train, y_train, scaled_X_val, y_val, 'stem', which_glove, rf)"
   ]
  },
  {
   "cell_type": "markdown",
   "id": "42b06caf",
   "metadata": {},
   "source": [
    "This may seem like an odd approach, but I wonder if PCA could help our machine learning algorithm to learn from the data."
   ]
  },
  {
   "cell_type": "code",
   "execution_count": 130,
   "id": "9647d83d",
   "metadata": {},
   "outputs": [
    {
     "data": {
      "text/plain": [
       "133"
      ]
     },
     "execution_count": 130,
     "metadata": {},
     "output_type": "execute_result"
    }
   ],
   "source": [
    "from sklearn.decomposition import PCA\n",
    "\n",
    "pca = PCA()\n",
    "\n",
    "pca.fit(scaled_X_train)\n",
    "\n",
    "# how many components must be kept to explain roughly 95% of the variance in the data?\n",
    "np.argmax(np.isclose(np.array([0.95]*200), np.cumsum(pca.explained_variance_ratio_), 0.005))"
   ]
  },
  {
   "cell_type": "code",
   "execution_count": 131,
   "id": "46cc5b0a",
   "metadata": {},
   "outputs": [
    {
     "data": {
      "text/html": [
       "<div>\n",
       "<style scoped>\n",
       "    .dataframe tbody tr th:only-of-type {\n",
       "        vertical-align: middle;\n",
       "    }\n",
       "\n",
       "    .dataframe tbody tr th {\n",
       "        vertical-align: top;\n",
       "    }\n",
       "\n",
       "    .dataframe thead th {\n",
       "        text-align: right;\n",
       "    }\n",
       "</style>\n",
       "<table border=\"1\" class=\"dataframe\">\n",
       "  <thead>\n",
       "    <tr style=\"text-align: right;\">\n",
       "      <th></th>\n",
       "      <th>tokenization</th>\n",
       "      <th>preprocessing</th>\n",
       "      <th>classifier</th>\n",
       "      <th>score</th>\n",
       "    </tr>\n",
       "  </thead>\n",
       "  <tbody>\n",
       "    <tr>\n",
       "      <th>21</th>\n",
       "      <td>stem</td>\n",
       "      <td>glove-twitter-50</td>\n",
       "      <td>MultinomialNB()</td>\n",
       "      <td>0.604895</td>\n",
       "    </tr>\n",
       "    <tr>\n",
       "      <th>22</th>\n",
       "      <td>stem</td>\n",
       "      <td>glove-twitter-100</td>\n",
       "      <td>MultinomialNB()</td>\n",
       "      <td>0.604895</td>\n",
       "    </tr>\n",
       "    <tr>\n",
       "      <th>23</th>\n",
       "      <td>stem</td>\n",
       "      <td>glove-twitter-200</td>\n",
       "      <td>MultinomialNB()</td>\n",
       "      <td>0.605594</td>\n",
       "    </tr>\n",
       "    <tr>\n",
       "      <th>24</th>\n",
       "      <td>stem</td>\n",
       "      <td>glove-twitter-200</td>\n",
       "      <td>(DecisionTreeClassifier(max_features='sqrt', r...</td>\n",
       "      <td>0.653846</td>\n",
       "    </tr>\n",
       "    <tr>\n",
       "      <th>25</th>\n",
       "      <td>stem</td>\n",
       "      <td>[glove-twitter-200, PCA(n_components=133)]</td>\n",
       "      <td>(DecisionTreeClassifier(max_features='sqrt', r...</td>\n",
       "      <td>0.640559</td>\n",
       "    </tr>\n",
       "  </tbody>\n",
       "</table>\n",
       "</div>"
      ],
      "text/plain": [
       "   tokenization                               preprocessing   \n",
       "21         stem                            glove-twitter-50  \\\n",
       "22         stem                           glove-twitter-100   \n",
       "23         stem                           glove-twitter-200   \n",
       "24         stem                           glove-twitter-200   \n",
       "25         stem  [glove-twitter-200, PCA(n_components=133)]   \n",
       "\n",
       "                                           classifier     score  \n",
       "21                                    MultinomialNB()  0.604895  \n",
       "22                                    MultinomialNB()  0.604895  \n",
       "23                                    MultinomialNB()  0.605594  \n",
       "24  (DecisionTreeClassifier(max_features='sqrt', r...  0.653846  \n",
       "25  (DecisionTreeClassifier(max_features='sqrt', r...  0.640559  "
      ]
     },
     "execution_count": 131,
     "metadata": {},
     "output_type": "execute_result"
    }
   ],
   "source": [
    "pca = PCA(n_components=133)\n",
    "\n",
    "reduced_X_train = pca.fit_transform(scaled_X_train)\n",
    "reduced_X_val = pca.transform(scaled_X_val)\n",
    "\n",
    "score_model(rf, reduced_X_train, y_train, reduced_X_val, y_val, 'stem', [which_glove, pca], rf)"
   ]
  },
  {
   "cell_type": "markdown",
   "id": "32f2357d",
   "metadata": {},
   "source": [
    "Reducing the dimensionality of the glove embeddings artificially didn't have a positive effect on the model's performance."
   ]
  },
  {
   "cell_type": "markdown",
   "id": "abe19535",
   "metadata": {},
   "source": [
    "One last technique we will try (prior to stacking) is generating our own word embeddings based on the tweets in our corpus, then creating a mean word vector for each tweet."
   ]
  },
  {
   "cell_type": "markdown",
   "id": "61f739c2",
   "metadata": {},
   "source": [
    "First, we define a helper function to get the mean word vector for each tweet (again, assuming a tweet length of 21 words.) Notice that the word2vec model we train has to be passed into the function as well as the tweet."
   ]
  },
  {
   "cell_type": "code",
   "execution_count": 132,
   "id": "a03a5649",
   "metadata": {},
   "outputs": [],
   "source": [
    "# this function takes in a word2vec model, w2v\n",
    "def get_custom_mean_word_vector(tweet, w2v):\n",
    "    '''Takes in a string (tweet) and returns the mean word vector of the tweet based on custom word2vec embeddings\n",
    "    and a normalized tweet \"length\" of 21 words.'''\n",
    "    embeddings = []\n",
    "    for token in tweet.split():\n",
    "        try:\n",
    "            embeddings.append(w2v.wv[token])\n",
    "        except:\n",
    "            continue\n",
    "            \n",
    "    # check number of embeddings in tweet and pad or trim as needed\n",
    "    if len(embeddings) >= 21:\n",
    "        padded_tweet = embeddings[:21]\n",
    "    elif len(embeddings) >= 1:\n",
    "        padded_tweet = embeddings\n",
    "    else:\n",
    "        padded_tweet = np.array([np.zeros((w2v.vector_size,)) for x in range(21)])\n",
    "        \n",
    "    return np.sum(padded_tweet, axis=0) / 21"
   ]
  },
  {
   "cell_type": "markdown",
   "id": "e976fa0d",
   "metadata": {},
   "source": [
    "Next, we develop a function to feed the embeddings of a Word2Vec model to our helper function above to determine the mean word vector for each tweet in our training data, then produce and return a matrix in which each column corresponds to a dimension of the mean word embedding for that tweet."
   ]
  },
  {
   "cell_type": "code",
   "execution_count": 133,
   "id": "a50c5b4b",
   "metadata": {},
   "outputs": [],
   "source": [
    "# Word2Vec model needs to be FIT (instantiated) before calling this function; pass as 2nd arg\n",
    "def custom_embed(X_train, w2v):\n",
    "    '''Takes in training data and an instantiated gensim Word2Vec model; returns the matrix form of the training\n",
    "    data based on a mean word vector of length 21 words and the embeddings from Word2Vec model.'''\n",
    "    \n",
    "    # apply helper function to X_train to get mean word vector for each tweet\n",
    "    embedded_series = X_train.apply(get_custom_mean_word_vector, args=(w2v,))\n",
    "    \n",
    "    # convert embeddings to matrix form (each col corresponds to a dimension of the mean word embedding)\n",
    "    text_features = {}\n",
    "    \n",
    "    for i in range(w2v.vector_size):\n",
    "        feature = f'feature_{i}'\n",
    "        values = [embedding[i] for embedding in embedded_series.values]\n",
    "        text_features[feature] = values\n",
    "    \n",
    "    return pd.DataFrame(text_features, index=X_train.index)"
   ]
  },
  {
   "cell_type": "markdown",
   "id": "25504241",
   "metadata": {},
   "source": [
    "Now, we can train a \"baseline\" embedding space and pass those embeddings to a classifier (in this case, Naive Bayes.)"
   ]
  },
  {
   "cell_type": "code",
   "execution_count": 134,
   "id": "119f2db6",
   "metadata": {
    "scrolled": true
   },
   "outputs": [
    {
     "data": {
      "text/html": [
       "<div>\n",
       "<style scoped>\n",
       "    .dataframe tbody tr th:only-of-type {\n",
       "        vertical-align: middle;\n",
       "    }\n",
       "\n",
       "    .dataframe tbody tr th {\n",
       "        vertical-align: top;\n",
       "    }\n",
       "\n",
       "    .dataframe thead th {\n",
       "        text-align: right;\n",
       "    }\n",
       "</style>\n",
       "<table border=\"1\" class=\"dataframe\">\n",
       "  <thead>\n",
       "    <tr style=\"text-align: right;\">\n",
       "      <th></th>\n",
       "      <th>tokenization</th>\n",
       "      <th>preprocessing</th>\n",
       "      <th>classifier</th>\n",
       "      <th>score</th>\n",
       "    </tr>\n",
       "  </thead>\n",
       "  <tbody>\n",
       "    <tr>\n",
       "      <th>22</th>\n",
       "      <td>stem</td>\n",
       "      <td>glove-twitter-100</td>\n",
       "      <td>MultinomialNB()</td>\n",
       "      <td>0.604895</td>\n",
       "    </tr>\n",
       "    <tr>\n",
       "      <th>23</th>\n",
       "      <td>stem</td>\n",
       "      <td>glove-twitter-200</td>\n",
       "      <td>MultinomialNB()</td>\n",
       "      <td>0.605594</td>\n",
       "    </tr>\n",
       "    <tr>\n",
       "      <th>24</th>\n",
       "      <td>stem</td>\n",
       "      <td>glove-twitter-200</td>\n",
       "      <td>(DecisionTreeClassifier(max_features='sqrt', r...</td>\n",
       "      <td>0.653846</td>\n",
       "    </tr>\n",
       "    <tr>\n",
       "      <th>25</th>\n",
       "      <td>stem</td>\n",
       "      <td>[glove-twitter-200, PCA(n_components=133)]</td>\n",
       "      <td>(DecisionTreeClassifier(max_features='sqrt', r...</td>\n",
       "      <td>0.640559</td>\n",
       "    </tr>\n",
       "    <tr>\n",
       "      <th>26</th>\n",
       "      <td>stem</td>\n",
       "      <td>Word2Vec&lt;vocab=1641, vector_size=100, alpha=0....</td>\n",
       "      <td>MultinomialNB()</td>\n",
       "      <td>0.604895</td>\n",
       "    </tr>\n",
       "  </tbody>\n",
       "</table>\n",
       "</div>"
      ],
      "text/plain": [
       "   tokenization                                      preprocessing   \n",
       "22         stem                                  glove-twitter-100  \\\n",
       "23         stem                                  glove-twitter-200   \n",
       "24         stem                                  glove-twitter-200   \n",
       "25         stem         [glove-twitter-200, PCA(n_components=133)]   \n",
       "26         stem  Word2Vec<vocab=1641, vector_size=100, alpha=0....   \n",
       "\n",
       "                                           classifier     score  \n",
       "22                                    MultinomialNB()  0.604895  \n",
       "23                                    MultinomialNB()  0.605594  \n",
       "24  (DecisionTreeClassifier(max_features='sqrt', r...  0.653846  \n",
       "25  (DecisionTreeClassifier(max_features='sqrt', r...  0.640559  \n",
       "26                                    MultinomialNB()  0.604895  "
      ]
     },
     "execution_count": 134,
     "metadata": {},
     "output_type": "execute_result"
    }
   ],
   "source": [
    "from gensim.models import Word2Vec\n",
    "\n",
    "# try default settings for training first\n",
    "w2v = Word2Vec(X_train_stems.map(lambda x: x.split()))\n",
    "\n",
    "scaled_X_train = mms.fit_transform(custom_embed(X_train_stems, w2v))\n",
    "scaled_X_val = mms.transform(custom_embed(X_val_stems, w2v))\n",
    "\n",
    "score_model(nb, scaled_X_train, y_train, scaled_X_val, y_val, 'stem', w2v, nb)"
   ]
  },
  {
   "cell_type": "code",
   "execution_count": 135,
   "id": "64979331",
   "metadata": {},
   "outputs": [
    {
     "data": {
      "text/html": [
       "<div>\n",
       "<style scoped>\n",
       "    .dataframe tbody tr th:only-of-type {\n",
       "        vertical-align: middle;\n",
       "    }\n",
       "\n",
       "    .dataframe tbody tr th {\n",
       "        vertical-align: top;\n",
       "    }\n",
       "\n",
       "    .dataframe thead th {\n",
       "        text-align: right;\n",
       "    }\n",
       "</style>\n",
       "<table border=\"1\" class=\"dataframe\">\n",
       "  <thead>\n",
       "    <tr style=\"text-align: right;\">\n",
       "      <th></th>\n",
       "      <th>tokenization</th>\n",
       "      <th>preprocessing</th>\n",
       "      <th>classifier</th>\n",
       "      <th>score</th>\n",
       "    </tr>\n",
       "  </thead>\n",
       "  <tbody>\n",
       "    <tr>\n",
       "      <th>23</th>\n",
       "      <td>stem</td>\n",
       "      <td>glove-twitter-200</td>\n",
       "      <td>MultinomialNB()</td>\n",
       "      <td>0.605594</td>\n",
       "    </tr>\n",
       "    <tr>\n",
       "      <th>24</th>\n",
       "      <td>stem</td>\n",
       "      <td>glove-twitter-200</td>\n",
       "      <td>(DecisionTreeClassifier(max_features='sqrt', r...</td>\n",
       "      <td>0.653846</td>\n",
       "    </tr>\n",
       "    <tr>\n",
       "      <th>25</th>\n",
       "      <td>stem</td>\n",
       "      <td>[glove-twitter-200, PCA(n_components=133)]</td>\n",
       "      <td>(DecisionTreeClassifier(max_features='sqrt', r...</td>\n",
       "      <td>0.640559</td>\n",
       "    </tr>\n",
       "    <tr>\n",
       "      <th>26</th>\n",
       "      <td>stem</td>\n",
       "      <td>Word2Vec&lt;vocab=1641, vector_size=100, alpha=0....</td>\n",
       "      <td>MultinomialNB()</td>\n",
       "      <td>0.604895</td>\n",
       "    </tr>\n",
       "    <tr>\n",
       "      <th>27</th>\n",
       "      <td>stem</td>\n",
       "      <td>Word2Vec&lt;vocab=1641, vector_size=100, alpha=0.01&gt;</td>\n",
       "      <td>MultinomialNB()</td>\n",
       "      <td>0.595804</td>\n",
       "    </tr>\n",
       "  </tbody>\n",
       "</table>\n",
       "</div>"
      ],
      "text/plain": [
       "   tokenization                                      preprocessing   \n",
       "23         stem                                  glove-twitter-200  \\\n",
       "24         stem                                  glove-twitter-200   \n",
       "25         stem         [glove-twitter-200, PCA(n_components=133)]   \n",
       "26         stem  Word2Vec<vocab=1641, vector_size=100, alpha=0....   \n",
       "27         stem  Word2Vec<vocab=1641, vector_size=100, alpha=0.01>   \n",
       "\n",
       "                                           classifier     score  \n",
       "23                                    MultinomialNB()  0.605594  \n",
       "24  (DecisionTreeClassifier(max_features='sqrt', r...  0.653846  \n",
       "25  (DecisionTreeClassifier(max_features='sqrt', r...  0.640559  \n",
       "26                                    MultinomialNB()  0.604895  \n",
       "27                                    MultinomialNB()  0.595804  "
      ]
     },
     "execution_count": 135,
     "metadata": {},
     "output_type": "execute_result"
    }
   ],
   "source": [
    "# try varying the settings for training the neural net which produces word embeddings\n",
    "# adjust learning rate\n",
    "w2v = Word2Vec(X_train_stems.map(lambda x: x.split()), alpha=0.01)\n",
    "\n",
    "scaled_X_train = mms.fit_transform(custom_embed(X_train_stems, w2v))\n",
    "scaled_X_val = mms.transform(custom_embed(X_val_stems, w2v))\n",
    "\n",
    "score_model(nb, scaled_X_train, y_train, scaled_X_val, y_val, 'stem', w2v, nb)"
   ]
  },
  {
   "cell_type": "code",
   "execution_count": 136,
   "id": "e54484c0",
   "metadata": {},
   "outputs": [
    {
     "data": {
      "text/html": [
       "<div>\n",
       "<style scoped>\n",
       "    .dataframe tbody tr th:only-of-type {\n",
       "        vertical-align: middle;\n",
       "    }\n",
       "\n",
       "    .dataframe tbody tr th {\n",
       "        vertical-align: top;\n",
       "    }\n",
       "\n",
       "    .dataframe thead th {\n",
       "        text-align: right;\n",
       "    }\n",
       "</style>\n",
       "<table border=\"1\" class=\"dataframe\">\n",
       "  <thead>\n",
       "    <tr style=\"text-align: right;\">\n",
       "      <th></th>\n",
       "      <th>tokenization</th>\n",
       "      <th>preprocessing</th>\n",
       "      <th>classifier</th>\n",
       "      <th>score</th>\n",
       "    </tr>\n",
       "  </thead>\n",
       "  <tbody>\n",
       "    <tr>\n",
       "      <th>24</th>\n",
       "      <td>stem</td>\n",
       "      <td>glove-twitter-200</td>\n",
       "      <td>(DecisionTreeClassifier(max_features='sqrt', r...</td>\n",
       "      <td>0.653846</td>\n",
       "    </tr>\n",
       "    <tr>\n",
       "      <th>25</th>\n",
       "      <td>stem</td>\n",
       "      <td>[glove-twitter-200, PCA(n_components=133)]</td>\n",
       "      <td>(DecisionTreeClassifier(max_features='sqrt', r...</td>\n",
       "      <td>0.640559</td>\n",
       "    </tr>\n",
       "    <tr>\n",
       "      <th>26</th>\n",
       "      <td>stem</td>\n",
       "      <td>Word2Vec&lt;vocab=1641, vector_size=100, alpha=0....</td>\n",
       "      <td>MultinomialNB()</td>\n",
       "      <td>0.604895</td>\n",
       "    </tr>\n",
       "    <tr>\n",
       "      <th>27</th>\n",
       "      <td>stem</td>\n",
       "      <td>Word2Vec&lt;vocab=1641, vector_size=100, alpha=0.01&gt;</td>\n",
       "      <td>MultinomialNB()</td>\n",
       "      <td>0.595804</td>\n",
       "    </tr>\n",
       "    <tr>\n",
       "      <th>28</th>\n",
       "      <td>stem</td>\n",
       "      <td>Word2Vec&lt;vocab=1641, vector_size=100, alpha=0....</td>\n",
       "      <td>MultinomialNB()</td>\n",
       "      <td>0.604196</td>\n",
       "    </tr>\n",
       "  </tbody>\n",
       "</table>\n",
       "</div>"
      ],
      "text/plain": [
       "   tokenization                                      preprocessing   \n",
       "24         stem                                  glove-twitter-200  \\\n",
       "25         stem         [glove-twitter-200, PCA(n_components=133)]   \n",
       "26         stem  Word2Vec<vocab=1641, vector_size=100, alpha=0....   \n",
       "27         stem  Word2Vec<vocab=1641, vector_size=100, alpha=0.01>   \n",
       "28         stem  Word2Vec<vocab=1641, vector_size=100, alpha=0....   \n",
       "\n",
       "                                           classifier     score  \n",
       "24  (DecisionTreeClassifier(max_features='sqrt', r...  0.653846  \n",
       "25  (DecisionTreeClassifier(max_features='sqrt', r...  0.640559  \n",
       "26                                    MultinomialNB()  0.604895  \n",
       "27                                    MultinomialNB()  0.595804  \n",
       "28                                    MultinomialNB()  0.604196  "
      ]
     },
     "execution_count": 136,
     "metadata": {},
     "output_type": "execute_result"
    }
   ],
   "source": [
    "# try varying the settings for training the neural net which produces word embeddings\n",
    "# our documents are short, so try adjusting batch size & window\n",
    "w2v = Word2Vec(X_train_stems.map(lambda x: x.split()), window=3, batch_words=300)\n",
    "\n",
    "scaled_X_train = mms.fit_transform(custom_embed(X_train_stems, w2v))\n",
    "scaled_X_val = mms.transform(custom_embed(X_val_stems, w2v))\n",
    "\n",
    "score_model(nb, scaled_X_train, y_train, scaled_X_val, y_val, 'stem', w2v, nb)"
   ]
  },
  {
   "cell_type": "code",
   "execution_count": 137,
   "id": "e20d7334",
   "metadata": {},
   "outputs": [
    {
     "data": {
      "text/html": [
       "<div>\n",
       "<style scoped>\n",
       "    .dataframe tbody tr th:only-of-type {\n",
       "        vertical-align: middle;\n",
       "    }\n",
       "\n",
       "    .dataframe tbody tr th {\n",
       "        vertical-align: top;\n",
       "    }\n",
       "\n",
       "    .dataframe thead th {\n",
       "        text-align: right;\n",
       "    }\n",
       "</style>\n",
       "<table border=\"1\" class=\"dataframe\">\n",
       "  <thead>\n",
       "    <tr style=\"text-align: right;\">\n",
       "      <th></th>\n",
       "      <th>tokenization</th>\n",
       "      <th>preprocessing</th>\n",
       "      <th>classifier</th>\n",
       "      <th>score</th>\n",
       "    </tr>\n",
       "  </thead>\n",
       "  <tbody>\n",
       "    <tr>\n",
       "      <th>25</th>\n",
       "      <td>stem</td>\n",
       "      <td>[glove-twitter-200, PCA(n_components=133)]</td>\n",
       "      <td>(DecisionTreeClassifier(max_features='sqrt', r...</td>\n",
       "      <td>0.640559</td>\n",
       "    </tr>\n",
       "    <tr>\n",
       "      <th>26</th>\n",
       "      <td>stem</td>\n",
       "      <td>Word2Vec&lt;vocab=1641, vector_size=100, alpha=0....</td>\n",
       "      <td>MultinomialNB()</td>\n",
       "      <td>0.604895</td>\n",
       "    </tr>\n",
       "    <tr>\n",
       "      <th>27</th>\n",
       "      <td>stem</td>\n",
       "      <td>Word2Vec&lt;vocab=1641, vector_size=100, alpha=0.01&gt;</td>\n",
       "      <td>MultinomialNB()</td>\n",
       "      <td>0.595804</td>\n",
       "    </tr>\n",
       "    <tr>\n",
       "      <th>28</th>\n",
       "      <td>stem</td>\n",
       "      <td>Word2Vec&lt;vocab=1641, vector_size=100, alpha=0....</td>\n",
       "      <td>MultinomialNB()</td>\n",
       "      <td>0.604196</td>\n",
       "    </tr>\n",
       "    <tr>\n",
       "      <th>29</th>\n",
       "      <td>stem</td>\n",
       "      <td>Word2Vec&lt;vocab=1641, vector_size=200, alpha=0....</td>\n",
       "      <td>MultinomialNB()</td>\n",
       "      <td>0.581818</td>\n",
       "    </tr>\n",
       "  </tbody>\n",
       "</table>\n",
       "</div>"
      ],
      "text/plain": [
       "   tokenization                                      preprocessing   \n",
       "25         stem         [glove-twitter-200, PCA(n_components=133)]  \\\n",
       "26         stem  Word2Vec<vocab=1641, vector_size=100, alpha=0....   \n",
       "27         stem  Word2Vec<vocab=1641, vector_size=100, alpha=0.01>   \n",
       "28         stem  Word2Vec<vocab=1641, vector_size=100, alpha=0....   \n",
       "29         stem  Word2Vec<vocab=1641, vector_size=200, alpha=0....   \n",
       "\n",
       "                                           classifier     score  \n",
       "25  (DecisionTreeClassifier(max_features='sqrt', r...  0.640559  \n",
       "26                                    MultinomialNB()  0.604895  \n",
       "27                                    MultinomialNB()  0.595804  \n",
       "28                                    MultinomialNB()  0.604196  \n",
       "29                                    MultinomialNB()  0.581818  "
      ]
     },
     "execution_count": 137,
     "metadata": {},
     "output_type": "execute_result"
    }
   ],
   "source": [
    "# try varying the settings for training the neural net which produces word embeddings\n",
    "# adjust dimensionality of embeddings\n",
    "w2v = Word2Vec(X_train_stems.map(lambda x: x.split()), vector_size=200)\n",
    "\n",
    "scaled_X_train = mms.fit_transform(custom_embed(X_train_stems, w2v))\n",
    "scaled_X_val = mms.transform(custom_embed(X_val_stems, w2v))\n",
    "\n",
    "score_model(nb, scaled_X_train, y_train, scaled_X_val, y_val, 'stem', w2v, nb)"
   ]
  },
  {
   "cell_type": "code",
   "execution_count": 138,
   "id": "52a4a622",
   "metadata": {},
   "outputs": [
    {
     "data": {
      "text/html": [
       "<div>\n",
       "<style scoped>\n",
       "    .dataframe tbody tr th:only-of-type {\n",
       "        vertical-align: middle;\n",
       "    }\n",
       "\n",
       "    .dataframe tbody tr th {\n",
       "        vertical-align: top;\n",
       "    }\n",
       "\n",
       "    .dataframe thead th {\n",
       "        text-align: right;\n",
       "    }\n",
       "</style>\n",
       "<table border=\"1\" class=\"dataframe\">\n",
       "  <thead>\n",
       "    <tr style=\"text-align: right;\">\n",
       "      <th></th>\n",
       "      <th>tokenization</th>\n",
       "      <th>preprocessing</th>\n",
       "      <th>classifier</th>\n",
       "      <th>score</th>\n",
       "    </tr>\n",
       "  </thead>\n",
       "  <tbody>\n",
       "    <tr>\n",
       "      <th>26</th>\n",
       "      <td>stem</td>\n",
       "      <td>Word2Vec&lt;vocab=1641, vector_size=100, alpha=0....</td>\n",
       "      <td>MultinomialNB()</td>\n",
       "      <td>0.604895</td>\n",
       "    </tr>\n",
       "    <tr>\n",
       "      <th>27</th>\n",
       "      <td>stem</td>\n",
       "      <td>Word2Vec&lt;vocab=1641, vector_size=100, alpha=0.01&gt;</td>\n",
       "      <td>MultinomialNB()</td>\n",
       "      <td>0.595804</td>\n",
       "    </tr>\n",
       "    <tr>\n",
       "      <th>28</th>\n",
       "      <td>stem</td>\n",
       "      <td>Word2Vec&lt;vocab=1641, vector_size=100, alpha=0....</td>\n",
       "      <td>MultinomialNB()</td>\n",
       "      <td>0.604196</td>\n",
       "    </tr>\n",
       "    <tr>\n",
       "      <th>29</th>\n",
       "      <td>stem</td>\n",
       "      <td>Word2Vec&lt;vocab=1641, vector_size=200, alpha=0....</td>\n",
       "      <td>MultinomialNB()</td>\n",
       "      <td>0.581818</td>\n",
       "    </tr>\n",
       "    <tr>\n",
       "      <th>30</th>\n",
       "      <td>stem</td>\n",
       "      <td>Word2Vec&lt;vocab=1641, vector_size=50, alpha=0.025&gt;</td>\n",
       "      <td>MultinomialNB()</td>\n",
       "      <td>0.604895</td>\n",
       "    </tr>\n",
       "  </tbody>\n",
       "</table>\n",
       "</div>"
      ],
      "text/plain": [
       "   tokenization                                      preprocessing   \n",
       "26         stem  Word2Vec<vocab=1641, vector_size=100, alpha=0....  \\\n",
       "27         stem  Word2Vec<vocab=1641, vector_size=100, alpha=0.01>   \n",
       "28         stem  Word2Vec<vocab=1641, vector_size=100, alpha=0....   \n",
       "29         stem  Word2Vec<vocab=1641, vector_size=200, alpha=0....   \n",
       "30         stem  Word2Vec<vocab=1641, vector_size=50, alpha=0.025>   \n",
       "\n",
       "         classifier     score  \n",
       "26  MultinomialNB()  0.604895  \n",
       "27  MultinomialNB()  0.595804  \n",
       "28  MultinomialNB()  0.604196  \n",
       "29  MultinomialNB()  0.581818  \n",
       "30  MultinomialNB()  0.604895  "
      ]
     },
     "execution_count": 138,
     "metadata": {},
     "output_type": "execute_result"
    }
   ],
   "source": [
    "# try varying the settings for training the neural net which produces word embeddings\n",
    "# adjust dimensionality of embeddings\n",
    "w2v = Word2Vec(X_train_stems.map(lambda x: x.split()), vector_size=50)\n",
    "\n",
    "scaled_X_train = mms.fit_transform(custom_embed(X_train_stems, w2v))\n",
    "scaled_X_val = mms.transform(custom_embed(X_val_stems, w2v))\n",
    "\n",
    "score_model(nb, scaled_X_train, y_train, scaled_X_val, y_val, 'stem', w2v, nb)"
   ]
  }
 ],
 "metadata": {
  "kernelspec": {
   "display_name": "twitter-env",
   "language": "python",
   "name": "twitter-env"
  },
  "language_info": {
   "codemirror_mode": {
    "name": "ipython",
    "version": 3
   },
   "file_extension": ".py",
   "mimetype": "text/x-python",
   "name": "python",
   "nbconvert_exporter": "python",
   "pygments_lexer": "ipython3",
   "version": "3.11.3"
  }
 },
 "nbformat": 4,
 "nbformat_minor": 5
}
